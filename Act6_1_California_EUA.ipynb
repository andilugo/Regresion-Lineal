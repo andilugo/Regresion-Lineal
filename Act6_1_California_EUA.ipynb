{
  "nbformat": 4,
  "nbformat_minor": 0,
  "metadata": {
    "colab": {
      "provenance": [],
      "include_colab_link": true
    },
    "kernelspec": {
      "name": "python3",
      "display_name": "Python 3"
    },
    "language_info": {
      "name": "python"
    }
  },
  "cells": [
    {
      "cell_type": "markdown",
      "metadata": {
        "id": "view-in-github",
        "colab_type": "text"
      },
      "source": [
        "<a href=\"https://colab.research.google.com/github/andilugo/Regresion-Lineal/blob/main/Act6_1_California_EUA.ipynb\" target=\"_parent\"><img src=\"https://colab.research.google.com/assets/colab-badge.svg\" alt=\"Open In Colab\"/></a>"
      ]
    },
    {
      "cell_type": "markdown",
      "source": [
        "# **ACTIVIDAD 6.1 REGRESIÓN LINEAL SIMPLE CALIFORNIA EUA**\n",
        "Andrea Cosset Hernandez Lugo A01707744"
      ],
      "metadata": {
        "id": "xw5pMzlyv7_L"
      }
    },
    {
      "cell_type": "code",
      "execution_count": null,
      "metadata": {
        "id": "nxQXf8E7v0Ha"
      },
      "outputs": [],
      "source": [
        "import pandas as pd\n",
        "import numpy as np\n",
        "import matplotlib.pyplot as plt\n",
        "import seaborn as sns"
      ]
    },
    {
      "cell_type": "code",
      "source": [
        "#Carga desde un archivo .csv\n",
        "eua= pd.read_csv(\"California_EUA_clean.csv\")\n",
        "eua.head(5)"
      ],
      "metadata": {
        "colab": {
          "base_uri": "https://localhost:8080/",
          "height": 646
        },
        "id": "Q9rHCFbTxAGa",
        "outputId": "d8d954ef-0441-45a4-d80b-e18c32ef17c5"
      },
      "execution_count": null,
      "outputs": [
        {
          "output_type": "execute_result",
          "data": {
            "text/plain": [
              "    ï»¿id                        listing_url     scrape_id last_scraped  \\\n",
              "0   958.0   https://www.airbnb.com/rooms/958  2.020000e+13     06/03/23   \n",
              "1  5858.0  https://www.airbnb.com/rooms/5858  2.020000e+13     06/03/23   \n",
              "2  8142.0  https://www.airbnb.com/rooms/8142  2.020000e+13     06/03/23   \n",
              "3  8339.0  https://www.airbnb.com/rooms/8339  2.020000e+13     06/03/23   \n",
              "4  8739.0  https://www.airbnb.com/rooms/8739  2.020000e+13     06/03/23   \n",
              "\n",
              "        source                                               name  \\\n",
              "0  city scrape              Bright, Modern Garden Unit - 1BR/1BTH   \n",
              "1  city scrape                                 Creative Sanctuary   \n",
              "2  city scrape  Friendly Room Apt. Style -UCSF/USF - San Franc...   \n",
              "3  city scrape                    Historic Alamo Square Victorian   \n",
              "4  city scrape                Mission Sunshine, with Private Bath   \n",
              "\n",
              "                                         description  \\\n",
              "0  Our bright garden unit overlooks a lovely back...   \n",
              "1  We live in a large Victorian house on a quiet ...   \n",
              "2  Nice and good public transportation.  7 minute...   \n",
              "3  Pls email before booking. <br />Interior featu...   \n",
              "4  Welcome to \"The Mission,\" the sunniest neighbo...   \n",
              "\n",
              "                               neighborhood_overview  \\\n",
              "0  Quiet cul de sac in friendly neighborhood<br /...   \n",
              "1  I love how our neighborhood feels quiet but is...   \n",
              "2  N Juda Muni, Bus and UCSF Shuttle.<br /><br />...   \n",
              "3                                                 --   \n",
              "4  Located between Valencia Street and Dolores Pa...   \n",
              "\n",
              "                                         picture_url  host_id  ...  \\\n",
              "0  https://a0.muscache.com/pictures/b7c2a199-4c17...     1169  ...   \n",
              "1  https://a0.muscache.com/pictures/17714/3a7aea1...     8904  ...   \n",
              "2  https://a0.muscache.com/pictures/12d8bff0-1698...    21994  ...   \n",
              "3  https://a0.muscache.com/pictures/miso/Hosting-...    24215  ...   \n",
              "4  https://a0.muscache.com/pictures/80811/7a57d0e...     7149  ...   \n",
              "\n",
              "  review_scores_checkin review_scores_communication review_scores_location  \\\n",
              "0                  4.95                        4.88                   4.98   \n",
              "1                  4.89                        4.85                   4.77   \n",
              "2                  4.78                        4.78                   4.67   \n",
              "3                  4.94                        5.00                   4.94   \n",
              "4                  4.95                        4.96                   4.93   \n",
              "\n",
              "  review_scores_value calculated_host_listings_count  \\\n",
              "0                4.76                              1   \n",
              "1                4.68                              1   \n",
              "2                4.67                             13   \n",
              "3                4.75                              2   \n",
              "4                4.74                              2   \n",
              "\n",
              "  calculated_host_listings_count_entire_homes  \\\n",
              "0                                           1   \n",
              "1                                           1   \n",
              "2                                           0   \n",
              "3                                           2   \n",
              "4                                           0   \n",
              "\n",
              "  calculated_host_listings_count_private_rooms  \\\n",
              "0                                            0   \n",
              "1                                            0   \n",
              "2                                           13   \n",
              "3                                            0   \n",
              "4                                            2   \n",
              "\n",
              "  calculated_host_listings_count_shared_rooms reviews_per_month  \\\n",
              "0                                           0              2.31   \n",
              "1                                           0              0.66   \n",
              "2                                           0              0.09   \n",
              "3                                           0              0.17   \n",
              "4                                           0              4.65   \n",
              "\n",
              "  host_response_rate  \n",
              "0                1.0  \n",
              "1                0.8  \n",
              "2                1.0  \n",
              "3                1.0  \n",
              "4                1.0  \n",
              "\n",
              "[5 rows x 77 columns]"
            ],
            "text/html": [
              "\n",
              "  <div id=\"df-d6f4c319-5cb1-4491-89a8-09d56c727384\">\n",
              "    <div class=\"colab-df-container\">\n",
              "      <div>\n",
              "<style scoped>\n",
              "    .dataframe tbody tr th:only-of-type {\n",
              "        vertical-align: middle;\n",
              "    }\n",
              "\n",
              "    .dataframe tbody tr th {\n",
              "        vertical-align: top;\n",
              "    }\n",
              "\n",
              "    .dataframe thead th {\n",
              "        text-align: right;\n",
              "    }\n",
              "</style>\n",
              "<table border=\"1\" class=\"dataframe\">\n",
              "  <thead>\n",
              "    <tr style=\"text-align: right;\">\n",
              "      <th></th>\n",
              "      <th>ï»¿id</th>\n",
              "      <th>listing_url</th>\n",
              "      <th>scrape_id</th>\n",
              "      <th>last_scraped</th>\n",
              "      <th>source</th>\n",
              "      <th>name</th>\n",
              "      <th>description</th>\n",
              "      <th>neighborhood_overview</th>\n",
              "      <th>picture_url</th>\n",
              "      <th>host_id</th>\n",
              "      <th>...</th>\n",
              "      <th>review_scores_checkin</th>\n",
              "      <th>review_scores_communication</th>\n",
              "      <th>review_scores_location</th>\n",
              "      <th>review_scores_value</th>\n",
              "      <th>calculated_host_listings_count</th>\n",
              "      <th>calculated_host_listings_count_entire_homes</th>\n",
              "      <th>calculated_host_listings_count_private_rooms</th>\n",
              "      <th>calculated_host_listings_count_shared_rooms</th>\n",
              "      <th>reviews_per_month</th>\n",
              "      <th>host_response_rate</th>\n",
              "    </tr>\n",
              "  </thead>\n",
              "  <tbody>\n",
              "    <tr>\n",
              "      <th>0</th>\n",
              "      <td>958.0</td>\n",
              "      <td>https://www.airbnb.com/rooms/958</td>\n",
              "      <td>2.020000e+13</td>\n",
              "      <td>06/03/23</td>\n",
              "      <td>city scrape</td>\n",
              "      <td>Bright, Modern Garden Unit - 1BR/1BTH</td>\n",
              "      <td>Our bright garden unit overlooks a lovely back...</td>\n",
              "      <td>Quiet cul de sac in friendly neighborhood&lt;br /...</td>\n",
              "      <td>https://a0.muscache.com/pictures/b7c2a199-4c17...</td>\n",
              "      <td>1169</td>\n",
              "      <td>...</td>\n",
              "      <td>4.95</td>\n",
              "      <td>4.88</td>\n",
              "      <td>4.98</td>\n",
              "      <td>4.76</td>\n",
              "      <td>1</td>\n",
              "      <td>1</td>\n",
              "      <td>0</td>\n",
              "      <td>0</td>\n",
              "      <td>2.31</td>\n",
              "      <td>1.0</td>\n",
              "    </tr>\n",
              "    <tr>\n",
              "      <th>1</th>\n",
              "      <td>5858.0</td>\n",
              "      <td>https://www.airbnb.com/rooms/5858</td>\n",
              "      <td>2.020000e+13</td>\n",
              "      <td>06/03/23</td>\n",
              "      <td>city scrape</td>\n",
              "      <td>Creative Sanctuary</td>\n",
              "      <td>We live in a large Victorian house on a quiet ...</td>\n",
              "      <td>I love how our neighborhood feels quiet but is...</td>\n",
              "      <td>https://a0.muscache.com/pictures/17714/3a7aea1...</td>\n",
              "      <td>8904</td>\n",
              "      <td>...</td>\n",
              "      <td>4.89</td>\n",
              "      <td>4.85</td>\n",
              "      <td>4.77</td>\n",
              "      <td>4.68</td>\n",
              "      <td>1</td>\n",
              "      <td>1</td>\n",
              "      <td>0</td>\n",
              "      <td>0</td>\n",
              "      <td>0.66</td>\n",
              "      <td>0.8</td>\n",
              "    </tr>\n",
              "    <tr>\n",
              "      <th>2</th>\n",
              "      <td>8142.0</td>\n",
              "      <td>https://www.airbnb.com/rooms/8142</td>\n",
              "      <td>2.020000e+13</td>\n",
              "      <td>06/03/23</td>\n",
              "      <td>city scrape</td>\n",
              "      <td>Friendly Room Apt. Style -UCSF/USF - San Franc...</td>\n",
              "      <td>Nice and good public transportation.  7 minute...</td>\n",
              "      <td>N Juda Muni, Bus and UCSF Shuttle.&lt;br /&gt;&lt;br /&gt;...</td>\n",
              "      <td>https://a0.muscache.com/pictures/12d8bff0-1698...</td>\n",
              "      <td>21994</td>\n",
              "      <td>...</td>\n",
              "      <td>4.78</td>\n",
              "      <td>4.78</td>\n",
              "      <td>4.67</td>\n",
              "      <td>4.67</td>\n",
              "      <td>13</td>\n",
              "      <td>0</td>\n",
              "      <td>13</td>\n",
              "      <td>0</td>\n",
              "      <td>0.09</td>\n",
              "      <td>1.0</td>\n",
              "    </tr>\n",
              "    <tr>\n",
              "      <th>3</th>\n",
              "      <td>8339.0</td>\n",
              "      <td>https://www.airbnb.com/rooms/8339</td>\n",
              "      <td>2.020000e+13</td>\n",
              "      <td>06/03/23</td>\n",
              "      <td>city scrape</td>\n",
              "      <td>Historic Alamo Square Victorian</td>\n",
              "      <td>Pls email before booking. &lt;br /&gt;Interior featu...</td>\n",
              "      <td>--</td>\n",
              "      <td>https://a0.muscache.com/pictures/miso/Hosting-...</td>\n",
              "      <td>24215</td>\n",
              "      <td>...</td>\n",
              "      <td>4.94</td>\n",
              "      <td>5.00</td>\n",
              "      <td>4.94</td>\n",
              "      <td>4.75</td>\n",
              "      <td>2</td>\n",
              "      <td>2</td>\n",
              "      <td>0</td>\n",
              "      <td>0</td>\n",
              "      <td>0.17</td>\n",
              "      <td>1.0</td>\n",
              "    </tr>\n",
              "    <tr>\n",
              "      <th>4</th>\n",
              "      <td>8739.0</td>\n",
              "      <td>https://www.airbnb.com/rooms/8739</td>\n",
              "      <td>2.020000e+13</td>\n",
              "      <td>06/03/23</td>\n",
              "      <td>city scrape</td>\n",
              "      <td>Mission Sunshine, with Private Bath</td>\n",
              "      <td>Welcome to \"The Mission,\" the sunniest neighbo...</td>\n",
              "      <td>Located between Valencia Street and Dolores Pa...</td>\n",
              "      <td>https://a0.muscache.com/pictures/80811/7a57d0e...</td>\n",
              "      <td>7149</td>\n",
              "      <td>...</td>\n",
              "      <td>4.95</td>\n",
              "      <td>4.96</td>\n",
              "      <td>4.93</td>\n",
              "      <td>4.74</td>\n",
              "      <td>2</td>\n",
              "      <td>0</td>\n",
              "      <td>2</td>\n",
              "      <td>0</td>\n",
              "      <td>4.65</td>\n",
              "      <td>1.0</td>\n",
              "    </tr>\n",
              "  </tbody>\n",
              "</table>\n",
              "<p>5 rows × 77 columns</p>\n",
              "</div>\n",
              "      <button class=\"colab-df-convert\" onclick=\"convertToInteractive('df-d6f4c319-5cb1-4491-89a8-09d56c727384')\"\n",
              "              title=\"Convert this dataframe to an interactive table.\"\n",
              "              style=\"display:none;\">\n",
              "        \n",
              "  <svg xmlns=\"http://www.w3.org/2000/svg\" height=\"24px\"viewBox=\"0 0 24 24\"\n",
              "       width=\"24px\">\n",
              "    <path d=\"M0 0h24v24H0V0z\" fill=\"none\"/>\n",
              "    <path d=\"M18.56 5.44l.94 2.06.94-2.06 2.06-.94-2.06-.94-.94-2.06-.94 2.06-2.06.94zm-11 1L8.5 8.5l.94-2.06 2.06-.94-2.06-.94L8.5 2.5l-.94 2.06-2.06.94zm10 10l.94 2.06.94-2.06 2.06-.94-2.06-.94-.94-2.06-.94 2.06-2.06.94z\"/><path d=\"M17.41 7.96l-1.37-1.37c-.4-.4-.92-.59-1.43-.59-.52 0-1.04.2-1.43.59L10.3 9.45l-7.72 7.72c-.78.78-.78 2.05 0 2.83L4 21.41c.39.39.9.59 1.41.59.51 0 1.02-.2 1.41-.59l7.78-7.78 2.81-2.81c.8-.78.8-2.07 0-2.86zM5.41 20L4 18.59l7.72-7.72 1.47 1.35L5.41 20z\"/>\n",
              "  </svg>\n",
              "      </button>\n",
              "      \n",
              "  <style>\n",
              "    .colab-df-container {\n",
              "      display:flex;\n",
              "      flex-wrap:wrap;\n",
              "      gap: 12px;\n",
              "    }\n",
              "\n",
              "    .colab-df-convert {\n",
              "      background-color: #E8F0FE;\n",
              "      border: none;\n",
              "      border-radius: 50%;\n",
              "      cursor: pointer;\n",
              "      display: none;\n",
              "      fill: #1967D2;\n",
              "      height: 32px;\n",
              "      padding: 0 0 0 0;\n",
              "      width: 32px;\n",
              "    }\n",
              "\n",
              "    .colab-df-convert:hover {\n",
              "      background-color: #E2EBFA;\n",
              "      box-shadow: 0px 1px 2px rgba(60, 64, 67, 0.3), 0px 1px 3px 1px rgba(60, 64, 67, 0.15);\n",
              "      fill: #174EA6;\n",
              "    }\n",
              "\n",
              "    [theme=dark] .colab-df-convert {\n",
              "      background-color: #3B4455;\n",
              "      fill: #D2E3FC;\n",
              "    }\n",
              "\n",
              "    [theme=dark] .colab-df-convert:hover {\n",
              "      background-color: #434B5C;\n",
              "      box-shadow: 0px 1px 3px 1px rgba(0, 0, 0, 0.15);\n",
              "      filter: drop-shadow(0px 1px 2px rgba(0, 0, 0, 0.3));\n",
              "      fill: #FFFFFF;\n",
              "    }\n",
              "  </style>\n",
              "\n",
              "      <script>\n",
              "        const buttonEl =\n",
              "          document.querySelector('#df-d6f4c319-5cb1-4491-89a8-09d56c727384 button.colab-df-convert');\n",
              "        buttonEl.style.display =\n",
              "          google.colab.kernel.accessAllowed ? 'block' : 'none';\n",
              "\n",
              "        async function convertToInteractive(key) {\n",
              "          const element = document.querySelector('#df-d6f4c319-5cb1-4491-89a8-09d56c727384');\n",
              "          const dataTable =\n",
              "            await google.colab.kernel.invokeFunction('convertToInteractive',\n",
              "                                                     [key], {});\n",
              "          if (!dataTable) return;\n",
              "\n",
              "          const docLinkHtml = 'Like what you see? Visit the ' +\n",
              "            '<a target=\"_blank\" href=https://colab.research.google.com/notebooks/data_table.ipynb>data table notebook</a>'\n",
              "            + ' to learn more about interactive tables.';\n",
              "          element.innerHTML = '';\n",
              "          dataTable['output_type'] = 'display_data';\n",
              "          await google.colab.output.renderOutput(dataTable, element);\n",
              "          const docLink = document.createElement('div');\n",
              "          docLink.innerHTML = docLinkHtml;\n",
              "          element.appendChild(docLink);\n",
              "        }\n",
              "      </script>\n",
              "    </div>\n",
              "  </div>\n",
              "  "
            ]
          },
          "metadata": {},
          "execution_count": 2
        }
      ]
    },
    {
      "cell_type": "markdown",
      "source": [
        "# Filto1 - Tipo de habitación = Private room"
      ],
      "metadata": {
        "id": "nJT_XHAvY7bf"
      }
    },
    {
      "cell_type": "code",
      "source": [
        "filtro1_eua = eua.loc[eua['room_type'] == \"Private room\"]\n",
        "filtro1_eua"
      ],
      "metadata": {
        "colab": {
          "base_uri": "https://localhost:8080/",
          "height": 991
        },
        "id": "KajdH9u8xJX3",
        "outputId": "57ebecff-9472-4a54-aca4-6a7462136d1b"
      },
      "execution_count": null,
      "outputs": [
        {
          "output_type": "execute_result",
          "data": {
            "text/plain": [
              "             ï»¿id                                      listing_url  \\\n",
              "2     8.142000e+03                https://www.airbnb.com/rooms/8142   \n",
              "4     8.739000e+03                https://www.airbnb.com/rooms/8739   \n",
              "6     4.909310e+05              https://www.airbnb.com/rooms/490931   \n",
              "7     1.053700e+04               https://www.airbnb.com/rooms/10537   \n",
              "11    1.449780e+05              https://www.airbnb.com/rooms/144978   \n",
              "...            ...                                              ...   \n",
              "6927  8.170000e+17  https://www.airbnb.com/rooms/817390268252267687   \n",
              "6929  8.180000e+17  https://www.airbnb.com/rooms/817686120681200035   \n",
              "6930  8.180000e+17  https://www.airbnb.com/rooms/818185441952600448   \n",
              "6933  8.180000e+17  https://www.airbnb.com/rooms/818396267693629070   \n",
              "6934  8.180000e+17  https://www.airbnb.com/rooms/818474518435984613   \n",
              "\n",
              "         scrape_id last_scraped       source  \\\n",
              "2     2.020000e+13     06/03/23  city scrape   \n",
              "4     2.020000e+13     06/03/23  city scrape   \n",
              "6     2.020000e+13     06/03/23  city scrape   \n",
              "7     2.020000e+13     06/03/23  city scrape   \n",
              "11    2.020000e+13     06/03/23  city scrape   \n",
              "...            ...          ...          ...   \n",
              "6927  2.020000e+13     06/03/23  city scrape   \n",
              "6929  2.020000e+13     06/03/23  city scrape   \n",
              "6930  2.020000e+13     06/03/23  city scrape   \n",
              "6933  2.020000e+13     06/03/23  city scrape   \n",
              "6934  2.020000e+13     06/03/23  city scrape   \n",
              "\n",
              "                                                   name  \\\n",
              "2     Friendly Room Apt. Style -UCSF/USF - San Franc...   \n",
              "4                   Mission Sunshine, with Private Bath   \n",
              "6                                 Mission's \"La Lengua\"   \n",
              "7     Elegant & Cozy w/City views. Private room: Purple   \n",
              "11                    Prime Location - Small Basic Room   \n",
              "...                                                 ...   \n",
              "6927                    Charming hotel room in downtown   \n",
              "6929  SF Spacious Room w/Kitchen/Patio/ComfyBed/Laundry   \n",
              "6930    # F - Convenient Potrero Hill Stay. Book Today.   \n",
              "6933               Heart of SF ! Close by to Everything   \n",
              "6934                              Private room #2 in SF   \n",
              "\n",
              "                                            description  \\\n",
              "2     Nice and good public transportation.  7 minute...   \n",
              "4     Welcome to \"The Mission,\" the sunniest neighbo...   \n",
              "6     Sunny apt in a great corner of the Mission.  Y...   \n",
              "7     Casa de Paz (House of Peace) is like staying w...   \n",
              "11    <b>The space</b><br />This is a small room in ...   \n",
              "...                                                 ...   \n",
              "6927  Enjoy easy access to popular shops and restaur...   \n",
              "6929  Our home is carefully designed for long-term s...   \n",
              "6930  Convenient Stay. Book Potrero Hill Today.<br /...   \n",
              "6933  - In-unit washer/dryer<br />-Walk-in Closet <b...   \n",
              "6934  Enjoy a memorable visit when you stay at our A...   \n",
              "\n",
              "                                  neighborhood_overview  \\\n",
              "2     N Juda Muni, Bus and UCSF Shuttle.<br /><br />...   \n",
              "4     Located between Valencia Street and Dolores Pa...   \n",
              "6     great food, bars, and walk to everything, incl...   \n",
              "7                                                    --   \n",
              "11                                                   --   \n",
              "...                                                 ...   \n",
              "6927  Russian Hill is directly to the north (and sli...   \n",
              "6929  This residential neighborhood is quiet with fa...   \n",
              "6930                                                 --   \n",
              "6933                                                 --   \n",
              "6934                                                 --   \n",
              "\n",
              "                                            picture_url    host_id  ...  \\\n",
              "2     https://a0.muscache.com/pictures/12d8bff0-1698...      21994  ...   \n",
              "4     https://a0.muscache.com/pictures/80811/7a57d0e...       7149  ...   \n",
              "6     https://a0.muscache.com/pictures/5841012/ee765...    1269188  ...   \n",
              "7     https://a0.muscache.com/pictures/miso/Hosting-...      36752  ...   \n",
              "11    https://a0.muscache.com/pictures/915742/ada9fb...     216682  ...   \n",
              "...                                                 ...        ...  ...   \n",
              "6927  https://a0.muscache.com/pictures/miso/Hosting-...  486687635  ...   \n",
              "6929  https://a0.muscache.com/pictures/miso/Hosting-...  226555948  ...   \n",
              "6930  https://a0.muscache.com/pictures/miso/Hosting-...  286802480  ...   \n",
              "6933  https://a0.muscache.com/pictures/miso/Hosting-...  499294716  ...   \n",
              "6934  https://a0.muscache.com/pictures/miso/Hosting-...  485596413  ...   \n",
              "\n",
              "     review_scores_checkin review_scores_communication review_scores_location  \\\n",
              "2                     4.78                        4.78                   4.67   \n",
              "4                     4.95                        4.96                   4.93   \n",
              "6                     4.70                        4.78                   4.77   \n",
              "7                     4.86                        5.00                   4.14   \n",
              "11                    4.86                        4.81                   4.82   \n",
              "...                    ...                         ...                    ...   \n",
              "6927                  5.00                        5.00                   5.00   \n",
              "6929                  0.00                        0.00                   0.00   \n",
              "6930                  0.00                        0.00                   0.00   \n",
              "6933                  0.00                        0.00                   0.00   \n",
              "6934                  0.00                        0.00                   0.00   \n",
              "\n",
              "     review_scores_value calculated_host_listings_count  \\\n",
              "2                   4.67                             13   \n",
              "4                   4.74                              2   \n",
              "6                   4.66                              1   \n",
              "7                   4.46                              2   \n",
              "11                  4.67                              9   \n",
              "...                  ...                            ...   \n",
              "6927                5.00                             26   \n",
              "6929                0.00                             14   \n",
              "6930                0.00                              6   \n",
              "6933                0.00                              1   \n",
              "6934                0.00                              3   \n",
              "\n",
              "     calculated_host_listings_count_entire_homes  \\\n",
              "2                                              0   \n",
              "4                                              0   \n",
              "6                                              0   \n",
              "7                                              0   \n",
              "11                                             4   \n",
              "...                                          ...   \n",
              "6927                                           0   \n",
              "6929                                           3   \n",
              "6930                                           0   \n",
              "6933                                           0   \n",
              "6934                                           0   \n",
              "\n",
              "     calculated_host_listings_count_private_rooms  \\\n",
              "2                                              13   \n",
              "4                                               2   \n",
              "6                                               1   \n",
              "7                                               2   \n",
              "11                                              5   \n",
              "...                                           ...   \n",
              "6927                                           26   \n",
              "6929                                           11   \n",
              "6930                                            6   \n",
              "6933                                            1   \n",
              "6934                                            3   \n",
              "\n",
              "     calculated_host_listings_count_shared_rooms reviews_per_month  \\\n",
              "2                                              0              0.09   \n",
              "4                                              0              4.65   \n",
              "6                                              0              0.74   \n",
              "7                                              0              0.12   \n",
              "11                                             0              0.85   \n",
              "...                                          ...               ...   \n",
              "6927                                           0              1.00   \n",
              "6929                                           0              0.00   \n",
              "6930                                           0              0.00   \n",
              "6933                                           0              0.00   \n",
              "6934                                           0              0.00   \n",
              "\n",
              "     host_response_rate  \n",
              "2                   1.0  \n",
              "4                   1.0  \n",
              "6                   1.0  \n",
              "7                   1.0  \n",
              "11                  1.0  \n",
              "...                 ...  \n",
              "6927                1.0  \n",
              "6929                1.0  \n",
              "6930                1.0  \n",
              "6933                0.0  \n",
              "6934                1.0  \n",
              "\n",
              "[2359 rows x 77 columns]"
            ],
            "text/html": [
              "\n",
              "  <div id=\"df-c9ae04ec-283d-4a22-8263-58cd55c44f53\">\n",
              "    <div class=\"colab-df-container\">\n",
              "      <div>\n",
              "<style scoped>\n",
              "    .dataframe tbody tr th:only-of-type {\n",
              "        vertical-align: middle;\n",
              "    }\n",
              "\n",
              "    .dataframe tbody tr th {\n",
              "        vertical-align: top;\n",
              "    }\n",
              "\n",
              "    .dataframe thead th {\n",
              "        text-align: right;\n",
              "    }\n",
              "</style>\n",
              "<table border=\"1\" class=\"dataframe\">\n",
              "  <thead>\n",
              "    <tr style=\"text-align: right;\">\n",
              "      <th></th>\n",
              "      <th>ï»¿id</th>\n",
              "      <th>listing_url</th>\n",
              "      <th>scrape_id</th>\n",
              "      <th>last_scraped</th>\n",
              "      <th>source</th>\n",
              "      <th>name</th>\n",
              "      <th>description</th>\n",
              "      <th>neighborhood_overview</th>\n",
              "      <th>picture_url</th>\n",
              "      <th>host_id</th>\n",
              "      <th>...</th>\n",
              "      <th>review_scores_checkin</th>\n",
              "      <th>review_scores_communication</th>\n",
              "      <th>review_scores_location</th>\n",
              "      <th>review_scores_value</th>\n",
              "      <th>calculated_host_listings_count</th>\n",
              "      <th>calculated_host_listings_count_entire_homes</th>\n",
              "      <th>calculated_host_listings_count_private_rooms</th>\n",
              "      <th>calculated_host_listings_count_shared_rooms</th>\n",
              "      <th>reviews_per_month</th>\n",
              "      <th>host_response_rate</th>\n",
              "    </tr>\n",
              "  </thead>\n",
              "  <tbody>\n",
              "    <tr>\n",
              "      <th>2</th>\n",
              "      <td>8.142000e+03</td>\n",
              "      <td>https://www.airbnb.com/rooms/8142</td>\n",
              "      <td>2.020000e+13</td>\n",
              "      <td>06/03/23</td>\n",
              "      <td>city scrape</td>\n",
              "      <td>Friendly Room Apt. Style -UCSF/USF - San Franc...</td>\n",
              "      <td>Nice and good public transportation.  7 minute...</td>\n",
              "      <td>N Juda Muni, Bus and UCSF Shuttle.&lt;br /&gt;&lt;br /&gt;...</td>\n",
              "      <td>https://a0.muscache.com/pictures/12d8bff0-1698...</td>\n",
              "      <td>21994</td>\n",
              "      <td>...</td>\n",
              "      <td>4.78</td>\n",
              "      <td>4.78</td>\n",
              "      <td>4.67</td>\n",
              "      <td>4.67</td>\n",
              "      <td>13</td>\n",
              "      <td>0</td>\n",
              "      <td>13</td>\n",
              "      <td>0</td>\n",
              "      <td>0.09</td>\n",
              "      <td>1.0</td>\n",
              "    </tr>\n",
              "    <tr>\n",
              "      <th>4</th>\n",
              "      <td>8.739000e+03</td>\n",
              "      <td>https://www.airbnb.com/rooms/8739</td>\n",
              "      <td>2.020000e+13</td>\n",
              "      <td>06/03/23</td>\n",
              "      <td>city scrape</td>\n",
              "      <td>Mission Sunshine, with Private Bath</td>\n",
              "      <td>Welcome to \"The Mission,\" the sunniest neighbo...</td>\n",
              "      <td>Located between Valencia Street and Dolores Pa...</td>\n",
              "      <td>https://a0.muscache.com/pictures/80811/7a57d0e...</td>\n",
              "      <td>7149</td>\n",
              "      <td>...</td>\n",
              "      <td>4.95</td>\n",
              "      <td>4.96</td>\n",
              "      <td>4.93</td>\n",
              "      <td>4.74</td>\n",
              "      <td>2</td>\n",
              "      <td>0</td>\n",
              "      <td>2</td>\n",
              "      <td>0</td>\n",
              "      <td>4.65</td>\n",
              "      <td>1.0</td>\n",
              "    </tr>\n",
              "    <tr>\n",
              "      <th>6</th>\n",
              "      <td>4.909310e+05</td>\n",
              "      <td>https://www.airbnb.com/rooms/490931</td>\n",
              "      <td>2.020000e+13</td>\n",
              "      <td>06/03/23</td>\n",
              "      <td>city scrape</td>\n",
              "      <td>Mission's \"La Lengua\"</td>\n",
              "      <td>Sunny apt in a great corner of the Mission.  Y...</td>\n",
              "      <td>great food, bars, and walk to everything, incl...</td>\n",
              "      <td>https://a0.muscache.com/pictures/5841012/ee765...</td>\n",
              "      <td>1269188</td>\n",
              "      <td>...</td>\n",
              "      <td>4.70</td>\n",
              "      <td>4.78</td>\n",
              "      <td>4.77</td>\n",
              "      <td>4.66</td>\n",
              "      <td>1</td>\n",
              "      <td>0</td>\n",
              "      <td>1</td>\n",
              "      <td>0</td>\n",
              "      <td>0.74</td>\n",
              "      <td>1.0</td>\n",
              "    </tr>\n",
              "    <tr>\n",
              "      <th>7</th>\n",
              "      <td>1.053700e+04</td>\n",
              "      <td>https://www.airbnb.com/rooms/10537</td>\n",
              "      <td>2.020000e+13</td>\n",
              "      <td>06/03/23</td>\n",
              "      <td>city scrape</td>\n",
              "      <td>Elegant &amp; Cozy w/City views. Private room: Purple</td>\n",
              "      <td>Casa de Paz (House of Peace) is like staying w...</td>\n",
              "      <td>--</td>\n",
              "      <td>https://a0.muscache.com/pictures/miso/Hosting-...</td>\n",
              "      <td>36752</td>\n",
              "      <td>...</td>\n",
              "      <td>4.86</td>\n",
              "      <td>5.00</td>\n",
              "      <td>4.14</td>\n",
              "      <td>4.46</td>\n",
              "      <td>2</td>\n",
              "      <td>0</td>\n",
              "      <td>2</td>\n",
              "      <td>0</td>\n",
              "      <td>0.12</td>\n",
              "      <td>1.0</td>\n",
              "    </tr>\n",
              "    <tr>\n",
              "      <th>11</th>\n",
              "      <td>1.449780e+05</td>\n",
              "      <td>https://www.airbnb.com/rooms/144978</td>\n",
              "      <td>2.020000e+13</td>\n",
              "      <td>06/03/23</td>\n",
              "      <td>city scrape</td>\n",
              "      <td>Prime Location - Small Basic Room</td>\n",
              "      <td>&lt;b&gt;The space&lt;/b&gt;&lt;br /&gt;This is a small room in ...</td>\n",
              "      <td>--</td>\n",
              "      <td>https://a0.muscache.com/pictures/915742/ada9fb...</td>\n",
              "      <td>216682</td>\n",
              "      <td>...</td>\n",
              "      <td>4.86</td>\n",
              "      <td>4.81</td>\n",
              "      <td>4.82</td>\n",
              "      <td>4.67</td>\n",
              "      <td>9</td>\n",
              "      <td>4</td>\n",
              "      <td>5</td>\n",
              "      <td>0</td>\n",
              "      <td>0.85</td>\n",
              "      <td>1.0</td>\n",
              "    </tr>\n",
              "    <tr>\n",
              "      <th>...</th>\n",
              "      <td>...</td>\n",
              "      <td>...</td>\n",
              "      <td>...</td>\n",
              "      <td>...</td>\n",
              "      <td>...</td>\n",
              "      <td>...</td>\n",
              "      <td>...</td>\n",
              "      <td>...</td>\n",
              "      <td>...</td>\n",
              "      <td>...</td>\n",
              "      <td>...</td>\n",
              "      <td>...</td>\n",
              "      <td>...</td>\n",
              "      <td>...</td>\n",
              "      <td>...</td>\n",
              "      <td>...</td>\n",
              "      <td>...</td>\n",
              "      <td>...</td>\n",
              "      <td>...</td>\n",
              "      <td>...</td>\n",
              "      <td>...</td>\n",
              "    </tr>\n",
              "    <tr>\n",
              "      <th>6927</th>\n",
              "      <td>8.170000e+17</td>\n",
              "      <td>https://www.airbnb.com/rooms/817390268252267687</td>\n",
              "      <td>2.020000e+13</td>\n",
              "      <td>06/03/23</td>\n",
              "      <td>city scrape</td>\n",
              "      <td>Charming hotel room in downtown</td>\n",
              "      <td>Enjoy easy access to popular shops and restaur...</td>\n",
              "      <td>Russian Hill is directly to the north (and sli...</td>\n",
              "      <td>https://a0.muscache.com/pictures/miso/Hosting-...</td>\n",
              "      <td>486687635</td>\n",
              "      <td>...</td>\n",
              "      <td>5.00</td>\n",
              "      <td>5.00</td>\n",
              "      <td>5.00</td>\n",
              "      <td>5.00</td>\n",
              "      <td>26</td>\n",
              "      <td>0</td>\n",
              "      <td>26</td>\n",
              "      <td>0</td>\n",
              "      <td>1.00</td>\n",
              "      <td>1.0</td>\n",
              "    </tr>\n",
              "    <tr>\n",
              "      <th>6929</th>\n",
              "      <td>8.180000e+17</td>\n",
              "      <td>https://www.airbnb.com/rooms/817686120681200035</td>\n",
              "      <td>2.020000e+13</td>\n",
              "      <td>06/03/23</td>\n",
              "      <td>city scrape</td>\n",
              "      <td>SF Spacious Room w/Kitchen/Patio/ComfyBed/Laundry</td>\n",
              "      <td>Our home is carefully designed for long-term s...</td>\n",
              "      <td>This residential neighborhood is quiet with fa...</td>\n",
              "      <td>https://a0.muscache.com/pictures/miso/Hosting-...</td>\n",
              "      <td>226555948</td>\n",
              "      <td>...</td>\n",
              "      <td>0.00</td>\n",
              "      <td>0.00</td>\n",
              "      <td>0.00</td>\n",
              "      <td>0.00</td>\n",
              "      <td>14</td>\n",
              "      <td>3</td>\n",
              "      <td>11</td>\n",
              "      <td>0</td>\n",
              "      <td>0.00</td>\n",
              "      <td>1.0</td>\n",
              "    </tr>\n",
              "    <tr>\n",
              "      <th>6930</th>\n",
              "      <td>8.180000e+17</td>\n",
              "      <td>https://www.airbnb.com/rooms/818185441952600448</td>\n",
              "      <td>2.020000e+13</td>\n",
              "      <td>06/03/23</td>\n",
              "      <td>city scrape</td>\n",
              "      <td># F - Convenient Potrero Hill Stay. Book Today.</td>\n",
              "      <td>Convenient Stay. Book Potrero Hill Today.&lt;br /...</td>\n",
              "      <td>--</td>\n",
              "      <td>https://a0.muscache.com/pictures/miso/Hosting-...</td>\n",
              "      <td>286802480</td>\n",
              "      <td>...</td>\n",
              "      <td>0.00</td>\n",
              "      <td>0.00</td>\n",
              "      <td>0.00</td>\n",
              "      <td>0.00</td>\n",
              "      <td>6</td>\n",
              "      <td>0</td>\n",
              "      <td>6</td>\n",
              "      <td>0</td>\n",
              "      <td>0.00</td>\n",
              "      <td>1.0</td>\n",
              "    </tr>\n",
              "    <tr>\n",
              "      <th>6933</th>\n",
              "      <td>8.180000e+17</td>\n",
              "      <td>https://www.airbnb.com/rooms/818396267693629070</td>\n",
              "      <td>2.020000e+13</td>\n",
              "      <td>06/03/23</td>\n",
              "      <td>city scrape</td>\n",
              "      <td>Heart of SF ! Close by to Everything</td>\n",
              "      <td>- In-unit washer/dryer&lt;br /&gt;-Walk-in Closet &lt;b...</td>\n",
              "      <td>--</td>\n",
              "      <td>https://a0.muscache.com/pictures/miso/Hosting-...</td>\n",
              "      <td>499294716</td>\n",
              "      <td>...</td>\n",
              "      <td>0.00</td>\n",
              "      <td>0.00</td>\n",
              "      <td>0.00</td>\n",
              "      <td>0.00</td>\n",
              "      <td>1</td>\n",
              "      <td>0</td>\n",
              "      <td>1</td>\n",
              "      <td>0</td>\n",
              "      <td>0.00</td>\n",
              "      <td>0.0</td>\n",
              "    </tr>\n",
              "    <tr>\n",
              "      <th>6934</th>\n",
              "      <td>8.180000e+17</td>\n",
              "      <td>https://www.airbnb.com/rooms/818474518435984613</td>\n",
              "      <td>2.020000e+13</td>\n",
              "      <td>06/03/23</td>\n",
              "      <td>city scrape</td>\n",
              "      <td>Private room #2 in SF</td>\n",
              "      <td>Enjoy a memorable visit when you stay at our A...</td>\n",
              "      <td>--</td>\n",
              "      <td>https://a0.muscache.com/pictures/miso/Hosting-...</td>\n",
              "      <td>485596413</td>\n",
              "      <td>...</td>\n",
              "      <td>0.00</td>\n",
              "      <td>0.00</td>\n",
              "      <td>0.00</td>\n",
              "      <td>0.00</td>\n",
              "      <td>3</td>\n",
              "      <td>0</td>\n",
              "      <td>3</td>\n",
              "      <td>0</td>\n",
              "      <td>0.00</td>\n",
              "      <td>1.0</td>\n",
              "    </tr>\n",
              "  </tbody>\n",
              "</table>\n",
              "<p>2359 rows × 77 columns</p>\n",
              "</div>\n",
              "      <button class=\"colab-df-convert\" onclick=\"convertToInteractive('df-c9ae04ec-283d-4a22-8263-58cd55c44f53')\"\n",
              "              title=\"Convert this dataframe to an interactive table.\"\n",
              "              style=\"display:none;\">\n",
              "        \n",
              "  <svg xmlns=\"http://www.w3.org/2000/svg\" height=\"24px\"viewBox=\"0 0 24 24\"\n",
              "       width=\"24px\">\n",
              "    <path d=\"M0 0h24v24H0V0z\" fill=\"none\"/>\n",
              "    <path d=\"M18.56 5.44l.94 2.06.94-2.06 2.06-.94-2.06-.94-.94-2.06-.94 2.06-2.06.94zm-11 1L8.5 8.5l.94-2.06 2.06-.94-2.06-.94L8.5 2.5l-.94 2.06-2.06.94zm10 10l.94 2.06.94-2.06 2.06-.94-2.06-.94-.94-2.06-.94 2.06-2.06.94z\"/><path d=\"M17.41 7.96l-1.37-1.37c-.4-.4-.92-.59-1.43-.59-.52 0-1.04.2-1.43.59L10.3 9.45l-7.72 7.72c-.78.78-.78 2.05 0 2.83L4 21.41c.39.39.9.59 1.41.59.51 0 1.02-.2 1.41-.59l7.78-7.78 2.81-2.81c.8-.78.8-2.07 0-2.86zM5.41 20L4 18.59l7.72-7.72 1.47 1.35L5.41 20z\"/>\n",
              "  </svg>\n",
              "      </button>\n",
              "      \n",
              "  <style>\n",
              "    .colab-df-container {\n",
              "      display:flex;\n",
              "      flex-wrap:wrap;\n",
              "      gap: 12px;\n",
              "    }\n",
              "\n",
              "    .colab-df-convert {\n",
              "      background-color: #E8F0FE;\n",
              "      border: none;\n",
              "      border-radius: 50%;\n",
              "      cursor: pointer;\n",
              "      display: none;\n",
              "      fill: #1967D2;\n",
              "      height: 32px;\n",
              "      padding: 0 0 0 0;\n",
              "      width: 32px;\n",
              "    }\n",
              "\n",
              "    .colab-df-convert:hover {\n",
              "      background-color: #E2EBFA;\n",
              "      box-shadow: 0px 1px 2px rgba(60, 64, 67, 0.3), 0px 1px 3px 1px rgba(60, 64, 67, 0.15);\n",
              "      fill: #174EA6;\n",
              "    }\n",
              "\n",
              "    [theme=dark] .colab-df-convert {\n",
              "      background-color: #3B4455;\n",
              "      fill: #D2E3FC;\n",
              "    }\n",
              "\n",
              "    [theme=dark] .colab-df-convert:hover {\n",
              "      background-color: #434B5C;\n",
              "      box-shadow: 0px 1px 3px 1px rgba(0, 0, 0, 0.15);\n",
              "      filter: drop-shadow(0px 1px 2px rgba(0, 0, 0, 0.3));\n",
              "      fill: #FFFFFF;\n",
              "    }\n",
              "  </style>\n",
              "\n",
              "      <script>\n",
              "        const buttonEl =\n",
              "          document.querySelector('#df-c9ae04ec-283d-4a22-8263-58cd55c44f53 button.colab-df-convert');\n",
              "        buttonEl.style.display =\n",
              "          google.colab.kernel.accessAllowed ? 'block' : 'none';\n",
              "\n",
              "        async function convertToInteractive(key) {\n",
              "          const element = document.querySelector('#df-c9ae04ec-283d-4a22-8263-58cd55c44f53');\n",
              "          const dataTable =\n",
              "            await google.colab.kernel.invokeFunction('convertToInteractive',\n",
              "                                                     [key], {});\n",
              "          if (!dataTable) return;\n",
              "\n",
              "          const docLinkHtml = 'Like what you see? Visit the ' +\n",
              "            '<a target=\"_blank\" href=https://colab.research.google.com/notebooks/data_table.ipynb>data table notebook</a>'\n",
              "            + ' to learn more about interactive tables.';\n",
              "          element.innerHTML = '';\n",
              "          dataTable['output_type'] = 'display_data';\n",
              "          await google.colab.output.renderOutput(dataTable, element);\n",
              "          const docLink = document.createElement('div');\n",
              "          docLink.innerHTML = docLinkHtml;\n",
              "          element.appendChild(docLink);\n",
              "        }\n",
              "      </script>\n",
              "    </div>\n",
              "  </div>\n",
              "  "
            ]
          },
          "metadata": {},
          "execution_count": 3
        }
      ]
    },
    {
      "cell_type": "markdown",
      "source": [
        "## X = host_response_rate\n",
        "## y= host_acceptance_rate"
      ],
      "metadata": {
        "id": "R1Ee-Cv11dTq"
      }
    },
    {
      "cell_type": "code",
      "source": [
        "#Imprimimos el scatter plot entre la variable dependiente e independiente\n",
        "#para observar el comportamiento en su dispersión \n",
        "from turtle import color\n",
        "\n",
        "\n",
        "sns.scatterplot(x='host_response_rate', y='host_acceptance_rate', color=\"blue\", data=filtro1_eua)"
      ],
      "metadata": {
        "colab": {
          "base_uri": "https://localhost:8080/",
          "height": 468
        },
        "id": "Yullw3121iIx",
        "outputId": "fdf2c249-b59d-42a4-f3a1-b533e83f9354"
      },
      "execution_count": null,
      "outputs": [
        {
          "output_type": "execute_result",
          "data": {
            "text/plain": [
              "<Axes: xlabel='host_response_rate', ylabel='host_acceptance_rate'>"
            ]
          },
          "metadata": {},
          "execution_count": 4
        },
        {
          "output_type": "display_data",
          "data": {
            "text/plain": [
              "<Figure size 640x480 with 1 Axes>"
            ],
            "image/png": "[encoded data removed]"
          },
          "metadata": {}
        }
      ]
    },
    {
      "cell_type": "code",
      "source": [
        "#Declaramos las variables dependientes e independientes para la regresión lineal\n",
        "Vars_Indep= filtro1_eua[['host_response_rate']]\n",
        "Var_Dep= filtro1_eua['host_acceptance_rate']"
      ],
      "metadata": {
        "id": "xXYFprpy45JQ"
      },
      "execution_count": null,
      "outputs": []
    },
    {
      "cell_type": "code",
      "source": [
        "#Se define model como la función de regresión lineal\n",
        "from sklearn.linear_model import LinearRegression\n",
        "model= LinearRegression()"
      ],
      "metadata": {
        "id": "5Egvl_Ye4-9I"
      },
      "execution_count": null,
      "outputs": []
    },
    {
      "cell_type": "code",
      "source": [
        "#Verificamos la función relacionada al modelo\n",
        "type(model)"
      ],
      "metadata": {
        "colab": {
          "base_uri": "https://localhost:8080/"
        },
        "id": "RK2GhNFs5H1U",
        "outputId": "b72cde31-6188-43ff-bfce-83afbcf2b5da"
      },
      "execution_count": null,
      "outputs": [
        {
          "output_type": "execute_result",
          "data": {
            "text/plain": [
              "sklearn.linear_model._base.LinearRegression"
            ]
          },
          "metadata": {},
          "execution_count": 7
        }
      ]
    },
    {
      "cell_type": "code",
      "source": [
        "#Ajustamos el modelo con las variables antes declaradas\n",
        "model.fit(X=Vars_Indep, y=Var_Dep)"
      ],
      "metadata": {
        "colab": {
          "base_uri": "https://localhost:8080/",
          "height": 75
        },
        "id": "7QDN6cwU5LZL",
        "outputId": "404b4ac3-1e7d-4938-eb07-adbe8dcbf416"
      },
      "execution_count": null,
      "outputs": [
        {
          "output_type": "execute_result",
          "data": {
            "text/plain": [
              "LinearRegression()"
            ],
            "text/html": [
              "<style>#sk-container-id-1 {color: black;background-color: white;}#sk-container-id-1 pre{padding: 0;}#sk-container-id-1 div.sk-toggleable {background-color: white;}#sk-container-id-1 label.sk-toggleable__label {cursor: pointer;display: block;width: 100%;margin-bottom: 0;padding: 0.3em;box-sizing: border-box;text-align: center;}#sk-container-id-1 label.sk-toggleable__label-arrow:before {content: \"▸\";float: left;margin-right: 0.25em;color: #696969;}#sk-container-id-1 label.sk-toggleable__label-arrow:hover:before {color: black;}#sk-container-id-1 div.sk-estimator:hover label.sk-toggleable__label-arrow:before {color: black;}#sk-container-id-1 div.sk-toggleable__content {max-height: 0;max-width: 0;overflow: hidden;text-align: left;background-color: #f0f8ff;}#sk-container-id-1 div.sk-toggleable__content pre {margin: 0.2em;color: black;border-radius: 0.25em;background-color: #f0f8ff;}#sk-container-id-1 input.sk-toggleable__control:checked~div.sk-toggleable__content {max-height: 200px;max-width: 100%;overflow: auto;}#sk-container-id-1 input.sk-toggleable__control:checked~label.sk-toggleable__label-arrow:before {content: \"▾\";}#sk-container-id-1 div.sk-estimator input.sk-toggleable__control:checked~label.sk-toggleable__label {background-color: #d4ebff;}#sk-container-id-1 div.sk-label input.sk-toggleable__control:checked~label.sk-toggleable__label {background-color: #d4ebff;}#sk-container-id-1 input.sk-hidden--visually {border: 0;clip: rect(1px 1px 1px 1px);clip: rect(1px, 1px, 1px, 1px);height: 1px;margin: -1px;overflow: hidden;padding: 0;position: absolute;width: 1px;}#sk-container-id-1 div.sk-estimator {font-family: monospace;background-color: #f0f8ff;border: 1px dotted black;border-radius: 0.25em;box-sizing: border-box;margin-bottom: 0.5em;}#sk-container-id-1 div.sk-estimator:hover {background-color: #d4ebff;}#sk-container-id-1 div.sk-parallel-item::after {content: \"\";width: 100%;border-bottom: 1px solid gray;flex-grow: 1;}#sk-container-id-1 div.sk-label:hover label.sk-toggleable__label {background-color: #d4ebff;}#sk-container-id-1 div.sk-serial::before {content: \"\";position: absolute;border-left: 1px solid gray;box-sizing: border-box;top: 0;bottom: 0;left: 50%;z-index: 0;}#sk-container-id-1 div.sk-serial {display: flex;flex-direction: column;align-items: center;background-color: white;padding-right: 0.2em;padding-left: 0.2em;position: relative;}#sk-container-id-1 div.sk-item {position: relative;z-index: 1;}#sk-container-id-1 div.sk-parallel {display: flex;align-items: stretch;justify-content: center;background-color: white;position: relative;}#sk-container-id-1 div.sk-item::before, #sk-container-id-1 div.sk-parallel-item::before {content: \"\";position: absolute;border-left: 1px solid gray;box-sizing: border-box;top: 0;bottom: 0;left: 50%;z-index: -1;}#sk-container-id-1 div.sk-parallel-item {display: flex;flex-direction: column;z-index: 1;position: relative;background-color: white;}#sk-container-id-1 div.sk-parallel-item:first-child::after {align-self: flex-end;width: 50%;}#sk-container-id-1 div.sk-parallel-item:last-child::after {align-self: flex-start;width: 50%;}#sk-container-id-1 div.sk-parallel-item:only-child::after {width: 0;}#sk-container-id-1 div.sk-dashed-wrapped {border: 1px dashed gray;margin: 0 0.4em 0.5em 0.4em;box-sizing: border-box;padding-bottom: 0.4em;background-color: white;}#sk-container-id-1 div.sk-label label {font-family: monospace;font-weight: bold;display: inline-block;line-height: 1.2em;}#sk-container-id-1 div.sk-label-container {text-align: center;}#sk-container-id-1 div.sk-container {/* jupyter's `normalize.less` sets `[hidden] { display: none; }` but bootstrap.min.css set `[hidden] { display: none !important; }` so we also need the `!important` here to be able to override the default hidden behavior on the sphinx rendered scikit-learn.org. See: https://github.com/scikit-learn/scikit-learn/issues/21755 */display: inline-block !important;position: relative;}#sk-container-id-1 div.sk-text-repr-fallback {display: none;}</style><div id=\"sk-container-id-1\" class=\"sk-top-container\"><div class=\"sk-text-repr-fallback\"><pre>LinearRegression()</pre><b>In a Jupyter environment, please rerun this cell to show the HTML representation or trust the notebook. <br />On GitHub, the HTML representation is unable to render, please try loading this page with nbviewer.org.</b></div><div class=\"sk-container\" hidden><div class=\"sk-item\"><div class=\"sk-estimator sk-toggleable\"><input class=\"sk-toggleable__control sk-hidden--visually\" id=\"sk-estimator-id-1\" type=\"checkbox\" checked><label for=\"sk-estimator-id-1\" class=\"sk-toggleable__label sk-toggleable__label-arrow\">LinearRegression</label><div class=\"sk-toggleable__content\"><pre>LinearRegression()</pre></div></div></div></div></div>"
            ]
          },
          "metadata": {},
          "execution_count": 8
        }
      ]
    },
    {
      "cell_type": "code",
      "source": [
        "#Verificamos los coeficientes obtenidos para el modelo ajustado\n",
        "model.__dict__"
      ],
      "metadata": {
        "colab": {
          "base_uri": "https://localhost:8080/"
        },
        "id": "rfaBKogP5OKk",
        "outputId": "01d23d4e-5d83-47bc-9a79-78cbb957456a"
      },
      "execution_count": null,
      "outputs": [
        {
          "output_type": "execute_result",
          "data": {
            "text/plain": [
              "{'fit_intercept': True,\n",
              " 'copy_X': True,\n",
              " 'n_jobs': None,\n",
              " 'positive': False,\n",
              " 'feature_names_in_': array(['host_response_rate'], dtype=object),\n",
              " 'n_features_in_': 1,\n",
              " 'coef_': array([0.73408963]),\n",
              " 'rank_': 1,\n",
              " 'singular_': array([18.6491753]),\n",
              " 'intercept_': 0.1964043107585305}"
            ]
          },
          "metadata": {},
          "execution_count": 9
        }
      ]
    },
    {
      "cell_type": "markdown",
      "source": [
        "Modelo matemático: y= 0.73408963x + 0.1964043107585305"
      ],
      "metadata": {
        "id": "xWJuVAhv5qtn"
      }
    },
    {
      "cell_type": "code",
      "source": [
        "#Corroboramos cual es el coeficiente de Determinación de nuestro modelo\n",
        "coef_Deter=model.score(X=Vars_Indep, y=Var_Dep)\n",
        "coef_Deter"
      ],
      "metadata": {
        "colab": {
          "base_uri": "https://localhost:8080/"
        },
        "id": "xdFrqANw50vN",
        "outputId": "85bd6690-c47a-4026-c753-9d2afc4de3fd"
      },
      "execution_count": null,
      "outputs": [
        {
          "output_type": "execute_result",
          "data": {
            "text/plain": [
              "0.5963243998147931"
            ]
          },
          "metadata": {},
          "execution_count": 10
        }
      ]
    },
    {
      "cell_type": "code",
      "source": [
        "#Corroboramos cual es el coeficiente de Correlación de nuestro modelo\n",
        "coef_Correl=np.sqrt(coef_Deter)\n",
        "coef_Correl"
      ],
      "metadata": {
        "colab": {
          "base_uri": "https://localhost:8080/"
        },
        "id": "ujKKqJT453F_",
        "outputId": "a0fc1c7e-2f13-4d3a-beba-4a414e51a678"
      },
      "execution_count": null,
      "outputs": [
        {
          "output_type": "execute_result",
          "data": {
            "text/plain": [
              "0.7722204347301314"
            ]
          },
          "metadata": {},
          "execution_count": 11
        }
      ]
    },
    {
      "cell_type": "markdown",
      "source": [
        "## X = price\n",
        "\n",
        "## y= host_acceptance_rate"
      ],
      "metadata": {
        "id": "Yj7v79gC1Los"
      }
    },
    {
      "cell_type": "code",
      "source": [
        "#Imprimimos el scatter plot entre la variable dependiente e independiente \n",
        "#para observar el comportamiento en su dispersión \n",
        "from turtle import color\n",
        "\n",
        "\n",
        "sns.scatterplot(x='price', y='host_acceptance_rate', color=\"blue\", data=filtro1_eua)"
      ],
      "metadata": {
        "colab": {
          "base_uri": "https://localhost:8080/",
          "height": 467
        },
        "id": "UwqBsB1cyVpt",
        "outputId": "9a9f5048-d74f-4bf3-eec4-b8c93bce6aca"
      },
      "execution_count": null,
      "outputs": [
        {
          "output_type": "execute_result",
          "data": {
            "text/plain": [
              "<Axes: xlabel='price', ylabel='host_acceptance_rate'>"
            ]
          },
          "metadata": {},
          "execution_count": 12
        },
        {
          "output_type": "display_data",
          "data": {
            "text/plain": [
              "<Figure size 640x480 with 1 Axes>"
            ],
            "image/png": "[encoded data removed]"
          },
          "metadata": {}
        }
      ]
    },
    {
      "cell_type": "code",
      "source": [
        "#Declaramos las variables dependientes e independientes para la regresión lineal\n",
        "Vars_Indep2= filtro1_eua[['price']]\n",
        "Var_Dep2= filtro1_eua['host_acceptance_rate']"
      ],
      "metadata": {
        "id": "4-72HGPo0fLg"
      },
      "execution_count": null,
      "outputs": []
    },
    {
      "cell_type": "code",
      "source": [
        "#Se define model como la función de regresión lineal\n",
        "from sklearn.linear_model import LinearRegression\n",
        "model2= LinearRegression()"
      ],
      "metadata": {
        "id": "myhrM3vS0vaR"
      },
      "execution_count": null,
      "outputs": []
    },
    {
      "cell_type": "code",
      "source": [
        "#Verificamos la función relacionada al modelo\n",
        "type(model2)"
      ],
      "metadata": {
        "colab": {
          "base_uri": "https://localhost:8080/"
        },
        "id": "MYkMYOfP0z8F",
        "outputId": "085311fd-9ee8-4587-bb49-f3f7ea29fd7b"
      },
      "execution_count": null,
      "outputs": [
        {
          "output_type": "execute_result",
          "data": {
            "text/plain": [
              "sklearn.linear_model._base.LinearRegression"
            ]
          },
          "metadata": {},
          "execution_count": 15
        }
      ]
    },
    {
      "cell_type": "code",
      "source": [
        "#Ajustamos el modelo con las variables antes declaradas\n",
        "model2.fit(X=Vars_Indep2, y=Var_Dep2)"
      ],
      "metadata": {
        "colab": {
          "base_uri": "https://localhost:8080/",
          "height": 75
        },
        "id": "01XMFVxM033a",
        "outputId": "b7c0be33-4a73-4fdf-ddf5-9de40ea8cd22"
      },
      "execution_count": null,
      "outputs": [
        {
          "output_type": "execute_result",
          "data": {
            "text/plain": [
              "LinearRegression()"
            ],
            "text/html": [
              "<style>#sk-container-id-2 {color: black;background-color: white;}#sk-container-id-2 pre{padding: 0;}#sk-container-id-2 div.sk-toggleable {background-color: white;}#sk-container-id-2 label.sk-toggleable__label {cursor: pointer;display: block;width: 100%;margin-bottom: 0;padding: 0.3em;box-sizing: border-box;text-align: center;}#sk-container-id-2 label.sk-toggleable__label-arrow:before {content: \"▸\";float: left;margin-right: 0.25em;color: #696969;}#sk-container-id-2 label.sk-toggleable__label-arrow:hover:before {color: black;}#sk-container-id-2 div.sk-estimator:hover label.sk-toggleable__label-arrow:before {color: black;}#sk-container-id-2 div.sk-toggleable__content {max-height: 0;max-width: 0;overflow: hidden;text-align: left;background-color: #f0f8ff;}#sk-container-id-2 div.sk-toggleable__content pre {margin: 0.2em;color: black;border-radius: 0.25em;background-color: #f0f8ff;}#sk-container-id-2 input.sk-toggleable__control:checked~div.sk-toggleable__content {max-height: 200px;max-width: 100%;overflow: auto;}#sk-container-id-2 input.sk-toggleable__control:checked~label.sk-toggleable__label-arrow:before {content: \"▾\";}#sk-container-id-2 div.sk-estimator input.sk-toggleable__control:checked~label.sk-toggleable__label {background-color: #d4ebff;}#sk-container-id-2 div.sk-label input.sk-toggleable__control:checked~label.sk-toggleable__label {background-color: #d4ebff;}#sk-container-id-2 input.sk-hidden--visually {border: 0;clip: rect(1px 1px 1px 1px);clip: rect(1px, 1px, 1px, 1px);height: 1px;margin: -1px;overflow: hidden;padding: 0;position: absolute;width: 1px;}#sk-container-id-2 div.sk-estimator {font-family: monospace;background-color: #f0f8ff;border: 1px dotted black;border-radius: 0.25em;box-sizing: border-box;margin-bottom: 0.5em;}#sk-container-id-2 div.sk-estimator:hover {background-color: #d4ebff;}#sk-container-id-2 div.sk-parallel-item::after {content: \"\";width: 100%;border-bottom: 1px solid gray;flex-grow: 1;}#sk-container-id-2 div.sk-label:hover label.sk-toggleable__label {background-color: #d4ebff;}#sk-container-id-2 div.sk-serial::before {content: \"\";position: absolute;border-left: 1px solid gray;box-sizing: border-box;top: 0;bottom: 0;left: 50%;z-index: 0;}#sk-container-id-2 div.sk-serial {display: flex;flex-direction: column;align-items: center;background-color: white;padding-right: 0.2em;padding-left: 0.2em;position: relative;}#sk-container-id-2 div.sk-item {position: relative;z-index: 1;}#sk-container-id-2 div.sk-parallel {display: flex;align-items: stretch;justify-content: center;background-color: white;position: relative;}#sk-container-id-2 div.sk-item::before, #sk-container-id-2 div.sk-parallel-item::before {content: \"\";position: absolute;border-left: 1px solid gray;box-sizing: border-box;top: 0;bottom: 0;left: 50%;z-index: -1;}#sk-container-id-2 div.sk-parallel-item {display: flex;flex-direction: column;z-index: 1;position: relative;background-color: white;}#sk-container-id-2 div.sk-parallel-item:first-child::after {align-self: flex-end;width: 50%;}#sk-container-id-2 div.sk-parallel-item:last-child::after {align-self: flex-start;width: 50%;}#sk-container-id-2 div.sk-parallel-item:only-child::after {width: 0;}#sk-container-id-2 div.sk-dashed-wrapped {border: 1px dashed gray;margin: 0 0.4em 0.5em 0.4em;box-sizing: border-box;padding-bottom: 0.4em;background-color: white;}#sk-container-id-2 div.sk-label label {font-family: monospace;font-weight: bold;display: inline-block;line-height: 1.2em;}#sk-container-id-2 div.sk-label-container {text-align: center;}#sk-container-id-2 div.sk-container {/* jupyter's `normalize.less` sets `[hidden] { display: none; }` but bootstrap.min.css set `[hidden] { display: none !important; }` so we also need the `!important` here to be able to override the default hidden behavior on the sphinx rendered scikit-learn.org. See: https://github.com/scikit-learn/scikit-learn/issues/21755 */display: inline-block !important;position: relative;}#sk-container-id-2 div.sk-text-repr-fallback {display: none;}</style><div id=\"sk-container-id-2\" class=\"sk-top-container\"><div class=\"sk-text-repr-fallback\"><pre>LinearRegression()</pre><b>In a Jupyter environment, please rerun this cell to show the HTML representation or trust the notebook. <br />On GitHub, the HTML representation is unable to render, please try loading this page with nbviewer.org.</b></div><div class=\"sk-container\" hidden><div class=\"sk-item\"><div class=\"sk-estimator sk-toggleable\"><input class=\"sk-toggleable__control sk-hidden--visually\" id=\"sk-estimator-id-2\" type=\"checkbox\" checked><label for=\"sk-estimator-id-2\" class=\"sk-toggleable__label sk-toggleable__label-arrow\">LinearRegression</label><div class=\"sk-toggleable__content\"><pre>LinearRegression()</pre></div></div></div></div></div>"
            ]
          },
          "metadata": {},
          "execution_count": 16
        }
      ]
    },
    {
      "cell_type": "code",
      "source": [
        "#Verificamos los coeficientes obtenidos para el modelo ajustado\n",
        "model2.__dict__"
      ],
      "metadata": {
        "colab": {
          "base_uri": "https://localhost:8080/"
        },
        "id": "AW1mtI6B06WQ",
        "outputId": "df0bfc32-b891-431e-fea4-00f7c995963c"
      },
      "execution_count": null,
      "outputs": [
        {
          "output_type": "execute_result",
          "data": {
            "text/plain": [
              "{'fit_intercept': True,\n",
              " 'copy_X': True,\n",
              " 'n_jobs': None,\n",
              " 'positive': False,\n",
              " 'feature_names_in_': array(['price'], dtype=object),\n",
              " 'n_features_in_': 1,\n",
              " 'coef_': array([-4.60437173e-06]),\n",
              " 'rank_': 1,\n",
              " 'singular_': array([97252.31505148]),\n",
              " 'intercept_': 0.7764454837639937}"
            ]
          },
          "metadata": {},
          "execution_count": 17
        }
      ]
    },
    {
      "cell_type": "markdown",
      "source": [
        "Modelo matemático: y= -4.60437173e-06x + 0.7764454837639937"
      ],
      "metadata": {
        "id": "CwZCIace1He0"
      }
    },
    {
      "cell_type": "code",
      "source": [
        "#Corroboramos cual es el coeficiente de Determinación de nuestro modelo\n",
        "coef_Deter2=model2.score(X=Vars_Indep2, y=Var_Dep2)\n",
        "coef_Deter2"
      ],
      "metadata": {
        "colab": {
          "base_uri": "https://localhost:8080/"
        },
        "id": "WG4YLXMt6bQw",
        "outputId": "6c98f2f6-0483-4f47-f27e-fe3fb2c9455d"
      },
      "execution_count": null,
      "outputs": [
        {
          "output_type": "execute_result",
          "data": {
            "text/plain": [
              "0.0006379781398162532"
            ]
          },
          "metadata": {},
          "execution_count": 18
        }
      ]
    },
    {
      "cell_type": "code",
      "source": [
        "#Corroboramos cual es el coeficiente de Correlación de nuestro modelo\n",
        "coef_Correl2=np.sqrt(coef_Deter2)\n",
        "coef_Correl2"
      ],
      "metadata": {
        "colab": {
          "base_uri": "https://localhost:8080/"
        },
        "id": "XoYj9Wq26iSy",
        "outputId": "a033d2d4-9460-42b8-dd4b-9bfa062be7a0"
      },
      "execution_count": null,
      "outputs": [
        {
          "output_type": "execute_result",
          "data": {
            "text/plain": [
              "0.0252582291504423"
            ]
          },
          "metadata": {},
          "execution_count": 19
        }
      ]
    },
    {
      "cell_type": "markdown",
      "source": [
        "## X = number_of_reviews\n",
        "## y= host_acceptance_rate"
      ],
      "metadata": {
        "id": "PzisYSAv7Fj9"
      }
    },
    {
      "cell_type": "code",
      "source": [
        "#Imprimimos el scatter plot entre la variable dependiente e independiente \n",
        "#para observar el comportamiento en su dispersión \n",
        "from turtle import color\n",
        "\n",
        "\n",
        "sns.scatterplot(x='number_of_reviews', y='host_acceptance_rate', color=\"blue\", data=filtro1_eua)"
      ],
      "metadata": {
        "colab": {
          "base_uri": "https://localhost:8080/",
          "height": 468
        },
        "id": "uzF8Zr4C7LjQ",
        "outputId": "7988213b-dbd1-42bf-eaa6-4d5ebf828a9e"
      },
      "execution_count": null,
      "outputs": [
        {
          "output_type": "execute_result",
          "data": {
            "text/plain": [
              "<Axes: xlabel='number_of_reviews', ylabel='host_acceptance_rate'>"
            ]
          },
          "metadata": {},
          "execution_count": 20
        },
        {
          "output_type": "display_data",
          "data": {
            "text/plain": [
              "<Figure size 640x480 with 1 Axes>"
            ],
            "image/png": "[encoded data removed]"
          },
          "metadata": {}
        }
      ]
    },
    {
      "cell_type": "code",
      "source": [
        "#Declaramos las variables dependientes e independientes para la regresión lineal\n",
        "Vars_Indep3= filtro1_eua[['number_of_reviews']]\n",
        "Var_Dep3= filtro1_eua['host_acceptance_rate']"
      ],
      "metadata": {
        "id": "Ba1cPtpm7Qzu"
      },
      "execution_count": null,
      "outputs": []
    },
    {
      "cell_type": "code",
      "source": [
        "#Se define model como la función de regresión lineal\n",
        "from sklearn.linear_model import LinearRegression\n",
        "model3= LinearRegression()"
      ],
      "metadata": {
        "id": "3VRacDVJ7dZq"
      },
      "execution_count": null,
      "outputs": []
    },
    {
      "cell_type": "code",
      "source": [
        "#Verificamos la función relacionada al modelo\n",
        "type(model3)"
      ],
      "metadata": {
        "colab": {
          "base_uri": "https://localhost:8080/"
        },
        "id": "ZvyLq1fM7jCT",
        "outputId": "55b381ba-79b9-4f8a-f88f-a39ed1738278"
      },
      "execution_count": null,
      "outputs": [
        {
          "output_type": "execute_result",
          "data": {
            "text/plain": [
              "sklearn.linear_model._base.LinearRegression"
            ]
          },
          "metadata": {},
          "execution_count": 23
        }
      ]
    },
    {
      "cell_type": "code",
      "source": [
        "#Ajustamos el modelo con las variables antes declaradas\n",
        "model3.fit(X=Vars_Indep3, y=Var_Dep3)"
      ],
      "metadata": {
        "colab": {
          "base_uri": "https://localhost:8080/",
          "height": 75
        },
        "id": "9rvVTZr_7msc",
        "outputId": "5fbc7ca5-6af0-42a5-c458-6e75bc90b010"
      },
      "execution_count": null,
      "outputs": [
        {
          "output_type": "execute_result",
          "data": {
            "text/plain": [
              "LinearRegression()"
            ],
            "text/html": [
              "<style>#sk-container-id-3 {color: black;background-color: white;}#sk-container-id-3 pre{padding: 0;}#sk-container-id-3 div.sk-toggleable {background-color: white;}#sk-container-id-3 label.sk-toggleable__label {cursor: pointer;display: block;width: 100%;margin-bottom: 0;padding: 0.3em;box-sizing: border-box;text-align: center;}#sk-container-id-3 label.sk-toggleable__label-arrow:before {content: \"▸\";float: left;margin-right: 0.25em;color: #696969;}#sk-container-id-3 label.sk-toggleable__label-arrow:hover:before {color: black;}#sk-container-id-3 div.sk-estimator:hover label.sk-toggleable__label-arrow:before {color: black;}#sk-container-id-3 div.sk-toggleable__content {max-height: 0;max-width: 0;overflow: hidden;text-align: left;background-color: #f0f8ff;}#sk-container-id-3 div.sk-toggleable__content pre {margin: 0.2em;color: black;border-radius: 0.25em;background-color: #f0f8ff;}#sk-container-id-3 input.sk-toggleable__control:checked~div.sk-toggleable__content {max-height: 200px;max-width: 100%;overflow: auto;}#sk-container-id-3 input.sk-toggleable__control:checked~label.sk-toggleable__label-arrow:before {content: \"▾\";}#sk-container-id-3 div.sk-estimator input.sk-toggleable__control:checked~label.sk-toggleable__label {background-color: #d4ebff;}#sk-container-id-3 div.sk-label input.sk-toggleable__control:checked~label.sk-toggleable__label {background-color: #d4ebff;}#sk-container-id-3 input.sk-hidden--visually {border: 0;clip: rect(1px 1px 1px 1px);clip: rect(1px, 1px, 1px, 1px);height: 1px;margin: -1px;overflow: hidden;padding: 0;position: absolute;width: 1px;}#sk-container-id-3 div.sk-estimator {font-family: monospace;background-color: #f0f8ff;border: 1px dotted black;border-radius: 0.25em;box-sizing: border-box;margin-bottom: 0.5em;}#sk-container-id-3 div.sk-estimator:hover {background-color: #d4ebff;}#sk-container-id-3 div.sk-parallel-item::after {content: \"\";width: 100%;border-bottom: 1px solid gray;flex-grow: 1;}#sk-container-id-3 div.sk-label:hover label.sk-toggleable__label {background-color: #d4ebff;}#sk-container-id-3 div.sk-serial::before {content: \"\";position: absolute;border-left: 1px solid gray;box-sizing: border-box;top: 0;bottom: 0;left: 50%;z-index: 0;}#sk-container-id-3 div.sk-serial {display: flex;flex-direction: column;align-items: center;background-color: white;padding-right: 0.2em;padding-left: 0.2em;position: relative;}#sk-container-id-3 div.sk-item {position: relative;z-index: 1;}#sk-container-id-3 div.sk-parallel {display: flex;align-items: stretch;justify-content: center;background-color: white;position: relative;}#sk-container-id-3 div.sk-item::before, #sk-container-id-3 div.sk-parallel-item::before {content: \"\";position: absolute;border-left: 1px solid gray;box-sizing: border-box;top: 0;bottom: 0;left: 50%;z-index: -1;}#sk-container-id-3 div.sk-parallel-item {display: flex;flex-direction: column;z-index: 1;position: relative;background-color: white;}#sk-container-id-3 div.sk-parallel-item:first-child::after {align-self: flex-end;width: 50%;}#sk-container-id-3 div.sk-parallel-item:last-child::after {align-self: flex-start;width: 50%;}#sk-container-id-3 div.sk-parallel-item:only-child::after {width: 0;}#sk-container-id-3 div.sk-dashed-wrapped {border: 1px dashed gray;margin: 0 0.4em 0.5em 0.4em;box-sizing: border-box;padding-bottom: 0.4em;background-color: white;}#sk-container-id-3 div.sk-label label {font-family: monospace;font-weight: bold;display: inline-block;line-height: 1.2em;}#sk-container-id-3 div.sk-label-container {text-align: center;}#sk-container-id-3 div.sk-container {/* jupyter's `normalize.less` sets `[hidden] { display: none; }` but bootstrap.min.css set `[hidden] { display: none !important; }` so we also need the `!important` here to be able to override the default hidden behavior on the sphinx rendered scikit-learn.org. See: https://github.com/scikit-learn/scikit-learn/issues/21755 */display: inline-block !important;position: relative;}#sk-container-id-3 div.sk-text-repr-fallback {display: none;}</style><div id=\"sk-container-id-3\" class=\"sk-top-container\"><div class=\"sk-text-repr-fallback\"><pre>LinearRegression()</pre><b>In a Jupyter environment, please rerun this cell to show the HTML representation or trust the notebook. <br />On GitHub, the HTML representation is unable to render, please try loading this page with nbviewer.org.</b></div><div class=\"sk-container\" hidden><div class=\"sk-item\"><div class=\"sk-estimator sk-toggleable\"><input class=\"sk-toggleable__control sk-hidden--visually\" id=\"sk-estimator-id-3\" type=\"checkbox\" checked><label for=\"sk-estimator-id-3\" class=\"sk-toggleable__label sk-toggleable__label-arrow\">LinearRegression</label><div class=\"sk-toggleable__content\"><pre>LinearRegression()</pre></div></div></div></div></div>"
            ]
          },
          "metadata": {},
          "execution_count": 24
        }
      ]
    },
    {
      "cell_type": "code",
      "source": [
        "#Verificamos los coeficientes obtenidos para el modelo ajustado\n",
        "model3.__dict__"
      ],
      "metadata": {
        "colab": {
          "base_uri": "https://localhost:8080/"
        },
        "id": "7lYpu2Ga7s29",
        "outputId": "f55a2912-8d5b-4d11-a606-6820a99524c7"
      },
      "execution_count": null,
      "outputs": [
        {
          "output_type": "execute_result",
          "data": {
            "text/plain": [
              "{'fit_intercept': True,\n",
              " 'copy_X': True,\n",
              " 'n_jobs': None,\n",
              " 'positive': False,\n",
              " 'feature_names_in_': array(['number_of_reviews'], dtype=object),\n",
              " 'n_features_in_': 1,\n",
              " 'coef_': array([0.00077924]),\n",
              " 'rank_': 1,\n",
              " 'singular_': array([4963.93141039]),\n",
              " 'intercept_': 0.7305066557520314}"
            ]
          },
          "metadata": {},
          "execution_count": 25
        }
      ]
    },
    {
      "cell_type": "markdown",
      "source": [
        "Modelo matemático: y=0.00077924x + 0.7305066557520314"
      ],
      "metadata": {
        "id": "EpV-nWPiKK_s"
      }
    },
    {
      "cell_type": "code",
      "source": [
        "#Corroboramos cual es el coeficiente de Determinación de nuestro modelo\n",
        "coef_Deter3=model3.score(X=Vars_Indep3, y=Var_Dep3)\n",
        "coef_Deter3"
      ],
      "metadata": {
        "colab": {
          "base_uri": "https://localhost:8080/"
        },
        "id": "i9itZePD7xv_",
        "outputId": "173f3b23-1b6c-4185-aba6-c0f5c352ce58"
      },
      "execution_count": null,
      "outputs": [
        {
          "output_type": "execute_result",
          "data": {
            "text/plain": [
              "0.047605395563667496"
            ]
          },
          "metadata": {},
          "execution_count": 26
        }
      ]
    },
    {
      "cell_type": "code",
      "source": [
        "#Corroboramos cual es el coeficiente de Correlación de nuestro modelo\n",
        "coef_Correl3=np.sqrt(coef_Deter3)\n",
        "coef_Correl3"
      ],
      "metadata": {
        "colab": {
          "base_uri": "https://localhost:8080/"
        },
        "id": "K1b8zuKm7_Gn",
        "outputId": "14e1eee4-e339-4073-a426-51965ae997c5"
      },
      "execution_count": null,
      "outputs": [
        {
          "output_type": "execute_result",
          "data": {
            "text/plain": [
              "0.2181866072050883"
            ]
          },
          "metadata": {},
          "execution_count": 27
        }
      ]
    },
    {
      "cell_type": "markdown",
      "source": [
        "## X = review_scores_cleanliness\n",
        "\n",
        "## y= review_scores_location"
      ],
      "metadata": {
        "id": "ZaYZACt6KVjd"
      }
    },
    {
      "cell_type": "code",
      "source": [
        "#Imprimimos el scatter plot entre la variable dependiente e independiente\n",
        "#para observar el comportamiento en su dispersión \n",
        "from turtle import color\n",
        "\n",
        "\n",
        "sns.scatterplot(x='review_scores_cleanliness', y='review_scores_location', color=\"blue\", data=filtro1_eua)"
      ],
      "metadata": {
        "colab": {
          "base_uri": "https://localhost:8080/",
          "height": 468
        },
        "id": "XmaqQ-F8Kf9H",
        "outputId": "7c58fc62-1cde-4b7b-f989-81081115ee64"
      },
      "execution_count": null,
      "outputs": [
        {
          "output_type": "execute_result",
          "data": {
            "text/plain": [
              "<Axes: xlabel='review_scores_cleanliness', ylabel='review_scores_location'>"
            ]
          },
          "metadata": {},
          "execution_count": 28
        },
        {
          "output_type": "display_data",
          "data": {
            "text/plain": [
              "<Figure size 640x480 with 1 Axes>"
            ],
            "image/png": "[encoded data removed]"
          },
          "metadata": {}
        }
      ]
    },
    {
      "cell_type": "code",
      "source": [
        "#Declaramos las variables dependientes e independientes para la regresión lineal\n",
        "Vars_Indep4= filtro1_eua[['review_scores_cleanliness']]\n",
        "Var_Dep4= filtro1_eua['review_scores_location']"
      ],
      "metadata": {
        "id": "TJB9tFDFKpvK"
      },
      "execution_count": null,
      "outputs": []
    },
    {
      "cell_type": "code",
      "source": [
        "#Se define model como la función de regresión lineal\n",
        "from sklearn.linear_model import LinearRegression\n",
        "model4= LinearRegression()"
      ],
      "metadata": {
        "id": "ylYKNjppK8EE"
      },
      "execution_count": null,
      "outputs": []
    },
    {
      "cell_type": "code",
      "source": [
        "#Verificamos la función relacionada al modelo\n",
        "type(model4)"
      ],
      "metadata": {
        "colab": {
          "base_uri": "https://localhost:8080/"
        },
        "id": "78FPCIPJK9l-",
        "outputId": "e897ce62-0c60-4571-891d-245c67409976"
      },
      "execution_count": null,
      "outputs": [
        {
          "output_type": "execute_result",
          "data": {
            "text/plain": [
              "sklearn.linear_model._base.LinearRegression"
            ]
          },
          "metadata": {},
          "execution_count": 31
        }
      ]
    },
    {
      "cell_type": "code",
      "source": [
        "#Ajustamos el modelo con las variables antes declaradas\n",
        "model4.fit(X=Vars_Indep4, y=Var_Dep4)"
      ],
      "metadata": {
        "colab": {
          "base_uri": "https://localhost:8080/",
          "height": 75
        },
        "id": "QNb67HaeLO7o",
        "outputId": "d510a9c0-7112-43dc-e987-4b7c893442d5"
      },
      "execution_count": null,
      "outputs": [
        {
          "output_type": "execute_result",
          "data": {
            "text/plain": [
              "LinearRegression()"
            ],
            "text/html": [
              "<style>#sk-container-id-4 {color: black;background-color: white;}#sk-container-id-4 pre{padding: 0;}#sk-container-id-4 div.sk-toggleable {background-color: white;}#sk-container-id-4 label.sk-toggleable__label {cursor: pointer;display: block;width: 100%;margin-bottom: 0;padding: 0.3em;box-sizing: border-box;text-align: center;}#sk-container-id-4 label.sk-toggleable__label-arrow:before {content: \"▸\";float: left;margin-right: 0.25em;color: #696969;}#sk-container-id-4 label.sk-toggleable__label-arrow:hover:before {color: black;}#sk-container-id-4 div.sk-estimator:hover label.sk-toggleable__label-arrow:before {color: black;}#sk-container-id-4 div.sk-toggleable__content {max-height: 0;max-width: 0;overflow: hidden;text-align: left;background-color: #f0f8ff;}#sk-container-id-4 div.sk-toggleable__content pre {margin: 0.2em;color: black;border-radius: 0.25em;background-color: #f0f8ff;}#sk-container-id-4 input.sk-toggleable__control:checked~div.sk-toggleable__content {max-height: 200px;max-width: 100%;overflow: auto;}#sk-container-id-4 input.sk-toggleable__control:checked~label.sk-toggleable__label-arrow:before {content: \"▾\";}#sk-container-id-4 div.sk-estimator input.sk-toggleable__control:checked~label.sk-toggleable__label {background-color: #d4ebff;}#sk-container-id-4 div.sk-label input.sk-toggleable__control:checked~label.sk-toggleable__label {background-color: #d4ebff;}#sk-container-id-4 input.sk-hidden--visually {border: 0;clip: rect(1px 1px 1px 1px);clip: rect(1px, 1px, 1px, 1px);height: 1px;margin: -1px;overflow: hidden;padding: 0;position: absolute;width: 1px;}#sk-container-id-4 div.sk-estimator {font-family: monospace;background-color: #f0f8ff;border: 1px dotted black;border-radius: 0.25em;box-sizing: border-box;margin-bottom: 0.5em;}#sk-container-id-4 div.sk-estimator:hover {background-color: #d4ebff;}#sk-container-id-4 div.sk-parallel-item::after {content: \"\";width: 100%;border-bottom: 1px solid gray;flex-grow: 1;}#sk-container-id-4 div.sk-label:hover label.sk-toggleable__label {background-color: #d4ebff;}#sk-container-id-4 div.sk-serial::before {content: \"\";position: absolute;border-left: 1px solid gray;box-sizing: border-box;top: 0;bottom: 0;left: 50%;z-index: 0;}#sk-container-id-4 div.sk-serial {display: flex;flex-direction: column;align-items: center;background-color: white;padding-right: 0.2em;padding-left: 0.2em;position: relative;}#sk-container-id-4 div.sk-item {position: relative;z-index: 1;}#sk-container-id-4 div.sk-parallel {display: flex;align-items: stretch;justify-content: center;background-color: white;position: relative;}#sk-container-id-4 div.sk-item::before, #sk-container-id-4 div.sk-parallel-item::before {content: \"\";position: absolute;border-left: 1px solid gray;box-sizing: border-box;top: 0;bottom: 0;left: 50%;z-index: -1;}#sk-container-id-4 div.sk-parallel-item {display: flex;flex-direction: column;z-index: 1;position: relative;background-color: white;}#sk-container-id-4 div.sk-parallel-item:first-child::after {align-self: flex-end;width: 50%;}#sk-container-id-4 div.sk-parallel-item:last-child::after {align-self: flex-start;width: 50%;}#sk-container-id-4 div.sk-parallel-item:only-child::after {width: 0;}#sk-container-id-4 div.sk-dashed-wrapped {border: 1px dashed gray;margin: 0 0.4em 0.5em 0.4em;box-sizing: border-box;padding-bottom: 0.4em;background-color: white;}#sk-container-id-4 div.sk-label label {font-family: monospace;font-weight: bold;display: inline-block;line-height: 1.2em;}#sk-container-id-4 div.sk-label-container {text-align: center;}#sk-container-id-4 div.sk-container {/* jupyter's `normalize.less` sets `[hidden] { display: none; }` but bootstrap.min.css set `[hidden] { display: none !important; }` so we also need the `!important` here to be able to override the default hidden behavior on the sphinx rendered scikit-learn.org. See: https://github.com/scikit-learn/scikit-learn/issues/21755 */display: inline-block !important;position: relative;}#sk-container-id-4 div.sk-text-repr-fallback {display: none;}</style><div id=\"sk-container-id-4\" class=\"sk-top-container\"><div class=\"sk-text-repr-fallback\"><pre>LinearRegression()</pre><b>In a Jupyter environment, please rerun this cell to show the HTML representation or trust the notebook. <br />On GitHub, the HTML representation is unable to render, please try loading this page with nbviewer.org.</b></div><div class=\"sk-container\" hidden><div class=\"sk-item\"><div class=\"sk-estimator sk-toggleable\"><input class=\"sk-toggleable__control sk-hidden--visually\" id=\"sk-estimator-id-4\" type=\"checkbox\" checked><label for=\"sk-estimator-id-4\" class=\"sk-toggleable__label sk-toggleable__label-arrow\">LinearRegression</label><div class=\"sk-toggleable__content\"><pre>LinearRegression()</pre></div></div></div></div></div>"
            ]
          },
          "metadata": {},
          "execution_count": 32
        }
      ]
    },
    {
      "cell_type": "code",
      "source": [
        "#Verificamos los coeficientes obtenidos para el modelo ajustado\n",
        "model4.__dict__"
      ],
      "metadata": {
        "colab": {
          "base_uri": "https://localhost:8080/"
        },
        "id": "s1b7jtMzLASq",
        "outputId": "acd9e22d-046f-4279-ddba-48f75e192dd0"
      },
      "execution_count": null,
      "outputs": [
        {
          "output_type": "execute_result",
          "data": {
            "text/plain": [
              "{'fit_intercept': True,\n",
              " 'copy_X': True,\n",
              " 'n_jobs': None,\n",
              " 'positive': False,\n",
              " 'feature_names_in_': array(['review_scores_cleanliness'], dtype=object),\n",
              " 'n_features_in_': 1,\n",
              " 'coef_': array([0.97866682]),\n",
              " 'rank_': 1,\n",
              " 'singular_': array([91.74918226]),\n",
              " 'intercept_': 0.11935559644513294}"
            ]
          },
          "metadata": {},
          "execution_count": 33
        }
      ]
    },
    {
      "cell_type": "markdown",
      "source": [
        "Modelo matemático: y=0.97866682x + 0.11935559644513294"
      ],
      "metadata": {
        "id": "9UezLWw_LgbO"
      }
    },
    {
      "cell_type": "code",
      "source": [
        "#Corroboramos cual es el coeficiente de Determinación de nuestro modelo\n",
        "coef_Deter4=model4.score(X=Vars_Indep4, y=Var_Dep4)\n",
        "coef_Deter4"
      ],
      "metadata": {
        "colab": {
          "base_uri": "https://localhost:8080/"
        },
        "id": "foNS27UCLonY",
        "outputId": "ec95576e-54f4-46a0-885b-12f5d30a47d0"
      },
      "execution_count": null,
      "outputs": [
        {
          "output_type": "execute_result",
          "data": {
            "text/plain": [
              "0.9506151120507869"
            ]
          },
          "metadata": {},
          "execution_count": 34
        }
      ]
    },
    {
      "cell_type": "code",
      "source": [
        "#Corroboramos cual es el coeficiente de Correlación de nuestro modelo\n",
        "coef_Correl4=np.sqrt(coef_Deter4)\n",
        "coef_Correl4"
      ],
      "metadata": {
        "colab": {
          "base_uri": "https://localhost:8080/"
        },
        "id": "lt6SrbLiLrrv",
        "outputId": "946c3a40-4287-44e5-9993-ad2d6c25000d"
      },
      "execution_count": null,
      "outputs": [
        {
          "output_type": "execute_result",
          "data": {
            "text/plain": [
              "0.9749949292436279"
            ]
          },
          "metadata": {},
          "execution_count": 35
        }
      ]
    },
    {
      "cell_type": "markdown",
      "source": [
        "## X = number_of_reviews\n",
        "\n",
        "## y= availability_365"
      ],
      "metadata": {
        "id": "vaWRbXVWL4TD"
      }
    },
    {
      "cell_type": "code",
      "source": [
        "#Imprimimos el scatter plot entre la variable dependiente e independiente\n",
        "#para observar el comportamiento en su dispersión \n",
        "from turtle import color\n",
        "\n",
        "\n",
        "sns.scatterplot(x='number_of_reviews', y='availability_365', color=\"blue\", data=filtro1_eua)"
      ],
      "metadata": {
        "colab": {
          "base_uri": "https://localhost:8080/",
          "height": 468
        },
        "id": "KUeAwMC_MHWo",
        "outputId": "8904b9a7-0319-44d5-cc8b-1792f2b3cc01"
      },
      "execution_count": null,
      "outputs": [
        {
          "output_type": "execute_result",
          "data": {
            "text/plain": [
              "<Axes: xlabel='number_of_reviews', ylabel='availability_365'>"
            ]
          },
          "metadata": {},
          "execution_count": 36
        },
        {
          "output_type": "display_data",
          "data": {
            "text/plain": [
              "<Figure size 640x480 with 1 Axes>"
            ],
            "image/png": "[encoded data removed]"
          },
          "metadata": {}
        }
      ]
    },
    {
      "cell_type": "code",
      "source": [
        "#Declaramos las variables dependientes e independientes para la regresión lineal\n",
        "Vars_Indep5= filtro1_eua[['number_of_reviews']]\n",
        "Var_Dep5= filtro1_eua['availability_365']"
      ],
      "metadata": {
        "id": "rQ5k3hK4MnhN"
      },
      "execution_count": null,
      "outputs": []
    },
    {
      "cell_type": "code",
      "source": [
        "#Se define model como la función de regresión lineal\n",
        "from sklearn.linear_model import LinearRegression\n",
        "model5= LinearRegression()"
      ],
      "metadata": {
        "id": "hyLZVYVCM9Tw"
      },
      "execution_count": null,
      "outputs": []
    },
    {
      "cell_type": "code",
      "source": [
        "#Verificamos la función relacionada al modelo\n",
        "type(model5)"
      ],
      "metadata": {
        "colab": {
          "base_uri": "https://localhost:8080/"
        },
        "id": "nQkJ2lBnNAUd",
        "outputId": "f27d6783-709d-46b1-de37-bc64fb37944e"
      },
      "execution_count": null,
      "outputs": [
        {
          "output_type": "execute_result",
          "data": {
            "text/plain": [
              "sklearn.linear_model._base.LinearRegression"
            ]
          },
          "metadata": {},
          "execution_count": 39
        }
      ]
    },
    {
      "cell_type": "code",
      "source": [
        "#Ajustamos el modelo con las variables antes declaradas\n",
        "model5.fit(X=Vars_Indep5, y=Var_Dep5)"
      ],
      "metadata": {
        "colab": {
          "base_uri": "https://localhost:8080/",
          "height": 75
        },
        "id": "7OibeTj8NC5T",
        "outputId": "9b20500f-d5b8-4374-c010-d35db4f34b35"
      },
      "execution_count": null,
      "outputs": [
        {
          "output_type": "execute_result",
          "data": {
            "text/plain": [
              "LinearRegression()"
            ],
            "text/html": [
              "<style>#sk-container-id-5 {color: black;background-color: white;}#sk-container-id-5 pre{padding: 0;}#sk-container-id-5 div.sk-toggleable {background-color: white;}#sk-container-id-5 label.sk-toggleable__label {cursor: pointer;display: block;width: 100%;margin-bottom: 0;padding: 0.3em;box-sizing: border-box;text-align: center;}#sk-container-id-5 label.sk-toggleable__label-arrow:before {content: \"▸\";float: left;margin-right: 0.25em;color: #696969;}#sk-container-id-5 label.sk-toggleable__label-arrow:hover:before {color: black;}#sk-container-id-5 div.sk-estimator:hover label.sk-toggleable__label-arrow:before {color: black;}#sk-container-id-5 div.sk-toggleable__content {max-height: 0;max-width: 0;overflow: hidden;text-align: left;background-color: #f0f8ff;}#sk-container-id-5 div.sk-toggleable__content pre {margin: 0.2em;color: black;border-radius: 0.25em;background-color: #f0f8ff;}#sk-container-id-5 input.sk-toggleable__control:checked~div.sk-toggleable__content {max-height: 200px;max-width: 100%;overflow: auto;}#sk-container-id-5 input.sk-toggleable__control:checked~label.sk-toggleable__label-arrow:before {content: \"▾\";}#sk-container-id-5 div.sk-estimator input.sk-toggleable__control:checked~label.sk-toggleable__label {background-color: #d4ebff;}#sk-container-id-5 div.sk-label input.sk-toggleable__control:checked~label.sk-toggleable__label {background-color: #d4ebff;}#sk-container-id-5 input.sk-hidden--visually {border: 0;clip: rect(1px 1px 1px 1px);clip: rect(1px, 1px, 1px, 1px);height: 1px;margin: -1px;overflow: hidden;padding: 0;position: absolute;width: 1px;}#sk-container-id-5 div.sk-estimator {font-family: monospace;background-color: #f0f8ff;border: 1px dotted black;border-radius: 0.25em;box-sizing: border-box;margin-bottom: 0.5em;}#sk-container-id-5 div.sk-estimator:hover {background-color: #d4ebff;}#sk-container-id-5 div.sk-parallel-item::after {content: \"\";width: 100%;border-bottom: 1px solid gray;flex-grow: 1;}#sk-container-id-5 div.sk-label:hover label.sk-toggleable__label {background-color: #d4ebff;}#sk-container-id-5 div.sk-serial::before {content: \"\";position: absolute;border-left: 1px solid gray;box-sizing: border-box;top: 0;bottom: 0;left: 50%;z-index: 0;}#sk-container-id-5 div.sk-serial {display: flex;flex-direction: column;align-items: center;background-color: white;padding-right: 0.2em;padding-left: 0.2em;position: relative;}#sk-container-id-5 div.sk-item {position: relative;z-index: 1;}#sk-container-id-5 div.sk-parallel {display: flex;align-items: stretch;justify-content: center;background-color: white;position: relative;}#sk-container-id-5 div.sk-item::before, #sk-container-id-5 div.sk-parallel-item::before {content: \"\";position: absolute;border-left: 1px solid gray;box-sizing: border-box;top: 0;bottom: 0;left: 50%;z-index: -1;}#sk-container-id-5 div.sk-parallel-item {display: flex;flex-direction: column;z-index: 1;position: relative;background-color: white;}#sk-container-id-5 div.sk-parallel-item:first-child::after {align-self: flex-end;width: 50%;}#sk-container-id-5 div.sk-parallel-item:last-child::after {align-self: flex-start;width: 50%;}#sk-container-id-5 div.sk-parallel-item:only-child::after {width: 0;}#sk-container-id-5 div.sk-dashed-wrapped {border: 1px dashed gray;margin: 0 0.4em 0.5em 0.4em;box-sizing: border-box;padding-bottom: 0.4em;background-color: white;}#sk-container-id-5 div.sk-label label {font-family: monospace;font-weight: bold;display: inline-block;line-height: 1.2em;}#sk-container-id-5 div.sk-label-container {text-align: center;}#sk-container-id-5 div.sk-container {/* jupyter's `normalize.less` sets `[hidden] { display: none; }` but bootstrap.min.css set `[hidden] { display: none !important; }` so we also need the `!important` here to be able to override the default hidden behavior on the sphinx rendered scikit-learn.org. See: https://github.com/scikit-learn/scikit-learn/issues/21755 */display: inline-block !important;position: relative;}#sk-container-id-5 div.sk-text-repr-fallback {display: none;}</style><div id=\"sk-container-id-5\" class=\"sk-top-container\"><div class=\"sk-text-repr-fallback\"><pre>LinearRegression()</pre><b>In a Jupyter environment, please rerun this cell to show the HTML representation or trust the notebook. <br />On GitHub, the HTML representation is unable to render, please try loading this page with nbviewer.org.</b></div><div class=\"sk-container\" hidden><div class=\"sk-item\"><div class=\"sk-estimator sk-toggleable\"><input class=\"sk-toggleable__control sk-hidden--visually\" id=\"sk-estimator-id-5\" type=\"checkbox\" checked><label for=\"sk-estimator-id-5\" class=\"sk-toggleable__label sk-toggleable__label-arrow\">LinearRegression</label><div class=\"sk-toggleable__content\"><pre>LinearRegression()</pre></div></div></div></div></div>"
            ]
          },
          "metadata": {},
          "execution_count": 40
        }
      ]
    },
    {
      "cell_type": "code",
      "source": [
        "#Verificamos los coeficientes obtenidos para el modelo ajustado\n",
        "model5.__dict__"
      ],
      "metadata": {
        "colab": {
          "base_uri": "https://localhost:8080/"
        },
        "id": "mC5EgRdgNKDH",
        "outputId": "abf0ef1b-3e6f-4ba3-b094-fb06daee2e54"
      },
      "execution_count": null,
      "outputs": [
        {
          "output_type": "execute_result",
          "data": {
            "text/plain": [
              "{'fit_intercept': True,\n",
              " 'copy_X': True,\n",
              " 'n_jobs': None,\n",
              " 'positive': False,\n",
              " 'feature_names_in_': array(['number_of_reviews'], dtype=object),\n",
              " 'n_features_in_': 1,\n",
              " 'coef_': array([-0.00252966]),\n",
              " 'rank_': 1,\n",
              " 'singular_': array([4963.93141039]),\n",
              " 'intercept_': 177.4508942427995}"
            ]
          },
          "metadata": {},
          "execution_count": 41
        }
      ]
    },
    {
      "cell_type": "markdown",
      "source": [
        "Modelo matemático: y= -0.00252966x + 177.4508942427995"
      ],
      "metadata": {
        "id": "RuP1fgd_NUXl"
      }
    },
    {
      "cell_type": "code",
      "source": [
        "#Corroboramos cual es el coeficiente de Determinación de nuestro modelo\n",
        "coef_Deter5=model5.score(X=Vars_Indep5, y=Var_Dep5)\n",
        "coef_Deter5"
      ],
      "metadata": {
        "colab": {
          "base_uri": "https://localhost:8080/"
        },
        "id": "yYzFqGXTNc1w",
        "outputId": "ddab6964-b534-4761-9e25-898825cfd239"
      },
      "execution_count": null,
      "outputs": [
        {
          "output_type": "execute_result",
          "data": {
            "text/plain": [
              "3.6539619377995436e-06"
            ]
          },
          "metadata": {},
          "execution_count": 42
        }
      ]
    },
    {
      "cell_type": "code",
      "source": [
        "#Corroboramos cual es el coeficiente de Correlación de nuestro modelo\n",
        "coef_Correl5=np.sqrt(coef_Deter5)\n",
        "coef_Correl5"
      ],
      "metadata": {
        "colab": {
          "base_uri": "https://localhost:8080/"
        },
        "id": "OdJvwMHDNhvC",
        "outputId": "4f6e94bd-661d-45a9-b706-863a589bc4f5"
      },
      "execution_count": null,
      "outputs": [
        {
          "output_type": "execute_result",
          "data": {
            "text/plain": [
              "0.0019115339227436022"
            ]
          },
          "metadata": {},
          "execution_count": 43
        }
      ]
    },
    {
      "cell_type": "markdown",
      "source": [
        "## X = review_scores_communication\n",
        "\n",
        "## y= reviews_per_month"
      ],
      "metadata": {
        "id": "1yTZw-q5NwjN"
      }
    },
    {
      "cell_type": "code",
      "source": [
        "#Imprimimos el scatter plot entre la variable dependiente e independiente \n",
        "#para observar el comportamiento en su dispersión \n",
        "from turtle import color\n",
        "\n",
        "\n",
        "sns.scatterplot(x='review_scores_communication', y='reviews_per_month', color=\"blue\", data=filtro1_eua)"
      ],
      "metadata": {
        "colab": {
          "base_uri": "https://localhost:8080/",
          "height": 468
        },
        "id": "_ZBDqo-vN-EW",
        "outputId": "837907c2-c0dd-4eab-9e3f-ce4b61541a22"
      },
      "execution_count": null,
      "outputs": [
        {
          "output_type": "execute_result",
          "data": {
            "text/plain": [
              "<Axes: xlabel='review_scores_communication', ylabel='reviews_per_month'>"
            ]
          },
          "metadata": {},
          "execution_count": 44
        },
        {
          "output_type": "display_data",
          "data": {
            "text/plain": [
              "<Figure size 640x480 with 1 Axes>"
            ],
            "image/png": "[encoded data removed]"
          },
          "metadata": {}
        }
      ]
    },
    {
      "cell_type": "code",
      "source": [
        "#Declaramos las variables dependientes e independientes para la regresión lineal\n",
        "Vars_Indep6= filtro1_eua[['reviews_per_month']]\n",
        "Var_Dep6= filtro1_eua['review_scores_communication']"
      ],
      "metadata": {
        "id": "se3WolBmOTTu"
      },
      "execution_count": null,
      "outputs": []
    },
    {
      "cell_type": "code",
      "source": [
        "#Se define model como la función de regresión lineal\n",
        "from sklearn.linear_model import LinearRegression\n",
        "model6= LinearRegression()"
      ],
      "metadata": {
        "id": "lFICaPfiOrqF"
      },
      "execution_count": null,
      "outputs": []
    },
    {
      "cell_type": "code",
      "source": [
        "#Verificamos la función relacionada al modelo\n",
        "type(model6)"
      ],
      "metadata": {
        "colab": {
          "base_uri": "https://localhost:8080/"
        },
        "id": "Sa0VH5grOvWA",
        "outputId": "c421fb00-bfc9-4c74-cb5c-296c175a4c06"
      },
      "execution_count": null,
      "outputs": [
        {
          "output_type": "execute_result",
          "data": {
            "text/plain": [
              "sklearn.linear_model._base.LinearRegression"
            ]
          },
          "metadata": {},
          "execution_count": 47
        }
      ]
    },
    {
      "cell_type": "code",
      "source": [
        "#Ajustamos el modelo con las variables antes declaradas\n",
        "model6.fit(X=Vars_Indep6, y=Var_Dep6)"
      ],
      "metadata": {
        "colab": {
          "base_uri": "https://localhost:8080/",
          "height": 75
        },
        "id": "FejfTrkmOyhJ",
        "outputId": "deb33a48-b54d-4008-e44d-57bb19be4e66"
      },
      "execution_count": null,
      "outputs": [
        {
          "output_type": "execute_result",
          "data": {
            "text/plain": [
              "LinearRegression()"
            ],
            "text/html": [
              "<style>#sk-container-id-6 {color: black;background-color: white;}#sk-container-id-6 pre{padding: 0;}#sk-container-id-6 div.sk-toggleable {background-color: white;}#sk-container-id-6 label.sk-toggleable__label {cursor: pointer;display: block;width: 100%;margin-bottom: 0;padding: 0.3em;box-sizing: border-box;text-align: center;}#sk-container-id-6 label.sk-toggleable__label-arrow:before {content: \"▸\";float: left;margin-right: 0.25em;color: #696969;}#sk-container-id-6 label.sk-toggleable__label-arrow:hover:before {color: black;}#sk-container-id-6 div.sk-estimator:hover label.sk-toggleable__label-arrow:before {color: black;}#sk-container-id-6 div.sk-toggleable__content {max-height: 0;max-width: 0;overflow: hidden;text-align: left;background-color: #f0f8ff;}#sk-container-id-6 div.sk-toggleable__content pre {margin: 0.2em;color: black;border-radius: 0.25em;background-color: #f0f8ff;}#sk-container-id-6 input.sk-toggleable__control:checked~div.sk-toggleable__content {max-height: 200px;max-width: 100%;overflow: auto;}#sk-container-id-6 input.sk-toggleable__control:checked~label.sk-toggleable__label-arrow:before {content: \"▾\";}#sk-container-id-6 div.sk-estimator input.sk-toggleable__control:checked~label.sk-toggleable__label {background-color: #d4ebff;}#sk-container-id-6 div.sk-label input.sk-toggleable__control:checked~label.sk-toggleable__label {background-color: #d4ebff;}#sk-container-id-6 input.sk-hidden--visually {border: 0;clip: rect(1px 1px 1px 1px);clip: rect(1px, 1px, 1px, 1px);height: 1px;margin: -1px;overflow: hidden;padding: 0;position: absolute;width: 1px;}#sk-container-id-6 div.sk-estimator {font-family: monospace;background-color: #f0f8ff;border: 1px dotted black;border-radius: 0.25em;box-sizing: border-box;margin-bottom: 0.5em;}#sk-container-id-6 div.sk-estimator:hover {background-color: #d4ebff;}#sk-container-id-6 div.sk-parallel-item::after {content: \"\";width: 100%;border-bottom: 1px solid gray;flex-grow: 1;}#sk-container-id-6 div.sk-label:hover label.sk-toggleable__label {background-color: #d4ebff;}#sk-container-id-6 div.sk-serial::before {content: \"\";position: absolute;border-left: 1px solid gray;box-sizing: border-box;top: 0;bottom: 0;left: 50%;z-index: 0;}#sk-container-id-6 div.sk-serial {display: flex;flex-direction: column;align-items: center;background-color: white;padding-right: 0.2em;padding-left: 0.2em;position: relative;}#sk-container-id-6 div.sk-item {position: relative;z-index: 1;}#sk-container-id-6 div.sk-parallel {display: flex;align-items: stretch;justify-content: center;background-color: white;position: relative;}#sk-container-id-6 div.sk-item::before, #sk-container-id-6 div.sk-parallel-item::before {content: \"\";position: absolute;border-left: 1px solid gray;box-sizing: border-box;top: 0;bottom: 0;left: 50%;z-index: -1;}#sk-container-id-6 div.sk-parallel-item {display: flex;flex-direction: column;z-index: 1;position: relative;background-color: white;}#sk-container-id-6 div.sk-parallel-item:first-child::after {align-self: flex-end;width: 50%;}#sk-container-id-6 div.sk-parallel-item:last-child::after {align-self: flex-start;width: 50%;}#sk-container-id-6 div.sk-parallel-item:only-child::after {width: 0;}#sk-container-id-6 div.sk-dashed-wrapped {border: 1px dashed gray;margin: 0 0.4em 0.5em 0.4em;box-sizing: border-box;padding-bottom: 0.4em;background-color: white;}#sk-container-id-6 div.sk-label label {font-family: monospace;font-weight: bold;display: inline-block;line-height: 1.2em;}#sk-container-id-6 div.sk-label-container {text-align: center;}#sk-container-id-6 div.sk-container {/* jupyter's `normalize.less` sets `[hidden] { display: none; }` but bootstrap.min.css set `[hidden] { display: none !important; }` so we also need the `!important` here to be able to override the default hidden behavior on the sphinx rendered scikit-learn.org. See: https://github.com/scikit-learn/scikit-learn/issues/21755 */display: inline-block !important;position: relative;}#sk-container-id-6 div.sk-text-repr-fallback {display: none;}</style><div id=\"sk-container-id-6\" class=\"sk-top-container\"><div class=\"sk-text-repr-fallback\"><pre>LinearRegression()</pre><b>In a Jupyter environment, please rerun this cell to show the HTML representation or trust the notebook. <br />On GitHub, the HTML representation is unable to render, please try loading this page with nbviewer.org.</b></div><div class=\"sk-container\" hidden><div class=\"sk-item\"><div class=\"sk-estimator sk-toggleable\"><input class=\"sk-toggleable__control sk-hidden--visually\" id=\"sk-estimator-id-6\" type=\"checkbox\" checked><label for=\"sk-estimator-id-6\" class=\"sk-toggleable__label sk-toggleable__label-arrow\">LinearRegression</label><div class=\"sk-toggleable__content\"><pre>LinearRegression()</pre></div></div></div></div></div>"
            ]
          },
          "metadata": {},
          "execution_count": 48
        }
      ]
    },
    {
      "cell_type": "code",
      "source": [
        "#Verificamos los coeficientes obtenidos para el modelo ajustado\n",
        "model6.__dict__"
      ],
      "metadata": {
        "colab": {
          "base_uri": "https://localhost:8080/"
        },
        "id": "YlfV8poAO2TV",
        "outputId": "e1986c29-cd96-4c4d-eb01-2447a7efac27"
      },
      "execution_count": null,
      "outputs": [
        {
          "output_type": "execute_result",
          "data": {
            "text/plain": [
              "{'fit_intercept': True,\n",
              " 'copy_X': True,\n",
              " 'n_jobs': None,\n",
              " 'positive': False,\n",
              " 'feature_names_in_': array(['reviews_per_month'], dtype=object),\n",
              " 'n_features_in_': 1,\n",
              " 'coef_': array([0.26716222]),\n",
              " 'rank_': 1,\n",
              " 'singular_': array([101.22246683]),\n",
              " 'intercept_': 3.5886302964317647}"
            ]
          },
          "metadata": {},
          "execution_count": 49
        }
      ]
    },
    {
      "cell_type": "markdown",
      "source": [
        "Modelo matemático: y= 0.26716222x + 3.5886302964317647"
      ],
      "metadata": {
        "id": "Av7ThmHDO6lz"
      }
    },
    {
      "cell_type": "code",
      "source": [
        "#Corroboramos cual es el coeficiente de Determinación de nuestro modelo\n",
        "coef_Deter6=model6.score(X=Vars_Indep6, y=Var_Dep6)\n",
        "coef_Deter6"
      ],
      "metadata": {
        "colab": {
          "base_uri": "https://localhost:8080/"
        },
        "id": "mgBM36txPGwd",
        "outputId": "a0612b69-6723-468f-eee0-4013b52701d5"
      },
      "execution_count": null,
      "outputs": [
        {
          "output_type": "execute_result",
          "data": {
            "text/plain": [
              "0.08436882675870583"
            ]
          },
          "metadata": {},
          "execution_count": 50
        }
      ]
    },
    {
      "cell_type": "code",
      "source": [
        "#Corroboramos cual es el coeficiente de Correlación de nuestro modelo\n",
        "coef_Correl6=np.sqrt(coef_Deter6)\n",
        "coef_Correl6"
      ],
      "metadata": {
        "colab": {
          "base_uri": "https://localhost:8080/"
        },
        "id": "js4evlUNPLJ8",
        "outputId": "3c28c89d-8267-4baa-bd4c-d445040cbe89"
      },
      "execution_count": null,
      "outputs": [
        {
          "output_type": "execute_result",
          "data": {
            "text/plain": [
              "0.29046312461086315"
            ]
          },
          "metadata": {},
          "execution_count": 51
        }
      ]
    },
    {
      "cell_type": "markdown",
      "source": [
        "## Filto2 -Tipo de habitación = Hotel room"
      ],
      "metadata": {
        "id": "c0NKLifchcJz"
      }
    },
    {
      "cell_type": "code",
      "source": [
        "filtro2_eua = eua.loc[eua['room_type'] == \"Hotel room\"]\n",
        "filtro2_eua"
      ],
      "metadata": {
        "colab": {
          "base_uri": "https://localhost:8080/",
          "height": 1000
        },
        "id": "NT9nmW-f_VL4",
        "outputId": "f57d2120-a7e9-4c46-9cfe-f61f624bbe3c"
      },
      "execution_count": null,
      "outputs": [
        {
          "output_type": "execute_result",
          "data": {
            "text/plain": [
              "           ï»¿id                            listing_url     scrape_id  \\\n",
              "711    4631873.0   https://www.airbnb.com/rooms/4631873  2.020000e+13   \n",
              "787    6169292.0   https://www.airbnb.com/rooms/6169292  2.020000e+13   \n",
              "938    6883183.0   https://www.airbnb.com/rooms/6883183  2.020000e+13   \n",
              "1704  16001051.0  https://www.airbnb.com/rooms/16001051  2.020000e+13   \n",
              "2229  23271377.0  https://www.airbnb.com/rooms/23271377  2.020000e+13   \n",
              "2230  23271459.0  https://www.airbnb.com/rooms/23271459  2.020000e+13   \n",
              "2246  23551086.0  https://www.airbnb.com/rooms/23551086  2.020000e+13   \n",
              "2247  23551138.0  https://www.airbnb.com/rooms/23551138  2.020000e+13   \n",
              "2248  23551287.0  https://www.airbnb.com/rooms/23551287  2.020000e+13   \n",
              "2252  23551835.0  https://www.airbnb.com/rooms/23551835  2.020000e+13   \n",
              "2287  23312390.0  https://www.airbnb.com/rooms/23312390  2.020000e+13   \n",
              "2289  23312525.0  https://www.airbnb.com/rooms/23312525  2.020000e+13   \n",
              "2292  23312644.0  https://www.airbnb.com/rooms/23312644  2.020000e+13   \n",
              "2298  23312854.0  https://www.airbnb.com/rooms/23312854  2.020000e+13   \n",
              "2301  23313045.0  https://www.airbnb.com/rooms/23313045  2.020000e+13   \n",
              "2368  23004935.0  https://www.airbnb.com/rooms/23004935  2.020000e+13   \n",
              "2982  32867573.0  https://www.airbnb.com/rooms/32867573  2.020000e+13   \n",
              "3004  33368652.0  https://www.airbnb.com/rooms/33368652  2.020000e+13   \n",
              "3005  33370186.0  https://www.airbnb.com/rooms/33370186  2.020000e+13   \n",
              "3006  33370525.0  https://www.airbnb.com/rooms/33370525  2.020000e+13   \n",
              "3007  33370910.0  https://www.airbnb.com/rooms/33370910  2.020000e+13   \n",
              "3008  33386303.0  https://www.airbnb.com/rooms/33386303  2.020000e+13   \n",
              "3081  33969918.0  https://www.airbnb.com/rooms/33969918  2.020000e+13   \n",
              "3082  33969945.0  https://www.airbnb.com/rooms/33969945  2.020000e+13   \n",
              "3083  33969998.0  https://www.airbnb.com/rooms/33969998  2.020000e+13   \n",
              "3084  33970015.0  https://www.airbnb.com/rooms/33970015  2.020000e+13   \n",
              "3085  33970040.0  https://www.airbnb.com/rooms/33970040  2.020000e+13   \n",
              "3086  33970056.0  https://www.airbnb.com/rooms/33970056  2.020000e+13   \n",
              "3087  33970080.0  https://www.airbnb.com/rooms/33970080  2.020000e+13   \n",
              "3088  33970108.0  https://www.airbnb.com/rooms/33970108  2.020000e+13   \n",
              "3089  33970139.0  https://www.airbnb.com/rooms/33970139  2.020000e+13   \n",
              "3188  34785290.0  https://www.airbnb.com/rooms/34785290  2.020000e+13   \n",
              "3219  35376420.0  https://www.airbnb.com/rooms/35376420  2.020000e+13   \n",
              "3243  35493661.0  https://www.airbnb.com/rooms/35493661  2.020000e+13   \n",
              "3244  35493829.0  https://www.airbnb.com/rooms/35493829  2.020000e+13   \n",
              "3249  35494267.0  https://www.airbnb.com/rooms/35494267  2.020000e+13   \n",
              "3250  35494371.0  https://www.airbnb.com/rooms/35494371  2.020000e+13   \n",
              "3251  35494419.0  https://www.airbnb.com/rooms/35494419  2.020000e+13   \n",
              "3266  36560687.0  https://www.airbnb.com/rooms/36560687  2.020000e+13   \n",
              "3288  35944209.0  https://www.airbnb.com/rooms/35944209  2.020000e+13   \n",
              "3295  35642179.0  https://www.airbnb.com/rooms/35642179  2.020000e+13   \n",
              "3296  35642877.0  https://www.airbnb.com/rooms/35642877  2.020000e+13   \n",
              "3317  35643330.0  https://www.airbnb.com/rooms/35643330  2.020000e+13   \n",
              "3327  35691437.0  https://www.airbnb.com/rooms/35691437  2.020000e+13   \n",
              "3355  36139589.0  https://www.airbnb.com/rooms/36139589  2.020000e+13   \n",
              "3396  37295413.0  https://www.airbnb.com/rooms/37295413  2.020000e+13   \n",
              "3398  36420256.0  https://www.airbnb.com/rooms/36420256  2.020000e+13   \n",
              "3399  36420593.0  https://www.airbnb.com/rooms/36420593  2.020000e+13   \n",
              "3400  36421114.0  https://www.airbnb.com/rooms/36421114  2.020000e+13   \n",
              "3401  37296448.0  https://www.airbnb.com/rooms/37296448  2.020000e+13   \n",
              "4519  48693144.0  https://www.airbnb.com/rooms/48693144  2.020000e+13   \n",
              "4690  48973911.0  https://www.airbnb.com/rooms/48973911  2.020000e+13   \n",
              "\n",
              "     last_scraped           source  \\\n",
              "711      06/03/23      city scrape   \n",
              "787      06/03/23      city scrape   \n",
              "938      06/03/23      city scrape   \n",
              "1704     06/03/23      city scrape   \n",
              "2229     06/03/23      city scrape   \n",
              "2230     06/03/23      city scrape   \n",
              "2246     06/03/23      city scrape   \n",
              "2247     06/03/23      city scrape   \n",
              "2248     06/03/23      city scrape   \n",
              "2252     06/03/23      city scrape   \n",
              "2287     06/03/23      city scrape   \n",
              "2289     06/03/23      city scrape   \n",
              "2292     06/03/23      city scrape   \n",
              "2298     06/03/23      city scrape   \n",
              "2301     06/03/23      city scrape   \n",
              "2368     06/03/23  previous scrape   \n",
              "2982     06/03/23      city scrape   \n",
              "3004     06/03/23  previous scrape   \n",
              "3005     06/03/23  previous scrape   \n",
              "3006     06/03/23  previous scrape   \n",
              "3007     06/03/23  previous scrape   \n",
              "3008     06/03/23  previous scrape   \n",
              "3081     06/03/23      city scrape   \n",
              "3082     06/03/23      city scrape   \n",
              "3083     06/03/23      city scrape   \n",
              "3084     06/03/23      city scrape   \n",
              "3085     06/03/23      city scrape   \n",
              "3086     06/03/23  previous scrape   \n",
              "3087     06/03/23      city scrape   \n",
              "3088     06/03/23  previous scrape   \n",
              "3089     06/03/23  previous scrape   \n",
              "3188     06/03/23      city scrape   \n",
              "3219     06/03/23      city scrape   \n",
              "3243     06/03/23      city scrape   \n",
              "3244     06/03/23  previous scrape   \n",
              "3249     06/03/23      city scrape   \n",
              "3250     06/03/23      city scrape   \n",
              "3251     06/03/23      city scrape   \n",
              "3266     06/03/23      city scrape   \n",
              "3288     06/03/23      city scrape   \n",
              "3295     06/03/23      city scrape   \n",
              "3296     06/03/23      city scrape   \n",
              "3317     06/03/23      city scrape   \n",
              "3327     06/03/23      city scrape   \n",
              "3355     06/03/23      city scrape   \n",
              "3396     06/03/23  previous scrape   \n",
              "3398     06/03/23      city scrape   \n",
              "3399     06/03/23      city scrape   \n",
              "3400     06/03/23      city scrape   \n",
              "3401     06/03/23      city scrape   \n",
              "4519     06/03/23  previous scrape   \n",
              "4690     06/03/23  previous scrape   \n",
              "\n",
              "                                                   name  \\\n",
              "711                 Hotel Pac Hgts Queen Free Car ParkB   \n",
              "787                 Hotel Pac Hgts 2 Bed Free Car ParkA   \n",
              "938                     Elegant Union Square hotel room   \n",
              "1704     Cozy Private Room - Mini Fridge, Fast WiFi, TV   \n",
              "2229                               Stratford Cozy Queen   \n",
              "2230                          Stratford Cozy Cool Queen   \n",
              "2246                               Stratford Cozy Queen   \n",
              "2247                               Stratford Cozy Queen   \n",
              "2248                          Stratford Cozy Cool Queen   \n",
              "2252                          Stratford Cozy Cool Queen   \n",
              "2287                               Stratford Cozy Queen   \n",
              "2289                          Stratford Cozy Cool Queen   \n",
              "2292                               Stratford Cozy Queen   \n",
              "2298                               Stratford Cozy Queen   \n",
              "2301                               Stratford Cozy Queen   \n",
              "2368       Red Victorian - Private room -  Rainbow Room   \n",
              "2982               Cute & Cozy Room - near BART Station   \n",
              "3004                           Deluxe Room 2 Queen Beds   \n",
              "3005         Signature Suite 1 Bedroom (Spa) 1 King Bed   \n",
              "3006              Deluxe Room 2 Double Beds 2 Full Beds   \n",
              "3007                       Economy Petite 2 Double Beds   \n",
              "3008                            Deluxe Room 1 Queen Bed   \n",
              "3081                               Premium Queen Room B   \n",
              "3082                               Premium Queen Room C   \n",
              "3083                               Premium Queen Room A   \n",
              "3084                          Premium Queen with Bunk B   \n",
              "3085                          Premium Queen with Bunk C   \n",
              "3086                                Interior Sky Room C   \n",
              "3087                          Premium Queen with Bunk A   \n",
              "3088                                Interior Sky Room B   \n",
              "3089                                Interior Sky Room A   \n",
              "3188  Moscone Convention - BART - Room with Nice Tou...   \n",
              "3219     Upscale Dorm Style - Private Room + own Fridge   \n",
              "3243                    Hotel Bijou, Superior Queen Bed   \n",
              "3244                     Hotel Bijou, Superior King Bed   \n",
              "3249  Music City Hotel, Queen Room with Shared Bathroom   \n",
              "3250     Janis Joplin Themed Room with Private Bathroom   \n",
              "3251             Music City Hotel, Summer of Love Suite   \n",
              "3266          Club Wyndham Canterbury One-Bedroom Suite   \n",
              "3288     Bed & Breakfast - Charming Room - Cozy & Clean   \n",
              "3295                 Grant Plaza Hotel, Standard Double   \n",
              "3296                   Grant Plaza Hotel, Standard Twin   \n",
              "3317            Grant Plaza Hotel, Deluxe Double-Double   \n",
              "3327             Contemporary & Cozy Room - City Center   \n",
              "3355      BART Civic Center - Moscone Convention Center   \n",
              "3396  Marriott Pulse SF for JP Morgan Conf. (2 Queen...   \n",
              "3398                          Deluxe Queen Street Level   \n",
              "3399                             Street Level Tiny Room   \n",
              "3400                       Upstairs Corner Junior Suite   \n",
              "3401  Marriott Pulse SF: JPMorgan/Dreamforce Conf- 1...   \n",
              "4519                         Hotel Emblem San Francisco   \n",
              "4690                         Hotel Triton San Francisco   \n",
              "\n",
              "                                            description  \\\n",
              "711   Please Instant Book. Need Valid Photo ID.<br /...   \n",
              "787   Please Instant Book. Need Valid Photo ID to ch...   \n",
              "938   The Club Donatello is a four-star, Gold Crown,...   \n",
              "1704  YouÃ¢â¬â¢ll love my place because of the loc...   \n",
              "2229  For our soft opening we have decided to give A...   \n",
              "2230  For our soft opening we have decided to give A...   \n",
              "2246  For our soft opening we have decided to give A...   \n",
              "2247  For our soft opening we have decided to give A...   \n",
              "2248  For our soft opening we have decided to give A...   \n",
              "2252  For our soft opening we have decided to give A...   \n",
              "2287  For our soft opening we have decided to give A...   \n",
              "2289  For our soft opening we have decided to give A...   \n",
              "2292  For our soft opening we have decided to give A...   \n",
              "2298  For our soft opening we have decided to give A...   \n",
              "2301  For our soft opening we have decided to give A...   \n",
              "2368  The Rainbow Room is a private bedroom for up t...   \n",
              "2982  We are small boutique property with newly remo...   \n",
              "3004  2 Queen Beds<br /><br />Internet - Free WiFi <...   \n",
              "3005  1 King Bed<br /><br />625-sq-foot (58-sq-meter...   \n",
              "3006  2 Double Beds<br /><br />248-sq-foot (23-sq-me...   \n",
              "3007  2 Double Beds<br /><br />180 sq feet (16 sq me...   \n",
              "3008  1 Queen Bed<br /><br />Internet - Free WiFi <b...   \n",
              "3081  Your next trip to San Francisco starts with a ...   \n",
              "3082  Our smart-design space is perfect for anyone l...   \n",
              "3083  Our spacious First Class Queen Suite has beaut...   \n",
              "3084  Our smart-design space is perfect for anyone l...   \n",
              "3085  Your next trip to San Francisco starts with a ...   \n",
              "3086  Our sleek, well-designed space is perfect for ...   \n",
              "3087  Enjoy a beautiful view of City Hall when you s...   \n",
              "3088  Interior Sky Cabin B<br /><br /><b>The space</...   \n",
              "3089  VIP suite offers stunning views of SF and plen...   \n",
              "3188  YouÃ¢â¬â¢ll love my place because of the loc...   \n",
              "3219  We are a small boutique property with newly re...   \n",
              "3243  You wonÃ¢â¬â¢t find many other hotels near U...   \n",
              "3244  You wonÃ¢â¬â¢t find many other hotels near U...   \n",
              "3249  Private room with Queen size bed and shared re...   \n",
              "3250  Private room with King size bed and private ba...   \n",
              "3251  Summer of Love themed Suite with two Queen bed...   \n",
              "3266  This spacious one-bedroom resort suite measure...   \n",
              "3288  YouÃ¢â¬â¢ll love my place because of the loc...   \n",
              "3295  Rated the best hotel for your value, the Grant...   \n",
              "3296  Rated the best hotel for your value, Grant Pla...   \n",
              "3317  Rated the best hotel for your value, the Grant...   \n",
              "3327  YouÃ¢â¬â¢ll love my place because of the loc...   \n",
              "3355  YouÃ¢â¬â¢ll love my place because of the loc...   \n",
              "3396  Hotel room at the \"City by the Bay\" at Marriot...   \n",
              "3398  Monte Cristo is a classic San Francisco Bed an...   \n",
              "3399  if the walls of the Monte Cristo Bed & Breakfa...   \n",
              "3400  if the walls of the Monte Cristo Bed & Breakfa...   \n",
              "3401  Hotel room at the \"City by the Bay\" at Marriot...   \n",
              "4519                                                 --   \n",
              "4690                                                 --   \n",
              "\n",
              "                                  neighborhood_overview  \\\n",
              "711                                                  --   \n",
              "787                                                  --   \n",
              "938   The Donatello Hotel is perfectly located one b...   \n",
              "1704  My place is located conveniently in the middle...   \n",
              "2229    In the Heart of Union Square Shopping district!   \n",
              "2230                                                 --   \n",
              "2246    In the Heart of Union Square Shopping district!   \n",
              "2247    In the Heart of Union Square Shopping district!   \n",
              "2248                                                 --   \n",
              "2252                                                 --   \n",
              "2287    In the Heart of Union Square Shopping district!   \n",
              "2289                                                 --   \n",
              "2292     n the Heart of Union Square Shopping district!   \n",
              "2298                                                 --   \n",
              "2301    In the Heart of Union Square Shopping district!   \n",
              "2368  Haight-Ashbury is an incredible relic of San F...   \n",
              "2982  We are conveniently located to SF's best spots...   \n",
              "3004                                                 --   \n",
              "3005                                                 --   \n",
              "3006                                                 --   \n",
              "3007                                                 --   \n",
              "3008                                                 --   \n",
              "3081                                                 --   \n",
              "3082                                                 --   \n",
              "3083                                                 --   \n",
              "3084                                                 --   \n",
              "3085                                                 --   \n",
              "3086                                                 --   \n",
              "3087                                                 --   \n",
              "3088                                                 --   \n",
              "3089                                                 --   \n",
              "3188  My place is located conveniently in the middle...   \n",
              "3219  The neighborhood is right in the City Center, ...   \n",
              "3243                                                 --   \n",
              "3244                                                 --   \n",
              "3249  Music City Hotel is located in the vibrant Pol...   \n",
              "3250  Music City Hotel is located in the vibrant Pol...   \n",
              "3251  Music City Hotel is located in the vibrant Pol...   \n",
              "3266  Wyndham Canterbury at San Francisco is your ge...   \n",
              "3288  Just a heads up, we are right in the middle of...   \n",
              "3295  Gateway to Chinatown, 5 minutes walk, 3 blocks...   \n",
              "3296  Gateway to Chinatown, 5 minutes walk, 3 blocks...   \n",
              "3317  Gateway to Chinatown, 5 minutes walk, 3 blocks...   \n",
              "3327  Just a heads up, we are right in the middle of...   \n",
              "3355  Just a heads up, we are right in the middle of...   \n",
              "3396  Explore legendary Fisherman's Wharf, PIER 39, ...   \n",
              "3398  Low key residential location. Pacific Heights,...   \n",
              "3399  Low key residential location. Pacific Heights,...   \n",
              "3400  Low key residential location. Pacific Heights,...   \n",
              "3401  Explore legendary Fisherman's Wharf, PIER 39, ...   \n",
              "4519                                                 --   \n",
              "4690                                                 --   \n",
              "\n",
              "                                            picture_url    host_id  ...  \\\n",
              "711   https://a0.muscache.com/pictures/81807138/12b3...   20850212  ...   \n",
              "787   https://a0.muscache.com/pictures/76888501/8774...   20850212  ...   \n",
              "938   https://a0.muscache.com/pictures/87115624/a239...   23593310  ...   \n",
              "1704  https://a0.muscache.com/pictures/miso/Hosting-...  103884979  ...   \n",
              "2229  https://a0.muscache.com/pictures/miso/Hosting-...  173206762  ...   \n",
              "2230  https://a0.muscache.com/pictures/miso/Hosting-...  173206762  ...   \n",
              "2246  https://a0.muscache.com/pictures/miso/Hosting-...  173206762  ...   \n",
              "2247  https://a0.muscache.com/pictures/miso/Hosting-...  173206762  ...   \n",
              "2248  https://a0.muscache.com/pictures/miso/Hosting-...  173206762  ...   \n",
              "2252  https://a0.muscache.com/pictures/miso/Hosting-...  173206762  ...   \n",
              "2287  https://a0.muscache.com/pictures/miso/Hosting-...  173206762  ...   \n",
              "2289  https://a0.muscache.com/pictures/miso/Hosting-...  173206762  ...   \n",
              "2292  https://a0.muscache.com/pictures/miso/Hosting-...  173206762  ...   \n",
              "2298  https://a0.muscache.com/pictures/miso/Hosting-...  173206762  ...   \n",
              "2301  https://a0.muscache.com/pictures/miso/Hosting-...  173206762  ...   \n",
              "2368  https://a0.muscache.com/pictures/008f2fad-9eb3...  117141107  ...   \n",
              "2982  https://a0.muscache.com/pictures/d8eebd1c-fa95...  103884979  ...   \n",
              "3004  https://a0.muscache.com/pictures/43a58ca1-648d...  251141990  ...   \n",
              "3005  https://a0.muscache.com/pictures/b3e1062e-6c59...  251141990  ...   \n",
              "3006  https://a0.muscache.com/pictures/d3241f34-4b3d...  251141990  ...   \n",
              "3007  https://a0.muscache.com/pictures/2809e80d-47fd...  251141990  ...   \n",
              "3008  https://a0.muscache.com/pictures/5efa1a9f-bc86...  251141990  ...   \n",
              "3081  https://a0.muscache.com/pictures/prohost-api/H...  250109940  ...   \n",
              "3082  https://a0.muscache.com/pictures/prohost-api/H...  250109940  ...   \n",
              "3083  https://a0.muscache.com/pictures/prohost-api/H...  250109940  ...   \n",
              "3084  https://a0.muscache.com/pictures/prohost-api/H...  250109940  ...   \n",
              "3085  https://a0.muscache.com/pictures/prohost-api/H...  250109940  ...   \n",
              "3086  https://a0.muscache.com/pictures/prohost-api/H...  250109940  ...   \n",
              "3087  https://a0.muscache.com/pictures/prohost-api/H...  250109940  ...   \n",
              "3088  https://a0.muscache.com/pictures/prohost-api/H...  250109940  ...   \n",
              "3089  https://a0.muscache.com/pictures/prohost-api/H...  250109940  ...   \n",
              "3188  https://a0.muscache.com/pictures/miso/Hosting-...  103884979  ...   \n",
              "3219  https://a0.muscache.com/pictures/miso/Hosting-...  103884979  ...   \n",
              "3243  https://a0.muscache.com/pictures/dbf76c5f-1bdf...  266321575  ...   \n",
              "3244  https://a0.muscache.com/pictures/dbf76c5f-1bdf...  266321575  ...   \n",
              "3249  https://a0.muscache.com/pictures/miso/Hosting-...  102523118  ...   \n",
              "3250  https://a0.muscache.com/pictures/miso/Hosting-...  102523118  ...   \n",
              "3251  https://a0.muscache.com/pictures/miso/Hosting-...  102523118  ...   \n",
              "3266  https://a0.muscache.com/pictures/8a2a56b4-d28d...  266083019  ...   \n",
              "3288  https://a0.muscache.com/pictures/miso/Hosting-...  103884979  ...   \n",
              "3295  https://a0.muscache.com/pictures/260539bb-99d6...  265029065  ...   \n",
              "3296  https://a0.muscache.com/pictures/9e14dc12-9489...  265029065  ...   \n",
              "3317  https://a0.muscache.com/pictures/2fbaf766-fcf9...  265029065  ...   \n",
              "3327  https://a0.muscache.com/pictures/eb12904e-7ac3...  103884979  ...   \n",
              "3355  https://a0.muscache.com/pictures/miso/Hosting-...  103884979  ...   \n",
              "3396  https://a0.muscache.com/pictures/280326d7-2ba0...   13058067  ...   \n",
              "3398  https://a0.muscache.com/pictures/880f6eca-8b5d...  160591574  ...   \n",
              "3399  https://a0.muscache.com/pictures/2ba9ca23-7bae...  160591574  ...   \n",
              "3400  https://a0.muscache.com/pictures/778ee8c1-2b7d...  160591574  ...   \n",
              "3401  https://a0.muscache.com/pictures/001617ef-1198...   13058067  ...   \n",
              "4519  https://a0.muscache.com/pictures/miso/Hosting-...  392829961  ...   \n",
              "4690  https://a0.muscache.com/pictures/miso/Hosting-...  394984266  ...   \n",
              "\n",
              "     review_scores_checkin review_scores_communication review_scores_location  \\\n",
              "711                   4.89                        4.82                   4.88   \n",
              "787                   4.84                        4.73                   4.84   \n",
              "938                   4.94                        4.97                   5.00   \n",
              "1704                  4.71                        4.59                   3.88   \n",
              "2229                  4.63                        4.50                   4.75   \n",
              "2230                  5.00                        5.00                   5.00   \n",
              "2246                  4.94                        4.67                   5.00   \n",
              "2247                  4.95                        4.62                   5.00   \n",
              "2248                  4.89                        4.47                   5.00   \n",
              "2252                  4.81                        4.88                   4.88   \n",
              "2287                  4.87                        4.61                   4.83   \n",
              "2289                  4.86                        4.46                   4.93   \n",
              "2292                  4.88                        4.81                   5.00   \n",
              "2298                  5.00                        4.75                   4.75   \n",
              "2301                  4.84                        4.58                   4.79   \n",
              "2368                  4.83                        4.86                   4.87   \n",
              "2982                  4.78                        4.65                   4.11   \n",
              "3004                  5.00                        5.00                   5.00   \n",
              "3005                  0.00                        0.00                   0.00   \n",
              "3006                  5.00                        5.00                   5.00   \n",
              "3007                  4.00                        3.00                   5.00   \n",
              "3008                  0.00                        0.00                   0.00   \n",
              "3081                  5.00                        5.00                   4.83   \n",
              "3082                  4.67                        4.33                   3.00   \n",
              "3083                  4.89                        4.74                   4.07   \n",
              "3084                  4.50                        4.75                   3.25   \n",
              "3085                  5.00                        5.00                   4.00   \n",
              "3086                  5.00                        5.00                   3.75   \n",
              "3087                  4.00                        1.00                   2.00   \n",
              "3088                  4.78                        4.70                   3.78   \n",
              "3089                  5.00                        5.00                   3.50   \n",
              "3188                  4.80                        4.76                   4.04   \n",
              "3219                  4.73                        4.78                   4.26   \n",
              "3243                  4.55                        4.75                   4.38   \n",
              "3244                  4.73                        4.68                   3.77   \n",
              "3249                  4.85                        4.81                   4.65   \n",
              "3250                  4.75                        4.75                   4.88   \n",
              "3251                  4.73                        4.78                   4.51   \n",
              "3266                  4.80                        4.40                   4.90   \n",
              "3288                  4.74                        4.72                   4.09   \n",
              "3295                  4.75                        4.63                   4.74   \n",
              "3296                  4.72                        4.58                   4.72   \n",
              "3317                  4.71                        4.79                   4.86   \n",
              "3327                  4.85                        4.73                   4.20   \n",
              "3355                  4.74                        4.75                   4.04   \n",
              "3396                  5.00                        5.00                   5.00   \n",
              "3398                  5.00                        5.00                   5.00   \n",
              "3399                  5.00                        5.00                   5.00   \n",
              "3400                  5.00                        5.00                   5.00   \n",
              "3401                  0.00                        0.00                   0.00   \n",
              "4519                  0.00                        0.00                   0.00   \n",
              "4690                  4.90                        4.40                   5.00   \n",
              "\n",
              "     review_scores_value calculated_host_listings_count  \\\n",
              "711                 4.63                             16   \n",
              "787                 4.39                             16   \n",
              "938                 4.91                              1   \n",
              "1704                4.29                             14   \n",
              "2229                4.13                             61   \n",
              "2230                4.00                             61   \n",
              "2246                4.58                             61   \n",
              "2247                4.48                             61   \n",
              "2248                4.16                             61   \n",
              "2252                4.38                             61   \n",
              "2287                4.35                             61   \n",
              "2289                4.46                             61   \n",
              "2292                4.63                             61   \n",
              "2298                4.50                             61   \n",
              "2301                4.21                             61   \n",
              "2368                4.59                             43   \n",
              "2982                4.53                             14   \n",
              "3004                5.00                              5   \n",
              "3005                0.00                              5   \n",
              "3006                4.00                              5   \n",
              "3007                1.00                              5   \n",
              "3008                0.00                              5   \n",
              "3081                4.67                              9   \n",
              "3082                4.00                              9   \n",
              "3083                4.67                              9   \n",
              "3084                4.00                              9   \n",
              "3085                5.00                              9   \n",
              "3086                4.50                              9   \n",
              "3087                2.00                              9   \n",
              "3088                4.24                              9   \n",
              "3089                4.00                              9   \n",
              "3188                4.54                             14   \n",
              "3219                4.43                             14   \n",
              "3243                4.53                              8   \n",
              "3244                4.55                              8   \n",
              "3249                4.57                             12   \n",
              "3250                4.50                             12   \n",
              "3251                4.54                             12   \n",
              "3266                4.90                              9   \n",
              "3288                4.46                             14   \n",
              "3295                4.33                              4   \n",
              "3296                4.31                              4   \n",
              "3317                4.36                              4   \n",
              "3327                4.63                             14   \n",
              "3355                4.46                             14   \n",
              "3396                4.50                              2   \n",
              "3398                5.00                              5   \n",
              "3399                5.00                              5   \n",
              "3400                4.50                              5   \n",
              "3401                0.00                              2   \n",
              "4519                0.00                              1   \n",
              "4690                4.20                              1   \n",
              "\n",
              "     calculated_host_listings_count_entire_homes  \\\n",
              "711                                            0   \n",
              "787                                            0   \n",
              "938                                            0   \n",
              "1704                                           0   \n",
              "2229                                           0   \n",
              "2230                                           0   \n",
              "2246                                           0   \n",
              "2247                                           0   \n",
              "2248                                           0   \n",
              "2252                                           0   \n",
              "2287                                           0   \n",
              "2289                                           0   \n",
              "2292                                           0   \n",
              "2298                                           0   \n",
              "2301                                           0   \n",
              "2368                                           0   \n",
              "2982                                           0   \n",
              "3004                                           0   \n",
              "3005                                           0   \n",
              "3006                                           0   \n",
              "3007                                           0   \n",
              "3008                                           0   \n",
              "3081                                           0   \n",
              "3082                                           0   \n",
              "3083                                           0   \n",
              "3084                                           0   \n",
              "3085                                           0   \n",
              "3086                                           0   \n",
              "3087                                           0   \n",
              "3088                                           0   \n",
              "3089                                           0   \n",
              "3188                                           0   \n",
              "3219                                           0   \n",
              "3243                                           0   \n",
              "3244                                           0   \n",
              "3249                                           0   \n",
              "3250                                           0   \n",
              "3251                                           0   \n",
              "3266                                           0   \n",
              "3288                                           0   \n",
              "3295                                           0   \n",
              "3296                                           0   \n",
              "3317                                           0   \n",
              "3327                                           0   \n",
              "3355                                           0   \n",
              "3396                                           0   \n",
              "3398                                           0   \n",
              "3399                                           0   \n",
              "3400                                           0   \n",
              "3401                                           0   \n",
              "4519                                           0   \n",
              "4690                                           0   \n",
              "\n",
              "     calculated_host_listings_count_private_rooms  \\\n",
              "711                                            14   \n",
              "787                                            14   \n",
              "938                                             0   \n",
              "1704                                            7   \n",
              "2229                                           50   \n",
              "2230                                           50   \n",
              "2246                                           50   \n",
              "2247                                           50   \n",
              "2248                                           50   \n",
              "2252                                           50   \n",
              "2287                                           50   \n",
              "2289                                           50   \n",
              "2292                                           50   \n",
              "2298                                           50   \n",
              "2301                                           50   \n",
              "2368                                           16   \n",
              "2982                                            7   \n",
              "3004                                            0   \n",
              "3005                                            0   \n",
              "3006                                            0   \n",
              "3007                                            0   \n",
              "3008                                            0   \n",
              "3081                                            0   \n",
              "3082                                            0   \n",
              "3083                                            0   \n",
              "3084                                            0   \n",
              "3085                                            0   \n",
              "3086                                            0   \n",
              "3087                                            0   \n",
              "3088                                            0   \n",
              "3089                                            0   \n",
              "3188                                            7   \n",
              "3219                                            7   \n",
              "3243                                            6   \n",
              "3244                                            6   \n",
              "3249                                            3   \n",
              "3250                                            3   \n",
              "3251                                            3   \n",
              "3266                                            8   \n",
              "3288                                            7   \n",
              "3295                                            1   \n",
              "3296                                            1   \n",
              "3317                                            1   \n",
              "3327                                            7   \n",
              "3355                                            7   \n",
              "3396                                            0   \n",
              "3398                                            2   \n",
              "3399                                            2   \n",
              "3400                                            2   \n",
              "3401                                            0   \n",
              "4519                                            0   \n",
              "4690                                            0   \n",
              "\n",
              "     calculated_host_listings_count_shared_rooms reviews_per_month  \\\n",
              "711                                            0              3.51   \n",
              "787                                            0              2.78   \n",
              "938                                            0              0.37   \n",
              "1704                                           0              0.24   \n",
              "2229                                           0              0.17   \n",
              "2230                                           0              0.06   \n",
              "2246                                           0              0.54   \n",
              "2247                                           0              0.35   \n",
              "2248                                           0              0.31   \n",
              "2252                                           0              0.43   \n",
              "2287                                           0              0.39   \n",
              "2289                                           0              0.47   \n",
              "2292                                           0              0.27   \n",
              "2298                                           0              0.09   \n",
              "2301                                           0              0.31   \n",
              "2368                                          26              1.12   \n",
              "2982                                           0              1.18   \n",
              "3004                                           0              0.04   \n",
              "3005                                           0              0.00   \n",
              "3006                                           0              0.02   \n",
              "3007                                           0              0.02   \n",
              "3008                                           0              0.00   \n",
              "3081                                           0              0.47   \n",
              "3082                                           0              0.07   \n",
              "3083                                           0              2.37   \n",
              "3084                                           0              0.10   \n",
              "3085                                           0              0.26   \n",
              "3086                                           0              0.34   \n",
              "3087                                           0              0.02   \n",
              "3088                                           0              1.48   \n",
              "3089                                           0              0.16   \n",
              "3188                                           0              2.04   \n",
              "3219                                           0              2.26   \n",
              "3243                                           0              0.96   \n",
              "3244                                           0              0.56   \n",
              "3249                                           6              3.12   \n",
              "3250                                           6              0.19   \n",
              "3251                                           6              0.92   \n",
              "3266                                           0              0.25   \n",
              "3288                                           0              2.23   \n",
              "3295                                           0             20.80   \n",
              "3296                                           0              3.23   \n",
              "3317                                           0              0.38   \n",
              "3327                                           0              2.03   \n",
              "3355                                           0              2.87   \n",
              "3396                                           0              0.05   \n",
              "3398                                           0              0.05   \n",
              "3399                                           0              0.03   \n",
              "3400                                           0              0.08   \n",
              "3401                                           0              0.00   \n",
              "4519                                           0              0.00   \n",
              "4690                                           0              0.46   \n",
              "\n",
              "     host_response_rate  \n",
              "711                0.99  \n",
              "787                0.99  \n",
              "938                1.00  \n",
              "1704               0.99  \n",
              "2229               0.80  \n",
              "2230               0.80  \n",
              "2246               0.80  \n",
              "2247               0.80  \n",
              "2248               0.80  \n",
              "2252               0.80  \n",
              "2287               0.80  \n",
              "2289               0.80  \n",
              "2292               0.80  \n",
              "2298               0.80  \n",
              "2301               0.80  \n",
              "2368               0.00  \n",
              "2982               0.99  \n",
              "3004               0.00  \n",
              "3005               0.00  \n",
              "3006               0.00  \n",
              "3007               0.00  \n",
              "3008               0.00  \n",
              "3081               0.95  \n",
              "3082               0.95  \n",
              "3083               0.95  \n",
              "3084               0.95  \n",
              "3085               0.95  \n",
              "3086               0.95  \n",
              "3087               0.95  \n",
              "3088               0.95  \n",
              "3089               0.95  \n",
              "3188               0.99  \n",
              "3219               0.99  \n",
              "3243               0.90  \n",
              "3244               0.90  \n",
              "3249               1.00  \n",
              "3250               1.00  \n",
              "3251               1.00  \n",
              "3266               0.75  \n",
              "3288               0.99  \n",
              "3295               0.99  \n",
              "3296               0.99  \n",
              "3317               0.99  \n",
              "3327               0.99  \n",
              "3355               0.99  \n",
              "3396               0.00  \n",
              "3398               1.00  \n",
              "3399               1.00  \n",
              "3400               1.00  \n",
              "3401               0.00  \n",
              "4519               0.00  \n",
              "4690               1.00  \n",
              "\n",
              "[52 rows x 77 columns]"
            ],
            "text/html": [
              "\n",
              "  <div id=\"df-61618ecd-9759-4b38-856a-9f83249d9dcb\">\n",
              "    <div class=\"colab-df-container\">\n",
              "      <div>\n",
              "<style scoped>\n",
              "    .dataframe tbody tr th:only-of-type {\n",
              "        vertical-align: middle;\n",
              "    }\n",
              "\n",
              "    .dataframe tbody tr th {\n",
              "        vertical-align: top;\n",
              "    }\n",
              "\n",
              "    .dataframe thead th {\n",
              "        text-align: right;\n",
              "    }\n",
              "</style>\n",
              "<table border=\"1\" class=\"dataframe\">\n",
              "  <thead>\n",
              "    <tr style=\"text-align: right;\">\n",
              "      <th></th>\n",
              "      <th>ï»¿id</th>\n",
              "      <th>listing_url</th>\n",
              "      <th>scrape_id</th>\n",
              "      <th>last_scraped</th>\n",
              "      <th>source</th>\n",
              "      <th>name</th>\n",
              "      <th>description</th>\n",
              "      <th>neighborhood_overview</th>\n",
              "      <th>picture_url</th>\n",
              "      <th>host_id</th>\n",
              "      <th>...</th>\n",
              "      <th>review_scores_checkin</th>\n",
              "      <th>review_scores_communication</th>\n",
              "      <th>review_scores_location</th>\n",
              "      <th>review_scores_value</th>\n",
              "      <th>calculated_host_listings_count</th>\n",
              "      <th>calculated_host_listings_count_entire_homes</th>\n",
              "      <th>calculated_host_listings_count_private_rooms</th>\n",
              "      <th>calculated_host_listings_count_shared_rooms</th>\n",
              "      <th>reviews_per_month</th>\n",
              "      <th>host_response_rate</th>\n",
              "    </tr>\n",
              "  </thead>\n",
              "  <tbody>\n",
              "    <tr>\n",
              "      <th>711</th>\n",
              "      <td>4631873.0</td>\n",
              "      <td>https://www.airbnb.com/rooms/4631873</td>\n",
              "      <td>2.020000e+13</td>\n",
              "      <td>06/03/23</td>\n",
              "      <td>city scrape</td>\n",
              "      <td>Hotel Pac Hgts Queen Free Car ParkB</td>\n",
              "      <td>Please Instant Book. Need Valid Photo ID.&lt;br /...</td>\n",
              "      <td>--</td>\n",
              "      <td>https://a0.muscache.com/pictures/81807138/12b3...</td>\n",
              "      <td>20850212</td>\n",
              "      <td>...</td>\n",
              "      <td>4.89</td>\n",
              "      <td>4.82</td>\n",
              "      <td>4.88</td>\n",
              "      <td>4.63</td>\n",
              "      <td>16</td>\n",
              "      <td>0</td>\n",
              "      <td>14</td>\n",
              "      <td>0</td>\n",
              "      <td>3.51</td>\n",
              "      <td>0.99</td>\n",
              "    </tr>\n",
              "    <tr>\n",
              "      <th>787</th>\n",
              "      <td>6169292.0</td>\n",
              "      <td>https://www.airbnb.com/rooms/6169292</td>\n",
              "      <td>2.020000e+13</td>\n",
              "      <td>06/03/23</td>\n",
              "      <td>city scrape</td>\n",
              "      <td>Hotel Pac Hgts 2 Bed Free Car ParkA</td>\n",
              "      <td>Please Instant Book. Need Valid Photo ID to ch...</td>\n",
              "      <td>--</td>\n",
              "      <td>https://a0.muscache.com/pictures/76888501/8774...</td>\n",
              "      <td>20850212</td>\n",
              "      <td>...</td>\n",
              "      <td>4.84</td>\n",
              "      <td>4.73</td>\n",
              "      <td>4.84</td>\n",
              "      <td>4.39</td>\n",
              "      <td>16</td>\n",
              "      <td>0</td>\n",
              "      <td>14</td>\n",
              "      <td>0</td>\n",
              "      <td>2.78</td>\n",
              "      <td>0.99</td>\n",
              "    </tr>\n",
              "    <tr>\n",
              "      <th>938</th>\n",
              "      <td>6883183.0</td>\n",
              "      <td>https://www.airbnb.com/rooms/6883183</td>\n",
              "      <td>2.020000e+13</td>\n",
              "      <td>06/03/23</td>\n",
              "      <td>city scrape</td>\n",
              "      <td>Elegant Union Square hotel room</td>\n",
              "      <td>The Club Donatello is a four-star, Gold Crown,...</td>\n",
              "      <td>The Donatello Hotel is perfectly located one b...</td>\n",
              "      <td>https://a0.muscache.com/pictures/87115624/a239...</td>\n",
              "      <td>23593310</td>\n",
              "      <td>...</td>\n",
              "      <td>4.94</td>\n",
              "      <td>4.97</td>\n",
              "      <td>5.00</td>\n",
              "      <td>4.91</td>\n",
              "      <td>1</td>\n",
              "      <td>0</td>\n",
              "      <td>0</td>\n",
              "      <td>0</td>\n",
              "      <td>0.37</td>\n",
              "      <td>1.00</td>\n",
              "    </tr>\n",
              "    <tr>\n",
              "      <th>1704</th>\n",
              "      <td>16001051.0</td>\n",
              "      <td>https://www.airbnb.com/rooms/16001051</td>\n",
              "      <td>2.020000e+13</td>\n",
              "      <td>06/03/23</td>\n",
              "      <td>city scrape</td>\n",
              "      <td>Cozy Private Room - Mini Fridge, Fast WiFi, TV</td>\n",
              "      <td>YouÃ¢â¬â¢ll love my place because of the loc...</td>\n",
              "      <td>My place is located conveniently in the middle...</td>\n",
              "      <td>https://a0.muscache.com/pictures/miso/Hosting-...</td>\n",
              "      <td>103884979</td>\n",
              "      <td>...</td>\n",
              "      <td>4.71</td>\n",
              "      <td>4.59</td>\n",
              "      <td>3.88</td>\n",
              "      <td>4.29</td>\n",
              "      <td>14</td>\n",
              "      <td>0</td>\n",
              "      <td>7</td>\n",
              "      <td>0</td>\n",
              "      <td>0.24</td>\n",
              "      <td>0.99</td>\n",
              "    </tr>\n",
              "    <tr>\n",
              "      <th>2229</th>\n",
              "      <td>23271377.0</td>\n",
              "      <td>https://www.airbnb.com/rooms/23271377</td>\n",
              "      <td>2.020000e+13</td>\n",
              "      <td>06/03/23</td>\n",
              "      <td>city scrape</td>\n",
              "      <td>Stratford Cozy Queen</td>\n",
              "      <td>For our soft opening we have decided to give A...</td>\n",
              "      <td>In the Heart of Union Square Shopping district!</td>\n",
              "      <td>https://a0.muscache.com/pictures/miso/Hosting-...</td>\n",
              "      <td>173206762</td>\n",
              "      <td>...</td>\n",
              "      <td>4.63</td>\n",
              "      <td>4.50</td>\n",
              "      <td>4.75</td>\n",
              "      <td>4.13</td>\n",
              "      <td>61</td>\n",
              "      <td>0</td>\n",
              "      <td>50</td>\n",
              "      <td>0</td>\n",
              "      <td>0.17</td>\n",
              "      <td>0.80</td>\n",
              "    </tr>\n",
              "    <tr>\n",
              "      <th>2230</th>\n",
              "      <td>23271459.0</td>\n",
              "      <td>https://www.airbnb.com/rooms/23271459</td>\n",
              "      <td>2.020000e+13</td>\n",
              "      <td>06/03/23</td>\n",
              "      <td>city scrape</td>\n",
              "      <td>Stratford Cozy Cool Queen</td>\n",
              "      <td>For our soft opening we have decided to give A...</td>\n",
              "      <td>--</td>\n",
              "      <td>https://a0.muscache.com/pictures/miso/Hosting-...</td>\n",
              "      <td>173206762</td>\n",
              "      <td>...</td>\n",
              "      <td>5.00</td>\n",
              "      <td>5.00</td>\n",
              "      <td>5.00</td>\n",
              "      <td>4.00</td>\n",
              "      <td>61</td>\n",
              "      <td>0</td>\n",
              "      <td>50</td>\n",
              "      <td>0</td>\n",
              "      <td>0.06</td>\n",
              "      <td>0.80</td>\n",
              "    </tr>\n",
              "    <tr>\n",
              "      <th>2246</th>\n",
              "      <td>23551086.0</td>\n",
              "      <td>https://www.airbnb.com/rooms/23551086</td>\n",
              "      <td>2.020000e+13</td>\n",
              "      <td>06/03/23</td>\n",
              "      <td>city scrape</td>\n",
              "      <td>Stratford Cozy Queen</td>\n",
              "      <td>For our soft opening we have decided to give A...</td>\n",
              "      <td>In the Heart of Union Square Shopping district!</td>\n",
              "      <td>https://a0.muscache.com/pictures/miso/Hosting-...</td>\n",
              "      <td>173206762</td>\n",
              "      <td>...</td>\n",
              "      <td>4.94</td>\n",
              "      <td>4.67</td>\n",
              "      <td>5.00</td>\n",
              "      <td>4.58</td>\n",
              "      <td>61</td>\n",
              "      <td>0</td>\n",
              "      <td>50</td>\n",
              "      <td>0</td>\n",
              "      <td>0.54</td>\n",
              "      <td>0.80</td>\n",
              "    </tr>\n",
              "    <tr>\n",
              "      <th>2247</th>\n",
              "      <td>23551138.0</td>\n",
              "      <td>https://www.airbnb.com/rooms/23551138</td>\n",
              "      <td>2.020000e+13</td>\n",
              "      <td>06/03/23</td>\n",
              "      <td>city scrape</td>\n",
              "      <td>Stratford Cozy Queen</td>\n",
              "      <td>For our soft opening we have decided to give A...</td>\n",
              "      <td>In the Heart of Union Square Shopping district!</td>\n",
              "      <td>https://a0.muscache.com/pictures/miso/Hosting-...</td>\n",
              "      <td>173206762</td>\n",
              "      <td>...</td>\n",
              "      <td>4.95</td>\n",
              "      <td>4.62</td>\n",
              "      <td>5.00</td>\n",
              "      <td>4.48</td>\n",
              "      <td>61</td>\n",
              "      <td>0</td>\n",
              "      <td>50</td>\n",
              "      <td>0</td>\n",
              "      <td>0.35</td>\n",
              "      <td>0.80</td>\n",
              "    </tr>\n",
              "    <tr>\n",
              "      <th>2248</th>\n",
              "      <td>23551287.0</td>\n",
              "      <td>https://www.airbnb.com/rooms/23551287</td>\n",
              "      <td>2.020000e+13</td>\n",
              "      <td>06/03/23</td>\n",
              "      <td>city scrape</td>\n",
              "      <td>Stratford Cozy Cool Queen</td>\n",
              "      <td>For our soft opening we have decided to give A...</td>\n",
              "      <td>--</td>\n",
              "      <td>https://a0.muscache.com/pictures/miso/Hosting-...</td>\n",
              "      <td>173206762</td>\n",
              "      <td>...</td>\n",
              "      <td>4.89</td>\n",
              "      <td>4.47</td>\n",
              "      <td>5.00</td>\n",
              "      <td>4.16</td>\n",
              "      <td>61</td>\n",
              "      <td>0</td>\n",
              "      <td>50</td>\n",
              "      <td>0</td>\n",
              "      <td>0.31</td>\n",
              "      <td>0.80</td>\n",
              "    </tr>\n",
              "    <tr>\n",
              "      <th>2252</th>\n",
              "      <td>23551835.0</td>\n",
              "      <td>https://www.airbnb.com/rooms/23551835</td>\n",
              "      <td>2.020000e+13</td>\n",
              "      <td>06/03/23</td>\n",
              "      <td>city scrape</td>\n",
              "      <td>Stratford Cozy Cool Queen</td>\n",
              "      <td>For our soft opening we have decided to give A...</td>\n",
              "      <td>--</td>\n",
              "      <td>https://a0.muscache.com/pictures/miso/Hosting-...</td>\n",
              "      <td>173206762</td>\n",
              "      <td>...</td>\n",
              "      <td>4.81</td>\n",
              "      <td>4.88</td>\n",
              "      <td>4.88</td>\n",
              "      <td>4.38</td>\n",
              "      <td>61</td>\n",
              "      <td>0</td>\n",
              "      <td>50</td>\n",
              "      <td>0</td>\n",
              "      <td>0.43</td>\n",
              "      <td>0.80</td>\n",
              "    </tr>\n",
              "    <tr>\n",
              "      <th>2287</th>\n",
              "      <td>23312390.0</td>\n",
              "      <td>https://www.airbnb.com/rooms/23312390</td>\n",
              "      <td>2.020000e+13</td>\n",
              "      <td>06/03/23</td>\n",
              "      <td>city scrape</td>\n",
              "      <td>Stratford Cozy Queen</td>\n",
              "      <td>For our soft opening we have decided to give A...</td>\n",
              "      <td>In the Heart of Union Square Shopping district!</td>\n",
              "      <td>https://a0.muscache.com/pictures/miso/Hosting-...</td>\n",
              "      <td>173206762</td>\n",
              "      <td>...</td>\n",
              "      <td>4.87</td>\n",
              "      <td>4.61</td>\n",
              "      <td>4.83</td>\n",
              "      <td>4.35</td>\n",
              "      <td>61</td>\n",
              "      <td>0</td>\n",
              "      <td>50</td>\n",
              "      <td>0</td>\n",
              "      <td>0.39</td>\n",
              "      <td>0.80</td>\n",
              "    </tr>\n",
              "    <tr>\n",
              "      <th>2289</th>\n",
              "      <td>23312525.0</td>\n",
              "      <td>https://www.airbnb.com/rooms/23312525</td>\n",
              "      <td>2.020000e+13</td>\n",
              "      <td>06/03/23</td>\n",
              "      <td>city scrape</td>\n",
              "      <td>Stratford Cozy Cool Queen</td>\n",
              "      <td>For our soft opening we have decided to give A...</td>\n",
              "      <td>--</td>\n",
              "      <td>https://a0.muscache.com/pictures/miso/Hosting-...</td>\n",
              "      <td>173206762</td>\n",
              "      <td>...</td>\n",
              "      <td>4.86</td>\n",
              "      <td>4.46</td>\n",
              "      <td>4.93</td>\n",
              "      <td>4.46</td>\n",
              "      <td>61</td>\n",
              "      <td>0</td>\n",
              "      <td>50</td>\n",
              "      <td>0</td>\n",
              "      <td>0.47</td>\n",
              "      <td>0.80</td>\n",
              "    </tr>\n",
              "    <tr>\n",
              "      <th>2292</th>\n",
              "      <td>23312644.0</td>\n",
              "      <td>https://www.airbnb.com/rooms/23312644</td>\n",
              "      <td>2.020000e+13</td>\n",
              "      <td>06/03/23</td>\n",
              "      <td>city scrape</td>\n",
              "      <td>Stratford Cozy Queen</td>\n",
              "      <td>For our soft opening we have decided to give A...</td>\n",
              "      <td>n the Heart of Union Square Shopping district!</td>\n",
              "      <td>https://a0.muscache.com/pictures/miso/Hosting-...</td>\n",
              "      <td>173206762</td>\n",
              "      <td>...</td>\n",
              "      <td>4.88</td>\n",
              "      <td>4.81</td>\n",
              "      <td>5.00</td>\n",
              "      <td>4.63</td>\n",
              "      <td>61</td>\n",
              "      <td>0</td>\n",
              "      <td>50</td>\n",
              "      <td>0</td>\n",
              "      <td>0.27</td>\n",
              "      <td>0.80</td>\n",
              "    </tr>\n",
              "    <tr>\n",
              "      <th>2298</th>\n",
              "      <td>23312854.0</td>\n",
              "      <td>https://www.airbnb.com/rooms/23312854</td>\n",
              "      <td>2.020000e+13</td>\n",
              "      <td>06/03/23</td>\n",
              "      <td>city scrape</td>\n",
              "      <td>Stratford Cozy Queen</td>\n",
              "      <td>For our soft opening we have decided to give A...</td>\n",
              "      <td>--</td>\n",
              "      <td>https://a0.muscache.com/pictures/miso/Hosting-...</td>\n",
              "      <td>173206762</td>\n",
              "      <td>...</td>\n",
              "      <td>5.00</td>\n",
              "      <td>4.75</td>\n",
              "      <td>4.75</td>\n",
              "      <td>4.50</td>\n",
              "      <td>61</td>\n",
              "      <td>0</td>\n",
              "      <td>50</td>\n",
              "      <td>0</td>\n",
              "      <td>0.09</td>\n",
              "      <td>0.80</td>\n",
              "    </tr>\n",
              "    <tr>\n",
              "      <th>2301</th>\n",
              "      <td>23313045.0</td>\n",
              "      <td>https://www.airbnb.com/rooms/23313045</td>\n",
              "      <td>2.020000e+13</td>\n",
              "      <td>06/03/23</td>\n",
              "      <td>city scrape</td>\n",
              "      <td>Stratford Cozy Queen</td>\n",
              "      <td>For our soft opening we have decided to give A...</td>\n",
              "      <td>In the Heart of Union Square Shopping district!</td>\n",
              "      <td>https://a0.muscache.com/pictures/miso/Hosting-...</td>\n",
              "      <td>173206762</td>\n",
              "      <td>...</td>\n",
              "      <td>4.84</td>\n",
              "      <td>4.58</td>\n",
              "      <td>4.79</td>\n",
              "      <td>4.21</td>\n",
              "      <td>61</td>\n",
              "      <td>0</td>\n",
              "      <td>50</td>\n",
              "      <td>0</td>\n",
              "      <td>0.31</td>\n",
              "      <td>0.80</td>\n",
              "    </tr>\n",
              "    <tr>\n",
              "      <th>2368</th>\n",
              "      <td>23004935.0</td>\n",
              "      <td>https://www.airbnb.com/rooms/23004935</td>\n",
              "      <td>2.020000e+13</td>\n",
              "      <td>06/03/23</td>\n",
              "      <td>previous scrape</td>\n",
              "      <td>Red Victorian - Private room -  Rainbow Room</td>\n",
              "      <td>The Rainbow Room is a private bedroom for up t...</td>\n",
              "      <td>Haight-Ashbury is an incredible relic of San F...</td>\n",
              "      <td>https://a0.muscache.com/pictures/008f2fad-9eb3...</td>\n",
              "      <td>117141107</td>\n",
              "      <td>...</td>\n",
              "      <td>4.83</td>\n",
              "      <td>4.86</td>\n",
              "      <td>4.87</td>\n",
              "      <td>4.59</td>\n",
              "      <td>43</td>\n",
              "      <td>0</td>\n",
              "      <td>16</td>\n",
              "      <td>26</td>\n",
              "      <td>1.12</td>\n",
              "      <td>0.00</td>\n",
              "    </tr>\n",
              "    <tr>\n",
              "      <th>2982</th>\n",
              "      <td>32867573.0</td>\n",
              "      <td>https://www.airbnb.com/rooms/32867573</td>\n",
              "      <td>2.020000e+13</td>\n",
              "      <td>06/03/23</td>\n",
              "      <td>city scrape</td>\n",
              "      <td>Cute &amp; Cozy Room - near BART Station</td>\n",
              "      <td>We are small boutique property with newly remo...</td>\n",
              "      <td>We are conveniently located to SF's best spots...</td>\n",
              "      <td>https://a0.muscache.com/pictures/d8eebd1c-fa95...</td>\n",
              "      <td>103884979</td>\n",
              "      <td>...</td>\n",
              "      <td>4.78</td>\n",
              "      <td>4.65</td>\n",
              "      <td>4.11</td>\n",
              "      <td>4.53</td>\n",
              "      <td>14</td>\n",
              "      <td>0</td>\n",
              "      <td>7</td>\n",
              "      <td>0</td>\n",
              "      <td>1.18</td>\n",
              "      <td>0.99</td>\n",
              "    </tr>\n",
              "    <tr>\n",
              "      <th>3004</th>\n",
              "      <td>33368652.0</td>\n",
              "      <td>https://www.airbnb.com/rooms/33368652</td>\n",
              "      <td>2.020000e+13</td>\n",
              "      <td>06/03/23</td>\n",
              "      <td>previous scrape</td>\n",
              "      <td>Deluxe Room 2 Queen Beds</td>\n",
              "      <td>2 Queen Beds&lt;br /&gt;&lt;br /&gt;Internet - Free WiFi &lt;...</td>\n",
              "      <td>--</td>\n",
              "      <td>https://a0.muscache.com/pictures/43a58ca1-648d...</td>\n",
              "      <td>251141990</td>\n",
              "      <td>...</td>\n",
              "      <td>5.00</td>\n",
              "      <td>5.00</td>\n",
              "      <td>5.00</td>\n",
              "      <td>5.00</td>\n",
              "      <td>5</td>\n",
              "      <td>0</td>\n",
              "      <td>0</td>\n",
              "      <td>0</td>\n",
              "      <td>0.04</td>\n",
              "      <td>0.00</td>\n",
              "    </tr>\n",
              "    <tr>\n",
              "      <th>3005</th>\n",
              "      <td>33370186.0</td>\n",
              "      <td>https://www.airbnb.com/rooms/33370186</td>\n",
              "      <td>2.020000e+13</td>\n",
              "      <td>06/03/23</td>\n",
              "      <td>previous scrape</td>\n",
              "      <td>Signature Suite 1 Bedroom (Spa) 1 King Bed</td>\n",
              "      <td>1 King Bed&lt;br /&gt;&lt;br /&gt;625-sq-foot (58-sq-meter...</td>\n",
              "      <td>--</td>\n",
              "      <td>https://a0.muscache.com/pictures/b3e1062e-6c59...</td>\n",
              "      <td>251141990</td>\n",
              "      <td>...</td>\n",
              "      <td>0.00</td>\n",
              "      <td>0.00</td>\n",
              "      <td>0.00</td>\n",
              "      <td>0.00</td>\n",
              "      <td>5</td>\n",
              "      <td>0</td>\n",
              "      <td>0</td>\n",
              "      <td>0</td>\n",
              "      <td>0.00</td>\n",
              "      <td>0.00</td>\n",
              "    </tr>\n",
              "    <tr>\n",
              "      <th>3006</th>\n",
              "      <td>33370525.0</td>\n",
              "      <td>https://www.airbnb.com/rooms/33370525</td>\n",
              "      <td>2.020000e+13</td>\n",
              "      <td>06/03/23</td>\n",
              "      <td>previous scrape</td>\n",
              "      <td>Deluxe Room 2 Double Beds 2 Full Beds</td>\n",
              "      <td>2 Double Beds&lt;br /&gt;&lt;br /&gt;248-sq-foot (23-sq-me...</td>\n",
              "      <td>--</td>\n",
              "      <td>https://a0.muscache.com/pictures/d3241f34-4b3d...</td>\n",
              "      <td>251141990</td>\n",
              "      <td>...</td>\n",
              "      <td>5.00</td>\n",
              "      <td>5.00</td>\n",
              "      <td>5.00</td>\n",
              "      <td>4.00</td>\n",
              "      <td>5</td>\n",
              "      <td>0</td>\n",
              "      <td>0</td>\n",
              "      <td>0</td>\n",
              "      <td>0.02</td>\n",
              "      <td>0.00</td>\n",
              "    </tr>\n",
              "    <tr>\n",
              "      <th>3007</th>\n",
              "      <td>33370910.0</td>\n",
              "      <td>https://www.airbnb.com/rooms/33370910</td>\n",
              "      <td>2.020000e+13</td>\n",
              "      <td>06/03/23</td>\n",
              "      <td>previous scrape</td>\n",
              "      <td>Economy Petite 2 Double Beds</td>\n",
              "      <td>2 Double Beds&lt;br /&gt;&lt;br /&gt;180 sq feet (16 sq me...</td>\n",
              "      <td>--</td>\n",
              "      <td>https://a0.muscache.com/pictures/2809e80d-47fd...</td>\n",
              "      <td>251141990</td>\n",
              "      <td>...</td>\n",
              "      <td>4.00</td>\n",
              "      <td>3.00</td>\n",
              "      <td>5.00</td>\n",
              "      <td>1.00</td>\n",
              "      <td>5</td>\n",
              "      <td>0</td>\n",
              "      <td>0</td>\n",
              "      <td>0</td>\n",
              "      <td>0.02</td>\n",
              "      <td>0.00</td>\n",
              "    </tr>\n",
              "    <tr>\n",
              "      <th>3008</th>\n",
              "      <td>33386303.0</td>\n",
              "      <td>https://www.airbnb.com/rooms/33386303</td>\n",
              "      <td>2.020000e+13</td>\n",
              "      <td>06/03/23</td>\n",
              "      <td>previous scrape</td>\n",
              "      <td>Deluxe Room 1 Queen Bed</td>\n",
              "      <td>1 Queen Bed&lt;br /&gt;&lt;br /&gt;Internet - Free WiFi &lt;b...</td>\n",
              "      <td>--</td>\n",
              "      <td>https://a0.muscache.com/pictures/5efa1a9f-bc86...</td>\n",
              "      <td>251141990</td>\n",
              "      <td>...</td>\n",
              "      <td>0.00</td>\n",
              "      <td>0.00</td>\n",
              "      <td>0.00</td>\n",
              "      <td>0.00</td>\n",
              "      <td>5</td>\n",
              "      <td>0</td>\n",
              "      <td>0</td>\n",
              "      <td>0</td>\n",
              "      <td>0.00</td>\n",
              "      <td>0.00</td>\n",
              "    </tr>\n",
              "    <tr>\n",
              "      <th>3081</th>\n",
              "      <td>33969918.0</td>\n",
              "      <td>https://www.airbnb.com/rooms/33969918</td>\n",
              "      <td>2.020000e+13</td>\n",
              "      <td>06/03/23</td>\n",
              "      <td>city scrape</td>\n",
              "      <td>Premium Queen Room B</td>\n",
              "      <td>Your next trip to San Francisco starts with a ...</td>\n",
              "      <td>--</td>\n",
              "      <td>https://a0.muscache.com/pictures/prohost-api/H...</td>\n",
              "      <td>250109940</td>\n",
              "      <td>...</td>\n",
              "      <td>5.00</td>\n",
              "      <td>5.00</td>\n",
              "      <td>4.83</td>\n",
              "      <td>4.67</td>\n",
              "      <td>9</td>\n",
              "      <td>0</td>\n",
              "      <td>0</td>\n",
              "      <td>0</td>\n",
              "      <td>0.47</td>\n",
              "      <td>0.95</td>\n",
              "    </tr>\n",
              "    <tr>\n",
              "      <th>3082</th>\n",
              "      <td>33969945.0</td>\n",
              "      <td>https://www.airbnb.com/rooms/33969945</td>\n",
              "      <td>2.020000e+13</td>\n",
              "      <td>06/03/23</td>\n",
              "      <td>city scrape</td>\n",
              "      <td>Premium Queen Room C</td>\n",
              "      <td>Our smart-design space is perfect for anyone l...</td>\n",
              "      <td>--</td>\n",
              "      <td>https://a0.muscache.com/pictures/prohost-api/H...</td>\n",
              "      <td>250109940</td>\n",
              "      <td>...</td>\n",
              "      <td>4.67</td>\n",
              "      <td>4.33</td>\n",
              "      <td>3.00</td>\n",
              "      <td>4.00</td>\n",
              "      <td>9</td>\n",
              "      <td>0</td>\n",
              "      <td>0</td>\n",
              "      <td>0</td>\n",
              "      <td>0.07</td>\n",
              "      <td>0.95</td>\n",
              "    </tr>\n",
              "    <tr>\n",
              "      <th>3083</th>\n",
              "      <td>33969998.0</td>\n",
              "      <td>https://www.airbnb.com/rooms/33969998</td>\n",
              "      <td>2.020000e+13</td>\n",
              "      <td>06/03/23</td>\n",
              "      <td>city scrape</td>\n",
              "      <td>Premium Queen Room A</td>\n",
              "      <td>Our spacious First Class Queen Suite has beaut...</td>\n",
              "      <td>--</td>\n",
              "      <td>https://a0.muscache.com/pictures/prohost-api/H...</td>\n",
              "      <td>250109940</td>\n",
              "      <td>...</td>\n",
              "      <td>4.89</td>\n",
              "      <td>4.74</td>\n",
              "      <td>4.07</td>\n",
              "      <td>4.67</td>\n",
              "      <td>9</td>\n",
              "      <td>0</td>\n",
              "      <td>0</td>\n",
              "      <td>0</td>\n",
              "      <td>2.37</td>\n",
              "      <td>0.95</td>\n",
              "    </tr>\n",
              "    <tr>\n",
              "      <th>3084</th>\n",
              "      <td>33970015.0</td>\n",
              "      <td>https://www.airbnb.com/rooms/33970015</td>\n",
              "      <td>2.020000e+13</td>\n",
              "      <td>06/03/23</td>\n",
              "      <td>city scrape</td>\n",
              "      <td>Premium Queen with Bunk B</td>\n",
              "      <td>Our smart-design space is perfect for anyone l...</td>\n",
              "      <td>--</td>\n",
              "      <td>https://a0.muscache.com/pictures/prohost-api/H...</td>\n",
              "      <td>250109940</td>\n",
              "      <td>...</td>\n",
              "      <td>4.50</td>\n",
              "      <td>4.75</td>\n",
              "      <td>3.25</td>\n",
              "      <td>4.00</td>\n",
              "      <td>9</td>\n",
              "      <td>0</td>\n",
              "      <td>0</td>\n",
              "      <td>0</td>\n",
              "      <td>0.10</td>\n",
              "      <td>0.95</td>\n",
              "    </tr>\n",
              "    <tr>\n",
              "      <th>3085</th>\n",
              "      <td>33970040.0</td>\n",
              "      <td>https://www.airbnb.com/rooms/33970040</td>\n",
              "      <td>2.020000e+13</td>\n",
              "      <td>06/03/23</td>\n",
              "      <td>city scrape</td>\n",
              "      <td>Premium Queen with Bunk C</td>\n",
              "      <td>Your next trip to San Francisco starts with a ...</td>\n",
              "      <td>--</td>\n",
              "      <td>https://a0.muscache.com/pictures/prohost-api/H...</td>\n",
              "      <td>250109940</td>\n",
              "      <td>...</td>\n",
              "      <td>5.00</td>\n",
              "      <td>5.00</td>\n",
              "      <td>4.00</td>\n",
              "      <td>5.00</td>\n",
              "      <td>9</td>\n",
              "      <td>0</td>\n",
              "      <td>0</td>\n",
              "      <td>0</td>\n",
              "      <td>0.26</td>\n",
              "      <td>0.95</td>\n",
              "    </tr>\n",
              "    <tr>\n",
              "      <th>3086</th>\n",
              "      <td>33970056.0</td>\n",
              "      <td>https://www.airbnb.com/rooms/33970056</td>\n",
              "      <td>2.020000e+13</td>\n",
              "      <td>06/03/23</td>\n",
              "      <td>previous scrape</td>\n",
              "      <td>Interior Sky Room C</td>\n",
              "      <td>Our sleek, well-designed space is perfect for ...</td>\n",
              "      <td>--</td>\n",
              "      <td>https://a0.muscache.com/pictures/prohost-api/H...</td>\n",
              "      <td>250109940</td>\n",
              "      <td>...</td>\n",
              "      <td>5.00</td>\n",
              "      <td>5.00</td>\n",
              "      <td>3.75</td>\n",
              "      <td>4.50</td>\n",
              "      <td>9</td>\n",
              "      <td>0</td>\n",
              "      <td>0</td>\n",
              "      <td>0</td>\n",
              "      <td>0.34</td>\n",
              "      <td>0.95</td>\n",
              "    </tr>\n",
              "    <tr>\n",
              "      <th>3087</th>\n",
              "      <td>33970080.0</td>\n",
              "      <td>https://www.airbnb.com/rooms/33970080</td>\n",
              "      <td>2.020000e+13</td>\n",
              "      <td>06/03/23</td>\n",
              "      <td>city scrape</td>\n",
              "      <td>Premium Queen with Bunk A</td>\n",
              "      <td>Enjoy a beautiful view of City Hall when you s...</td>\n",
              "      <td>--</td>\n",
              "      <td>https://a0.muscache.com/pictures/prohost-api/H...</td>\n",
              "      <td>250109940</td>\n",
              "      <td>...</td>\n",
              "      <td>4.00</td>\n",
              "      <td>1.00</td>\n",
              "      <td>2.00</td>\n",
              "      <td>2.00</td>\n",
              "      <td>9</td>\n",
              "      <td>0</td>\n",
              "      <td>0</td>\n",
              "      <td>0</td>\n",
              "      <td>0.02</td>\n",
              "      <td>0.95</td>\n",
              "    </tr>\n",
              "    <tr>\n",
              "      <th>3088</th>\n",
              "      <td>33970108.0</td>\n",
              "      <td>https://www.airbnb.com/rooms/33970108</td>\n",
              "      <td>2.020000e+13</td>\n",
              "      <td>06/03/23</td>\n",
              "      <td>previous scrape</td>\n",
              "      <td>Interior Sky Room B</td>\n",
              "      <td>Interior Sky Cabin B&lt;br /&gt;&lt;br /&gt;&lt;b&gt;The space&lt;/...</td>\n",
              "      <td>--</td>\n",
              "      <td>https://a0.muscache.com/pictures/prohost-api/H...</td>\n",
              "      <td>250109940</td>\n",
              "      <td>...</td>\n",
              "      <td>4.78</td>\n",
              "      <td>4.70</td>\n",
              "      <td>3.78</td>\n",
              "      <td>4.24</td>\n",
              "      <td>9</td>\n",
              "      <td>0</td>\n",
              "      <td>0</td>\n",
              "      <td>0</td>\n",
              "      <td>1.48</td>\n",
              "      <td>0.95</td>\n",
              "    </tr>\n",
              "    <tr>\n",
              "      <th>3089</th>\n",
              "      <td>33970139.0</td>\n",
              "      <td>https://www.airbnb.com/rooms/33970139</td>\n",
              "      <td>2.020000e+13</td>\n",
              "      <td>06/03/23</td>\n",
              "      <td>previous scrape</td>\n",
              "      <td>Interior Sky Room A</td>\n",
              "      <td>VIP suite offers stunning views of SF and plen...</td>\n",
              "      <td>--</td>\n",
              "      <td>https://a0.muscache.com/pictures/prohost-api/H...</td>\n",
              "      <td>250109940</td>\n",
              "      <td>...</td>\n",
              "      <td>5.00</td>\n",
              "      <td>5.00</td>\n",
              "      <td>3.50</td>\n",
              "      <td>4.00</td>\n",
              "      <td>9</td>\n",
              "      <td>0</td>\n",
              "      <td>0</td>\n",
              "      <td>0</td>\n",
              "      <td>0.16</td>\n",
              "      <td>0.95</td>\n",
              "    </tr>\n",
              "    <tr>\n",
              "      <th>3188</th>\n",
              "      <td>34785290.0</td>\n",
              "      <td>https://www.airbnb.com/rooms/34785290</td>\n",
              "      <td>2.020000e+13</td>\n",
              "      <td>06/03/23</td>\n",
              "      <td>city scrape</td>\n",
              "      <td>Moscone Convention - BART - Room with Nice Tou...</td>\n",
              "      <td>YouÃ¢â¬â¢ll love my place because of the loc...</td>\n",
              "      <td>My place is located conveniently in the middle...</td>\n",
              "      <td>https://a0.muscache.com/pictures/miso/Hosting-...</td>\n",
              "      <td>103884979</td>\n",
              "      <td>...</td>\n",
              "      <td>4.80</td>\n",
              "      <td>4.76</td>\n",
              "      <td>4.04</td>\n",
              "      <td>4.54</td>\n",
              "      <td>14</td>\n",
              "      <td>0</td>\n",
              "      <td>7</td>\n",
              "      <td>0</td>\n",
              "      <td>2.04</td>\n",
              "      <td>0.99</td>\n",
              "    </tr>\n",
              "    <tr>\n",
              "      <th>3219</th>\n",
              "      <td>35376420.0</td>\n",
              "      <td>https://www.airbnb.com/rooms/35376420</td>\n",
              "      <td>2.020000e+13</td>\n",
              "      <td>06/03/23</td>\n",
              "      <td>city scrape</td>\n",
              "      <td>Upscale Dorm Style - Private Room + own Fridge</td>\n",
              "      <td>We are a small boutique property with newly re...</td>\n",
              "      <td>The neighborhood is right in the City Center, ...</td>\n",
              "      <td>https://a0.muscache.com/pictures/miso/Hosting-...</td>\n",
              "      <td>103884979</td>\n",
              "      <td>...</td>\n",
              "      <td>4.73</td>\n",
              "      <td>4.78</td>\n",
              "      <td>4.26</td>\n",
              "      <td>4.43</td>\n",
              "      <td>14</td>\n",
              "      <td>0</td>\n",
              "      <td>7</td>\n",
              "      <td>0</td>\n",
              "      <td>2.26</td>\n",
              "      <td>0.99</td>\n",
              "    </tr>\n",
              "    <tr>\n",
              "      <th>3243</th>\n",
              "      <td>35493661.0</td>\n",
              "      <td>https://www.airbnb.com/rooms/35493661</td>\n",
              "      <td>2.020000e+13</td>\n",
              "      <td>06/03/23</td>\n",
              "      <td>city scrape</td>\n",
              "      <td>Hotel Bijou, Superior Queen Bed</td>\n",
              "      <td>You wonÃ¢â¬â¢t find many other hotels near U...</td>\n",
              "      <td>--</td>\n",
              "      <td>https://a0.muscache.com/pictures/dbf76c5f-1bdf...</td>\n",
              "      <td>266321575</td>\n",
              "      <td>...</td>\n",
              "      <td>4.55</td>\n",
              "      <td>4.75</td>\n",
              "      <td>4.38</td>\n",
              "      <td>4.53</td>\n",
              "      <td>8</td>\n",
              "      <td>0</td>\n",
              "      <td>6</td>\n",
              "      <td>0</td>\n",
              "      <td>0.96</td>\n",
              "      <td>0.90</td>\n",
              "    </tr>\n",
              "    <tr>\n",
              "      <th>3244</th>\n",
              "      <td>35493829.0</td>\n",
              "      <td>https://www.airbnb.com/rooms/35493829</td>\n",
              "      <td>2.020000e+13</td>\n",
              "      <td>06/03/23</td>\n",
              "      <td>previous scrape</td>\n",
              "      <td>Hotel Bijou, Superior King Bed</td>\n",
              "      <td>You wonÃ¢â¬â¢t find many other hotels near U...</td>\n",
              "      <td>--</td>\n",
              "      <td>https://a0.muscache.com/pictures/dbf76c5f-1bdf...</td>\n",
              "      <td>266321575</td>\n",
              "      <td>...</td>\n",
              "      <td>4.73</td>\n",
              "      <td>4.68</td>\n",
              "      <td>3.77</td>\n",
              "      <td>4.55</td>\n",
              "      <td>8</td>\n",
              "      <td>0</td>\n",
              "      <td>6</td>\n",
              "      <td>0</td>\n",
              "      <td>0.56</td>\n",
              "      <td>0.90</td>\n",
              "    </tr>\n",
              "    <tr>\n",
              "      <th>3249</th>\n",
              "      <td>35494267.0</td>\n",
              "      <td>https://www.airbnb.com/rooms/35494267</td>\n",
              "      <td>2.020000e+13</td>\n",
              "      <td>06/03/23</td>\n",
              "      <td>city scrape</td>\n",
              "      <td>Music City Hotel, Queen Room with Shared Bathroom</td>\n",
              "      <td>Private room with Queen size bed and shared re...</td>\n",
              "      <td>Music City Hotel is located in the vibrant Pol...</td>\n",
              "      <td>https://a0.muscache.com/pictures/miso/Hosting-...</td>\n",
              "      <td>102523118</td>\n",
              "      <td>...</td>\n",
              "      <td>4.85</td>\n",
              "      <td>4.81</td>\n",
              "      <td>4.65</td>\n",
              "      <td>4.57</td>\n",
              "      <td>12</td>\n",
              "      <td>0</td>\n",
              "      <td>3</td>\n",
              "      <td>6</td>\n",
              "      <td>3.12</td>\n",
              "      <td>1.00</td>\n",
              "    </tr>\n",
              "    <tr>\n",
              "      <th>3250</th>\n",
              "      <td>35494371.0</td>\n",
              "      <td>https://www.airbnb.com/rooms/35494371</td>\n",
              "      <td>2.020000e+13</td>\n",
              "      <td>06/03/23</td>\n",
              "      <td>city scrape</td>\n",
              "      <td>Janis Joplin Themed Room with Private Bathroom</td>\n",
              "      <td>Private room with King size bed and private ba...</td>\n",
              "      <td>Music City Hotel is located in the vibrant Pol...</td>\n",
              "      <td>https://a0.muscache.com/pictures/miso/Hosting-...</td>\n",
              "      <td>102523118</td>\n",
              "      <td>...</td>\n",
              "      <td>4.75</td>\n",
              "      <td>4.75</td>\n",
              "      <td>4.88</td>\n",
              "      <td>4.50</td>\n",
              "      <td>12</td>\n",
              "      <td>0</td>\n",
              "      <td>3</td>\n",
              "      <td>6</td>\n",
              "      <td>0.19</td>\n",
              "      <td>1.00</td>\n",
              "    </tr>\n",
              "    <tr>\n",
              "      <th>3251</th>\n",
              "      <td>35494419.0</td>\n",
              "      <td>https://www.airbnb.com/rooms/35494419</td>\n",
              "      <td>2.020000e+13</td>\n",
              "      <td>06/03/23</td>\n",
              "      <td>city scrape</td>\n",
              "      <td>Music City Hotel, Summer of Love Suite</td>\n",
              "      <td>Summer of Love themed Suite with two Queen bed...</td>\n",
              "      <td>Music City Hotel is located in the vibrant Pol...</td>\n",
              "      <td>https://a0.muscache.com/pictures/miso/Hosting-...</td>\n",
              "      <td>102523118</td>\n",
              "      <td>...</td>\n",
              "      <td>4.73</td>\n",
              "      <td>4.78</td>\n",
              "      <td>4.51</td>\n",
              "      <td>4.54</td>\n",
              "      <td>12</td>\n",
              "      <td>0</td>\n",
              "      <td>3</td>\n",
              "      <td>6</td>\n",
              "      <td>0.92</td>\n",
              "      <td>1.00</td>\n",
              "    </tr>\n",
              "    <tr>\n",
              "      <th>3266</th>\n",
              "      <td>36560687.0</td>\n",
              "      <td>https://www.airbnb.com/rooms/36560687</td>\n",
              "      <td>2.020000e+13</td>\n",
              "      <td>06/03/23</td>\n",
              "      <td>city scrape</td>\n",
              "      <td>Club Wyndham Canterbury One-Bedroom Suite</td>\n",
              "      <td>This spacious one-bedroom resort suite measure...</td>\n",
              "      <td>Wyndham Canterbury at San Francisco is your ge...</td>\n",
              "      <td>https://a0.muscache.com/pictures/8a2a56b4-d28d...</td>\n",
              "      <td>266083019</td>\n",
              "      <td>...</td>\n",
              "      <td>4.80</td>\n",
              "      <td>4.40</td>\n",
              "      <td>4.90</td>\n",
              "      <td>4.90</td>\n",
              "      <td>9</td>\n",
              "      <td>0</td>\n",
              "      <td>8</td>\n",
              "      <td>0</td>\n",
              "      <td>0.25</td>\n",
              "      <td>0.75</td>\n",
              "    </tr>\n",
              "    <tr>\n",
              "      <th>3288</th>\n",
              "      <td>35944209.0</td>\n",
              "      <td>https://www.airbnb.com/rooms/35944209</td>\n",
              "      <td>2.020000e+13</td>\n",
              "      <td>06/03/23</td>\n",
              "      <td>city scrape</td>\n",
              "      <td>Bed &amp; Breakfast - Charming Room - Cozy &amp; Clean</td>\n",
              "      <td>YouÃ¢â¬â¢ll love my place because of the loc...</td>\n",
              "      <td>Just a heads up, we are right in the middle of...</td>\n",
              "      <td>https://a0.muscache.com/pictures/miso/Hosting-...</td>\n",
              "      <td>103884979</td>\n",
              "      <td>...</td>\n",
              "      <td>4.74</td>\n",
              "      <td>4.72</td>\n",
              "      <td>4.09</td>\n",
              "      <td>4.46</td>\n",
              "      <td>14</td>\n",
              "      <td>0</td>\n",
              "      <td>7</td>\n",
              "      <td>0</td>\n",
              "      <td>2.23</td>\n",
              "      <td>0.99</td>\n",
              "    </tr>\n",
              "    <tr>\n",
              "      <th>3295</th>\n",
              "      <td>35642179.0</td>\n",
              "      <td>https://www.airbnb.com/rooms/35642179</td>\n",
              "      <td>2.020000e+13</td>\n",
              "      <td>06/03/23</td>\n",
              "      <td>city scrape</td>\n",
              "      <td>Grant Plaza Hotel, Standard Double</td>\n",
              "      <td>Rated the best hotel for your value, the Grant...</td>\n",
              "      <td>Gateway to Chinatown, 5 minutes walk, 3 blocks...</td>\n",
              "      <td>https://a0.muscache.com/pictures/260539bb-99d6...</td>\n",
              "      <td>265029065</td>\n",
              "      <td>...</td>\n",
              "      <td>4.75</td>\n",
              "      <td>4.63</td>\n",
              "      <td>4.74</td>\n",
              "      <td>4.33</td>\n",
              "      <td>4</td>\n",
              "      <td>0</td>\n",
              "      <td>1</td>\n",
              "      <td>0</td>\n",
              "      <td>20.80</td>\n",
              "      <td>0.99</td>\n",
              "    </tr>\n",
              "    <tr>\n",
              "      <th>3296</th>\n",
              "      <td>35642877.0</td>\n",
              "      <td>https://www.airbnb.com/rooms/35642877</td>\n",
              "      <td>2.020000e+13</td>\n",
              "      <td>06/03/23</td>\n",
              "      <td>city scrape</td>\n",
              "      <td>Grant Plaza Hotel, Standard Twin</td>\n",
              "      <td>Rated the best hotel for your value, Grant Pla...</td>\n",
              "      <td>Gateway to Chinatown, 5 minutes walk, 3 blocks...</td>\n",
              "      <td>https://a0.muscache.com/pictures/9e14dc12-9489...</td>\n",
              "      <td>265029065</td>\n",
              "      <td>...</td>\n",
              "      <td>4.72</td>\n",
              "      <td>4.58</td>\n",
              "      <td>4.72</td>\n",
              "      <td>4.31</td>\n",
              "      <td>4</td>\n",
              "      <td>0</td>\n",
              "      <td>1</td>\n",
              "      <td>0</td>\n",
              "      <td>3.23</td>\n",
              "      <td>0.99</td>\n",
              "    </tr>\n",
              "    <tr>\n",
              "      <th>3317</th>\n",
              "      <td>35643330.0</td>\n",
              "      <td>https://www.airbnb.com/rooms/35643330</td>\n",
              "      <td>2.020000e+13</td>\n",
              "      <td>06/03/23</td>\n",
              "      <td>city scrape</td>\n",
              "      <td>Grant Plaza Hotel, Deluxe Double-Double</td>\n",
              "      <td>Rated the best hotel for your value, the Grant...</td>\n",
              "      <td>Gateway to Chinatown, 5 minutes walk, 3 blocks...</td>\n",
              "      <td>https://a0.muscache.com/pictures/2fbaf766-fcf9...</td>\n",
              "      <td>265029065</td>\n",
              "      <td>...</td>\n",
              "      <td>4.71</td>\n",
              "      <td>4.79</td>\n",
              "      <td>4.86</td>\n",
              "      <td>4.36</td>\n",
              "      <td>4</td>\n",
              "      <td>0</td>\n",
              "      <td>1</td>\n",
              "      <td>0</td>\n",
              "      <td>0.38</td>\n",
              "      <td>0.99</td>\n",
              "    </tr>\n",
              "    <tr>\n",
              "      <th>3327</th>\n",
              "      <td>35691437.0</td>\n",
              "      <td>https://www.airbnb.com/rooms/35691437</td>\n",
              "      <td>2.020000e+13</td>\n",
              "      <td>06/03/23</td>\n",
              "      <td>city scrape</td>\n",
              "      <td>Contemporary &amp; Cozy Room - City Center</td>\n",
              "      <td>YouÃ¢â¬â¢ll love my place because of the loc...</td>\n",
              "      <td>Just a heads up, we are right in the middle of...</td>\n",
              "      <td>https://a0.muscache.com/pictures/eb12904e-7ac3...</td>\n",
              "      <td>103884979</td>\n",
              "      <td>...</td>\n",
              "      <td>4.85</td>\n",
              "      <td>4.73</td>\n",
              "      <td>4.20</td>\n",
              "      <td>4.63</td>\n",
              "      <td>14</td>\n",
              "      <td>0</td>\n",
              "      <td>7</td>\n",
              "      <td>0</td>\n",
              "      <td>2.03</td>\n",
              "      <td>0.99</td>\n",
              "    </tr>\n",
              "    <tr>\n",
              "      <th>3355</th>\n",
              "      <td>36139589.0</td>\n",
              "      <td>https://www.airbnb.com/rooms/36139589</td>\n",
              "      <td>2.020000e+13</td>\n",
              "      <td>06/03/23</td>\n",
              "      <td>city scrape</td>\n",
              "      <td>BART Civic Center - Moscone Convention Center</td>\n",
              "      <td>YouÃ¢â¬â¢ll love my place because of the loc...</td>\n",
              "      <td>Just a heads up, we are right in the middle of...</td>\n",
              "      <td>https://a0.muscache.com/pictures/miso/Hosting-...</td>\n",
              "      <td>103884979</td>\n",
              "      <td>...</td>\n",
              "      <td>4.74</td>\n",
              "      <td>4.75</td>\n",
              "      <td>4.04</td>\n",
              "      <td>4.46</td>\n",
              "      <td>14</td>\n",
              "      <td>0</td>\n",
              "      <td>7</td>\n",
              "      <td>0</td>\n",
              "      <td>2.87</td>\n",
              "      <td>0.99</td>\n",
              "    </tr>\n",
              "    <tr>\n",
              "      <th>3396</th>\n",
              "      <td>37295413.0</td>\n",
              "      <td>https://www.airbnb.com/rooms/37295413</td>\n",
              "      <td>2.020000e+13</td>\n",
              "      <td>06/03/23</td>\n",
              "      <td>previous scrape</td>\n",
              "      <td>Marriott Pulse SF for JP Morgan Conf. (2 Queen...</td>\n",
              "      <td>Hotel room at the \"City by the Bay\" at Marriot...</td>\n",
              "      <td>Explore legendary Fisherman's Wharf, PIER 39, ...</td>\n",
              "      <td>https://a0.muscache.com/pictures/280326d7-2ba0...</td>\n",
              "      <td>13058067</td>\n",
              "      <td>...</td>\n",
              "      <td>5.00</td>\n",
              "      <td>5.00</td>\n",
              "      <td>5.00</td>\n",
              "      <td>4.50</td>\n",
              "      <td>2</td>\n",
              "      <td>0</td>\n",
              "      <td>0</td>\n",
              "      <td>0</td>\n",
              "      <td>0.05</td>\n",
              "      <td>0.00</td>\n",
              "    </tr>\n",
              "    <tr>\n",
              "      <th>3398</th>\n",
              "      <td>36420256.0</td>\n",
              "      <td>https://www.airbnb.com/rooms/36420256</td>\n",
              "      <td>2.020000e+13</td>\n",
              "      <td>06/03/23</td>\n",
              "      <td>city scrape</td>\n",
              "      <td>Deluxe Queen Street Level</td>\n",
              "      <td>Monte Cristo is a classic San Francisco Bed an...</td>\n",
              "      <td>Low key residential location. Pacific Heights,...</td>\n",
              "      <td>https://a0.muscache.com/pictures/880f6eca-8b5d...</td>\n",
              "      <td>160591574</td>\n",
              "      <td>...</td>\n",
              "      <td>5.00</td>\n",
              "      <td>5.00</td>\n",
              "      <td>5.00</td>\n",
              "      <td>5.00</td>\n",
              "      <td>5</td>\n",
              "      <td>0</td>\n",
              "      <td>2</td>\n",
              "      <td>0</td>\n",
              "      <td>0.05</td>\n",
              "      <td>1.00</td>\n",
              "    </tr>\n",
              "    <tr>\n",
              "      <th>3399</th>\n",
              "      <td>36420593.0</td>\n",
              "      <td>https://www.airbnb.com/rooms/36420593</td>\n",
              "      <td>2.020000e+13</td>\n",
              "      <td>06/03/23</td>\n",
              "      <td>city scrape</td>\n",
              "      <td>Street Level Tiny Room</td>\n",
              "      <td>if the walls of the Monte Cristo Bed &amp; Breakfa...</td>\n",
              "      <td>Low key residential location. Pacific Heights,...</td>\n",
              "      <td>https://a0.muscache.com/pictures/2ba9ca23-7bae...</td>\n",
              "      <td>160591574</td>\n",
              "      <td>...</td>\n",
              "      <td>5.00</td>\n",
              "      <td>5.00</td>\n",
              "      <td>5.00</td>\n",
              "      <td>5.00</td>\n",
              "      <td>5</td>\n",
              "      <td>0</td>\n",
              "      <td>2</td>\n",
              "      <td>0</td>\n",
              "      <td>0.03</td>\n",
              "      <td>1.00</td>\n",
              "    </tr>\n",
              "    <tr>\n",
              "      <th>3400</th>\n",
              "      <td>36421114.0</td>\n",
              "      <td>https://www.airbnb.com/rooms/36421114</td>\n",
              "      <td>2.020000e+13</td>\n",
              "      <td>06/03/23</td>\n",
              "      <td>city scrape</td>\n",
              "      <td>Upstairs Corner Junior Suite</td>\n",
              "      <td>if the walls of the Monte Cristo Bed &amp; Breakfa...</td>\n",
              "      <td>Low key residential location. Pacific Heights,...</td>\n",
              "      <td>https://a0.muscache.com/pictures/778ee8c1-2b7d...</td>\n",
              "      <td>160591574</td>\n",
              "      <td>...</td>\n",
              "      <td>5.00</td>\n",
              "      <td>5.00</td>\n",
              "      <td>5.00</td>\n",
              "      <td>4.50</td>\n",
              "      <td>5</td>\n",
              "      <td>0</td>\n",
              "      <td>2</td>\n",
              "      <td>0</td>\n",
              "      <td>0.08</td>\n",
              "      <td>1.00</td>\n",
              "    </tr>\n",
              "    <tr>\n",
              "      <th>3401</th>\n",
              "      <td>37296448.0</td>\n",
              "      <td>https://www.airbnb.com/rooms/37296448</td>\n",
              "      <td>2.020000e+13</td>\n",
              "      <td>06/03/23</td>\n",
              "      <td>city scrape</td>\n",
              "      <td>Marriott Pulse SF: JPMorgan/Dreamforce Conf- 1...</td>\n",
              "      <td>Hotel room at the \"City by the Bay\" at Marriot...</td>\n",
              "      <td>Explore legendary Fisherman's Wharf, PIER 39, ...</td>\n",
              "      <td>https://a0.muscache.com/pictures/001617ef-1198...</td>\n",
              "      <td>13058067</td>\n",
              "      <td>...</td>\n",
              "      <td>0.00</td>\n",
              "      <td>0.00</td>\n",
              "      <td>0.00</td>\n",
              "      <td>0.00</td>\n",
              "      <td>2</td>\n",
              "      <td>0</td>\n",
              "      <td>0</td>\n",
              "      <td>0</td>\n",
              "      <td>0.00</td>\n",
              "      <td>0.00</td>\n",
              "    </tr>\n",
              "    <tr>\n",
              "      <th>4519</th>\n",
              "      <td>48693144.0</td>\n",
              "      <td>https://www.airbnb.com/rooms/48693144</td>\n",
              "      <td>2.020000e+13</td>\n",
              "      <td>06/03/23</td>\n",
              "      <td>previous scrape</td>\n",
              "      <td>Hotel Emblem San Francisco</td>\n",
              "      <td>--</td>\n",
              "      <td>--</td>\n",
              "      <td>https://a0.muscache.com/pictures/miso/Hosting-...</td>\n",
              "      <td>392829961</td>\n",
              "      <td>...</td>\n",
              "      <td>0.00</td>\n",
              "      <td>0.00</td>\n",
              "      <td>0.00</td>\n",
              "      <td>0.00</td>\n",
              "      <td>1</td>\n",
              "      <td>0</td>\n",
              "      <td>0</td>\n",
              "      <td>0</td>\n",
              "      <td>0.00</td>\n",
              "      <td>0.00</td>\n",
              "    </tr>\n",
              "    <tr>\n",
              "      <th>4690</th>\n",
              "      <td>48973911.0</td>\n",
              "      <td>https://www.airbnb.com/rooms/48973911</td>\n",
              "      <td>2.020000e+13</td>\n",
              "      <td>06/03/23</td>\n",
              "      <td>previous scrape</td>\n",
              "      <td>Hotel Triton San Francisco</td>\n",
              "      <td>--</td>\n",
              "      <td>--</td>\n",
              "      <td>https://a0.muscache.com/pictures/miso/Hosting-...</td>\n",
              "      <td>394984266</td>\n",
              "      <td>...</td>\n",
              "      <td>4.90</td>\n",
              "      <td>4.40</td>\n",
              "      <td>5.00</td>\n",
              "      <td>4.20</td>\n",
              "      <td>1</td>\n",
              "      <td>0</td>\n",
              "      <td>0</td>\n",
              "      <td>0</td>\n",
              "      <td>0.46</td>\n",
              "      <td>1.00</td>\n",
              "    </tr>\n",
              "  </tbody>\n",
              "</table>\n",
              "<p>52 rows × 77 columns</p>\n",
              "</div>\n",
              "      <button class=\"colab-df-convert\" onclick=\"convertToInteractive('df-61618ecd-9759-4b38-856a-9f83249d9dcb')\"\n",
              "              title=\"Convert this dataframe to an interactive table.\"\n",
              "              style=\"display:none;\">\n",
              "        \n",
              "  <svg xmlns=\"http://www.w3.org/2000/svg\" height=\"24px\"viewBox=\"0 0 24 24\"\n",
              "       width=\"24px\">\n",
              "    <path d=\"M0 0h24v24H0V0z\" fill=\"none\"/>\n",
              "    <path d=\"M18.56 5.44l.94 2.06.94-2.06 2.06-.94-2.06-.94-.94-2.06-.94 2.06-2.06.94zm-11 1L8.5 8.5l.94-2.06 2.06-.94-2.06-.94L8.5 2.5l-.94 2.06-2.06.94zm10 10l.94 2.06.94-2.06 2.06-.94-2.06-.94-.94-2.06-.94 2.06-2.06.94z\"/><path d=\"M17.41 7.96l-1.37-1.37c-.4-.4-.92-.59-1.43-.59-.52 0-1.04.2-1.43.59L10.3 9.45l-7.72 7.72c-.78.78-.78 2.05 0 2.83L4 21.41c.39.39.9.59 1.41.59.51 0 1.02-.2 1.41-.59l7.78-7.78 2.81-2.81c.8-.78.8-2.07 0-2.86zM5.41 20L4 18.59l7.72-7.72 1.47 1.35L5.41 20z\"/>\n",
              "  </svg>\n",
              "      </button>\n",
              "      \n",
              "  <style>\n",
              "    .colab-df-container {\n",
              "      display:flex;\n",
              "      flex-wrap:wrap;\n",
              "      gap: 12px;\n",
              "    }\n",
              "\n",
              "    .colab-df-convert {\n",
              "      background-color: #E8F0FE;\n",
              "      border: none;\n",
              "      border-radius: 50%;\n",
              "      cursor: pointer;\n",
              "      display: none;\n",
              "      fill: #1967D2;\n",
              "      height: 32px;\n",
              "      padding: 0 0 0 0;\n",
              "      width: 32px;\n",
              "    }\n",
              "\n",
              "    .colab-df-convert:hover {\n",
              "      background-color: #E2EBFA;\n",
              "      box-shadow: 0px 1px 2px rgba(60, 64, 67, 0.3), 0px 1px 3px 1px rgba(60, 64, 67, 0.15);\n",
              "      fill: #174EA6;\n",
              "    }\n",
              "\n",
              "    [theme=dark] .colab-df-convert {\n",
              "      background-color: #3B4455;\n",
              "      fill: #D2E3FC;\n",
              "    }\n",
              "\n",
              "    [theme=dark] .colab-df-convert:hover {\n",
              "      background-color: #434B5C;\n",
              "      box-shadow: 0px 1px 3px 1px rgba(0, 0, 0, 0.15);\n",
              "      filter: drop-shadow(0px 1px 2px rgba(0, 0, 0, 0.3));\n",
              "      fill: #FFFFFF;\n",
              "    }\n",
              "  </style>\n",
              "\n",
              "      <script>\n",
              "        const buttonEl =\n",
              "          document.querySelector('#df-61618ecd-9759-4b38-856a-9f83249d9dcb button.colab-df-convert');\n",
              "        buttonEl.style.display =\n",
              "          google.colab.kernel.accessAllowed ? 'block' : 'none';\n",
              "\n",
              "        async function convertToInteractive(key) {\n",
              "          const element = document.querySelector('#df-61618ecd-9759-4b38-856a-9f83249d9dcb');\n",
              "          const dataTable =\n",
              "            await google.colab.kernel.invokeFunction('convertToInteractive',\n",
              "                                                     [key], {});\n",
              "          if (!dataTable) return;\n",
              "\n",
              "          const docLinkHtml = 'Like what you see? Visit the ' +\n",
              "            '<a target=\"_blank\" href=https://colab.research.google.com/notebooks/data_table.ipynb>data table notebook</a>'\n",
              "            + ' to learn more about interactive tables.';\n",
              "          element.innerHTML = '';\n",
              "          dataTable['output_type'] = 'display_data';\n",
              "          await google.colab.output.renderOutput(dataTable, element);\n",
              "          const docLink = document.createElement('div');\n",
              "          docLink.innerHTML = docLinkHtml;\n",
              "          element.appendChild(docLink);\n",
              "        }\n",
              "      </script>\n",
              "    </div>\n",
              "  </div>\n",
              "  "
            ]
          },
          "metadata": {},
          "execution_count": 52
        }
      ]
    },
    {
      "cell_type": "markdown",
      "source": [
        "## X = host_response_rate\n",
        "\n",
        "## y= host_acceptance_rate"
      ],
      "metadata": {
        "id": "sHubi0Bw_6ig"
      }
    },
    {
      "cell_type": "code",
      "source": [
        "#Imprimimos el scatter plot entre la variable dependiente e independiente \n",
        "#para observar el comportamiento en su dispersión \n",
        "from turtle import color\n",
        "\n",
        "\n",
        "sns.scatterplot(x='host_response_rate', y='host_acceptance_rate', color=\"blue\", data=filtro2_eua)"
      ],
      "metadata": {
        "colab": {
          "base_uri": "https://localhost:8080/",
          "height": 468
        },
        "id": "fW09CMi9_ejX",
        "outputId": "0edfcdcd-933e-45d9-9147-e89cda79b4bd"
      },
      "execution_count": null,
      "outputs": [
        {
          "output_type": "execute_result",
          "data": {
            "text/plain": [
              "<Axes: xlabel='host_response_rate', ylabel='host_acceptance_rate'>"
            ]
          },
          "metadata": {},
          "execution_count": 53
        },
        {
          "output_type": "display_data",
          "data": {
            "text/plain": [
              "<Figure size 640x480 with 1 Axes>"
            ],
            "image/png": "[encoded data removed]"
          },
          "metadata": {}
        }
      ]
    },
    {
      "cell_type": "code",
      "source": [
        "#Declaramos las variables dependientes e independientes para la regresión lineal\n",
        "Vars_Indepa= filtro2_eua[['host_response_rate']]\n",
        "Var_Depa= filtro2_eua['host_acceptance_rate']"
      ],
      "metadata": {
        "id": "VgDuPDD7AT9H"
      },
      "execution_count": null,
      "outputs": []
    },
    {
      "cell_type": "code",
      "source": [
        "#Se define model como la función de regresión lineal\n",
        "from sklearn.linear_model import LinearRegression\n",
        "modela= LinearRegression()"
      ],
      "metadata": {
        "id": "xXIEsprkAd_m"
      },
      "execution_count": null,
      "outputs": []
    },
    {
      "cell_type": "code",
      "source": [
        "#Verificamos la función relacionada al modelo\n",
        "type(modela)"
      ],
      "metadata": {
        "colab": {
          "base_uri": "https://localhost:8080/"
        },
        "id": "yiJtsYzNAkJ0",
        "outputId": "4bec29dc-203c-43e8-f286-c70a5c1f4262"
      },
      "execution_count": null,
      "outputs": [
        {
          "output_type": "execute_result",
          "data": {
            "text/plain": [
              "sklearn.linear_model._base.LinearRegression"
            ]
          },
          "metadata": {},
          "execution_count": 56
        }
      ]
    },
    {
      "cell_type": "code",
      "source": [
        "#Ajustamos el modelo con las variables antes declaradas\n",
        "modela.fit(X=Vars_Indepa, y=Var_Depa)"
      ],
      "metadata": {
        "colab": {
          "base_uri": "https://localhost:8080/",
          "height": 75
        },
        "id": "8_GlnIMxAoDj",
        "outputId": "bf70a370-f845-4068-c186-6baf059e4c82"
      },
      "execution_count": null,
      "outputs": [
        {
          "output_type": "execute_result",
          "data": {
            "text/plain": [
              "LinearRegression()"
            ],
            "text/html": [
              "<style>#sk-container-id-7 {color: black;background-color: white;}#sk-container-id-7 pre{padding: 0;}#sk-container-id-7 div.sk-toggleable {background-color: white;}#sk-container-id-7 label.sk-toggleable__label {cursor: pointer;display: block;width: 100%;margin-bottom: 0;padding: 0.3em;box-sizing: border-box;text-align: center;}#sk-container-id-7 label.sk-toggleable__label-arrow:before {content: \"▸\";float: left;margin-right: 0.25em;color: #696969;}#sk-container-id-7 label.sk-toggleable__label-arrow:hover:before {color: black;}#sk-container-id-7 div.sk-estimator:hover label.sk-toggleable__label-arrow:before {color: black;}#sk-container-id-7 div.sk-toggleable__content {max-height: 0;max-width: 0;overflow: hidden;text-align: left;background-color: #f0f8ff;}#sk-container-id-7 div.sk-toggleable__content pre {margin: 0.2em;color: black;border-radius: 0.25em;background-color: #f0f8ff;}#sk-container-id-7 input.sk-toggleable__control:checked~div.sk-toggleable__content {max-height: 200px;max-width: 100%;overflow: auto;}#sk-container-id-7 input.sk-toggleable__control:checked~label.sk-toggleable__label-arrow:before {content: \"▾\";}#sk-container-id-7 div.sk-estimator input.sk-toggleable__control:checked~label.sk-toggleable__label {background-color: #d4ebff;}#sk-container-id-7 div.sk-label input.sk-toggleable__control:checked~label.sk-toggleable__label {background-color: #d4ebff;}#sk-container-id-7 input.sk-hidden--visually {border: 0;clip: rect(1px 1px 1px 1px);clip: rect(1px, 1px, 1px, 1px);height: 1px;margin: -1px;overflow: hidden;padding: 0;position: absolute;width: 1px;}#sk-container-id-7 div.sk-estimator {font-family: monospace;background-color: #f0f8ff;border: 1px dotted black;border-radius: 0.25em;box-sizing: border-box;margin-bottom: 0.5em;}#sk-container-id-7 div.sk-estimator:hover {background-color: #d4ebff;}#sk-container-id-7 div.sk-parallel-item::after {content: \"\";width: 100%;border-bottom: 1px solid gray;flex-grow: 1;}#sk-container-id-7 div.sk-label:hover label.sk-toggleable__label {background-color: #d4ebff;}#sk-container-id-7 div.sk-serial::before {content: \"\";position: absolute;border-left: 1px solid gray;box-sizing: border-box;top: 0;bottom: 0;left: 50%;z-index: 0;}#sk-container-id-7 div.sk-serial {display: flex;flex-direction: column;align-items: center;background-color: white;padding-right: 0.2em;padding-left: 0.2em;position: relative;}#sk-container-id-7 div.sk-item {position: relative;z-index: 1;}#sk-container-id-7 div.sk-parallel {display: flex;align-items: stretch;justify-content: center;background-color: white;position: relative;}#sk-container-id-7 div.sk-item::before, #sk-container-id-7 div.sk-parallel-item::before {content: \"\";position: absolute;border-left: 1px solid gray;box-sizing: border-box;top: 0;bottom: 0;left: 50%;z-index: -1;}#sk-container-id-7 div.sk-parallel-item {display: flex;flex-direction: column;z-index: 1;position: relative;background-color: white;}#sk-container-id-7 div.sk-parallel-item:first-child::after {align-self: flex-end;width: 50%;}#sk-container-id-7 div.sk-parallel-item:last-child::after {align-self: flex-start;width: 50%;}#sk-container-id-7 div.sk-parallel-item:only-child::after {width: 0;}#sk-container-id-7 div.sk-dashed-wrapped {border: 1px dashed gray;margin: 0 0.4em 0.5em 0.4em;box-sizing: border-box;padding-bottom: 0.4em;background-color: white;}#sk-container-id-7 div.sk-label label {font-family: monospace;font-weight: bold;display: inline-block;line-height: 1.2em;}#sk-container-id-7 div.sk-label-container {text-align: center;}#sk-container-id-7 div.sk-container {/* jupyter's `normalize.less` sets `[hidden] { display: none; }` but bootstrap.min.css set `[hidden] { display: none !important; }` so we also need the `!important` here to be able to override the default hidden behavior on the sphinx rendered scikit-learn.org. See: https://github.com/scikit-learn/scikit-learn/issues/21755 */display: inline-block !important;position: relative;}#sk-container-id-7 div.sk-text-repr-fallback {display: none;}</style><div id=\"sk-container-id-7\" class=\"sk-top-container\"><div class=\"sk-text-repr-fallback\"><pre>LinearRegression()</pre><b>In a Jupyter environment, please rerun this cell to show the HTML representation or trust the notebook. <br />On GitHub, the HTML representation is unable to render, please try loading this page with nbviewer.org.</b></div><div class=\"sk-container\" hidden><div class=\"sk-item\"><div class=\"sk-estimator sk-toggleable\"><input class=\"sk-toggleable__control sk-hidden--visually\" id=\"sk-estimator-id-7\" type=\"checkbox\" checked><label for=\"sk-estimator-id-7\" class=\"sk-toggleable__label sk-toggleable__label-arrow\">LinearRegression</label><div class=\"sk-toggleable__content\"><pre>LinearRegression()</pre></div></div></div></div></div>"
            ]
          },
          "metadata": {},
          "execution_count": 57
        }
      ]
    },
    {
      "cell_type": "code",
      "source": [
        "#Verificamos los coeficientes obtenidos para el modelo ajustado\n",
        "modela.__dict__"
      ],
      "metadata": {
        "colab": {
          "base_uri": "https://localhost:8080/"
        },
        "id": "Opr5EldxAu2s",
        "outputId": "22aaae8d-f520-4fdd-ba7e-ee33d4e1f232"
      },
      "execution_count": null,
      "outputs": [
        {
          "output_type": "execute_result",
          "data": {
            "text/plain": [
              "{'fit_intercept': True,\n",
              " 'copy_X': True,\n",
              " 'n_jobs': None,\n",
              " 'positive': False,\n",
              " 'feature_names_in_': array(['host_response_rate'], dtype=object),\n",
              " 'n_features_in_': 1,\n",
              " 'coef_': array([1.02523785]),\n",
              " 'rank_': 1,\n",
              " 'singular_': array([2.58350537]),\n",
              " 'intercept_': 0.0381930481684023}"
            ]
          },
          "metadata": {},
          "execution_count": 58
        }
      ]
    },
    {
      "cell_type": "markdown",
      "source": [
        "Modelo matemático: y= 1.02523785x + 0.0381930481684023"
      ],
      "metadata": {
        "id": "dSbzmTbUA584"
      }
    },
    {
      "cell_type": "code",
      "source": [
        "#Corroboramos cual es el coeficiente de Determinación de nuestro modelo\n",
        "coef_Detera=modela.score(X=Vars_Indepa, y=Var_Depa)\n",
        "coef_Detera"
      ],
      "metadata": {
        "colab": {
          "base_uri": "https://localhost:8080/"
        },
        "id": "_FoN_ApLA_xQ",
        "outputId": "190d1885-101f-4837-a2c6-b5ec029a1b23"
      },
      "execution_count": null,
      "outputs": [
        {
          "output_type": "execute_result",
          "data": {
            "text/plain": [
              "0.951897521440099"
            ]
          },
          "metadata": {},
          "execution_count": 59
        }
      ]
    },
    {
      "cell_type": "code",
      "source": [
        "#Corroboramos cual es el coeficiente de Correlación de nuestro modelo\n",
        "coef_Correla=np.sqrt(coef_Detera)\n",
        "coef_Correla"
      ],
      "metadata": {
        "colab": {
          "base_uri": "https://localhost:8080/"
        },
        "id": "44kW-HYABF3V",
        "outputId": "d135fde6-16f7-4791-b952-7c6d6d105502"
      },
      "execution_count": null,
      "outputs": [
        {
          "output_type": "execute_result",
          "data": {
            "text/plain": [
              "0.9756523568567336"
            ]
          },
          "metadata": {},
          "execution_count": 60
        }
      ]
    },
    {
      "cell_type": "markdown",
      "source": [
        "## X = price\n",
        "## y= host_acceptance_rate"
      ],
      "metadata": {
        "id": "jk_fKXQOBS1D"
      }
    },
    {
      "cell_type": "code",
      "source": [
        "#Imprimimos el scatter plot entre la variable dependiente e independiente \n",
        "#para observar el comportamiento en su dispersión \n",
        "from turtle import color\n",
        "\n",
        "\n",
        "sns.scatterplot(x='price', y='host_acceptance_rate', color=\"blue\", data=filtro2_eua)"
      ],
      "metadata": {
        "colab": {
          "base_uri": "https://localhost:8080/",
          "height": 467
        },
        "id": "iZHd0979BZ-F",
        "outputId": "66ef49db-591d-4733-d044-d851a2a300d6"
      },
      "execution_count": null,
      "outputs": [
        {
          "output_type": "execute_result",
          "data": {
            "text/plain": [
              "<Axes: xlabel='price', ylabel='host_acceptance_rate'>"
            ]
          },
          "metadata": {},
          "execution_count": 61
        },
        {
          "output_type": "display_data",
          "data": {
            "text/plain": [
              "<Figure size 640x480 with 1 Axes>"
            ],
            "image/png": "[encoded data removed]"
          },
          "metadata": {}
        }
      ]
    },
    {
      "cell_type": "code",
      "source": [
        "#Declaramos las variables dependientes e independientes para la regresión lineal\n",
        "Vars_Indepb= filtro2_eua[['price']]\n",
        "Var_Depb= filtro2_eua['host_acceptance_rate']"
      ],
      "metadata": {
        "id": "vk1-b4KWBi9X"
      },
      "execution_count": null,
      "outputs": []
    },
    {
      "cell_type": "code",
      "source": [
        "#Se define model como la función de regresión lineal\n",
        "from sklearn.linear_model import LinearRegression\n",
        "modelb= LinearRegression()"
      ],
      "metadata": {
        "id": "hcg6J9mqBqJA"
      },
      "execution_count": null,
      "outputs": []
    },
    {
      "cell_type": "code",
      "source": [
        "#Verificamos la función relacionada al modelo\n",
        "type(modelb)"
      ],
      "metadata": {
        "colab": {
          "base_uri": "https://localhost:8080/"
        },
        "id": "ZyxB56dvCqxn",
        "outputId": "92f36c55-ae12-4b76-a922-d1e9f12e6317"
      },
      "execution_count": null,
      "outputs": [
        {
          "output_type": "execute_result",
          "data": {
            "text/plain": [
              "sklearn.linear_model._base.LinearRegression"
            ]
          },
          "metadata": {},
          "execution_count": 64
        }
      ]
    },
    {
      "cell_type": "code",
      "source": [
        "#Ajustamos el modelo con las variables antes declaradas\n",
        "modelb.fit(X=Vars_Indepb, y=Var_Depb)"
      ],
      "metadata": {
        "colab": {
          "base_uri": "https://localhost:8080/",
          "height": 75
        },
        "id": "2tq_bYG-Cmm6",
        "outputId": "9b959a86-df90-459c-d1bb-7419982f4b7a"
      },
      "execution_count": null,
      "outputs": [
        {
          "output_type": "execute_result",
          "data": {
            "text/plain": [
              "LinearRegression()"
            ],
            "text/html": [
              "<style>#sk-container-id-8 {color: black;background-color: white;}#sk-container-id-8 pre{padding: 0;}#sk-container-id-8 div.sk-toggleable {background-color: white;}#sk-container-id-8 label.sk-toggleable__label {cursor: pointer;display: block;width: 100%;margin-bottom: 0;padding: 0.3em;box-sizing: border-box;text-align: center;}#sk-container-id-8 label.sk-toggleable__label-arrow:before {content: \"▸\";float: left;margin-right: 0.25em;color: #696969;}#sk-container-id-8 label.sk-toggleable__label-arrow:hover:before {color: black;}#sk-container-id-8 div.sk-estimator:hover label.sk-toggleable__label-arrow:before {color: black;}#sk-container-id-8 div.sk-toggleable__content {max-height: 0;max-width: 0;overflow: hidden;text-align: left;background-color: #f0f8ff;}#sk-container-id-8 div.sk-toggleable__content pre {margin: 0.2em;color: black;border-radius: 0.25em;background-color: #f0f8ff;}#sk-container-id-8 input.sk-toggleable__control:checked~div.sk-toggleable__content {max-height: 200px;max-width: 100%;overflow: auto;}#sk-container-id-8 input.sk-toggleable__control:checked~label.sk-toggleable__label-arrow:before {content: \"▾\";}#sk-container-id-8 div.sk-estimator input.sk-toggleable__control:checked~label.sk-toggleable__label {background-color: #d4ebff;}#sk-container-id-8 div.sk-label input.sk-toggleable__control:checked~label.sk-toggleable__label {background-color: #d4ebff;}#sk-container-id-8 input.sk-hidden--visually {border: 0;clip: rect(1px 1px 1px 1px);clip: rect(1px, 1px, 1px, 1px);height: 1px;margin: -1px;overflow: hidden;padding: 0;position: absolute;width: 1px;}#sk-container-id-8 div.sk-estimator {font-family: monospace;background-color: #f0f8ff;border: 1px dotted black;border-radius: 0.25em;box-sizing: border-box;margin-bottom: 0.5em;}#sk-container-id-8 div.sk-estimator:hover {background-color: #d4ebff;}#sk-container-id-8 div.sk-parallel-item::after {content: \"\";width: 100%;border-bottom: 1px solid gray;flex-grow: 1;}#sk-container-id-8 div.sk-label:hover label.sk-toggleable__label {background-color: #d4ebff;}#sk-container-id-8 div.sk-serial::before {content: \"\";position: absolute;border-left: 1px solid gray;box-sizing: border-box;top: 0;bottom: 0;left: 50%;z-index: 0;}#sk-container-id-8 div.sk-serial {display: flex;flex-direction: column;align-items: center;background-color: white;padding-right: 0.2em;padding-left: 0.2em;position: relative;}#sk-container-id-8 div.sk-item {position: relative;z-index: 1;}#sk-container-id-8 div.sk-parallel {display: flex;align-items: stretch;justify-content: center;background-color: white;position: relative;}#sk-container-id-8 div.sk-item::before, #sk-container-id-8 div.sk-parallel-item::before {content: \"\";position: absolute;border-left: 1px solid gray;box-sizing: border-box;top: 0;bottom: 0;left: 50%;z-index: -1;}#sk-container-id-8 div.sk-parallel-item {display: flex;flex-direction: column;z-index: 1;position: relative;background-color: white;}#sk-container-id-8 div.sk-parallel-item:first-child::after {align-self: flex-end;width: 50%;}#sk-container-id-8 div.sk-parallel-item:last-child::after {align-self: flex-start;width: 50%;}#sk-container-id-8 div.sk-parallel-item:only-child::after {width: 0;}#sk-container-id-8 div.sk-dashed-wrapped {border: 1px dashed gray;margin: 0 0.4em 0.5em 0.4em;box-sizing: border-box;padding-bottom: 0.4em;background-color: white;}#sk-container-id-8 div.sk-label label {font-family: monospace;font-weight: bold;display: inline-block;line-height: 1.2em;}#sk-container-id-8 div.sk-label-container {text-align: center;}#sk-container-id-8 div.sk-container {/* jupyter's `normalize.less` sets `[hidden] { display: none; }` but bootstrap.min.css set `[hidden] { display: none !important; }` so we also need the `!important` here to be able to override the default hidden behavior on the sphinx rendered scikit-learn.org. See: https://github.com/scikit-learn/scikit-learn/issues/21755 */display: inline-block !important;position: relative;}#sk-container-id-8 div.sk-text-repr-fallback {display: none;}</style><div id=\"sk-container-id-8\" class=\"sk-top-container\"><div class=\"sk-text-repr-fallback\"><pre>LinearRegression()</pre><b>In a Jupyter environment, please rerun this cell to show the HTML representation or trust the notebook. <br />On GitHub, the HTML representation is unable to render, please try loading this page with nbviewer.org.</b></div><div class=\"sk-container\" hidden><div class=\"sk-item\"><div class=\"sk-estimator sk-toggleable\"><input class=\"sk-toggleable__control sk-hidden--visually\" id=\"sk-estimator-id-8\" type=\"checkbox\" checked><label for=\"sk-estimator-id-8\" class=\"sk-toggleable__label sk-toggleable__label-arrow\">LinearRegression</label><div class=\"sk-toggleable__content\"><pre>LinearRegression()</pre></div></div></div></div></div>"
            ]
          },
          "metadata": {},
          "execution_count": 65
        }
      ]
    },
    {
      "cell_type": "code",
      "source": [
        "#Verificamos los coeficientes obtenidos para el modelo ajustado\n",
        "modelb.__dict__"
      ],
      "metadata": {
        "colab": {
          "base_uri": "https://localhost:8080/"
        },
        "id": "bLfItfNvCxP8",
        "outputId": "a879d480-a07b-42c1-a6f0-2240d878a78e"
      },
      "execution_count": null,
      "outputs": [
        {
          "output_type": "execute_result",
          "data": {
            "text/plain": [
              "{'fit_intercept': True,\n",
              " 'copy_X': True,\n",
              " 'n_jobs': None,\n",
              " 'positive': False,\n",
              " 'feature_names_in_': array(['price'], dtype=object),\n",
              " 'n_features_in_': 1,\n",
              " 'coef_': array([1.37986599e-05]),\n",
              " 'rank_': 1,\n",
              " 'singular_': array([18888.09646464]),\n",
              " 'intercept_': 0.8094552245787601}"
            ]
          },
          "metadata": {},
          "execution_count": 66
        }
      ]
    },
    {
      "cell_type": "markdown",
      "source": [
        "Modelo matemático: y= 1.37986599e-05x + 0.8094552245787601"
      ],
      "metadata": {
        "id": "vd2kaeHAC63i"
      }
    },
    {
      "cell_type": "code",
      "source": [
        "#Corroboramos cual es el coeficiente de Determinación de nuestro modelo\n",
        "coef_Deterb=modelb.score(X=Vars_Indepb, y=Var_Depb)\n",
        "coef_Deterb"
      ],
      "metadata": {
        "colab": {
          "base_uri": "https://localhost:8080/"
        },
        "id": "RRrog0fBDDXS",
        "outputId": "00e578b5-270b-42c8-9ec0-4af49141b02b"
      },
      "execution_count": null,
      "outputs": [
        {
          "output_type": "execute_result",
          "data": {
            "text/plain": [
              "0.009216635348141544"
            ]
          },
          "metadata": {},
          "execution_count": 67
        }
      ]
    },
    {
      "cell_type": "code",
      "source": [
        "#Corroboramos cual es el coeficiente de Correlación de nuestro modelo\n",
        "coef_Correlb=np.sqrt(coef_Deterb)\n",
        "coef_Correlb"
      ],
      "metadata": {
        "colab": {
          "base_uri": "https://localhost:8080/"
        },
        "id": "gUZVraR0DLsH",
        "outputId": "780ae8b0-cab7-4cfd-f6aa-ee955f7c29f1"
      },
      "execution_count": null,
      "outputs": [
        {
          "output_type": "execute_result",
          "data": {
            "text/plain": [
              "0.09600330904787367"
            ]
          },
          "metadata": {},
          "execution_count": 68
        }
      ]
    },
    {
      "cell_type": "markdown",
      "source": [
        "## X = number_of_reviews\n",
        "## y= host_acceptance_rate"
      ],
      "metadata": {
        "id": "VvlUjPyuDZDm"
      }
    },
    {
      "cell_type": "code",
      "source": [
        "#Imprimimos el scatter plot entre la variable dependiente e independiente \n",
        "#para observar el comportamiento en su dispersión \n",
        "from turtle import color\n",
        "\n",
        "\n",
        "sns.scatterplot(x='number_of_reviews', y='host_acceptance_rate', color=\"blue\", data=filtro2_eua)"
      ],
      "metadata": {
        "colab": {
          "base_uri": "https://localhost:8080/",
          "height": 468
        },
        "id": "zv6kMSGYDe75",
        "outputId": "b0c2a008-6086-45f6-806f-a82d956cc36f"
      },
      "execution_count": null,
      "outputs": [
        {
          "output_type": "execute_result",
          "data": {
            "text/plain": [
              "<Axes: xlabel='number_of_reviews', ylabel='host_acceptance_rate'>"
            ]
          },
          "metadata": {},
          "execution_count": 69
        },
        {
          "output_type": "display_data",
          "data": {
            "text/plain": [
              "<Figure size 640x480 with 1 Axes>"
            ],
            "image/png": "[encoded data removed]"
          },
          "metadata": {}
        }
      ]
    },
    {
      "cell_type": "code",
      "source": [
        "#Declaramos las variables dependientes e independientes para la regresión lineal\n",
        "Vars_Indepc= filtro2_eua[['number_of_reviews']]\n",
        "Var_Depc= filtro2_eua['host_acceptance_rate']"
      ],
      "metadata": {
        "id": "bq6OMy8fE0At"
      },
      "execution_count": null,
      "outputs": []
    },
    {
      "cell_type": "code",
      "source": [
        "#Se define model como la función de regresión lineal\n",
        "from sklearn.linear_model import LinearRegression\n",
        "modelc= LinearRegression()"
      ],
      "metadata": {
        "id": "nunzDJjuE-fx"
      },
      "execution_count": null,
      "outputs": []
    },
    {
      "cell_type": "code",
      "source": [
        "#Verificamos la función relacionada al modelo\n",
        "type(modelc)"
      ],
      "metadata": {
        "colab": {
          "base_uri": "https://localhost:8080/"
        },
        "id": "jwyVUfQWFDLS",
        "outputId": "e38befc5-2001-4239-95be-d488de3510cb"
      },
      "execution_count": null,
      "outputs": [
        {
          "output_type": "execute_result",
          "data": {
            "text/plain": [
              "sklearn.linear_model._base.LinearRegression"
            ]
          },
          "metadata": {},
          "execution_count": 72
        }
      ]
    },
    {
      "cell_type": "code",
      "source": [
        "#Ajustamos el modelo con las variables antes declaradas\n",
        "modelc.fit(X=Vars_Indepc, y=Var_Depc)"
      ],
      "metadata": {
        "colab": {
          "base_uri": "https://localhost:8080/",
          "height": 75
        },
        "id": "Q5z_fPBbFy11",
        "outputId": "0f813c34-8de0-4d6f-aa9d-ea410c8c20da"
      },
      "execution_count": null,
      "outputs": [
        {
          "output_type": "execute_result",
          "data": {
            "text/plain": [
              "LinearRegression()"
            ],
            "text/html": [
              "<style>#sk-container-id-9 {color: black;background-color: white;}#sk-container-id-9 pre{padding: 0;}#sk-container-id-9 div.sk-toggleable {background-color: white;}#sk-container-id-9 label.sk-toggleable__label {cursor: pointer;display: block;width: 100%;margin-bottom: 0;padding: 0.3em;box-sizing: border-box;text-align: center;}#sk-container-id-9 label.sk-toggleable__label-arrow:before {content: \"▸\";float: left;margin-right: 0.25em;color: #696969;}#sk-container-id-9 label.sk-toggleable__label-arrow:hover:before {color: black;}#sk-container-id-9 div.sk-estimator:hover label.sk-toggleable__label-arrow:before {color: black;}#sk-container-id-9 div.sk-toggleable__content {max-height: 0;max-width: 0;overflow: hidden;text-align: left;background-color: #f0f8ff;}#sk-container-id-9 div.sk-toggleable__content pre {margin: 0.2em;color: black;border-radius: 0.25em;background-color: #f0f8ff;}#sk-container-id-9 input.sk-toggleable__control:checked~div.sk-toggleable__content {max-height: 200px;max-width: 100%;overflow: auto;}#sk-container-id-9 input.sk-toggleable__control:checked~label.sk-toggleable__label-arrow:before {content: \"▾\";}#sk-container-id-9 div.sk-estimator input.sk-toggleable__control:checked~label.sk-toggleable__label {background-color: #d4ebff;}#sk-container-id-9 div.sk-label input.sk-toggleable__control:checked~label.sk-toggleable__label {background-color: #d4ebff;}#sk-container-id-9 input.sk-hidden--visually {border: 0;clip: rect(1px 1px 1px 1px);clip: rect(1px, 1px, 1px, 1px);height: 1px;margin: -1px;overflow: hidden;padding: 0;position: absolute;width: 1px;}#sk-container-id-9 div.sk-estimator {font-family: monospace;background-color: #f0f8ff;border: 1px dotted black;border-radius: 0.25em;box-sizing: border-box;margin-bottom: 0.5em;}#sk-container-id-9 div.sk-estimator:hover {background-color: #d4ebff;}#sk-container-id-9 div.sk-parallel-item::after {content: \"\";width: 100%;border-bottom: 1px solid gray;flex-grow: 1;}#sk-container-id-9 div.sk-label:hover label.sk-toggleable__label {background-color: #d4ebff;}#sk-container-id-9 div.sk-serial::before {content: \"\";position: absolute;border-left: 1px solid gray;box-sizing: border-box;top: 0;bottom: 0;left: 50%;z-index: 0;}#sk-container-id-9 div.sk-serial {display: flex;flex-direction: column;align-items: center;background-color: white;padding-right: 0.2em;padding-left: 0.2em;position: relative;}#sk-container-id-9 div.sk-item {position: relative;z-index: 1;}#sk-container-id-9 div.sk-parallel {display: flex;align-items: stretch;justify-content: center;background-color: white;position: relative;}#sk-container-id-9 div.sk-item::before, #sk-container-id-9 div.sk-parallel-item::before {content: \"\";position: absolute;border-left: 1px solid gray;box-sizing: border-box;top: 0;bottom: 0;left: 50%;z-index: -1;}#sk-container-id-9 div.sk-parallel-item {display: flex;flex-direction: column;z-index: 1;position: relative;background-color: white;}#sk-container-id-9 div.sk-parallel-item:first-child::after {align-self: flex-end;width: 50%;}#sk-container-id-9 div.sk-parallel-item:last-child::after {align-self: flex-start;width: 50%;}#sk-container-id-9 div.sk-parallel-item:only-child::after {width: 0;}#sk-container-id-9 div.sk-dashed-wrapped {border: 1px dashed gray;margin: 0 0.4em 0.5em 0.4em;box-sizing: border-box;padding-bottom: 0.4em;background-color: white;}#sk-container-id-9 div.sk-label label {font-family: monospace;font-weight: bold;display: inline-block;line-height: 1.2em;}#sk-container-id-9 div.sk-label-container {text-align: center;}#sk-container-id-9 div.sk-container {/* jupyter's `normalize.less` sets `[hidden] { display: none; }` but bootstrap.min.css set `[hidden] { display: none !important; }` so we also need the `!important` here to be able to override the default hidden behavior on the sphinx rendered scikit-learn.org. See: https://github.com/scikit-learn/scikit-learn/issues/21755 */display: inline-block !important;position: relative;}#sk-container-id-9 div.sk-text-repr-fallback {display: none;}</style><div id=\"sk-container-id-9\" class=\"sk-top-container\"><div class=\"sk-text-repr-fallback\"><pre>LinearRegression()</pre><b>In a Jupyter environment, please rerun this cell to show the HTML representation or trust the notebook. <br />On GitHub, the HTML representation is unable to render, please try loading this page with nbviewer.org.</b></div><div class=\"sk-container\" hidden><div class=\"sk-item\"><div class=\"sk-estimator sk-toggleable\"><input class=\"sk-toggleable__control sk-hidden--visually\" id=\"sk-estimator-id-9\" type=\"checkbox\" checked><label for=\"sk-estimator-id-9\" class=\"sk-toggleable__label sk-toggleable__label-arrow\">LinearRegression</label><div class=\"sk-toggleable__content\"><pre>LinearRegression()</pre></div></div></div></div></div>"
            ]
          },
          "metadata": {},
          "execution_count": 73
        }
      ]
    },
    {
      "cell_type": "code",
      "source": [
        "#Verificamos los coeficientes obtenidos para el modelo ajustado\n",
        "modelc.__dict__"
      ],
      "metadata": {
        "colab": {
          "base_uri": "https://localhost:8080/"
        },
        "id": "WAMfzvY-F5xj",
        "outputId": "ff8e9d8b-7be6-4a9c-e750-3cb5ad1d232e"
      },
      "execution_count": null,
      "outputs": [
        {
          "output_type": "execute_result",
          "data": {
            "text/plain": [
              "{'fit_intercept': True,\n",
              " 'copy_X': True,\n",
              " 'n_jobs': None,\n",
              " 'positive': False,\n",
              " 'feature_names_in_': array(['number_of_reviews'], dtype=object),\n",
              " 'n_features_in_': 1,\n",
              " 'coef_': array([0.00046365]),\n",
              " 'rank_': 1,\n",
              " 'singular_': array([975.14251424]),\n",
              " 'intercept_': 0.7962857128180519}"
            ]
          },
          "metadata": {},
          "execution_count": 74
        }
      ]
    },
    {
      "cell_type": "markdown",
      "source": [
        "Modelo matemático: y=0.00046365x + 0.7962857128180519"
      ],
      "metadata": {
        "id": "Ix3yw2XGF_-f"
      }
    },
    {
      "cell_type": "code",
      "source": [
        "#Corroboramos cual es el coeficiente de Determinación de nuestro modelo\n",
        "coef_Deterc=modelc.score(X=Vars_Indepc, y=Var_Depc)\n",
        "coef_Deterc"
      ],
      "metadata": {
        "colab": {
          "base_uri": "https://localhost:8080/"
        },
        "id": "ujhwqS_7GIOp",
        "outputId": "287091e0-f95d-4bba-fc80-04a90e45511b"
      },
      "execution_count": null,
      "outputs": [
        {
          "output_type": "execute_result",
          "data": {
            "text/plain": [
              "0.027736171539034737"
            ]
          },
          "metadata": {},
          "execution_count": 75
        }
      ]
    },
    {
      "cell_type": "code",
      "source": [
        "#Corroboramos cual es el coeficiente de Correlación de nuestro modelo\n",
        "coef_Correlc=np.sqrt(coef_Deterc)\n",
        "coef_Correlc"
      ],
      "metadata": {
        "colab": {
          "base_uri": "https://localhost:8080/"
        },
        "id": "w8geTju7GQbK",
        "outputId": "23f640ec-865e-463a-d0b2-c7f6d354f505"
      },
      "execution_count": null,
      "outputs": [
        {
          "output_type": "execute_result",
          "data": {
            "text/plain": [
              "0.16654180117626546"
            ]
          },
          "metadata": {},
          "execution_count": 76
        }
      ]
    },
    {
      "cell_type": "markdown",
      "source": [
        "## X = review_scores_cleanliness\n",
        "\n",
        "## y= review_scores_location"
      ],
      "metadata": {
        "id": "LlhNC2NVGXNS"
      }
    },
    {
      "cell_type": "code",
      "source": [
        "#Imprimimos el scatter plot entre la variable dependiente e independiente\n",
        "#para observar el comportamiento en su dispersión \n",
        "from turtle import color\n",
        "\n",
        "\n",
        "sns.scatterplot(x='review_scores_cleanliness', y='review_scores_location', color=\"blue\", data=filtro2_eua)"
      ],
      "metadata": {
        "colab": {
          "base_uri": "https://localhost:8080/",
          "height": 468
        },
        "id": "DC0lMbekGdcP",
        "outputId": "3e544099-9ca4-4f2e-8a43-7eb83709735d"
      },
      "execution_count": null,
      "outputs": [
        {
          "output_type": "execute_result",
          "data": {
            "text/plain": [
              "<Axes: xlabel='review_scores_cleanliness', ylabel='review_scores_location'>"
            ]
          },
          "metadata": {},
          "execution_count": 77
        },
        {
          "output_type": "display_data",
          "data": {
            "text/plain": [
              "<Figure size 640x480 with 1 Axes>"
            ],
            "image/png": "[encoded data removed]"
          },
          "metadata": {}
        }
      ]
    },
    {
      "cell_type": "code",
      "source": [
        "#Declaramos las variables dependientes e independientes para la regresión lineal\n",
        "Vars_Indepd= filtro2_eua[['review_scores_cleanliness']]\n",
        "Var_Depd= filtro2_eua['review_scores_location']"
      ],
      "metadata": {
        "id": "TRNaBs4XGjDT"
      },
      "execution_count": null,
      "outputs": []
    },
    {
      "cell_type": "code",
      "source": [
        "#Se define model como la función de regresión lineal\n",
        "from sklearn.linear_model import LinearRegression\n",
        "modeld= LinearRegression()"
      ],
      "metadata": {
        "id": "YWhXJ4WLGn8m"
      },
      "execution_count": null,
      "outputs": []
    },
    {
      "cell_type": "code",
      "source": [
        "#Verificamos la función relacionada al modelo\n",
        "type(modeld)"
      ],
      "metadata": {
        "colab": {
          "base_uri": "https://localhost:8080/"
        },
        "id": "eIYFk5GIGrrb",
        "outputId": "705ffee9-88b5-4b4a-f436-423d0ddd3420"
      },
      "execution_count": null,
      "outputs": [
        {
          "output_type": "execute_result",
          "data": {
            "text/plain": [
              "sklearn.linear_model._base.LinearRegression"
            ]
          },
          "metadata": {},
          "execution_count": 80
        }
      ]
    },
    {
      "cell_type": "code",
      "source": [
        "#Ajustamos el modelo con las variables antes declaradas\n",
        "modeld.fit(X=Vars_Indepd, y=Var_Depd)"
      ],
      "metadata": {
        "colab": {
          "base_uri": "https://localhost:8080/",
          "height": 75
        },
        "id": "RVN_GuJSGw0k",
        "outputId": "6035e79e-f4de-4f13-d263-e5df96edca7c"
      },
      "execution_count": null,
      "outputs": [
        {
          "output_type": "execute_result",
          "data": {
            "text/plain": [
              "LinearRegression()"
            ],
            "text/html": [
              "<style>#sk-container-id-10 {color: black;background-color: white;}#sk-container-id-10 pre{padding: 0;}#sk-container-id-10 div.sk-toggleable {background-color: white;}#sk-container-id-10 label.sk-toggleable__label {cursor: pointer;display: block;width: 100%;margin-bottom: 0;padding: 0.3em;box-sizing: border-box;text-align: center;}#sk-container-id-10 label.sk-toggleable__label-arrow:before {content: \"▸\";float: left;margin-right: 0.25em;color: #696969;}#sk-container-id-10 label.sk-toggleable__label-arrow:hover:before {color: black;}#sk-container-id-10 div.sk-estimator:hover label.sk-toggleable__label-arrow:before {color: black;}#sk-container-id-10 div.sk-toggleable__content {max-height: 0;max-width: 0;overflow: hidden;text-align: left;background-color: #f0f8ff;}#sk-container-id-10 div.sk-toggleable__content pre {margin: 0.2em;color: black;border-radius: 0.25em;background-color: #f0f8ff;}#sk-container-id-10 input.sk-toggleable__control:checked~div.sk-toggleable__content {max-height: 200px;max-width: 100%;overflow: auto;}#sk-container-id-10 input.sk-toggleable__control:checked~label.sk-toggleable__label-arrow:before {content: \"▾\";}#sk-container-id-10 div.sk-estimator input.sk-toggleable__control:checked~label.sk-toggleable__label {background-color: #d4ebff;}#sk-container-id-10 div.sk-label input.sk-toggleable__control:checked~label.sk-toggleable__label {background-color: #d4ebff;}#sk-container-id-10 input.sk-hidden--visually {border: 0;clip: rect(1px 1px 1px 1px);clip: rect(1px, 1px, 1px, 1px);height: 1px;margin: -1px;overflow: hidden;padding: 0;position: absolute;width: 1px;}#sk-container-id-10 div.sk-estimator {font-family: monospace;background-color: #f0f8ff;border: 1px dotted black;border-radius: 0.25em;box-sizing: border-box;margin-bottom: 0.5em;}#sk-container-id-10 div.sk-estimator:hover {background-color: #d4ebff;}#sk-container-id-10 div.sk-parallel-item::after {content: \"\";width: 100%;border-bottom: 1px solid gray;flex-grow: 1;}#sk-container-id-10 div.sk-label:hover label.sk-toggleable__label {background-color: #d4ebff;}#sk-container-id-10 div.sk-serial::before {content: \"\";position: absolute;border-left: 1px solid gray;box-sizing: border-box;top: 0;bottom: 0;left: 50%;z-index: 0;}#sk-container-id-10 div.sk-serial {display: flex;flex-direction: column;align-items: center;background-color: white;padding-right: 0.2em;padding-left: 0.2em;position: relative;}#sk-container-id-10 div.sk-item {position: relative;z-index: 1;}#sk-container-id-10 div.sk-parallel {display: flex;align-items: stretch;justify-content: center;background-color: white;position: relative;}#sk-container-id-10 div.sk-item::before, #sk-container-id-10 div.sk-parallel-item::before {content: \"\";position: absolute;border-left: 1px solid gray;box-sizing: border-box;top: 0;bottom: 0;left: 50%;z-index: -1;}#sk-container-id-10 div.sk-parallel-item {display: flex;flex-direction: column;z-index: 1;position: relative;background-color: white;}#sk-container-id-10 div.sk-parallel-item:first-child::after {align-self: flex-end;width: 50%;}#sk-container-id-10 div.sk-parallel-item:last-child::after {align-self: flex-start;width: 50%;}#sk-container-id-10 div.sk-parallel-item:only-child::after {width: 0;}#sk-container-id-10 div.sk-dashed-wrapped {border: 1px dashed gray;margin: 0 0.4em 0.5em 0.4em;box-sizing: border-box;padding-bottom: 0.4em;background-color: white;}#sk-container-id-10 div.sk-label label {font-family: monospace;font-weight: bold;display: inline-block;line-height: 1.2em;}#sk-container-id-10 div.sk-label-container {text-align: center;}#sk-container-id-10 div.sk-container {/* jupyter's `normalize.less` sets `[hidden] { display: none; }` but bootstrap.min.css set `[hidden] { display: none !important; }` so we also need the `!important` here to be able to override the default hidden behavior on the sphinx rendered scikit-learn.org. See: https://github.com/scikit-learn/scikit-learn/issues/21755 */display: inline-block !important;position: relative;}#sk-container-id-10 div.sk-text-repr-fallback {display: none;}</style><div id=\"sk-container-id-10\" class=\"sk-top-container\"><div class=\"sk-text-repr-fallback\"><pre>LinearRegression()</pre><b>In a Jupyter environment, please rerun this cell to show the HTML representation or trust the notebook. <br />On GitHub, the HTML representation is unable to render, please try loading this page with nbviewer.org.</b></div><div class=\"sk-container\" hidden><div class=\"sk-item\"><div class=\"sk-estimator sk-toggleable\"><input class=\"sk-toggleable__control sk-hidden--visually\" id=\"sk-estimator-id-10\" type=\"checkbox\" checked><label for=\"sk-estimator-id-10\" class=\"sk-toggleable__label sk-toggleable__label-arrow\">LinearRegression</label><div class=\"sk-toggleable__content\"><pre>LinearRegression()</pre></div></div></div></div></div>"
            ]
          },
          "metadata": {},
          "execution_count": 81
        }
      ]
    },
    {
      "cell_type": "code",
      "source": [
        "#Verificamos los coeficientes obtenidos para el modelo ajustado\n",
        "modeld.__dict__"
      ],
      "metadata": {
        "colab": {
          "base_uri": "https://localhost:8080/"
        },
        "id": "MyfYwoGcG2hY",
        "outputId": "b7036320-909b-4bcc-836a-deb17832ae77"
      },
      "execution_count": null,
      "outputs": [
        {
          "output_type": "execute_result",
          "data": {
            "text/plain": [
              "{'fit_intercept': True,\n",
              " 'copy_X': True,\n",
              " 'n_jobs': None,\n",
              " 'positive': False,\n",
              " 'feature_names_in_': array(['review_scores_cleanliness'], dtype=object),\n",
              " 'n_features_in_': 1,\n",
              " 'coef_': array([0.869787]),\n",
              " 'rank_': 1,\n",
              " 'singular_': array([9.23831518]),\n",
              " 'intercept_': 0.4241255362221179}"
            ]
          },
          "metadata": {},
          "execution_count": 82
        }
      ]
    },
    {
      "cell_type": "markdown",
      "source": [
        "Modelo matemático: y= 0.869787x + 0.4241255362221179"
      ],
      "metadata": {
        "id": "-TlCd9irG62v"
      }
    },
    {
      "cell_type": "code",
      "source": [
        "#Corroboramos cual es el coeficiente de Determinación de nuestro modelo\n",
        "coef_Deterd=modeld.score(X=Vars_Indepd, y=Var_Depd)\n",
        "coef_Deterd"
      ],
      "metadata": {
        "id": "QsdJ3DBHHC2e"
      },
      "execution_count": null,
      "outputs": []
    },
    {
      "cell_type": "code",
      "source": [
        "#Corroboramos cual es el coeficiente de Correlación de nuestro modelo\n",
        "coef_Correld=np.sqrt(coef_Deterd)\n",
        "coef_Correld"
      ],
      "metadata": {
        "colab": {
          "base_uri": "https://localhost:8080/"
        },
        "id": "xdnKqBEtHJZ8",
        "outputId": "6e0b3915-2fc6-4969-fe6b-72a9f2051c38"
      },
      "execution_count": null,
      "outputs": [
        {
          "output_type": "execute_result",
          "data": {
            "text/plain": [
              "0.8279150105229588"
            ]
          },
          "metadata": {},
          "execution_count": 84
        }
      ]
    },
    {
      "cell_type": "markdown",
      "source": [
        "## X = number_of_reviews\n",
        "## y= availability_365"
      ],
      "metadata": {
        "id": "PfzjY4X8HO6i"
      }
    },
    {
      "cell_type": "code",
      "source": [
        "#Imprimimos el scatter plot entre la variable dependiente e independiente\n",
        "#para observar el comportamiento en su dispersión \n",
        "from turtle import color\n",
        "\n",
        "\n",
        "sns.scatterplot(x='number_of_reviews', y='availability_365', color=\"blue\", data=filtro2_eua)"
      ],
      "metadata": {
        "colab": {
          "base_uri": "https://localhost:8080/",
          "height": 468
        },
        "id": "75ERgcq0HUr3",
        "outputId": "12c1efcd-8b0f-44a8-98c9-9366819ec3fc"
      },
      "execution_count": null,
      "outputs": [
        {
          "output_type": "execute_result",
          "data": {
            "text/plain": [
              "<Axes: xlabel='number_of_reviews', ylabel='availability_365'>"
            ]
          },
          "metadata": {},
          "execution_count": 85
        },
        {
          "output_type": "display_data",
          "data": {
            "text/plain": [
              "<Figure size 640x480 with 1 Axes>"
            ],
            "image/png": "[encoded data removed]"
          },
          "metadata": {}
        }
      ]
    },
    {
      "cell_type": "code",
      "source": [
        "#Declaramos las variables dependientes e independientes para la regresión lineal\n",
        "Vars_Indepe= filtro2_eua[['number_of_reviews']]\n",
        "Var_Depe= filtro2_eua['availability_365']"
      ],
      "metadata": {
        "id": "80TZo8FAHZuy"
      },
      "execution_count": null,
      "outputs": []
    },
    {
      "cell_type": "code",
      "source": [
        "#Se define model como la función de regresión lineal\n",
        "from sklearn.linear_model import LinearRegression\n",
        "modele= LinearRegression()"
      ],
      "metadata": {
        "id": "UZnLeFRiHgYk"
      },
      "execution_count": null,
      "outputs": []
    },
    {
      "cell_type": "code",
      "source": [
        "#Verificamos la función relacionada al modelo\n",
        "type(modele)"
      ],
      "metadata": {
        "colab": {
          "base_uri": "https://localhost:8080/"
        },
        "id": "7LtW73AOHl-W",
        "outputId": "265a1eff-f4fd-4522-cd81-edb5e4b10c19"
      },
      "execution_count": null,
      "outputs": [
        {
          "output_type": "execute_result",
          "data": {
            "text/plain": [
              "sklearn.linear_model._base.LinearRegression"
            ]
          },
          "metadata": {},
          "execution_count": 88
        }
      ]
    },
    {
      "cell_type": "code",
      "source": [
        "#Ajustamos el modelo con las variables antes declaradas\n",
        "modele.fit(X=Vars_Indepe, y=Var_Depe)"
      ],
      "metadata": {
        "colab": {
          "base_uri": "https://localhost:8080/",
          "height": 75
        },
        "id": "-TPdz21JHq2F",
        "outputId": "93b9790d-1e9b-4f9c-a402-2947885bfc61"
      },
      "execution_count": null,
      "outputs": [
        {
          "output_type": "execute_result",
          "data": {
            "text/plain": [
              "LinearRegression()"
            ],
            "text/html": [
              "<style>#sk-container-id-11 {color: black;background-color: white;}#sk-container-id-11 pre{padding: 0;}#sk-container-id-11 div.sk-toggleable {background-color: white;}#sk-container-id-11 label.sk-toggleable__label {cursor: pointer;display: block;width: 100%;margin-bottom: 0;padding: 0.3em;box-sizing: border-box;text-align: center;}#sk-container-id-11 label.sk-toggleable__label-arrow:before {content: \"▸\";float: left;margin-right: 0.25em;color: #696969;}#sk-container-id-11 label.sk-toggleable__label-arrow:hover:before {color: black;}#sk-container-id-11 div.sk-estimator:hover label.sk-toggleable__label-arrow:before {color: black;}#sk-container-id-11 div.sk-toggleable__content {max-height: 0;max-width: 0;overflow: hidden;text-align: left;background-color: #f0f8ff;}#sk-container-id-11 div.sk-toggleable__content pre {margin: 0.2em;color: black;border-radius: 0.25em;background-color: #f0f8ff;}#sk-container-id-11 input.sk-toggleable__control:checked~div.sk-toggleable__content {max-height: 200px;max-width: 100%;overflow: auto;}#sk-container-id-11 input.sk-toggleable__control:checked~label.sk-toggleable__label-arrow:before {content: \"▾\";}#sk-container-id-11 div.sk-estimator input.sk-toggleable__control:checked~label.sk-toggleable__label {background-color: #d4ebff;}#sk-container-id-11 div.sk-label input.sk-toggleable__control:checked~label.sk-toggleable__label {background-color: #d4ebff;}#sk-container-id-11 input.sk-hidden--visually {border: 0;clip: rect(1px 1px 1px 1px);clip: rect(1px, 1px, 1px, 1px);height: 1px;margin: -1px;overflow: hidden;padding: 0;position: absolute;width: 1px;}#sk-container-id-11 div.sk-estimator {font-family: monospace;background-color: #f0f8ff;border: 1px dotted black;border-radius: 0.25em;box-sizing: border-box;margin-bottom: 0.5em;}#sk-container-id-11 div.sk-estimator:hover {background-color: #d4ebff;}#sk-container-id-11 div.sk-parallel-item::after {content: \"\";width: 100%;border-bottom: 1px solid gray;flex-grow: 1;}#sk-container-id-11 div.sk-label:hover label.sk-toggleable__label {background-color: #d4ebff;}#sk-container-id-11 div.sk-serial::before {content: \"\";position: absolute;border-left: 1px solid gray;box-sizing: border-box;top: 0;bottom: 0;left: 50%;z-index: 0;}#sk-container-id-11 div.sk-serial {display: flex;flex-direction: column;align-items: center;background-color: white;padding-right: 0.2em;padding-left: 0.2em;position: relative;}#sk-container-id-11 div.sk-item {position: relative;z-index: 1;}#sk-container-id-11 div.sk-parallel {display: flex;align-items: stretch;justify-content: center;background-color: white;position: relative;}#sk-container-id-11 div.sk-item::before, #sk-container-id-11 div.sk-parallel-item::before {content: \"\";position: absolute;border-left: 1px solid gray;box-sizing: border-box;top: 0;bottom: 0;left: 50%;z-index: -1;}#sk-container-id-11 div.sk-parallel-item {display: flex;flex-direction: column;z-index: 1;position: relative;background-color: white;}#sk-container-id-11 div.sk-parallel-item:first-child::after {align-self: flex-end;width: 50%;}#sk-container-id-11 div.sk-parallel-item:last-child::after {align-self: flex-start;width: 50%;}#sk-container-id-11 div.sk-parallel-item:only-child::after {width: 0;}#sk-container-id-11 div.sk-dashed-wrapped {border: 1px dashed gray;margin: 0 0.4em 0.5em 0.4em;box-sizing: border-box;padding-bottom: 0.4em;background-color: white;}#sk-container-id-11 div.sk-label label {font-family: monospace;font-weight: bold;display: inline-block;line-height: 1.2em;}#sk-container-id-11 div.sk-label-container {text-align: center;}#sk-container-id-11 div.sk-container {/* jupyter's `normalize.less` sets `[hidden] { display: none; }` but bootstrap.min.css set `[hidden] { display: none !important; }` so we also need the `!important` here to be able to override the default hidden behavior on the sphinx rendered scikit-learn.org. See: https://github.com/scikit-learn/scikit-learn/issues/21755 */display: inline-block !important;position: relative;}#sk-container-id-11 div.sk-text-repr-fallback {display: none;}</style><div id=\"sk-container-id-11\" class=\"sk-top-container\"><div class=\"sk-text-repr-fallback\"><pre>LinearRegression()</pre><b>In a Jupyter environment, please rerun this cell to show the HTML representation or trust the notebook. <br />On GitHub, the HTML representation is unable to render, please try loading this page with nbviewer.org.</b></div><div class=\"sk-container\" hidden><div class=\"sk-item\"><div class=\"sk-estimator sk-toggleable\"><input class=\"sk-toggleable__control sk-hidden--visually\" id=\"sk-estimator-id-11\" type=\"checkbox\" checked><label for=\"sk-estimator-id-11\" class=\"sk-toggleable__label sk-toggleable__label-arrow\">LinearRegression</label><div class=\"sk-toggleable__content\"><pre>LinearRegression()</pre></div></div></div></div></div>"
            ]
          },
          "metadata": {},
          "execution_count": 89
        }
      ]
    },
    {
      "cell_type": "code",
      "source": [
        "#Verificamos los coeficientes obtenidos para el modelo ajustado\n",
        "modele.__dict__"
      ],
      "metadata": {
        "colab": {
          "base_uri": "https://localhost:8080/"
        },
        "id": "kVoP_UvnHw61",
        "outputId": "9d3ea92b-788e-4d62-b2a8-fb569b246a70"
      },
      "execution_count": null,
      "outputs": [
        {
          "output_type": "execute_result",
          "data": {
            "text/plain": [
              "{'fit_intercept': True,\n",
              " 'copy_X': True,\n",
              " 'n_jobs': None,\n",
              " 'positive': False,\n",
              " 'feature_names_in_': array(['number_of_reviews'], dtype=object),\n",
              " 'n_features_in_': 1,\n",
              " 'coef_': array([0.10665693]),\n",
              " 'rank_': 1,\n",
              " 'singular_': array([975.14251424]),\n",
              " 'intercept_': 167.77747368533454}"
            ]
          },
          "metadata": {},
          "execution_count": 90
        }
      ]
    },
    {
      "cell_type": "markdown",
      "source": [
        "Modelo matemático: y= 0.10665693x + 167.77747368533454"
      ],
      "metadata": {
        "id": "7TfJY1hrH18O"
      }
    },
    {
      "cell_type": "code",
      "source": [
        "#Corroboramos cual es el coeficiente de Determinación de nuestro modelo\n",
        "coef_Detere=modele.score(X=Vars_Indepe, y=Var_Depe)\n",
        "coef_Detere"
      ],
      "metadata": {
        "colab": {
          "base_uri": "https://localhost:8080/"
        },
        "id": "2QauelBQH-2y",
        "outputId": "36175789-e3c1-439f-b3c4-7bc5df062370"
      },
      "execution_count": null,
      "outputs": [
        {
          "output_type": "execute_result",
          "data": {
            "text/plain": [
              "0.01122457035412916"
            ]
          },
          "metadata": {},
          "execution_count": 91
        }
      ]
    },
    {
      "cell_type": "code",
      "source": [
        "#Corroboramos cual es el coeficiente de Correlación de nuestro modelo\n",
        "coef_Correle=np.sqrt(coef_Detere)\n",
        "coef_Correle"
      ],
      "metadata": {
        "colab": {
          "base_uri": "https://localhost:8080/"
        },
        "id": "dr69GJXoIINO",
        "outputId": "2369ab2f-4bd9-4460-f255-f5924b8717df"
      },
      "execution_count": null,
      "outputs": [
        {
          "output_type": "execute_result",
          "data": {
            "text/plain": [
              "0.10594607285845549"
            ]
          },
          "metadata": {},
          "execution_count": 92
        }
      ]
    },
    {
      "cell_type": "markdown",
      "source": [
        "## X = review_scores_communication\n",
        "\n",
        "## y= reviews_per_month"
      ],
      "metadata": {
        "id": "hsXicsJWIVk7"
      }
    },
    {
      "cell_type": "code",
      "source": [
        "#Imprimimos el scatter plot entre la variable dependiente e independiente \n",
        "#para observar el comportamiento en su dispersión \n",
        "from turtle import color\n",
        "\n",
        "\n",
        "sns.scatterplot(x='review_scores_communication', y='reviews_per_month', color=\"blue\", data=filtro2_eua)"
      ],
      "metadata": {
        "colab": {
          "base_uri": "https://localhost:8080/",
          "height": 468
        },
        "id": "lIsxyhwVIdLS",
        "outputId": "b10a7a48-a343-4a18-97f4-3b4cc100e331"
      },
      "execution_count": null,
      "outputs": [
        {
          "output_type": "execute_result",
          "data": {
            "text/plain": [
              "<Axes: xlabel='review_scores_communication', ylabel='reviews_per_month'>"
            ]
          },
          "metadata": {},
          "execution_count": 93
        },
        {
          "output_type": "display_data",
          "data": {
            "text/plain": [
              "<Figure size 640x480 with 1 Axes>"
            ],
            "image/png": "[encoded data removed]"
          },
          "metadata": {}
        }
      ]
    },
    {
      "cell_type": "code",
      "source": [
        "#Declaramos las variables dependientes e independientes para la regresión lineal\n",
        "Vars_Indepf= filtro2_eua[['reviews_per_month']]\n",
        "Var_Depf= filtro2_eua['review_scores_communication']"
      ],
      "metadata": {
        "id": "fNOsCtBgIjAi"
      },
      "execution_count": null,
      "outputs": []
    },
    {
      "cell_type": "code",
      "source": [
        "#Se define model como la función de regresión lineal\n",
        "from sklearn.linear_model import LinearRegression\n",
        "modelf= LinearRegression()"
      ],
      "metadata": {
        "id": "xv0QGSTGItHq"
      },
      "execution_count": null,
      "outputs": []
    },
    {
      "cell_type": "code",
      "source": [
        "#Verificamos la función relacionada al modelo\n",
        "type(modelf)"
      ],
      "metadata": {
        "colab": {
          "base_uri": "https://localhost:8080/"
        },
        "id": "YfJ0T25JIxMF",
        "outputId": "7e070af8-0fc6-4588-a98d-459b89163933"
      },
      "execution_count": null,
      "outputs": [
        {
          "output_type": "execute_result",
          "data": {
            "text/plain": [
              "sklearn.linear_model._base.LinearRegression"
            ]
          },
          "metadata": {},
          "execution_count": 96
        }
      ]
    },
    {
      "cell_type": "code",
      "source": [
        "#Ajustamos el modelo con las variables antes declaradas\n",
        "modelf.fit(X=Vars_Indepf, y=Var_Depf)"
      ],
      "metadata": {
        "colab": {
          "base_uri": "https://localhost:8080/",
          "height": 75
        },
        "id": "l-tDSLofI1A4",
        "outputId": "65c0373b-2000-4642-fdc3-6a8f021d23c0"
      },
      "execution_count": null,
      "outputs": [
        {
          "output_type": "execute_result",
          "data": {
            "text/plain": [
              "LinearRegression()"
            ],
            "text/html": [
              "<style>#sk-container-id-12 {color: black;background-color: white;}#sk-container-id-12 pre{padding: 0;}#sk-container-id-12 div.sk-toggleable {background-color: white;}#sk-container-id-12 label.sk-toggleable__label {cursor: pointer;display: block;width: 100%;margin-bottom: 0;padding: 0.3em;box-sizing: border-box;text-align: center;}#sk-container-id-12 label.sk-toggleable__label-arrow:before {content: \"▸\";float: left;margin-right: 0.25em;color: #696969;}#sk-container-id-12 label.sk-toggleable__label-arrow:hover:before {color: black;}#sk-container-id-12 div.sk-estimator:hover label.sk-toggleable__label-arrow:before {color: black;}#sk-container-id-12 div.sk-toggleable__content {max-height: 0;max-width: 0;overflow: hidden;text-align: left;background-color: #f0f8ff;}#sk-container-id-12 div.sk-toggleable__content pre {margin: 0.2em;color: black;border-radius: 0.25em;background-color: #f0f8ff;}#sk-container-id-12 input.sk-toggleable__control:checked~div.sk-toggleable__content {max-height: 200px;max-width: 100%;overflow: auto;}#sk-container-id-12 input.sk-toggleable__control:checked~label.sk-toggleable__label-arrow:before {content: \"▾\";}#sk-container-id-12 div.sk-estimator input.sk-toggleable__control:checked~label.sk-toggleable__label {background-color: #d4ebff;}#sk-container-id-12 div.sk-label input.sk-toggleable__control:checked~label.sk-toggleable__label {background-color: #d4ebff;}#sk-container-id-12 input.sk-hidden--visually {border: 0;clip: rect(1px 1px 1px 1px);clip: rect(1px, 1px, 1px, 1px);height: 1px;margin: -1px;overflow: hidden;padding: 0;position: absolute;width: 1px;}#sk-container-id-12 div.sk-estimator {font-family: monospace;background-color: #f0f8ff;border: 1px dotted black;border-radius: 0.25em;box-sizing: border-box;margin-bottom: 0.5em;}#sk-container-id-12 div.sk-estimator:hover {background-color: #d4ebff;}#sk-container-id-12 div.sk-parallel-item::after {content: \"\";width: 100%;border-bottom: 1px solid gray;flex-grow: 1;}#sk-container-id-12 div.sk-label:hover label.sk-toggleable__label {background-color: #d4ebff;}#sk-container-id-12 div.sk-serial::before {content: \"\";position: absolute;border-left: 1px solid gray;box-sizing: border-box;top: 0;bottom: 0;left: 50%;z-index: 0;}#sk-container-id-12 div.sk-serial {display: flex;flex-direction: column;align-items: center;background-color: white;padding-right: 0.2em;padding-left: 0.2em;position: relative;}#sk-container-id-12 div.sk-item {position: relative;z-index: 1;}#sk-container-id-12 div.sk-parallel {display: flex;align-items: stretch;justify-content: center;background-color: white;position: relative;}#sk-container-id-12 div.sk-item::before, #sk-container-id-12 div.sk-parallel-item::before {content: \"\";position: absolute;border-left: 1px solid gray;box-sizing: border-box;top: 0;bottom: 0;left: 50%;z-index: -1;}#sk-container-id-12 div.sk-parallel-item {display: flex;flex-direction: column;z-index: 1;position: relative;background-color: white;}#sk-container-id-12 div.sk-parallel-item:first-child::after {align-self: flex-end;width: 50%;}#sk-container-id-12 div.sk-parallel-item:last-child::after {align-self: flex-start;width: 50%;}#sk-container-id-12 div.sk-parallel-item:only-child::after {width: 0;}#sk-container-id-12 div.sk-dashed-wrapped {border: 1px dashed gray;margin: 0 0.4em 0.5em 0.4em;box-sizing: border-box;padding-bottom: 0.4em;background-color: white;}#sk-container-id-12 div.sk-label label {font-family: monospace;font-weight: bold;display: inline-block;line-height: 1.2em;}#sk-container-id-12 div.sk-label-container {text-align: center;}#sk-container-id-12 div.sk-container {/* jupyter's `normalize.less` sets `[hidden] { display: none; }` but bootstrap.min.css set `[hidden] { display: none !important; }` so we also need the `!important` here to be able to override the default hidden behavior on the sphinx rendered scikit-learn.org. See: https://github.com/scikit-learn/scikit-learn/issues/21755 */display: inline-block !important;position: relative;}#sk-container-id-12 div.sk-text-repr-fallback {display: none;}</style><div id=\"sk-container-id-12\" class=\"sk-top-container\"><div class=\"sk-text-repr-fallback\"><pre>LinearRegression()</pre><b>In a Jupyter environment, please rerun this cell to show the HTML representation or trust the notebook. <br />On GitHub, the HTML representation is unable to render, please try loading this page with nbviewer.org.</b></div><div class=\"sk-container\" hidden><div class=\"sk-item\"><div class=\"sk-estimator sk-toggleable\"><input class=\"sk-toggleable__control sk-hidden--visually\" id=\"sk-estimator-id-12\" type=\"checkbox\" checked><label for=\"sk-estimator-id-12\" class=\"sk-toggleable__label sk-toggleable__label-arrow\">LinearRegression</label><div class=\"sk-toggleable__content\"><pre>LinearRegression()</pre></div></div></div></div></div>"
            ]
          },
          "metadata": {},
          "execution_count": 97
        }
      ]
    },
    {
      "cell_type": "code",
      "source": [
        "#Verificamos los coeficientes obtenidos para el modelo ajustado\n",
        "modelf.__dict__"
      ],
      "metadata": {
        "colab": {
          "base_uri": "https://localhost:8080/"
        },
        "id": "iqlX9jU-I6GW",
        "outputId": "f7fd2eb1-db40-4a2c-9d1e-80ae57e23266"
      },
      "execution_count": null,
      "outputs": [
        {
          "output_type": "execute_result",
          "data": {
            "text/plain": [
              "{'fit_intercept': True,\n",
              " 'copy_X': True,\n",
              " 'n_jobs': None,\n",
              " 'positive': False,\n",
              " 'feature_names_in_': array(['reviews_per_month'], dtype=object),\n",
              " 'n_features_in_': 1,\n",
              " 'coef_': array([0.05632027]),\n",
              " 'rank_': 1,\n",
              " 'singular_': array([21.07379356]),\n",
              " 'intercept_': 4.2191430729294765}"
            ]
          },
          "metadata": {},
          "execution_count": 98
        }
      ]
    },
    {
      "cell_type": "markdown",
      "source": [
        "Modelo matemático: y= 0.05632027x + 4.2191430729294765"
      ],
      "metadata": {
        "id": "VL36I6CXJBZD"
      }
    },
    {
      "cell_type": "code",
      "source": [
        "#Corroboramos cual es el coeficiente de Determinación de nuestro modelo\n",
        "coef_Deterf=modelf.score(X=Vars_Indepf, y=Var_Depf)\n",
        "coef_Deterf"
      ],
      "metadata": {
        "colab": {
          "base_uri": "https://localhost:8080/"
        },
        "id": "X1Eyfx3jJMY1",
        "outputId": "c17d914a-671a-4b47-d7d5-ac25ee0479c2"
      },
      "execution_count": null,
      "outputs": [
        {
          "output_type": "execute_result",
          "data": {
            "text/plain": [
              "0.014418582378406652"
            ]
          },
          "metadata": {},
          "execution_count": 99
        }
      ]
    },
    {
      "cell_type": "code",
      "source": [
        "#Corroboramos cual es el coeficiente de Correlación de nuestro modelo\n",
        "coef_Correlf=np.sqrt(coef_Deterf)\n",
        "coef_Correlf"
      ],
      "metadata": {
        "colab": {
          "base_uri": "https://localhost:8080/"
        },
        "id": "TINxBg6XJX5Y",
        "outputId": "6f63da3e-0f88-475a-e2e7-c874737d2eae"
      },
      "execution_count": null,
      "outputs": [
        {
          "output_type": "execute_result",
          "data": {
            "text/plain": [
              "0.12007740161415324"
            ]
          },
          "metadata": {},
          "execution_count": 100
        }
      ]
    }
  ]
}
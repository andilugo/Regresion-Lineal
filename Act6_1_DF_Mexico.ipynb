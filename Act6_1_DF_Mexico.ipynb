{
  "nbformat": 4,
  "nbformat_minor": 0,
  "metadata": {
    "colab": {
      "provenance": [],
      "include_colab_link": true
    },
    "kernelspec": {
      "name": "python3",
      "display_name": "Python 3"
    },
    "language_info": {
      "name": "python"
    }
  },
  "cells": [
    {
      "cell_type": "markdown",
      "metadata": {
        "id": "view-in-github",
        "colab_type": "text"
      },
      "source": [
        "<a href=\"https://colab.research.google.com/github/andilugo/Regresion-Lineal/blob/main/Act6_1_DF_Mexico.ipynb\" target=\"_parent\"><img src=\"https://colab.research.google.com/assets/colab-badge.svg\" alt=\"Open In Colab\"/></a>"
      ]
    },
    {
      "cell_type": "markdown",
      "source": [
        "# **ACTIVIDAD 6.1 REGRESIÓN LINEAL SIMPLE DF MÉXICO**\n",
        "\n",
        "Andrea Cosset Hernández Lugo A01707744"
      ],
      "metadata": {
        "id": "xw5pMzlyv7_L"
      }
    },
    {
      "cell_type": "code",
      "execution_count": null,
      "metadata": {
        "id": "nxQXf8E7v0Ha"
      },
      "outputs": [],
      "source": [
        "import pandas as pd\n",
        "import numpy as np\n",
        "import matplotlib.pyplot as plt\n",
        "import seaborn as sns"
      ]
    },
    {
      "cell_type": "code",
      "source": [
        "#Carga desde un archivo .csv\n",
        "mex= pd.read_csv(\"DF_México_clean.csv\")\n",
        "mex.head(5)"
      ],
      "metadata": {
        "colab": {
          "base_uri": "https://localhost:8080/",
          "height": 647
        },
        "id": "Q9rHCFbTxAGa",
        "outputId": "ccc771f4-8a03-4dda-c310-4374f4940706"
      },
      "execution_count": null,
      "outputs": [
        {
          "output_type": "stream",
          "name": "stderr",
          "text": [
            "<ipython-input-293-b238c5d07c0b>:2: DtypeWarning: Columns (0,2,8,24,62) have mixed types. Specify dtype option on import or set low_memory=False.\n",
            "  mex= pd.read_csv(\"mexico_limpio.csv\")\n"
          ]
        },
        {
          "output_type": "execute_result",
          "data": {
            "text/plain": [
              "        id                           listing_url scrape_id last_scraped  \\\n",
              "0  2056638  https://www.airbnb.com/rooms/2056638  2.02E+13     30/03/23   \n",
              "1  2072354  https://www.airbnb.com/rooms/2072354  2.02E+13     30/03/23   \n",
              "2   696037   https://www.airbnb.com/rooms/696037  2.02E+13     29/03/23   \n",
              "3    35797    https://www.airbnb.com/rooms/35797  2.02E+13     29/03/23   \n",
              "4    44616    https://www.airbnb.com/rooms/44616  2.02E+13     30/03/23   \n",
              "\n",
              "        source                                               name  \\\n",
              "0  city scrape                 Amplio y luminoso loft en Coyoacán   \n",
              "1  city scrape                 Coyoacan Historic Studio Apartment   \n",
              "2  city scrape  3 Bedrooms, 2 blocks from Polanco - ALL RENOVA...   \n",
              "3  city scrape                                        Villa Dante   \n",
              "4  city scrape                                  CONDESA HAUS  B&B   \n",
              "\n",
              "                                         description  \\\n",
              "0  Cómodo loft de dos pisos magníficamente ubicad...   \n",
              "1  This studio flat is adjacent to the owner's ho...   \n",
              "2  Beautifully decorated 3 bedroom apartment, it ...   \n",
              "3  Dentro de Villa un estudio de arte con futon, ...   \n",
              "4  A new concept of hosting in mexico through a b...   \n",
              "\n",
              "                                         picture_url   host_id  \\\n",
              "0  https://a0.muscache.com/pictures/28353712/4379...  10531228   \n",
              "1  https://a0.muscache.com/pictures/369f3371-593a...  16840050   \n",
              "2  https://a0.muscache.com/pictures/10960397/67b2...   3531879   \n",
              "3  https://a0.muscache.com/pictures/f395ab78-1185...    153786   \n",
              "4  https://a0.muscache.com/pictures/251410/ec75fe...    196253   \n",
              "\n",
              "                                     host_url  ...  \\\n",
              "0  https://www.airbnb.com/users/show/10531228  ...   \n",
              "1  https://www.airbnb.com/users/show/16840050  ...   \n",
              "2   https://www.airbnb.com/users/show/3531879  ...   \n",
              "3    https://www.airbnb.com/users/show/153786  ...   \n",
              "4    https://www.airbnb.com/users/show/196253  ...   \n",
              "\n",
              "  review_scores_communication review_scores_location review_scores_value  \\\n",
              "0                        4.95                   5.00                4.86   \n",
              "1                        5.00                   4.95                4.84   \n",
              "2                        4.92                   4.58                4.71   \n",
              "3                        0.00                   0.00                0.00   \n",
              "4                        4.78                   4.98                4.48   \n",
              "\n",
              "  calculated_host_listings_count calculated_host_listings_count_entire_homes  \\\n",
              "0                            3.0                                         3.0   \n",
              "1                            2.0                                         2.0   \n",
              "2                            3.0                                         3.0   \n",
              "3                            1.0                                         1.0   \n",
              "4                           12.0                                         3.0   \n",
              "\n",
              "  calculated_host_listings_count_private_rooms  \\\n",
              "0                                          0.0   \n",
              "1                                          0.0   \n",
              "2                                          0.0   \n",
              "3                                          0.0   \n",
              "4                                          2.0   \n",
              "\n",
              "  calculated_host_listings_count_shared_rooms reviews_per_month  \\\n",
              "0                                         0.0              0.19   \n",
              "1                                         0.0              0.54   \n",
              "2                                         0.0              0.31   \n",
              "3                                         0.0              0.00   \n",
              "4                                         0.0              0.46   \n",
              "\n",
              "                               neiborhood_overview.1 host_response_rate  \n",
              "0                                                 --                1.0  \n",
              "1  Located in Coyoacan, in a quiet neighborhood w...                0.0  \n",
              "2  This area is called Nuevo Polanco, it has bein...                1.0  \n",
              "3  Centro comercial Santa Fe, parque interlomas y...                0.0  \n",
              "4                                                 --                1.0  \n",
              "\n",
              "[5 rows x 78 columns]"
            ],
            "text/html": [
              "\n",
              "  <div id=\"df-81c4a6b3-0a17-402f-9c45-3db57e95c412\">\n",
              "    <div class=\"colab-df-container\">\n",
              "      <div>\n",
              "<style scoped>\n",
              "    .dataframe tbody tr th:only-of-type {\n",
              "        vertical-align: middle;\n",
              "    }\n",
              "\n",
              "    .dataframe tbody tr th {\n",
              "        vertical-align: top;\n",
              "    }\n",
              "\n",
              "    .dataframe thead th {\n",
              "        text-align: right;\n",
              "    }\n",
              "</style>\n",
              "<table border=\"1\" class=\"dataframe\">\n",
              "  <thead>\n",
              "    <tr style=\"text-align: right;\">\n",
              "      <th></th>\n",
              "      <th>id</th>\n",
              "      <th>listing_url</th>\n",
              "      <th>scrape_id</th>\n",
              "      <th>last_scraped</th>\n",
              "      <th>source</th>\n",
              "      <th>name</th>\n",
              "      <th>description</th>\n",
              "      <th>picture_url</th>\n",
              "      <th>host_id</th>\n",
              "      <th>host_url</th>\n",
              "      <th>...</th>\n",
              "      <th>review_scores_communication</th>\n",
              "      <th>review_scores_location</th>\n",
              "      <th>review_scores_value</th>\n",
              "      <th>calculated_host_listings_count</th>\n",
              "      <th>calculated_host_listings_count_entire_homes</th>\n",
              "      <th>calculated_host_listings_count_private_rooms</th>\n",
              "      <th>calculated_host_listings_count_shared_rooms</th>\n",
              "      <th>reviews_per_month</th>\n",
              "      <th>neiborhood_overview.1</th>\n",
              "      <th>host_response_rate</th>\n",
              "    </tr>\n",
              "  </thead>\n",
              "  <tbody>\n",
              "    <tr>\n",
              "      <th>0</th>\n",
              "      <td>2056638</td>\n",
              "      <td>https://www.airbnb.com/rooms/2056638</td>\n",
              "      <td>2.02E+13</td>\n",
              "      <td>30/03/23</td>\n",
              "      <td>city scrape</td>\n",
              "      <td>Amplio y luminoso loft en Coyoacán</td>\n",
              "      <td>Cómodo loft de dos pisos magníficamente ubicad...</td>\n",
              "      <td>https://a0.muscache.com/pictures/28353712/4379...</td>\n",
              "      <td>10531228</td>\n",
              "      <td>https://www.airbnb.com/users/show/10531228</td>\n",
              "      <td>...</td>\n",
              "      <td>4.95</td>\n",
              "      <td>5.00</td>\n",
              "      <td>4.86</td>\n",
              "      <td>3.0</td>\n",
              "      <td>3.0</td>\n",
              "      <td>0.0</td>\n",
              "      <td>0.0</td>\n",
              "      <td>0.19</td>\n",
              "      <td>--</td>\n",
              "      <td>1.0</td>\n",
              "    </tr>\n",
              "    <tr>\n",
              "      <th>1</th>\n",
              "      <td>2072354</td>\n",
              "      <td>https://www.airbnb.com/rooms/2072354</td>\n",
              "      <td>2.02E+13</td>\n",
              "      <td>30/03/23</td>\n",
              "      <td>city scrape</td>\n",
              "      <td>Coyoacan Historic Studio Apartment</td>\n",
              "      <td>This studio flat is adjacent to the owner's ho...</td>\n",
              "      <td>https://a0.muscache.com/pictures/369f3371-593a...</td>\n",
              "      <td>16840050</td>\n",
              "      <td>https://www.airbnb.com/users/show/16840050</td>\n",
              "      <td>...</td>\n",
              "      <td>5.00</td>\n",
              "      <td>4.95</td>\n",
              "      <td>4.84</td>\n",
              "      <td>2.0</td>\n",
              "      <td>2.0</td>\n",
              "      <td>0.0</td>\n",
              "      <td>0.0</td>\n",
              "      <td>0.54</td>\n",
              "      <td>Located in Coyoacan, in a quiet neighborhood w...</td>\n",
              "      <td>0.0</td>\n",
              "    </tr>\n",
              "    <tr>\n",
              "      <th>2</th>\n",
              "      <td>696037</td>\n",
              "      <td>https://www.airbnb.com/rooms/696037</td>\n",
              "      <td>2.02E+13</td>\n",
              "      <td>29/03/23</td>\n",
              "      <td>city scrape</td>\n",
              "      <td>3 Bedrooms, 2 blocks from Polanco - ALL RENOVA...</td>\n",
              "      <td>Beautifully decorated 3 bedroom apartment, it ...</td>\n",
              "      <td>https://a0.muscache.com/pictures/10960397/67b2...</td>\n",
              "      <td>3531879</td>\n",
              "      <td>https://www.airbnb.com/users/show/3531879</td>\n",
              "      <td>...</td>\n",
              "      <td>4.92</td>\n",
              "      <td>4.58</td>\n",
              "      <td>4.71</td>\n",
              "      <td>3.0</td>\n",
              "      <td>3.0</td>\n",
              "      <td>0.0</td>\n",
              "      <td>0.0</td>\n",
              "      <td>0.31</td>\n",
              "      <td>This area is called Nuevo Polanco, it has bein...</td>\n",
              "      <td>1.0</td>\n",
              "    </tr>\n",
              "    <tr>\n",
              "      <th>3</th>\n",
              "      <td>35797</td>\n",
              "      <td>https://www.airbnb.com/rooms/35797</td>\n",
              "      <td>2.02E+13</td>\n",
              "      <td>29/03/23</td>\n",
              "      <td>city scrape</td>\n",
              "      <td>Villa Dante</td>\n",
              "      <td>Dentro de Villa un estudio de arte con futon, ...</td>\n",
              "      <td>https://a0.muscache.com/pictures/f395ab78-1185...</td>\n",
              "      <td>153786</td>\n",
              "      <td>https://www.airbnb.com/users/show/153786</td>\n",
              "      <td>...</td>\n",
              "      <td>0.00</td>\n",
              "      <td>0.00</td>\n",
              "      <td>0.00</td>\n",
              "      <td>1.0</td>\n",
              "      <td>1.0</td>\n",
              "      <td>0.0</td>\n",
              "      <td>0.0</td>\n",
              "      <td>0.00</td>\n",
              "      <td>Centro comercial Santa Fe, parque interlomas y...</td>\n",
              "      <td>0.0</td>\n",
              "    </tr>\n",
              "    <tr>\n",
              "      <th>4</th>\n",
              "      <td>44616</td>\n",
              "      <td>https://www.airbnb.com/rooms/44616</td>\n",
              "      <td>2.02E+13</td>\n",
              "      <td>30/03/23</td>\n",
              "      <td>city scrape</td>\n",
              "      <td>CONDESA HAUS  B&amp;B</td>\n",
              "      <td>A new concept of hosting in mexico through a b...</td>\n",
              "      <td>https://a0.muscache.com/pictures/251410/ec75fe...</td>\n",
              "      <td>196253</td>\n",
              "      <td>https://www.airbnb.com/users/show/196253</td>\n",
              "      <td>...</td>\n",
              "      <td>4.78</td>\n",
              "      <td>4.98</td>\n",
              "      <td>4.48</td>\n",
              "      <td>12.0</td>\n",
              "      <td>3.0</td>\n",
              "      <td>2.0</td>\n",
              "      <td>0.0</td>\n",
              "      <td>0.46</td>\n",
              "      <td>--</td>\n",
              "      <td>1.0</td>\n",
              "    </tr>\n",
              "  </tbody>\n",
              "</table>\n",
              "<p>5 rows × 78 columns</p>\n",
              "</div>\n",
              "      <button class=\"colab-df-convert\" onclick=\"convertToInteractive('df-81c4a6b3-0a17-402f-9c45-3db57e95c412')\"\n",
              "              title=\"Convert this dataframe to an interactive table.\"\n",
              "              style=\"display:none;\">\n",
              "        \n",
              "  <svg xmlns=\"http://www.w3.org/2000/svg\" height=\"24px\"viewBox=\"0 0 24 24\"\n",
              "       width=\"24px\">\n",
              "    <path d=\"M0 0h24v24H0V0z\" fill=\"none\"/>\n",
              "    <path d=\"M18.56 5.44l.94 2.06.94-2.06 2.06-.94-2.06-.94-.94-2.06-.94 2.06-2.06.94zm-11 1L8.5 8.5l.94-2.06 2.06-.94-2.06-.94L8.5 2.5l-.94 2.06-2.06.94zm10 10l.94 2.06.94-2.06 2.06-.94-2.06-.94-.94-2.06-.94 2.06-2.06.94z\"/><path d=\"M17.41 7.96l-1.37-1.37c-.4-.4-.92-.59-1.43-.59-.52 0-1.04.2-1.43.59L10.3 9.45l-7.72 7.72c-.78.78-.78 2.05 0 2.83L4 21.41c.39.39.9.59 1.41.59.51 0 1.02-.2 1.41-.59l7.78-7.78 2.81-2.81c.8-.78.8-2.07 0-2.86zM5.41 20L4 18.59l7.72-7.72 1.47 1.35L5.41 20z\"/>\n",
              "  </svg>\n",
              "      </button>\n",
              "      \n",
              "  <style>\n",
              "    .colab-df-container {\n",
              "      display:flex;\n",
              "      flex-wrap:wrap;\n",
              "      gap: 12px;\n",
              "    }\n",
              "\n",
              "    .colab-df-convert {\n",
              "      background-color: #E8F0FE;\n",
              "      border: none;\n",
              "      border-radius: 50%;\n",
              "      cursor: pointer;\n",
              "      display: none;\n",
              "      fill: #1967D2;\n",
              "      height: 32px;\n",
              "      padding: 0 0 0 0;\n",
              "      width: 32px;\n",
              "    }\n",
              "\n",
              "    .colab-df-convert:hover {\n",
              "      background-color: #E2EBFA;\n",
              "      box-shadow: 0px 1px 2px rgba(60, 64, 67, 0.3), 0px 1px 3px 1px rgba(60, 64, 67, 0.15);\n",
              "      fill: #174EA6;\n",
              "    }\n",
              "\n",
              "    [theme=dark] .colab-df-convert {\n",
              "      background-color: #3B4455;\n",
              "      fill: #D2E3FC;\n",
              "    }\n",
              "\n",
              "    [theme=dark] .colab-df-convert:hover {\n",
              "      background-color: #434B5C;\n",
              "      box-shadow: 0px 1px 3px 1px rgba(0, 0, 0, 0.15);\n",
              "      filter: drop-shadow(0px 1px 2px rgba(0, 0, 0, 0.3));\n",
              "      fill: #FFFFFF;\n",
              "    }\n",
              "  </style>\n",
              "\n",
              "      <script>\n",
              "        const buttonEl =\n",
              "          document.querySelector('#df-81c4a6b3-0a17-402f-9c45-3db57e95c412 button.colab-df-convert');\n",
              "        buttonEl.style.display =\n",
              "          google.colab.kernel.accessAllowed ? 'block' : 'none';\n",
              "\n",
              "        async function convertToInteractive(key) {\n",
              "          const element = document.querySelector('#df-81c4a6b3-0a17-402f-9c45-3db57e95c412');\n",
              "          const dataTable =\n",
              "            await google.colab.kernel.invokeFunction('convertToInteractive',\n",
              "                                                     [key], {});\n",
              "          if (!dataTable) return;\n",
              "\n",
              "          const docLinkHtml = 'Like what you see? Visit the ' +\n",
              "            '<a target=\"_blank\" href=https://colab.research.google.com/notebooks/data_table.ipynb>data table notebook</a>'\n",
              "            + ' to learn more about interactive tables.';\n",
              "          element.innerHTML = '';\n",
              "          dataTable['output_type'] = 'display_data';\n",
              "          await google.colab.output.renderOutput(dataTable, element);\n",
              "          const docLink = document.createElement('div');\n",
              "          docLink.innerHTML = docLinkHtml;\n",
              "          element.appendChild(docLink);\n",
              "        }\n",
              "      </script>\n",
              "    </div>\n",
              "  </div>\n",
              "  "
            ]
          },
          "metadata": {},
          "execution_count": 293
        }
      ]
    },
    {
      "cell_type": "markdown",
      "source": [
        "## Filtro1 - Tipo de habitación = Private room"
      ],
      "metadata": {
        "id": "nJT_XHAvY7bf"
      }
    },
    {
      "cell_type": "code",
      "source": [
        "filtro1_mex = mex.loc[mex['room_type'] == \"Private room\"]\n",
        "filtro1_mex"
      ],
      "metadata": {
        "colab": {
          "base_uri": "https://localhost:8080/",
          "height": 1000
        },
        "id": "KajdH9u8xJX3",
        "outputId": "d28aef2f-3362-411e-e87f-0e967621fe8e"
      },
      "execution_count": null,
      "outputs": [
        {
          "output_type": "execute_result",
          "data": {
            "text/plain": [
              "                         id                                      listing_url  \\\n",
              "7                     61792               https://www.airbnb.com/rooms/61792   \n",
              "16                   760912              https://www.airbnb.com/rooms/760912   \n",
              "17                  2088218             https://www.airbnb.com/rooms/2088218   \n",
              "18                  2093036             https://www.airbnb.com/rooms/2093036   \n",
              "21                   131610              https://www.airbnb.com/rooms/131610   \n",
              "...                     ...                                              ...   \n",
              "24201  856000000000000000.0  https://www.airbnb.com/rooms/856473895554110501   \n",
              "24214  854000000000000000.0  https://www.airbnb.com/rooms/853707681690048732   \n",
              "24216  854000000000000000.0  https://www.airbnb.com/rooms/853746847434924262   \n",
              "24219  854000000000000000.0  https://www.airbnb.com/rooms/853922041242738127   \n",
              "24222  854000000000000000.0  https://www.airbnb.com/rooms/854225071295768399   \n",
              "\n",
              "              scrape_id last_scraped       source  \\\n",
              "7              2.02E+13     30/03/23  city scrape   \n",
              "16             2.02E+13     30/03/23  city scrape   \n",
              "17             2.02E+13     30/03/23  city scrape   \n",
              "18             2.02E+13     29/03/23  city scrape   \n",
              "21             2.02E+13     29/03/23  city scrape   \n",
              "...                 ...          ...          ...   \n",
              "24201  20200000000000.0     30/03/23  city scrape   \n",
              "24214  20200000000000.0     30/03/23  city scrape   \n",
              "24216  20200000000000.0     29/03/23  city scrape   \n",
              "24219  20200000000000.0     29/03/23  city scrape   \n",
              "24222  20200000000000.0     29/03/23  city scrape   \n",
              "\n",
              "                                                  name  \\\n",
              "7      Spacious Clean Quiet room (own bath) in Condesa   \n",
              "16                 Stylish bachelor pad in La Roma, DF   \n",
              "17              Private rooms near old Coyoacan center   \n",
              "18                 Departamento 2 dormitorios x Antara   \n",
              "21                                      MARIA DEL ALMA   \n",
              "...                                                ...   \n",
              "24201                                              506   \n",
              "24214              Beautiful Sunny bedroom off Masaryk   \n",
              "24216   Room with great view & BR 1 block from Reforma   \n",
              "24219                  Excelente Ambiente 5570,835,621   \n",
              "24222             Habitación privada en magnífica casa   \n",
              "\n",
              "                                             description  \\\n",
              "7      Located in La Condesa, one of the best neighbo...   \n",
              "16     <b>The space</b><br />If you are coming to Mex...   \n",
              "17     Hello! I have 2 private rooms for rent in a ni...   \n",
              "18     Departamento de 2 dormitorios y 1 banos comple...   \n",
              "21     <b>The space</b><br />VIVE LA EXPERIENCIA DE C...   \n",
              "...                                                  ...   \n",
              "24201  \" THE BRIT \" es un edificio único en su clase ...   \n",
              "24214  This cozy and sunny bedroom is the perfect pla...   \n",
              "24216  Private room in Penthouse located in the heart...   \n",
              "24219  Tu familia estará cerca de todo si te hospedas...   \n",
              "24222  Relájate en este espacio muy tranquilo y elega...   \n",
              "\n",
              "                                             picture_url    host_id  \\\n",
              "7      https://a0.muscache.com/pictures/4c674e38-42f8...     299558   \n",
              "16     https://a0.muscache.com/pictures/10580755/b2dc...    3817743   \n",
              "17     https://a0.muscache.com/pictures/32395878/54f6...   10659485   \n",
              "18     https://a0.muscache.com/pictures/28553895/71d5...    3083561   \n",
              "21     https://a0.muscache.com/pictures/837085/b9ed71...     647454   \n",
              "...                                                  ...        ...   \n",
              "24201  https://a0.muscache.com/pictures/miso/Hosting-...  505303275   \n",
              "24214  https://a0.muscache.com/pictures/miso/Hosting-...  506768013   \n",
              "24216  https://a0.muscache.com/pictures/miso/Hosting-...   68325043   \n",
              "24219  https://a0.muscache.com/pictures/d2e3ac33-c092...  506810572   \n",
              "24222  https://a0.muscache.com/pictures/db71951a-8696...  154670560   \n",
              "\n",
              "                                          host_url  ...  \\\n",
              "7         https://www.airbnb.com/users/show/299558  ...   \n",
              "16       https://www.airbnb.com/users/show/3817743  ...   \n",
              "17      https://www.airbnb.com/users/show/10659485  ...   \n",
              "18       https://www.airbnb.com/users/show/3083561  ...   \n",
              "21        https://www.airbnb.com/users/show/647454  ...   \n",
              "...                                            ...  ...   \n",
              "24201  https://www.airbnb.com/users/show/505303275  ...   \n",
              "24214  https://www.airbnb.com/users/show/506768013  ...   \n",
              "24216   https://www.airbnb.com/users/show/68325043  ...   \n",
              "24219  https://www.airbnb.com/users/show/506810572  ...   \n",
              "24222  https://www.airbnb.com/users/show/154670560  ...   \n",
              "\n",
              "      review_scores_communication review_scores_location review_scores_value  \\\n",
              "7                            4.95                   4.94                4.87   \n",
              "16                           4.60                   4.80                4.60   \n",
              "17                           4.80                   4.40                4.40   \n",
              "18                           0.00                   0.00                0.00   \n",
              "21                           0.00                   0.00                0.00   \n",
              "...                           ...                    ...                 ...   \n",
              "24201                        0.00                   0.00                0.00   \n",
              "24214                        0.00                   0.00                0.00   \n",
              "24216                        0.00                   0.00                0.00   \n",
              "24219                        0.00                   0.00                0.00   \n",
              "24222                        0.00                   0.00                0.00   \n",
              "\n",
              "      calculated_host_listings_count  \\\n",
              "7                                2.0   \n",
              "16                               1.0   \n",
              "17                               1.0   \n",
              "18                               1.0   \n",
              "21                               3.0   \n",
              "...                              ...   \n",
              "24201                            6.0   \n",
              "24214                            1.0   \n",
              "24216                            1.0   \n",
              "24219                            2.0   \n",
              "24222                            1.0   \n",
              "\n",
              "      calculated_host_listings_count_entire_homes  \\\n",
              "7                                             0.0   \n",
              "16                                            0.0   \n",
              "17                                            0.0   \n",
              "18                                            0.0   \n",
              "21                                            1.0   \n",
              "...                                           ...   \n",
              "24201                                         1.0   \n",
              "24214                                         0.0   \n",
              "24216                                         0.0   \n",
              "24219                                         0.0   \n",
              "24222                                         0.0   \n",
              "\n",
              "      calculated_host_listings_count_private_rooms  \\\n",
              "7                                              2.0   \n",
              "16                                             1.0   \n",
              "17                                             1.0   \n",
              "18                                             1.0   \n",
              "21                                             2.0   \n",
              "...                                            ...   \n",
              "24201                                          5.0   \n",
              "24214                                          1.0   \n",
              "24216                                          1.0   \n",
              "24219                                          2.0   \n",
              "24222                                          1.0   \n",
              "\n",
              "      calculated_host_listings_count_shared_rooms reviews_per_month  \\\n",
              "7                                             0.0              0.94   \n",
              "16                                            0.0              0.04   \n",
              "17                                            0.0              0.04   \n",
              "18                                            0.0              0.00   \n",
              "21                                            0.0              0.00   \n",
              "...                                           ...               ...   \n",
              "24201                                         0.0              0.00   \n",
              "24214                                         0.0              0.00   \n",
              "24216                                         0.0              0.00   \n",
              "24219                                         0.0              0.00   \n",
              "24222                                         0.0              0.00   \n",
              "\n",
              "                                   neiborhood_overview.1 host_response_rate  \n",
              "7      You are going to be in one of the nicest neigh...                1.0  \n",
              "16                                                    --                0.0  \n",
              "17     Es una zona residencial de Coyoacán, ubicada e...                0.0  \n",
              "18     El apartamento se encuentra en una zona reside...                0.0  \n",
              "21                                                    --                1.0  \n",
              "...                                                  ...                ...  \n",
              "24201                                                 --                0.0  \n",
              "24214  Polanco one of the safest and best neighborhoo...                1.0  \n",
              "24216  Many restaurant option as well as cafes and ba...                1.0  \n",
              "24219                                                 --                1.0  \n",
              "24222                                                 --                1.0  \n",
              "\n",
              "[8202 rows x 78 columns]"
            ],
            "text/html": [
              "\n",
              "  <div id=\"df-8017aee7-2b0a-4eef-bd28-1f85dbc4b54c\">\n",
              "    <div class=\"colab-df-container\">\n",
              "      <div>\n",
              "<style scoped>\n",
              "    .dataframe tbody tr th:only-of-type {\n",
              "        vertical-align: middle;\n",
              "    }\n",
              "\n",
              "    .dataframe tbody tr th {\n",
              "        vertical-align: top;\n",
              "    }\n",
              "\n",
              "    .dataframe thead th {\n",
              "        text-align: right;\n",
              "    }\n",
              "</style>\n",
              "<table border=\"1\" class=\"dataframe\">\n",
              "  <thead>\n",
              "    <tr style=\"text-align: right;\">\n",
              "      <th></th>\n",
              "      <th>id</th>\n",
              "      <th>listing_url</th>\n",
              "      <th>scrape_id</th>\n",
              "      <th>last_scraped</th>\n",
              "      <th>source</th>\n",
              "      <th>name</th>\n",
              "      <th>description</th>\n",
              "      <th>picture_url</th>\n",
              "      <th>host_id</th>\n",
              "      <th>host_url</th>\n",
              "      <th>...</th>\n",
              "      <th>review_scores_communication</th>\n",
              "      <th>review_scores_location</th>\n",
              "      <th>review_scores_value</th>\n",
              "      <th>calculated_host_listings_count</th>\n",
              "      <th>calculated_host_listings_count_entire_homes</th>\n",
              "      <th>calculated_host_listings_count_private_rooms</th>\n",
              "      <th>calculated_host_listings_count_shared_rooms</th>\n",
              "      <th>reviews_per_month</th>\n",
              "      <th>neiborhood_overview.1</th>\n",
              "      <th>host_response_rate</th>\n",
              "    </tr>\n",
              "  </thead>\n",
              "  <tbody>\n",
              "    <tr>\n",
              "      <th>7</th>\n",
              "      <td>61792</td>\n",
              "      <td>https://www.airbnb.com/rooms/61792</td>\n",
              "      <td>2.02E+13</td>\n",
              "      <td>30/03/23</td>\n",
              "      <td>city scrape</td>\n",
              "      <td>Spacious Clean Quiet room (own bath) in Condesa</td>\n",
              "      <td>Located in La Condesa, one of the best neighbo...</td>\n",
              "      <td>https://a0.muscache.com/pictures/4c674e38-42f8...</td>\n",
              "      <td>299558</td>\n",
              "      <td>https://www.airbnb.com/users/show/299558</td>\n",
              "      <td>...</td>\n",
              "      <td>4.95</td>\n",
              "      <td>4.94</td>\n",
              "      <td>4.87</td>\n",
              "      <td>2.0</td>\n",
              "      <td>0.0</td>\n",
              "      <td>2.0</td>\n",
              "      <td>0.0</td>\n",
              "      <td>0.94</td>\n",
              "      <td>You are going to be in one of the nicest neigh...</td>\n",
              "      <td>1.0</td>\n",
              "    </tr>\n",
              "    <tr>\n",
              "      <th>16</th>\n",
              "      <td>760912</td>\n",
              "      <td>https://www.airbnb.com/rooms/760912</td>\n",
              "      <td>2.02E+13</td>\n",
              "      <td>30/03/23</td>\n",
              "      <td>city scrape</td>\n",
              "      <td>Stylish bachelor pad in La Roma, DF</td>\n",
              "      <td>&lt;b&gt;The space&lt;/b&gt;&lt;br /&gt;If you are coming to Mex...</td>\n",
              "      <td>https://a0.muscache.com/pictures/10580755/b2dc...</td>\n",
              "      <td>3817743</td>\n",
              "      <td>https://www.airbnb.com/users/show/3817743</td>\n",
              "      <td>...</td>\n",
              "      <td>4.60</td>\n",
              "      <td>4.80</td>\n",
              "      <td>4.60</td>\n",
              "      <td>1.0</td>\n",
              "      <td>0.0</td>\n",
              "      <td>1.0</td>\n",
              "      <td>0.0</td>\n",
              "      <td>0.04</td>\n",
              "      <td>--</td>\n",
              "      <td>0.0</td>\n",
              "    </tr>\n",
              "    <tr>\n",
              "      <th>17</th>\n",
              "      <td>2088218</td>\n",
              "      <td>https://www.airbnb.com/rooms/2088218</td>\n",
              "      <td>2.02E+13</td>\n",
              "      <td>30/03/23</td>\n",
              "      <td>city scrape</td>\n",
              "      <td>Private rooms near old Coyoacan center</td>\n",
              "      <td>Hello! I have 2 private rooms for rent in a ni...</td>\n",
              "      <td>https://a0.muscache.com/pictures/32395878/54f6...</td>\n",
              "      <td>10659485</td>\n",
              "      <td>https://www.airbnb.com/users/show/10659485</td>\n",
              "      <td>...</td>\n",
              "      <td>4.80</td>\n",
              "      <td>4.40</td>\n",
              "      <td>4.40</td>\n",
              "      <td>1.0</td>\n",
              "      <td>0.0</td>\n",
              "      <td>1.0</td>\n",
              "      <td>0.0</td>\n",
              "      <td>0.04</td>\n",
              "      <td>Es una zona residencial de Coyoacán, ubicada e...</td>\n",
              "      <td>0.0</td>\n",
              "    </tr>\n",
              "    <tr>\n",
              "      <th>18</th>\n",
              "      <td>2093036</td>\n",
              "      <td>https://www.airbnb.com/rooms/2093036</td>\n",
              "      <td>2.02E+13</td>\n",
              "      <td>29/03/23</td>\n",
              "      <td>city scrape</td>\n",
              "      <td>Departamento 2 dormitorios x Antara</td>\n",
              "      <td>Departamento de 2 dormitorios y 1 banos comple...</td>\n",
              "      <td>https://a0.muscache.com/pictures/28553895/71d5...</td>\n",
              "      <td>3083561</td>\n",
              "      <td>https://www.airbnb.com/users/show/3083561</td>\n",
              "      <td>...</td>\n",
              "      <td>0.00</td>\n",
              "      <td>0.00</td>\n",
              "      <td>0.00</td>\n",
              "      <td>1.0</td>\n",
              "      <td>0.0</td>\n",
              "      <td>1.0</td>\n",
              "      <td>0.0</td>\n",
              "      <td>0.00</td>\n",
              "      <td>El apartamento se encuentra en una zona reside...</td>\n",
              "      <td>0.0</td>\n",
              "    </tr>\n",
              "    <tr>\n",
              "      <th>21</th>\n",
              "      <td>131610</td>\n",
              "      <td>https://www.airbnb.com/rooms/131610</td>\n",
              "      <td>2.02E+13</td>\n",
              "      <td>29/03/23</td>\n",
              "      <td>city scrape</td>\n",
              "      <td>MARIA DEL ALMA</td>\n",
              "      <td>&lt;b&gt;The space&lt;/b&gt;&lt;br /&gt;VIVE LA EXPERIENCIA DE C...</td>\n",
              "      <td>https://a0.muscache.com/pictures/837085/b9ed71...</td>\n",
              "      <td>647454</td>\n",
              "      <td>https://www.airbnb.com/users/show/647454</td>\n",
              "      <td>...</td>\n",
              "      <td>0.00</td>\n",
              "      <td>0.00</td>\n",
              "      <td>0.00</td>\n",
              "      <td>3.0</td>\n",
              "      <td>1.0</td>\n",
              "      <td>2.0</td>\n",
              "      <td>0.0</td>\n",
              "      <td>0.00</td>\n",
              "      <td>--</td>\n",
              "      <td>1.0</td>\n",
              "    </tr>\n",
              "    <tr>\n",
              "      <th>...</th>\n",
              "      <td>...</td>\n",
              "      <td>...</td>\n",
              "      <td>...</td>\n",
              "      <td>...</td>\n",
              "      <td>...</td>\n",
              "      <td>...</td>\n",
              "      <td>...</td>\n",
              "      <td>...</td>\n",
              "      <td>...</td>\n",
              "      <td>...</td>\n",
              "      <td>...</td>\n",
              "      <td>...</td>\n",
              "      <td>...</td>\n",
              "      <td>...</td>\n",
              "      <td>...</td>\n",
              "      <td>...</td>\n",
              "      <td>...</td>\n",
              "      <td>...</td>\n",
              "      <td>...</td>\n",
              "      <td>...</td>\n",
              "      <td>...</td>\n",
              "    </tr>\n",
              "    <tr>\n",
              "      <th>24201</th>\n",
              "      <td>856000000000000000.0</td>\n",
              "      <td>https://www.airbnb.com/rooms/856473895554110501</td>\n",
              "      <td>20200000000000.0</td>\n",
              "      <td>30/03/23</td>\n",
              "      <td>city scrape</td>\n",
              "      <td>506</td>\n",
              "      <td>\" THE BRIT \" es un edificio único en su clase ...</td>\n",
              "      <td>https://a0.muscache.com/pictures/miso/Hosting-...</td>\n",
              "      <td>505303275</td>\n",
              "      <td>https://www.airbnb.com/users/show/505303275</td>\n",
              "      <td>...</td>\n",
              "      <td>0.00</td>\n",
              "      <td>0.00</td>\n",
              "      <td>0.00</td>\n",
              "      <td>6.0</td>\n",
              "      <td>1.0</td>\n",
              "      <td>5.0</td>\n",
              "      <td>0.0</td>\n",
              "      <td>0.00</td>\n",
              "      <td>--</td>\n",
              "      <td>0.0</td>\n",
              "    </tr>\n",
              "    <tr>\n",
              "      <th>24214</th>\n",
              "      <td>854000000000000000.0</td>\n",
              "      <td>https://www.airbnb.com/rooms/853707681690048732</td>\n",
              "      <td>20200000000000.0</td>\n",
              "      <td>30/03/23</td>\n",
              "      <td>city scrape</td>\n",
              "      <td>Beautiful Sunny bedroom off Masaryk</td>\n",
              "      <td>This cozy and sunny bedroom is the perfect pla...</td>\n",
              "      <td>https://a0.muscache.com/pictures/miso/Hosting-...</td>\n",
              "      <td>506768013</td>\n",
              "      <td>https://www.airbnb.com/users/show/506768013</td>\n",
              "      <td>...</td>\n",
              "      <td>0.00</td>\n",
              "      <td>0.00</td>\n",
              "      <td>0.00</td>\n",
              "      <td>1.0</td>\n",
              "      <td>0.0</td>\n",
              "      <td>1.0</td>\n",
              "      <td>0.0</td>\n",
              "      <td>0.00</td>\n",
              "      <td>Polanco one of the safest and best neighborhoo...</td>\n",
              "      <td>1.0</td>\n",
              "    </tr>\n",
              "    <tr>\n",
              "      <th>24216</th>\n",
              "      <td>854000000000000000.0</td>\n",
              "      <td>https://www.airbnb.com/rooms/853746847434924262</td>\n",
              "      <td>20200000000000.0</td>\n",
              "      <td>29/03/23</td>\n",
              "      <td>city scrape</td>\n",
              "      <td>Room with great view &amp; BR 1 block from Reforma</td>\n",
              "      <td>Private room in Penthouse located in the heart...</td>\n",
              "      <td>https://a0.muscache.com/pictures/miso/Hosting-...</td>\n",
              "      <td>68325043</td>\n",
              "      <td>https://www.airbnb.com/users/show/68325043</td>\n",
              "      <td>...</td>\n",
              "      <td>0.00</td>\n",
              "      <td>0.00</td>\n",
              "      <td>0.00</td>\n",
              "      <td>1.0</td>\n",
              "      <td>0.0</td>\n",
              "      <td>1.0</td>\n",
              "      <td>0.0</td>\n",
              "      <td>0.00</td>\n",
              "      <td>Many restaurant option as well as cafes and ba...</td>\n",
              "      <td>1.0</td>\n",
              "    </tr>\n",
              "    <tr>\n",
              "      <th>24219</th>\n",
              "      <td>854000000000000000.0</td>\n",
              "      <td>https://www.airbnb.com/rooms/853922041242738127</td>\n",
              "      <td>20200000000000.0</td>\n",
              "      <td>29/03/23</td>\n",
              "      <td>city scrape</td>\n",
              "      <td>Excelente Ambiente 5570,835,621</td>\n",
              "      <td>Tu familia estará cerca de todo si te hospedas...</td>\n",
              "      <td>https://a0.muscache.com/pictures/d2e3ac33-c092...</td>\n",
              "      <td>506810572</td>\n",
              "      <td>https://www.airbnb.com/users/show/506810572</td>\n",
              "      <td>...</td>\n",
              "      <td>0.00</td>\n",
              "      <td>0.00</td>\n",
              "      <td>0.00</td>\n",
              "      <td>2.0</td>\n",
              "      <td>0.0</td>\n",
              "      <td>2.0</td>\n",
              "      <td>0.0</td>\n",
              "      <td>0.00</td>\n",
              "      <td>--</td>\n",
              "      <td>1.0</td>\n",
              "    </tr>\n",
              "    <tr>\n",
              "      <th>24222</th>\n",
              "      <td>854000000000000000.0</td>\n",
              "      <td>https://www.airbnb.com/rooms/854225071295768399</td>\n",
              "      <td>20200000000000.0</td>\n",
              "      <td>29/03/23</td>\n",
              "      <td>city scrape</td>\n",
              "      <td>Habitación privada en magnífica casa</td>\n",
              "      <td>Relájate en este espacio muy tranquilo y elega...</td>\n",
              "      <td>https://a0.muscache.com/pictures/db71951a-8696...</td>\n",
              "      <td>154670560</td>\n",
              "      <td>https://www.airbnb.com/users/show/154670560</td>\n",
              "      <td>...</td>\n",
              "      <td>0.00</td>\n",
              "      <td>0.00</td>\n",
              "      <td>0.00</td>\n",
              "      <td>1.0</td>\n",
              "      <td>0.0</td>\n",
              "      <td>1.0</td>\n",
              "      <td>0.0</td>\n",
              "      <td>0.00</td>\n",
              "      <td>--</td>\n",
              "      <td>1.0</td>\n",
              "    </tr>\n",
              "  </tbody>\n",
              "</table>\n",
              "<p>8202 rows × 78 columns</p>\n",
              "</div>\n",
              "      <button class=\"colab-df-convert\" onclick=\"convertToInteractive('df-8017aee7-2b0a-4eef-bd28-1f85dbc4b54c')\"\n",
              "              title=\"Convert this dataframe to an interactive table.\"\n",
              "              style=\"display:none;\">\n",
              "        \n",
              "  <svg xmlns=\"http://www.w3.org/2000/svg\" height=\"24px\"viewBox=\"0 0 24 24\"\n",
              "       width=\"24px\">\n",
              "    <path d=\"M0 0h24v24H0V0z\" fill=\"none\"/>\n",
              "    <path d=\"M18.56 5.44l.94 2.06.94-2.06 2.06-.94-2.06-.94-.94-2.06-.94 2.06-2.06.94zm-11 1L8.5 8.5l.94-2.06 2.06-.94-2.06-.94L8.5 2.5l-.94 2.06-2.06.94zm10 10l.94 2.06.94-2.06 2.06-.94-2.06-.94-.94-2.06-.94 2.06-2.06.94z\"/><path d=\"M17.41 7.96l-1.37-1.37c-.4-.4-.92-.59-1.43-.59-.52 0-1.04.2-1.43.59L10.3 9.45l-7.72 7.72c-.78.78-.78 2.05 0 2.83L4 21.41c.39.39.9.59 1.41.59.51 0 1.02-.2 1.41-.59l7.78-7.78 2.81-2.81c.8-.78.8-2.07 0-2.86zM5.41 20L4 18.59l7.72-7.72 1.47 1.35L5.41 20z\"/>\n",
              "  </svg>\n",
              "      </button>\n",
              "      \n",
              "  <style>\n",
              "    .colab-df-container {\n",
              "      display:flex;\n",
              "      flex-wrap:wrap;\n",
              "      gap: 12px;\n",
              "    }\n",
              "\n",
              "    .colab-df-convert {\n",
              "      background-color: #E8F0FE;\n",
              "      border: none;\n",
              "      border-radius: 50%;\n",
              "      cursor: pointer;\n",
              "      display: none;\n",
              "      fill: #1967D2;\n",
              "      height: 32px;\n",
              "      padding: 0 0 0 0;\n",
              "      width: 32px;\n",
              "    }\n",
              "\n",
              "    .colab-df-convert:hover {\n",
              "      background-color: #E2EBFA;\n",
              "      box-shadow: 0px 1px 2px rgba(60, 64, 67, 0.3), 0px 1px 3px 1px rgba(60, 64, 67, 0.15);\n",
              "      fill: #174EA6;\n",
              "    }\n",
              "\n",
              "    [theme=dark] .colab-df-convert {\n",
              "      background-color: #3B4455;\n",
              "      fill: #D2E3FC;\n",
              "    }\n",
              "\n",
              "    [theme=dark] .colab-df-convert:hover {\n",
              "      background-color: #434B5C;\n",
              "      box-shadow: 0px 1px 3px 1px rgba(0, 0, 0, 0.15);\n",
              "      filter: drop-shadow(0px 1px 2px rgba(0, 0, 0, 0.3));\n",
              "      fill: #FFFFFF;\n",
              "    }\n",
              "  </style>\n",
              "\n",
              "      <script>\n",
              "        const buttonEl =\n",
              "          document.querySelector('#df-8017aee7-2b0a-4eef-bd28-1f85dbc4b54c button.colab-df-convert');\n",
              "        buttonEl.style.display =\n",
              "          google.colab.kernel.accessAllowed ? 'block' : 'none';\n",
              "\n",
              "        async function convertToInteractive(key) {\n",
              "          const element = document.querySelector('#df-8017aee7-2b0a-4eef-bd28-1f85dbc4b54c');\n",
              "          const dataTable =\n",
              "            await google.colab.kernel.invokeFunction('convertToInteractive',\n",
              "                                                     [key], {});\n",
              "          if (!dataTable) return;\n",
              "\n",
              "          const docLinkHtml = 'Like what you see? Visit the ' +\n",
              "            '<a target=\"_blank\" href=https://colab.research.google.com/notebooks/data_table.ipynb>data table notebook</a>'\n",
              "            + ' to learn more about interactive tables.';\n",
              "          element.innerHTML = '';\n",
              "          dataTable['output_type'] = 'display_data';\n",
              "          await google.colab.output.renderOutput(dataTable, element);\n",
              "          const docLink = document.createElement('div');\n",
              "          docLink.innerHTML = docLinkHtml;\n",
              "          element.appendChild(docLink);\n",
              "        }\n",
              "      </script>\n",
              "    </div>\n",
              "  </div>\n",
              "  "
            ]
          },
          "metadata": {},
          "execution_count": 294
        }
      ]
    },
    {
      "cell_type": "markdown",
      "source": [
        "## X = host_response_rate\n",
        "\n",
        "## y= host_acceptance_rate"
      ],
      "metadata": {
        "id": "R1Ee-Cv11dTq"
      }
    },
    {
      "cell_type": "code",
      "source": [
        "#Imprimimos el scatter plot entre la variable dependiente e independiente\n",
        "#para observar el comportamiento en su dispersión \n",
        "from turtle import color\n",
        "\n",
        "\n",
        "sns.scatterplot(x='host_response_rate', y='host_acceptance_rate', color=\"blue\", data=filtro1_mex)"
      ],
      "metadata": {
        "colab": {
          "base_uri": "https://localhost:8080/",
          "height": 468
        },
        "id": "Yullw3121iIx",
        "outputId": "5a38742d-30d0-45e7-c411-59d0b6a98519"
      },
      "execution_count": null,
      "outputs": [
        {
          "output_type": "execute_result",
          "data": {
            "text/plain": [
              "<Axes: xlabel='host_response_rate', ylabel='host_acceptance_rate'>"
            ]
          },
          "metadata": {},
          "execution_count": 295
        },
        {
          "output_type": "display_data",
          "data": {
            "text/plain": [
              "<Figure size 640x480 with 1 Axes>"
            ],
            "image/png": "[encoded data removed]"
          },
          "metadata": {}
        }
      ]
    },
    {
      "cell_type": "code",
      "source": [
        "#Declaramos las variables dependientes e independientes para la regresión lineal\n",
        "Vars_Indep= filtro1_mex[['host_response_rate']]\n",
        "Var_Dep= filtro1_mex['host_acceptance_rate']"
      ],
      "metadata": {
        "id": "xXYFprpy45JQ"
      },
      "execution_count": null,
      "outputs": []
    },
    {
      "cell_type": "code",
      "source": [
        "#Se define model como la función de regresión lineal\n",
        "from sklearn.linear_model import LinearRegression\n",
        "model= LinearRegression()"
      ],
      "metadata": {
        "id": "5Egvl_Ye4-9I"
      },
      "execution_count": null,
      "outputs": []
    },
    {
      "cell_type": "code",
      "source": [
        "#Verificamos la función relacionada al modelo\n",
        "type(model)"
      ],
      "metadata": {
        "colab": {
          "base_uri": "https://localhost:8080/"
        },
        "id": "RK2GhNFs5H1U",
        "outputId": "647c3ff2-8680-4a75-da7d-7ba1e1fbc595"
      },
      "execution_count": null,
      "outputs": [
        {
          "output_type": "execute_result",
          "data": {
            "text/plain": [
              "sklearn.linear_model._base.LinearRegression"
            ]
          },
          "metadata": {},
          "execution_count": 298
        }
      ]
    },
    {
      "cell_type": "code",
      "source": [
        "#Ajustamos el modelo con las variables antes declaradas\n",
        "model.fit(X=Vars_Indep, y=Var_Dep)"
      ],
      "metadata": {
        "colab": {
          "base_uri": "https://localhost:8080/",
          "height": 75
        },
        "id": "7QDN6cwU5LZL",
        "outputId": "1a2b6bf3-82df-4068-ccbb-ac28a5dc746d"
      },
      "execution_count": null,
      "outputs": [
        {
          "output_type": "execute_result",
          "data": {
            "text/plain": [
              "LinearRegression()"
            ],
            "text/html": [
              "<style>#sk-container-id-34 {color: black;background-color: white;}#sk-container-id-34 pre{padding: 0;}#sk-container-id-34 div.sk-toggleable {background-color: white;}#sk-container-id-34 label.sk-toggleable__label {cursor: pointer;display: block;width: 100%;margin-bottom: 0;padding: 0.3em;box-sizing: border-box;text-align: center;}#sk-container-id-34 label.sk-toggleable__label-arrow:before {content: \"▸\";float: left;margin-right: 0.25em;color: #696969;}#sk-container-id-34 label.sk-toggleable__label-arrow:hover:before {color: black;}#sk-container-id-34 div.sk-estimator:hover label.sk-toggleable__label-arrow:before {color: black;}#sk-container-id-34 div.sk-toggleable__content {max-height: 0;max-width: 0;overflow: hidden;text-align: left;background-color: #f0f8ff;}#sk-container-id-34 div.sk-toggleable__content pre {margin: 0.2em;color: black;border-radius: 0.25em;background-color: #f0f8ff;}#sk-container-id-34 input.sk-toggleable__control:checked~div.sk-toggleable__content {max-height: 200px;max-width: 100%;overflow: auto;}#sk-container-id-34 input.sk-toggleable__control:checked~label.sk-toggleable__label-arrow:before {content: \"▾\";}#sk-container-id-34 div.sk-estimator input.sk-toggleable__control:checked~label.sk-toggleable__label {background-color: #d4ebff;}#sk-container-id-34 div.sk-label input.sk-toggleable__control:checked~label.sk-toggleable__label {background-color: #d4ebff;}#sk-container-id-34 input.sk-hidden--visually {border: 0;clip: rect(1px 1px 1px 1px);clip: rect(1px, 1px, 1px, 1px);height: 1px;margin: -1px;overflow: hidden;padding: 0;position: absolute;width: 1px;}#sk-container-id-34 div.sk-estimator {font-family: monospace;background-color: #f0f8ff;border: 1px dotted black;border-radius: 0.25em;box-sizing: border-box;margin-bottom: 0.5em;}#sk-container-id-34 div.sk-estimator:hover {background-color: #d4ebff;}#sk-container-id-34 div.sk-parallel-item::after {content: \"\";width: 100%;border-bottom: 1px solid gray;flex-grow: 1;}#sk-container-id-34 div.sk-label:hover label.sk-toggleable__label {background-color: #d4ebff;}#sk-container-id-34 div.sk-serial::before {content: \"\";position: absolute;border-left: 1px solid gray;box-sizing: border-box;top: 0;bottom: 0;left: 50%;z-index: 0;}#sk-container-id-34 div.sk-serial {display: flex;flex-direction: column;align-items: center;background-color: white;padding-right: 0.2em;padding-left: 0.2em;position: relative;}#sk-container-id-34 div.sk-item {position: relative;z-index: 1;}#sk-container-id-34 div.sk-parallel {display: flex;align-items: stretch;justify-content: center;background-color: white;position: relative;}#sk-container-id-34 div.sk-item::before, #sk-container-id-34 div.sk-parallel-item::before {content: \"\";position: absolute;border-left: 1px solid gray;box-sizing: border-box;top: 0;bottom: 0;left: 50%;z-index: -1;}#sk-container-id-34 div.sk-parallel-item {display: flex;flex-direction: column;z-index: 1;position: relative;background-color: white;}#sk-container-id-34 div.sk-parallel-item:first-child::after {align-self: flex-end;width: 50%;}#sk-container-id-34 div.sk-parallel-item:last-child::after {align-self: flex-start;width: 50%;}#sk-container-id-34 div.sk-parallel-item:only-child::after {width: 0;}#sk-container-id-34 div.sk-dashed-wrapped {border: 1px dashed gray;margin: 0 0.4em 0.5em 0.4em;box-sizing: border-box;padding-bottom: 0.4em;background-color: white;}#sk-container-id-34 div.sk-label label {font-family: monospace;font-weight: bold;display: inline-block;line-height: 1.2em;}#sk-container-id-34 div.sk-label-container {text-align: center;}#sk-container-id-34 div.sk-container {/* jupyter's `normalize.less` sets `[hidden] { display: none; }` but bootstrap.min.css set `[hidden] { display: none !important; }` so we also need the `!important` here to be able to override the default hidden behavior on the sphinx rendered scikit-learn.org. See: https://github.com/scikit-learn/scikit-learn/issues/21755 */display: inline-block !important;position: relative;}#sk-container-id-34 div.sk-text-repr-fallback {display: none;}</style><div id=\"sk-container-id-34\" class=\"sk-top-container\"><div class=\"sk-text-repr-fallback\"><pre>LinearRegression()</pre><b>In a Jupyter environment, please rerun this cell to show the HTML representation or trust the notebook. <br />On GitHub, the HTML representation is unable to render, please try loading this page with nbviewer.org.</b></div><div class=\"sk-container\" hidden><div class=\"sk-item\"><div class=\"sk-estimator sk-toggleable\"><input class=\"sk-toggleable__control sk-hidden--visually\" id=\"sk-estimator-id-34\" type=\"checkbox\" checked><label for=\"sk-estimator-id-34\" class=\"sk-toggleable__label sk-toggleable__label-arrow\">LinearRegression</label><div class=\"sk-toggleable__content\"><pre>LinearRegression()</pre></div></div></div></div></div>"
            ]
          },
          "metadata": {},
          "execution_count": 299
        }
      ]
    },
    {
      "cell_type": "code",
      "source": [
        "#Verificamos los coeficientes obtenidos para el modelo ajustado\n",
        "model.__dict__"
      ],
      "metadata": {
        "colab": {
          "base_uri": "https://localhost:8080/"
        },
        "id": "rfaBKogP5OKk",
        "outputId": "1e7543f1-3044-4a6c-cd14-6b427deddce7"
      },
      "execution_count": null,
      "outputs": [
        {
          "output_type": "execute_result",
          "data": {
            "text/plain": [
              "{'fit_intercept': True,\n",
              " 'copy_X': True,\n",
              " 'n_jobs': None,\n",
              " 'positive': False,\n",
              " 'feature_names_in_': array(['host_response_rate'], dtype=object),\n",
              " 'n_features_in_': 1,\n",
              " 'coef_': array([0.30361209]),\n",
              " 'rank_': 1,\n",
              " 'singular_': array([35.02268297]),\n",
              " 'intercept_': 0.5339403072822166}"
            ]
          },
          "metadata": {},
          "execution_count": 300
        }
      ]
    },
    {
      "cell_type": "markdown",
      "source": [
        "Modelo matemático: y= 0.30361209x + 0.5339403072822166\n"
      ],
      "metadata": {
        "id": "xWJuVAhv5qtn"
      }
    },
    {
      "cell_type": "code",
      "source": [
        "#Corroboramos cual es el coeficiente de Determinación de nuestro modelo\n",
        "coef_Deter=model.score(X=Vars_Indep, y=Var_Dep)\n",
        "coef_Deter"
      ],
      "metadata": {
        "colab": {
          "base_uri": "https://localhost:8080/"
        },
        "id": "xdFrqANw50vN",
        "outputId": "aafbc0d8-2aaa-43d0-c42e-cd207cae98da"
      },
      "execution_count": null,
      "outputs": [
        {
          "output_type": "execute_result",
          "data": {
            "text/plain": [
              "0.10242991819597624"
            ]
          },
          "metadata": {},
          "execution_count": 301
        }
      ]
    },
    {
      "cell_type": "code",
      "source": [
        "#Corroboramos cual es el coeficiente de Correlación de nuestro modelo\n",
        "coef_Correl=np.sqrt(coef_Deter)\n",
        "coef_Correl"
      ],
      "metadata": {
        "colab": {
          "base_uri": "https://localhost:8080/"
        },
        "id": "ujKKqJT453F_",
        "outputId": "cd7a3305-36f4-4d1a-8f49-e7b5448aa383"
      },
      "execution_count": null,
      "outputs": [
        {
          "output_type": "execute_result",
          "data": {
            "text/plain": [
              "0.320046743767182"
            ]
          },
          "metadata": {},
          "execution_count": 302
        }
      ]
    },
    {
      "cell_type": "markdown",
      "source": [
        "## X = price\n",
        "\n",
        "## y= host_acceptance_rate"
      ],
      "metadata": {
        "id": "Yj7v79gC1Los"
      }
    },
    {
      "cell_type": "code",
      "source": [
        "#Imprimimos el scatter plot entre la variable dependiente e independiente \n",
        "#para observar el comportamiento en su dispersión \n",
        "from turtle import color\n",
        "\n",
        "\n",
        "sns.scatterplot(x='price', y='host_acceptance_rate', color=\"blue\", data=filtro1_mex)"
      ],
      "metadata": {
        "colab": {
          "base_uri": "https://localhost:8080/",
          "height": 467
        },
        "id": "UwqBsB1cyVpt",
        "outputId": "d794f2ab-91e0-43b5-8101-fb6633511761"
      },
      "execution_count": null,
      "outputs": [
        {
          "output_type": "execute_result",
          "data": {
            "text/plain": [
              "<Axes: xlabel='price', ylabel='host_acceptance_rate'>"
            ]
          },
          "metadata": {},
          "execution_count": 303
        },
        {
          "output_type": "display_data",
          "data": {
            "text/plain": [
              "<Figure size 640x480 with 1 Axes>"
            ],
            "image/png": "[encoded data removed]"
          },
          "metadata": {}
        }
      ]
    },
    {
      "cell_type": "code",
      "source": [
        "#Declaramos las variables dependientes e independientes para la regresión lineal\n",
        "Vars_Indep2= filtro1_mex[['price']]\n",
        "Var_Dep2= filtro1_mex['host_acceptance_rate']"
      ],
      "metadata": {
        "id": "4-72HGPo0fLg"
      },
      "execution_count": null,
      "outputs": []
    },
    {
      "cell_type": "code",
      "source": [
        "#Se define model como la función de regresión lineal\n",
        "from sklearn.linear_model import LinearRegression\n",
        "model2= LinearRegression()"
      ],
      "metadata": {
        "id": "myhrM3vS0vaR"
      },
      "execution_count": null,
      "outputs": []
    },
    {
      "cell_type": "code",
      "source": [
        "#Verificamos la función relacionada al modelo\n",
        "type(model2)"
      ],
      "metadata": {
        "colab": {
          "base_uri": "https://localhost:8080/"
        },
        "id": "MYkMYOfP0z8F",
        "outputId": "fc8b3ab8-ef32-4158-b8a0-c426798257ea"
      },
      "execution_count": null,
      "outputs": [
        {
          "output_type": "execute_result",
          "data": {
            "text/plain": [
              "sklearn.linear_model._base.LinearRegression"
            ]
          },
          "metadata": {},
          "execution_count": 306
        }
      ]
    },
    {
      "cell_type": "code",
      "source": [
        "#Ajustamos el modelo con las variables antes declaradas\n",
        "model2.fit(X=Vars_Indep2, y=Var_Dep2)"
      ],
      "metadata": {
        "colab": {
          "base_uri": "https://localhost:8080/",
          "height": 75
        },
        "id": "01XMFVxM033a",
        "outputId": "31bba6f2-0727-4ab6-ff65-493e068a0a06"
      },
      "execution_count": null,
      "outputs": [
        {
          "output_type": "execute_result",
          "data": {
            "text/plain": [
              "LinearRegression()"
            ],
            "text/html": [
              "<style>#sk-container-id-35 {color: black;background-color: white;}#sk-container-id-35 pre{padding: 0;}#sk-container-id-35 div.sk-toggleable {background-color: white;}#sk-container-id-35 label.sk-toggleable__label {cursor: pointer;display: block;width: 100%;margin-bottom: 0;padding: 0.3em;box-sizing: border-box;text-align: center;}#sk-container-id-35 label.sk-toggleable__label-arrow:before {content: \"▸\";float: left;margin-right: 0.25em;color: #696969;}#sk-container-id-35 label.sk-toggleable__label-arrow:hover:before {color: black;}#sk-container-id-35 div.sk-estimator:hover label.sk-toggleable__label-arrow:before {color: black;}#sk-container-id-35 div.sk-toggleable__content {max-height: 0;max-width: 0;overflow: hidden;text-align: left;background-color: #f0f8ff;}#sk-container-id-35 div.sk-toggleable__content pre {margin: 0.2em;color: black;border-radius: 0.25em;background-color: #f0f8ff;}#sk-container-id-35 input.sk-toggleable__control:checked~div.sk-toggleable__content {max-height: 200px;max-width: 100%;overflow: auto;}#sk-container-id-35 input.sk-toggleable__control:checked~label.sk-toggleable__label-arrow:before {content: \"▾\";}#sk-container-id-35 div.sk-estimator input.sk-toggleable__control:checked~label.sk-toggleable__label {background-color: #d4ebff;}#sk-container-id-35 div.sk-label input.sk-toggleable__control:checked~label.sk-toggleable__label {background-color: #d4ebff;}#sk-container-id-35 input.sk-hidden--visually {border: 0;clip: rect(1px 1px 1px 1px);clip: rect(1px, 1px, 1px, 1px);height: 1px;margin: -1px;overflow: hidden;padding: 0;position: absolute;width: 1px;}#sk-container-id-35 div.sk-estimator {font-family: monospace;background-color: #f0f8ff;border: 1px dotted black;border-radius: 0.25em;box-sizing: border-box;margin-bottom: 0.5em;}#sk-container-id-35 div.sk-estimator:hover {background-color: #d4ebff;}#sk-container-id-35 div.sk-parallel-item::after {content: \"\";width: 100%;border-bottom: 1px solid gray;flex-grow: 1;}#sk-container-id-35 div.sk-label:hover label.sk-toggleable__label {background-color: #d4ebff;}#sk-container-id-35 div.sk-serial::before {content: \"\";position: absolute;border-left: 1px solid gray;box-sizing: border-box;top: 0;bottom: 0;left: 50%;z-index: 0;}#sk-container-id-35 div.sk-serial {display: flex;flex-direction: column;align-items: center;background-color: white;padding-right: 0.2em;padding-left: 0.2em;position: relative;}#sk-container-id-35 div.sk-item {position: relative;z-index: 1;}#sk-container-id-35 div.sk-parallel {display: flex;align-items: stretch;justify-content: center;background-color: white;position: relative;}#sk-container-id-35 div.sk-item::before, #sk-container-id-35 div.sk-parallel-item::before {content: \"\";position: absolute;border-left: 1px solid gray;box-sizing: border-box;top: 0;bottom: 0;left: 50%;z-index: -1;}#sk-container-id-35 div.sk-parallel-item {display: flex;flex-direction: column;z-index: 1;position: relative;background-color: white;}#sk-container-id-35 div.sk-parallel-item:first-child::after {align-self: flex-end;width: 50%;}#sk-container-id-35 div.sk-parallel-item:last-child::after {align-self: flex-start;width: 50%;}#sk-container-id-35 div.sk-parallel-item:only-child::after {width: 0;}#sk-container-id-35 div.sk-dashed-wrapped {border: 1px dashed gray;margin: 0 0.4em 0.5em 0.4em;box-sizing: border-box;padding-bottom: 0.4em;background-color: white;}#sk-container-id-35 div.sk-label label {font-family: monospace;font-weight: bold;display: inline-block;line-height: 1.2em;}#sk-container-id-35 div.sk-label-container {text-align: center;}#sk-container-id-35 div.sk-container {/* jupyter's `normalize.less` sets `[hidden] { display: none; }` but bootstrap.min.css set `[hidden] { display: none !important; }` so we also need the `!important` here to be able to override the default hidden behavior on the sphinx rendered scikit-learn.org. See: https://github.com/scikit-learn/scikit-learn/issues/21755 */display: inline-block !important;position: relative;}#sk-container-id-35 div.sk-text-repr-fallback {display: none;}</style><div id=\"sk-container-id-35\" class=\"sk-top-container\"><div class=\"sk-text-repr-fallback\"><pre>LinearRegression()</pre><b>In a Jupyter environment, please rerun this cell to show the HTML representation or trust the notebook. <br />On GitHub, the HTML representation is unable to render, please try loading this page with nbviewer.org.</b></div><div class=\"sk-container\" hidden><div class=\"sk-item\"><div class=\"sk-estimator sk-toggleable\"><input class=\"sk-toggleable__control sk-hidden--visually\" id=\"sk-estimator-id-35\" type=\"checkbox\" checked><label for=\"sk-estimator-id-35\" class=\"sk-toggleable__label sk-toggleable__label-arrow\">LinearRegression</label><div class=\"sk-toggleable__content\"><pre>LinearRegression()</pre></div></div></div></div></div>"
            ]
          },
          "metadata": {},
          "execution_count": 307
        }
      ]
    },
    {
      "cell_type": "code",
      "source": [
        "#Verificamos los coeficientes obtenidos para el modelo ajustado\n",
        "model2.__dict__"
      ],
      "metadata": {
        "colab": {
          "base_uri": "https://localhost:8080/"
        },
        "id": "AW1mtI6B06WQ",
        "outputId": "fc21b6ec-065e-483a-dd2f-e648ad22fbad"
      },
      "execution_count": null,
      "outputs": [
        {
          "output_type": "execute_result",
          "data": {
            "text/plain": [
              "{'fit_intercept': True,\n",
              " 'copy_X': True,\n",
              " 'n_jobs': None,\n",
              " 'positive': False,\n",
              " 'feature_names_in_': array(['price'], dtype=object),\n",
              " 'n_features_in_': 1,\n",
              " 'coef_': array([-3.49814314e-07]),\n",
              " 'rank_': 1,\n",
              " 'singular_': array([2160830.41606824]),\n",
              " 'intercept_': 0.7731305870565954}"
            ]
          },
          "metadata": {},
          "execution_count": 308
        }
      ]
    },
    {
      "cell_type": "markdown",
      "source": [
        "Modelo matemático: y= -3.49814314e-07x + 0.7731305870565954"
      ],
      "metadata": {
        "id": "CwZCIace1He0"
      }
    },
    {
      "cell_type": "code",
      "source": [
        "#Corroboramos cual es el coeficiente de Determinación de nuestro modelo\n",
        "coef_Deter2=model2.score(X=Vars_Indep2, y=Var_Dep2)\n",
        "coef_Deter2"
      ],
      "metadata": {
        "colab": {
          "base_uri": "https://localhost:8080/"
        },
        "id": "WG4YLXMt6bQw",
        "outputId": "7d58c3f5-0e3d-4764-85f5-c0e6fd43ba36"
      },
      "execution_count": null,
      "outputs": [
        {
          "output_type": "execute_result",
          "data": {
            "text/plain": [
              "0.0005176144732649268"
            ]
          },
          "metadata": {},
          "execution_count": 309
        }
      ]
    },
    {
      "cell_type": "code",
      "source": [
        "#Corroboramos cual es el coeficiente de Correlación de nuestro modelo\n",
        "coef_Correl2=np.sqrt(coef_Deter2)\n",
        "coef_Correl2"
      ],
      "metadata": {
        "colab": {
          "base_uri": "https://localhost:8080/"
        },
        "id": "XoYj9Wq26iSy",
        "outputId": "bf6d4dd2-fd1a-40f1-da4a-83a879d68d5e"
      },
      "execution_count": null,
      "outputs": [
        {
          "output_type": "execute_result",
          "data": {
            "text/plain": [
              "0.022751142240883794"
            ]
          },
          "metadata": {},
          "execution_count": 310
        }
      ]
    },
    {
      "cell_type": "markdown",
      "source": [
        "## X = number_of_reviews\n",
        "## y= host_acceptance_rate"
      ],
      "metadata": {
        "id": "PzisYSAv7Fj9"
      }
    },
    {
      "cell_type": "code",
      "source": [
        "#Imprimimos el scatter plot entre la variable dependiente e independiente \n",
        "#para observar el comportamiento en su dispersión \n",
        "from turtle import color\n",
        "\n",
        "\n",
        "sns.scatterplot(x='number_of_reviews', y='host_acceptance_rate', color=\"blue\", data=filtro1_mex)"
      ],
      "metadata": {
        "id": "uzF8Zr4C7LjQ"
      },
      "execution_count": null,
      "outputs": []
    },
    {
      "cell_type": "code",
      "source": [
        "#Declaramos las variables dependientes e independientes para la regresión lineal\n",
        "Vars_Indep3= filtro1_mex[['number_of_reviews']]\n",
        "Var_Dep3= filtro1_mex['host_acceptance_rate']"
      ],
      "metadata": {
        "id": "Ba1cPtpm7Qzu"
      },
      "execution_count": null,
      "outputs": []
    },
    {
      "cell_type": "code",
      "source": [
        "#Se define model como la función de regresión lineal\n",
        "from sklearn.linear_model import LinearRegression\n",
        "model3= LinearRegression()"
      ],
      "metadata": {
        "id": "3VRacDVJ7dZq"
      },
      "execution_count": null,
      "outputs": []
    },
    {
      "cell_type": "code",
      "source": [
        "#Verificamos la función relacionada al modelo\n",
        "type(model3)"
      ],
      "metadata": {
        "colab": {
          "base_uri": "https://localhost:8080/"
        },
        "id": "ZvyLq1fM7jCT",
        "outputId": "d20db7cf-86f3-4c01-bcd2-08d6b3fe3fea"
      },
      "execution_count": null,
      "outputs": [
        {
          "output_type": "execute_result",
          "data": {
            "text/plain": [
              "sklearn.linear_model._base.LinearRegression"
            ]
          },
          "metadata": {},
          "execution_count": 314
        }
      ]
    },
    {
      "cell_type": "code",
      "source": [
        "#Ajustamos el modelo con las variables antes declaradas\n",
        "model3.fit(X=Vars_Indep3, y=Var_Dep3)"
      ],
      "metadata": {
        "colab": {
          "base_uri": "https://localhost:8080/",
          "height": 75
        },
        "id": "9rvVTZr_7msc",
        "outputId": "6b14ca7b-e312-4726-8eee-ade77bdff4ef"
      },
      "execution_count": null,
      "outputs": [
        {
          "output_type": "execute_result",
          "data": {
            "text/plain": [
              "LinearRegression()"
            ],
            "text/html": [
              "<style>#sk-container-id-36 {color: black;background-color: white;}#sk-container-id-36 pre{padding: 0;}#sk-container-id-36 div.sk-toggleable {background-color: white;}#sk-container-id-36 label.sk-toggleable__label {cursor: pointer;display: block;width: 100%;margin-bottom: 0;padding: 0.3em;box-sizing: border-box;text-align: center;}#sk-container-id-36 label.sk-toggleable__label-arrow:before {content: \"▸\";float: left;margin-right: 0.25em;color: #696969;}#sk-container-id-36 label.sk-toggleable__label-arrow:hover:before {color: black;}#sk-container-id-36 div.sk-estimator:hover label.sk-toggleable__label-arrow:before {color: black;}#sk-container-id-36 div.sk-toggleable__content {max-height: 0;max-width: 0;overflow: hidden;text-align: left;background-color: #f0f8ff;}#sk-container-id-36 div.sk-toggleable__content pre {margin: 0.2em;color: black;border-radius: 0.25em;background-color: #f0f8ff;}#sk-container-id-36 input.sk-toggleable__control:checked~div.sk-toggleable__content {max-height: 200px;max-width: 100%;overflow: auto;}#sk-container-id-36 input.sk-toggleable__control:checked~label.sk-toggleable__label-arrow:before {content: \"▾\";}#sk-container-id-36 div.sk-estimator input.sk-toggleable__control:checked~label.sk-toggleable__label {background-color: #d4ebff;}#sk-container-id-36 div.sk-label input.sk-toggleable__control:checked~label.sk-toggleable__label {background-color: #d4ebff;}#sk-container-id-36 input.sk-hidden--visually {border: 0;clip: rect(1px 1px 1px 1px);clip: rect(1px, 1px, 1px, 1px);height: 1px;margin: -1px;overflow: hidden;padding: 0;position: absolute;width: 1px;}#sk-container-id-36 div.sk-estimator {font-family: monospace;background-color: #f0f8ff;border: 1px dotted black;border-radius: 0.25em;box-sizing: border-box;margin-bottom: 0.5em;}#sk-container-id-36 div.sk-estimator:hover {background-color: #d4ebff;}#sk-container-id-36 div.sk-parallel-item::after {content: \"\";width: 100%;border-bottom: 1px solid gray;flex-grow: 1;}#sk-container-id-36 div.sk-label:hover label.sk-toggleable__label {background-color: #d4ebff;}#sk-container-id-36 div.sk-serial::before {content: \"\";position: absolute;border-left: 1px solid gray;box-sizing: border-box;top: 0;bottom: 0;left: 50%;z-index: 0;}#sk-container-id-36 div.sk-serial {display: flex;flex-direction: column;align-items: center;background-color: white;padding-right: 0.2em;padding-left: 0.2em;position: relative;}#sk-container-id-36 div.sk-item {position: relative;z-index: 1;}#sk-container-id-36 div.sk-parallel {display: flex;align-items: stretch;justify-content: center;background-color: white;position: relative;}#sk-container-id-36 div.sk-item::before, #sk-container-id-36 div.sk-parallel-item::before {content: \"\";position: absolute;border-left: 1px solid gray;box-sizing: border-box;top: 0;bottom: 0;left: 50%;z-index: -1;}#sk-container-id-36 div.sk-parallel-item {display: flex;flex-direction: column;z-index: 1;position: relative;background-color: white;}#sk-container-id-36 div.sk-parallel-item:first-child::after {align-self: flex-end;width: 50%;}#sk-container-id-36 div.sk-parallel-item:last-child::after {align-self: flex-start;width: 50%;}#sk-container-id-36 div.sk-parallel-item:only-child::after {width: 0;}#sk-container-id-36 div.sk-dashed-wrapped {border: 1px dashed gray;margin: 0 0.4em 0.5em 0.4em;box-sizing: border-box;padding-bottom: 0.4em;background-color: white;}#sk-container-id-36 div.sk-label label {font-family: monospace;font-weight: bold;display: inline-block;line-height: 1.2em;}#sk-container-id-36 div.sk-label-container {text-align: center;}#sk-container-id-36 div.sk-container {/* jupyter's `normalize.less` sets `[hidden] { display: none; }` but bootstrap.min.css set `[hidden] { display: none !important; }` so we also need the `!important` here to be able to override the default hidden behavior on the sphinx rendered scikit-learn.org. See: https://github.com/scikit-learn/scikit-learn/issues/21755 */display: inline-block !important;position: relative;}#sk-container-id-36 div.sk-text-repr-fallback {display: none;}</style><div id=\"sk-container-id-36\" class=\"sk-top-container\"><div class=\"sk-text-repr-fallback\"><pre>LinearRegression()</pre><b>In a Jupyter environment, please rerun this cell to show the HTML representation or trust the notebook. <br />On GitHub, the HTML representation is unable to render, please try loading this page with nbviewer.org.</b></div><div class=\"sk-container\" hidden><div class=\"sk-item\"><div class=\"sk-estimator sk-toggleable\"><input class=\"sk-toggleable__control sk-hidden--visually\" id=\"sk-estimator-id-36\" type=\"checkbox\" checked><label for=\"sk-estimator-id-36\" class=\"sk-toggleable__label sk-toggleable__label-arrow\">LinearRegression</label><div class=\"sk-toggleable__content\"><pre>LinearRegression()</pre></div></div></div></div></div>"
            ]
          },
          "metadata": {},
          "execution_count": 315
        }
      ]
    },
    {
      "cell_type": "code",
      "source": [
        "#Verificamos los coeficientes obtenidos para el modelo ajustado\n",
        "model3.__dict__"
      ],
      "metadata": {
        "colab": {
          "base_uri": "https://localhost:8080/"
        },
        "id": "7lYpu2Ga7s29",
        "outputId": "d59e9fd3-2d27-4f1d-f7f8-ad9d6083996a"
      },
      "execution_count": null,
      "outputs": [
        {
          "output_type": "execute_result",
          "data": {
            "text/plain": [
              "{'fit_intercept': True,\n",
              " 'copy_X': True,\n",
              " 'n_jobs': None,\n",
              " 'positive': False,\n",
              " 'feature_names_in_': array(['number_of_reviews'], dtype=object),\n",
              " 'n_features_in_': 1,\n",
              " 'coef_': array([0.00102198]),\n",
              " 'rank_': 1,\n",
              " 'singular_': array([5203.65954966]),\n",
              " 'intercept_': 0.7461541467021322}"
            ]
          },
          "metadata": {},
          "execution_count": 316
        }
      ]
    },
    {
      "cell_type": "markdown",
      "source": [
        "Modelo matemático: y=0.00102198x + 0.7461541467021322"
      ],
      "metadata": {
        "id": "EpV-nWPiKK_s"
      }
    },
    {
      "cell_type": "code",
      "source": [
        "#Corroboramos cual es el coeficiente de Determinación de nuestro modelo\n",
        "coef_Deter3=model3.score(X=Vars_Indep3, y=Var_Dep3)\n",
        "coef_Deter3"
      ],
      "metadata": {
        "colab": {
          "base_uri": "https://localhost:8080/"
        },
        "id": "i9itZePD7xv_",
        "outputId": "2c92dc44-5e92-4b22-ab91-2e14078ea335"
      },
      "execution_count": null,
      "outputs": [
        {
          "output_type": "execute_result",
          "data": {
            "text/plain": [
              "0.025621035420213434"
            ]
          },
          "metadata": {},
          "execution_count": 317
        }
      ]
    },
    {
      "cell_type": "code",
      "source": [
        "#Corroboramos cual es el coeficiente de Correlación de nuestro modelo\n",
        "coef_Correl3=np.sqrt(coef_Deter3)\n",
        "coef_Correl3"
      ],
      "metadata": {
        "colab": {
          "base_uri": "https://localhost:8080/"
        },
        "id": "K1b8zuKm7_Gn",
        "outputId": "6abc2e32-f328-4a48-e226-8c3e491edf6a"
      },
      "execution_count": null,
      "outputs": [
        {
          "output_type": "execute_result",
          "data": {
            "text/plain": [
              "0.1600657221900224"
            ]
          },
          "metadata": {},
          "execution_count": 318
        }
      ]
    },
    {
      "cell_type": "markdown",
      "source": [
        "## X = review_scores_cleanliness\n",
        "\n",
        "## y= review_scores_location"
      ],
      "metadata": {
        "id": "ZaYZACt6KVjd"
      }
    },
    {
      "cell_type": "code",
      "source": [
        "#Imprimimos el scatter plot entre la variable dependiente e independiente\n",
        "#para observar el comportamiento en su dispersión \n",
        "from turtle import color\n",
        "\n",
        "\n",
        "sns.scatterplot(x='review_scores_cleanliness', y='review_scores_location', color=\"blue\", data=filtro1_mex)"
      ],
      "metadata": {
        "colab": {
          "base_uri": "https://localhost:8080/",
          "height": 468
        },
        "id": "XmaqQ-F8Kf9H",
        "outputId": "30b158fe-1c75-4711-f7b7-65ae23ab5b6a"
      },
      "execution_count": null,
      "outputs": [
        {
          "output_type": "execute_result",
          "data": {
            "text/plain": [
              "<Axes: xlabel='review_scores_cleanliness', ylabel='review_scores_location'>"
            ]
          },
          "metadata": {},
          "execution_count": 319
        },
        {
          "output_type": "display_data",
          "data": {
            "text/plain": [
              "<Figure size 640x480 with 1 Axes>"
            ],
            "image/png": "[encoded data removed]"
          },
          "metadata": {}
        }
      ]
    },
    {
      "cell_type": "code",
      "source": [
        "#Declaramos las variables dependientes e independientes para la regresión lineal\n",
        "Vars_Indep4= filtro1_mex[['review_scores_cleanliness']]\n",
        "Var_Dep4= filtro1_mex['review_scores_location']"
      ],
      "metadata": {
        "id": "TJB9tFDFKpvK"
      },
      "execution_count": null,
      "outputs": []
    },
    {
      "cell_type": "code",
      "source": [
        "#Se define model como la función de regresión lineal\n",
        "from sklearn.linear_model import LinearRegression\n",
        "model4= LinearRegression()"
      ],
      "metadata": {
        "id": "ylYKNjppK8EE"
      },
      "execution_count": null,
      "outputs": []
    },
    {
      "cell_type": "code",
      "source": [
        "#Verificamos la función relacionada al modelo\n",
        "type(model4)"
      ],
      "metadata": {
        "colab": {
          "base_uri": "https://localhost:8080/"
        },
        "id": "78FPCIPJK9l-",
        "outputId": "4ee1880f-fe42-450c-d10a-7ed8e1d26b36"
      },
      "execution_count": null,
      "outputs": [
        {
          "output_type": "execute_result",
          "data": {
            "text/plain": [
              "sklearn.linear_model._base.LinearRegression"
            ]
          },
          "metadata": {},
          "execution_count": 322
        }
      ]
    },
    {
      "cell_type": "code",
      "source": [
        "#Ajustamos el modelo con las variables antes declaradas\n",
        "model4.fit(X=Vars_Indep4, y=Var_Dep4)"
      ],
      "metadata": {
        "colab": {
          "base_uri": "https://localhost:8080/",
          "height": 75
        },
        "id": "QNb67HaeLO7o",
        "outputId": "8166f635-845c-448e-d9ea-c372dc01d4d1"
      },
      "execution_count": null,
      "outputs": [
        {
          "output_type": "execute_result",
          "data": {
            "text/plain": [
              "LinearRegression()"
            ],
            "text/html": [
              "<style>#sk-container-id-37 {color: black;background-color: white;}#sk-container-id-37 pre{padding: 0;}#sk-container-id-37 div.sk-toggleable {background-color: white;}#sk-container-id-37 label.sk-toggleable__label {cursor: pointer;display: block;width: 100%;margin-bottom: 0;padding: 0.3em;box-sizing: border-box;text-align: center;}#sk-container-id-37 label.sk-toggleable__label-arrow:before {content: \"▸\";float: left;margin-right: 0.25em;color: #696969;}#sk-container-id-37 label.sk-toggleable__label-arrow:hover:before {color: black;}#sk-container-id-37 div.sk-estimator:hover label.sk-toggleable__label-arrow:before {color: black;}#sk-container-id-37 div.sk-toggleable__content {max-height: 0;max-width: 0;overflow: hidden;text-align: left;background-color: #f0f8ff;}#sk-container-id-37 div.sk-toggleable__content pre {margin: 0.2em;color: black;border-radius: 0.25em;background-color: #f0f8ff;}#sk-container-id-37 input.sk-toggleable__control:checked~div.sk-toggleable__content {max-height: 200px;max-width: 100%;overflow: auto;}#sk-container-id-37 input.sk-toggleable__control:checked~label.sk-toggleable__label-arrow:before {content: \"▾\";}#sk-container-id-37 div.sk-estimator input.sk-toggleable__control:checked~label.sk-toggleable__label {background-color: #d4ebff;}#sk-container-id-37 div.sk-label input.sk-toggleable__control:checked~label.sk-toggleable__label {background-color: #d4ebff;}#sk-container-id-37 input.sk-hidden--visually {border: 0;clip: rect(1px 1px 1px 1px);clip: rect(1px, 1px, 1px, 1px);height: 1px;margin: -1px;overflow: hidden;padding: 0;position: absolute;width: 1px;}#sk-container-id-37 div.sk-estimator {font-family: monospace;background-color: #f0f8ff;border: 1px dotted black;border-radius: 0.25em;box-sizing: border-box;margin-bottom: 0.5em;}#sk-container-id-37 div.sk-estimator:hover {background-color: #d4ebff;}#sk-container-id-37 div.sk-parallel-item::after {content: \"\";width: 100%;border-bottom: 1px solid gray;flex-grow: 1;}#sk-container-id-37 div.sk-label:hover label.sk-toggleable__label {background-color: #d4ebff;}#sk-container-id-37 div.sk-serial::before {content: \"\";position: absolute;border-left: 1px solid gray;box-sizing: border-box;top: 0;bottom: 0;left: 50%;z-index: 0;}#sk-container-id-37 div.sk-serial {display: flex;flex-direction: column;align-items: center;background-color: white;padding-right: 0.2em;padding-left: 0.2em;position: relative;}#sk-container-id-37 div.sk-item {position: relative;z-index: 1;}#sk-container-id-37 div.sk-parallel {display: flex;align-items: stretch;justify-content: center;background-color: white;position: relative;}#sk-container-id-37 div.sk-item::before, #sk-container-id-37 div.sk-parallel-item::before {content: \"\";position: absolute;border-left: 1px solid gray;box-sizing: border-box;top: 0;bottom: 0;left: 50%;z-index: -1;}#sk-container-id-37 div.sk-parallel-item {display: flex;flex-direction: column;z-index: 1;position: relative;background-color: white;}#sk-container-id-37 div.sk-parallel-item:first-child::after {align-self: flex-end;width: 50%;}#sk-container-id-37 div.sk-parallel-item:last-child::after {align-self: flex-start;width: 50%;}#sk-container-id-37 div.sk-parallel-item:only-child::after {width: 0;}#sk-container-id-37 div.sk-dashed-wrapped {border: 1px dashed gray;margin: 0 0.4em 0.5em 0.4em;box-sizing: border-box;padding-bottom: 0.4em;background-color: white;}#sk-container-id-37 div.sk-label label {font-family: monospace;font-weight: bold;display: inline-block;line-height: 1.2em;}#sk-container-id-37 div.sk-label-container {text-align: center;}#sk-container-id-37 div.sk-container {/* jupyter's `normalize.less` sets `[hidden] { display: none; }` but bootstrap.min.css set `[hidden] { display: none !important; }` so we also need the `!important` here to be able to override the default hidden behavior on the sphinx rendered scikit-learn.org. See: https://github.com/scikit-learn/scikit-learn/issues/21755 */display: inline-block !important;position: relative;}#sk-container-id-37 div.sk-text-repr-fallback {display: none;}</style><div id=\"sk-container-id-37\" class=\"sk-top-container\"><div class=\"sk-text-repr-fallback\"><pre>LinearRegression()</pre><b>In a Jupyter environment, please rerun this cell to show the HTML representation or trust the notebook. <br />On GitHub, the HTML representation is unable to render, please try loading this page with nbviewer.org.</b></div><div class=\"sk-container\" hidden><div class=\"sk-item\"><div class=\"sk-estimator sk-toggleable\"><input class=\"sk-toggleable__control sk-hidden--visually\" id=\"sk-estimator-id-37\" type=\"checkbox\" checked><label for=\"sk-estimator-id-37\" class=\"sk-toggleable__label sk-toggleable__label-arrow\">LinearRegression</label><div class=\"sk-toggleable__content\"><pre>LinearRegression()</pre></div></div></div></div></div>"
            ]
          },
          "metadata": {},
          "execution_count": 323
        }
      ]
    },
    {
      "cell_type": "code",
      "source": [
        "#Verificamos los coeficientes obtenidos para el modelo ajustado\n",
        "model4.__dict__"
      ],
      "metadata": {
        "colab": {
          "base_uri": "https://localhost:8080/"
        },
        "id": "s1b7jtMzLASq",
        "outputId": "d1dcf045-f482-42ee-b648-fc7ed81ece19"
      },
      "execution_count": null,
      "outputs": [
        {
          "output_type": "execute_result",
          "data": {
            "text/plain": [
              "{'fit_intercept': True,\n",
              " 'copy_X': True,\n",
              " 'n_jobs': None,\n",
              " 'positive': False,\n",
              " 'feature_names_in_': array(['review_scores_cleanliness'], dtype=object),\n",
              " 'n_features_in_': 1,\n",
              " 'coef_': array([1.00037091]),\n",
              " 'rank_': 1,\n",
              " 'singular_': array([181.95203241]),\n",
              " 'intercept_': 0.07951183473700185}"
            ]
          },
          "metadata": {},
          "execution_count": 324
        }
      ]
    },
    {
      "cell_type": "markdown",
      "source": [
        "Modelo matemático: y=1.00037091x + 0.07951183473700185"
      ],
      "metadata": {
        "id": "9UezLWw_LgbO"
      }
    },
    {
      "cell_type": "code",
      "source": [
        "#Corroboramos cual es el coeficiente de Determinación de nuestro modelo\n",
        "coef_Deter4=model4.score(X=Vars_Indep4, y=Var_Dep4)\n",
        "coef_Deter4"
      ],
      "metadata": {
        "id": "foNS27UCLonY"
      },
      "execution_count": null,
      "outputs": []
    },
    {
      "cell_type": "code",
      "source": [
        "#Corroboramos cual es el coeficiente de Correlación de nuestro modelo\n",
        "coef_Correl4=np.sqrt(coef_Deter4)\n",
        "coef_Correl4"
      ],
      "metadata": {
        "colab": {
          "base_uri": "https://localhost:8080/"
        },
        "id": "lt6SrbLiLrrv",
        "outputId": "585542f5-403f-4a65-e877-180eb270f8d3"
      },
      "execution_count": null,
      "outputs": [
        {
          "output_type": "execute_result",
          "data": {
            "text/plain": [
              "0.986078217456551"
            ]
          },
          "metadata": {},
          "execution_count": 326
        }
      ]
    },
    {
      "cell_type": "markdown",
      "source": [
        "## X = number_of_reviews\n",
        "\n",
        "## y= availability_365"
      ],
      "metadata": {
        "id": "vaWRbXVWL4TD"
      }
    },
    {
      "cell_type": "code",
      "source": [
        "#Imprimimos el scatter plot entre la variable dependiente e independiente\n",
        "#para observar el comportamiento en su dispersión \n",
        "from turtle import color\n",
        "\n",
        "\n",
        "sns.scatterplot(x='number_of_reviews', y='availability_365', color=\"blue\", data=filtro1_mex)"
      ],
      "metadata": {
        "colab": {
          "base_uri": "https://localhost:8080/",
          "height": 468
        },
        "id": "KUeAwMC_MHWo",
        "outputId": "b24096d4-171f-4f24-9331-3a41584a653f"
      },
      "execution_count": null,
      "outputs": [
        {
          "output_type": "execute_result",
          "data": {
            "text/plain": [
              "<Axes: xlabel='number_of_reviews', ylabel='availability_365'>"
            ]
          },
          "metadata": {},
          "execution_count": 327
        },
        {
          "output_type": "display_data",
          "data": {
            "text/plain": [
              "<Figure size 640x480 with 1 Axes>"
            ],
            "image/png": "[encoded data removed]"
          },
          "metadata": {}
        }
      ]
    },
    {
      "cell_type": "code",
      "source": [
        "#Declaramos las variables dependientes e independientes para la regresión lineal\n",
        "Vars_Indep5= filtro1_mex[['number_of_reviews']]\n",
        "Var_Dep5= filtro1_mex['availability_365']"
      ],
      "metadata": {
        "id": "rQ5k3hK4MnhN"
      },
      "execution_count": null,
      "outputs": []
    },
    {
      "cell_type": "code",
      "source": [
        "#Se define model como la función de regresión lineal\n",
        "from sklearn.linear_model import LinearRegression\n",
        "model5= LinearRegression()"
      ],
      "metadata": {
        "id": "hyLZVYVCM9Tw"
      },
      "execution_count": null,
      "outputs": []
    },
    {
      "cell_type": "code",
      "source": [
        "#Verificamos la función relacionada al modelo\n",
        "type(model5)"
      ],
      "metadata": {
        "colab": {
          "base_uri": "https://localhost:8080/"
        },
        "id": "nQkJ2lBnNAUd",
        "outputId": "77334ac4-58ce-4567-deaa-8d03a4b86d0e"
      },
      "execution_count": null,
      "outputs": [
        {
          "output_type": "execute_result",
          "data": {
            "text/plain": [
              "sklearn.linear_model._base.LinearRegression"
            ]
          },
          "metadata": {},
          "execution_count": 330
        }
      ]
    },
    {
      "cell_type": "code",
      "source": [
        "#Ajustamos el modelo con las variables antes declaradas\n",
        "model5.fit(X=Vars_Indep5, y=Var_Dep5)"
      ],
      "metadata": {
        "colab": {
          "base_uri": "https://localhost:8080/",
          "height": 75
        },
        "id": "7OibeTj8NC5T",
        "outputId": "0fafa6fd-345c-4e36-a24e-39e633062f99"
      },
      "execution_count": null,
      "outputs": [
        {
          "output_type": "execute_result",
          "data": {
            "text/plain": [
              "LinearRegression()"
            ],
            "text/html": [
              "<style>#sk-container-id-38 {color: black;background-color: white;}#sk-container-id-38 pre{padding: 0;}#sk-container-id-38 div.sk-toggleable {background-color: white;}#sk-container-id-38 label.sk-toggleable__label {cursor: pointer;display: block;width: 100%;margin-bottom: 0;padding: 0.3em;box-sizing: border-box;text-align: center;}#sk-container-id-38 label.sk-toggleable__label-arrow:before {content: \"▸\";float: left;margin-right: 0.25em;color: #696969;}#sk-container-id-38 label.sk-toggleable__label-arrow:hover:before {color: black;}#sk-container-id-38 div.sk-estimator:hover label.sk-toggleable__label-arrow:before {color: black;}#sk-container-id-38 div.sk-toggleable__content {max-height: 0;max-width: 0;overflow: hidden;text-align: left;background-color: #f0f8ff;}#sk-container-id-38 div.sk-toggleable__content pre {margin: 0.2em;color: black;border-radius: 0.25em;background-color: #f0f8ff;}#sk-container-id-38 input.sk-toggleable__control:checked~div.sk-toggleable__content {max-height: 200px;max-width: 100%;overflow: auto;}#sk-container-id-38 input.sk-toggleable__control:checked~label.sk-toggleable__label-arrow:before {content: \"▾\";}#sk-container-id-38 div.sk-estimator input.sk-toggleable__control:checked~label.sk-toggleable__label {background-color: #d4ebff;}#sk-container-id-38 div.sk-label input.sk-toggleable__control:checked~label.sk-toggleable__label {background-color: #d4ebff;}#sk-container-id-38 input.sk-hidden--visually {border: 0;clip: rect(1px 1px 1px 1px);clip: rect(1px, 1px, 1px, 1px);height: 1px;margin: -1px;overflow: hidden;padding: 0;position: absolute;width: 1px;}#sk-container-id-38 div.sk-estimator {font-family: monospace;background-color: #f0f8ff;border: 1px dotted black;border-radius: 0.25em;box-sizing: border-box;margin-bottom: 0.5em;}#sk-container-id-38 div.sk-estimator:hover {background-color: #d4ebff;}#sk-container-id-38 div.sk-parallel-item::after {content: \"\";width: 100%;border-bottom: 1px solid gray;flex-grow: 1;}#sk-container-id-38 div.sk-label:hover label.sk-toggleable__label {background-color: #d4ebff;}#sk-container-id-38 div.sk-serial::before {content: \"\";position: absolute;border-left: 1px solid gray;box-sizing: border-box;top: 0;bottom: 0;left: 50%;z-index: 0;}#sk-container-id-38 div.sk-serial {display: flex;flex-direction: column;align-items: center;background-color: white;padding-right: 0.2em;padding-left: 0.2em;position: relative;}#sk-container-id-38 div.sk-item {position: relative;z-index: 1;}#sk-container-id-38 div.sk-parallel {display: flex;align-items: stretch;justify-content: center;background-color: white;position: relative;}#sk-container-id-38 div.sk-item::before, #sk-container-id-38 div.sk-parallel-item::before {content: \"\";position: absolute;border-left: 1px solid gray;box-sizing: border-box;top: 0;bottom: 0;left: 50%;z-index: -1;}#sk-container-id-38 div.sk-parallel-item {display: flex;flex-direction: column;z-index: 1;position: relative;background-color: white;}#sk-container-id-38 div.sk-parallel-item:first-child::after {align-self: flex-end;width: 50%;}#sk-container-id-38 div.sk-parallel-item:last-child::after {align-self: flex-start;width: 50%;}#sk-container-id-38 div.sk-parallel-item:only-child::after {width: 0;}#sk-container-id-38 div.sk-dashed-wrapped {border: 1px dashed gray;margin: 0 0.4em 0.5em 0.4em;box-sizing: border-box;padding-bottom: 0.4em;background-color: white;}#sk-container-id-38 div.sk-label label {font-family: monospace;font-weight: bold;display: inline-block;line-height: 1.2em;}#sk-container-id-38 div.sk-label-container {text-align: center;}#sk-container-id-38 div.sk-container {/* jupyter's `normalize.less` sets `[hidden] { display: none; }` but bootstrap.min.css set `[hidden] { display: none !important; }` so we also need the `!important` here to be able to override the default hidden behavior on the sphinx rendered scikit-learn.org. See: https://github.com/scikit-learn/scikit-learn/issues/21755 */display: inline-block !important;position: relative;}#sk-container-id-38 div.sk-text-repr-fallback {display: none;}</style><div id=\"sk-container-id-38\" class=\"sk-top-container\"><div class=\"sk-text-repr-fallback\"><pre>LinearRegression()</pre><b>In a Jupyter environment, please rerun this cell to show the HTML representation or trust the notebook. <br />On GitHub, the HTML representation is unable to render, please try loading this page with nbviewer.org.</b></div><div class=\"sk-container\" hidden><div class=\"sk-item\"><div class=\"sk-estimator sk-toggleable\"><input class=\"sk-toggleable__control sk-hidden--visually\" id=\"sk-estimator-id-38\" type=\"checkbox\" checked><label for=\"sk-estimator-id-38\" class=\"sk-toggleable__label sk-toggleable__label-arrow\">LinearRegression</label><div class=\"sk-toggleable__content\"><pre>LinearRegression()</pre></div></div></div></div></div>"
            ]
          },
          "metadata": {},
          "execution_count": 331
        }
      ]
    },
    {
      "cell_type": "code",
      "source": [
        "#Verificamos los coeficientes obtenidos para el modelo ajustado\n",
        "model5.__dict__"
      ],
      "metadata": {
        "colab": {
          "base_uri": "https://localhost:8080/"
        },
        "id": "mC5EgRdgNKDH",
        "outputId": "b8793a95-34ab-45d8-a8e6-46e30a958072"
      },
      "execution_count": null,
      "outputs": [
        {
          "output_type": "execute_result",
          "data": {
            "text/plain": [
              "{'fit_intercept': True,\n",
              " 'copy_X': True,\n",
              " 'n_jobs': None,\n",
              " 'positive': False,\n",
              " 'feature_names_in_': array(['number_of_reviews'], dtype=object),\n",
              " 'n_features_in_': 1,\n",
              " 'coef_': array([-0.09364539]),\n",
              " 'rank_': 1,\n",
              " 'singular_': array([5203.65954966]),\n",
              " 'intercept_': 255.47449731231168}"
            ]
          },
          "metadata": {},
          "execution_count": 332
        }
      ]
    },
    {
      "cell_type": "markdown",
      "source": [
        "Modelo matemático: y= -0.09364539x + 255.47449731231168"
      ],
      "metadata": {
        "id": "RuP1fgd_NUXl"
      }
    },
    {
      "cell_type": "code",
      "source": [
        "#Corroboramos cual es el coeficiente de Determinación de nuestro modelo\n",
        "coef_Deter5=model5.score(X=Vars_Indep5, y=Var_Dep5)\n",
        "coef_Deter5"
      ],
      "metadata": {
        "colab": {
          "base_uri": "https://localhost:8080/"
        },
        "id": "yYzFqGXTNc1w",
        "outputId": "672e239d-a6c8-4b71-f387-4edfc72c6603"
      },
      "execution_count": null,
      "outputs": [
        {
          "output_type": "execute_result",
          "data": {
            "text/plain": [
              "0.001848740094272383"
            ]
          },
          "metadata": {},
          "execution_count": 333
        }
      ]
    },
    {
      "cell_type": "code",
      "source": [
        "#Corroboramos cual es el coeficiente de Correlación de nuestro modelo\n",
        "coef_Correl5=np.sqrt(coef_Deter5)\n",
        "coef_Correl5"
      ],
      "metadata": {
        "colab": {
          "base_uri": "https://localhost:8080/"
        },
        "id": "OdJvwMHDNhvC",
        "outputId": "ca2ba46b-c478-4d7d-85e5-20646374bde7"
      },
      "execution_count": null,
      "outputs": [
        {
          "output_type": "execute_result",
          "data": {
            "text/plain": [
              "0.04299697773416619"
            ]
          },
          "metadata": {},
          "execution_count": 334
        }
      ]
    },
    {
      "cell_type": "markdown",
      "source": [
        "## X = review_scores_communication\n",
        "## y= reviews_per_month"
      ],
      "metadata": {
        "id": "1yTZw-q5NwjN"
      }
    },
    {
      "cell_type": "code",
      "source": [
        "#Imprimimos el scatter plot entre la variable dependiente e independiente \n",
        "#para observar el comportamiento en su dispersión \n",
        "from turtle import color\n",
        "\n",
        "\n",
        "sns.scatterplot(x='review_scores_communication', y='reviews_per_month', color=\"blue\", data=filtro1_mex)"
      ],
      "metadata": {
        "colab": {
          "base_uri": "https://localhost:8080/",
          "height": 470
        },
        "id": "_ZBDqo-vN-EW",
        "outputId": "ee8191c1-d662-4938-9dee-1f53427af19c"
      },
      "execution_count": null,
      "outputs": [
        {
          "output_type": "execute_result",
          "data": {
            "text/plain": [
              "<Axes: xlabel='review_scores_communication', ylabel='reviews_per_month'>"
            ]
          },
          "metadata": {},
          "execution_count": 335
        },
        {
          "output_type": "display_data",
          "data": {
            "text/plain": [
              "<Figure size 640x480 with 1 Axes>"
            ],
            "image/png": "[encoded data removed]"
          },
          "metadata": {}
        }
      ]
    },
    {
      "cell_type": "code",
      "source": [
        "#Declaramos las variables dependientes e independientes para la regresión lineal\n",
        "Vars_Indep6= filtro1_mex[['reviews_per_month']]\n",
        "Var_Dep6= filtro1_mex['review_scores_communication']"
      ],
      "metadata": {
        "id": "se3WolBmOTTu"
      },
      "execution_count": null,
      "outputs": []
    },
    {
      "cell_type": "code",
      "source": [
        "#Se define model como la función de regresión lineal\n",
        "from sklearn.linear_model import LinearRegression\n",
        "model6= LinearRegression()"
      ],
      "metadata": {
        "id": "lFICaPfiOrqF"
      },
      "execution_count": null,
      "outputs": []
    },
    {
      "cell_type": "code",
      "source": [
        "#Verificamos la función relacionada al modelo\n",
        "type(model6)"
      ],
      "metadata": {
        "colab": {
          "base_uri": "https://localhost:8080/"
        },
        "id": "Sa0VH5grOvWA",
        "outputId": "a8677ae9-1c1b-457f-bc14-62a16ced8b12"
      },
      "execution_count": null,
      "outputs": [
        {
          "output_type": "execute_result",
          "data": {
            "text/plain": [
              "sklearn.linear_model._base.LinearRegression"
            ]
          },
          "metadata": {},
          "execution_count": 338
        }
      ]
    },
    {
      "cell_type": "code",
      "source": [
        "#Ajustamos el modelo con las variables antes declaradas\n",
        "model6.fit(X=Vars_Indep6, y=Var_Dep6)"
      ],
      "metadata": {
        "colab": {
          "base_uri": "https://localhost:8080/",
          "height": 75
        },
        "id": "FejfTrkmOyhJ",
        "outputId": "f697c26d-57a6-4d95-b8e8-64ea3b811ced"
      },
      "execution_count": null,
      "outputs": [
        {
          "output_type": "execute_result",
          "data": {
            "text/plain": [
              "LinearRegression()"
            ],
            "text/html": [
              "<style>#sk-container-id-39 {color: black;background-color: white;}#sk-container-id-39 pre{padding: 0;}#sk-container-id-39 div.sk-toggleable {background-color: white;}#sk-container-id-39 label.sk-toggleable__label {cursor: pointer;display: block;width: 100%;margin-bottom: 0;padding: 0.3em;box-sizing: border-box;text-align: center;}#sk-container-id-39 label.sk-toggleable__label-arrow:before {content: \"▸\";float: left;margin-right: 0.25em;color: #696969;}#sk-container-id-39 label.sk-toggleable__label-arrow:hover:before {color: black;}#sk-container-id-39 div.sk-estimator:hover label.sk-toggleable__label-arrow:before {color: black;}#sk-container-id-39 div.sk-toggleable__content {max-height: 0;max-width: 0;overflow: hidden;text-align: left;background-color: #f0f8ff;}#sk-container-id-39 div.sk-toggleable__content pre {margin: 0.2em;color: black;border-radius: 0.25em;background-color: #f0f8ff;}#sk-container-id-39 input.sk-toggleable__control:checked~div.sk-toggleable__content {max-height: 200px;max-width: 100%;overflow: auto;}#sk-container-id-39 input.sk-toggleable__control:checked~label.sk-toggleable__label-arrow:before {content: \"▾\";}#sk-container-id-39 div.sk-estimator input.sk-toggleable__control:checked~label.sk-toggleable__label {background-color: #d4ebff;}#sk-container-id-39 div.sk-label input.sk-toggleable__control:checked~label.sk-toggleable__label {background-color: #d4ebff;}#sk-container-id-39 input.sk-hidden--visually {border: 0;clip: rect(1px 1px 1px 1px);clip: rect(1px, 1px, 1px, 1px);height: 1px;margin: -1px;overflow: hidden;padding: 0;position: absolute;width: 1px;}#sk-container-id-39 div.sk-estimator {font-family: monospace;background-color: #f0f8ff;border: 1px dotted black;border-radius: 0.25em;box-sizing: border-box;margin-bottom: 0.5em;}#sk-container-id-39 div.sk-estimator:hover {background-color: #d4ebff;}#sk-container-id-39 div.sk-parallel-item::after {content: \"\";width: 100%;border-bottom: 1px solid gray;flex-grow: 1;}#sk-container-id-39 div.sk-label:hover label.sk-toggleable__label {background-color: #d4ebff;}#sk-container-id-39 div.sk-serial::before {content: \"\";position: absolute;border-left: 1px solid gray;box-sizing: border-box;top: 0;bottom: 0;left: 50%;z-index: 0;}#sk-container-id-39 div.sk-serial {display: flex;flex-direction: column;align-items: center;background-color: white;padding-right: 0.2em;padding-left: 0.2em;position: relative;}#sk-container-id-39 div.sk-item {position: relative;z-index: 1;}#sk-container-id-39 div.sk-parallel {display: flex;align-items: stretch;justify-content: center;background-color: white;position: relative;}#sk-container-id-39 div.sk-item::before, #sk-container-id-39 div.sk-parallel-item::before {content: \"\";position: absolute;border-left: 1px solid gray;box-sizing: border-box;top: 0;bottom: 0;left: 50%;z-index: -1;}#sk-container-id-39 div.sk-parallel-item {display: flex;flex-direction: column;z-index: 1;position: relative;background-color: white;}#sk-container-id-39 div.sk-parallel-item:first-child::after {align-self: flex-end;width: 50%;}#sk-container-id-39 div.sk-parallel-item:last-child::after {align-self: flex-start;width: 50%;}#sk-container-id-39 div.sk-parallel-item:only-child::after {width: 0;}#sk-container-id-39 div.sk-dashed-wrapped {border: 1px dashed gray;margin: 0 0.4em 0.5em 0.4em;box-sizing: border-box;padding-bottom: 0.4em;background-color: white;}#sk-container-id-39 div.sk-label label {font-family: monospace;font-weight: bold;display: inline-block;line-height: 1.2em;}#sk-container-id-39 div.sk-label-container {text-align: center;}#sk-container-id-39 div.sk-container {/* jupyter's `normalize.less` sets `[hidden] { display: none; }` but bootstrap.min.css set `[hidden] { display: none !important; }` so we also need the `!important` here to be able to override the default hidden behavior on the sphinx rendered scikit-learn.org. See: https://github.com/scikit-learn/scikit-learn/issues/21755 */display: inline-block !important;position: relative;}#sk-container-id-39 div.sk-text-repr-fallback {display: none;}</style><div id=\"sk-container-id-39\" class=\"sk-top-container\"><div class=\"sk-text-repr-fallback\"><pre>LinearRegression()</pre><b>In a Jupyter environment, please rerun this cell to show the HTML representation or trust the notebook. <br />On GitHub, the HTML representation is unable to render, please try loading this page with nbviewer.org.</b></div><div class=\"sk-container\" hidden><div class=\"sk-item\"><div class=\"sk-estimator sk-toggleable\"><input class=\"sk-toggleable__control sk-hidden--visually\" id=\"sk-estimator-id-39\" type=\"checkbox\" checked><label for=\"sk-estimator-id-39\" class=\"sk-toggleable__label sk-toggleable__label-arrow\">LinearRegression</label><div class=\"sk-toggleable__content\"><pre>LinearRegression()</pre></div></div></div></div></div>"
            ]
          },
          "metadata": {},
          "execution_count": 339
        }
      ]
    },
    {
      "cell_type": "code",
      "source": [
        "#Verificamos los coeficientes obtenidos para el modelo ajustado\n",
        "model6.__dict__"
      ],
      "metadata": {
        "colab": {
          "base_uri": "https://localhost:8080/"
        },
        "id": "YlfV8poAO2TV",
        "outputId": "1d1d2d6d-e2ea-4077-87fc-3cb75da9f57e"
      },
      "execution_count": null,
      "outputs": [
        {
          "output_type": "execute_result",
          "data": {
            "text/plain": [
              "{'fit_intercept': True,\n",
              " 'copy_X': True,\n",
              " 'n_jobs': None,\n",
              " 'positive': False,\n",
              " 'feature_names_in_': array(['reviews_per_month'], dtype=object),\n",
              " 'n_features_in_': 1,\n",
              " 'coef_': array([0.29302237]),\n",
              " 'rank_': 1,\n",
              " 'singular_': array([178.11852283]),\n",
              " 'intercept_': 3.418693800168787}"
            ]
          },
          "metadata": {},
          "execution_count": 340
        }
      ]
    },
    {
      "cell_type": "markdown",
      "source": [
        "Modelo matemático: y= 0.29302237x + 3.418693800168787"
      ],
      "metadata": {
        "id": "Av7ThmHDO6lz"
      }
    },
    {
      "cell_type": "code",
      "source": [
        "#Corroboramos cual es el coeficiente de Determinación de nuestro modelo\n",
        "coef_Deter6=model6.score(X=Vars_Indep6, y=Var_Dep6)\n",
        "coef_Deter6"
      ],
      "metadata": {
        "colab": {
          "base_uri": "https://localhost:8080/"
        },
        "id": "mgBM36txPGwd",
        "outputId": "5721548a-01f1-4e8d-d589-8077d8701866"
      },
      "execution_count": null,
      "outputs": [
        {
          "output_type": "execute_result",
          "data": {
            "text/plain": [
              "0.08013727168058526"
            ]
          },
          "metadata": {},
          "execution_count": 341
        }
      ]
    },
    {
      "cell_type": "code",
      "source": [
        "#Corroboramos cual es el coeficiente de Correlación de nuestro modelo\n",
        "coef_Correl6=np.sqrt(coef_Deter6)\n",
        "coef_Correl6"
      ],
      "metadata": {
        "colab": {
          "base_uri": "https://localhost:8080/"
        },
        "id": "js4evlUNPLJ8",
        "outputId": "b8b3c69a-3723-424c-bf38-1cbf09283b41"
      },
      "execution_count": null,
      "outputs": [
        {
          "output_type": "execute_result",
          "data": {
            "text/plain": [
              "0.28308527280765644"
            ]
          },
          "metadata": {},
          "execution_count": 342
        }
      ]
    },
    {
      "cell_type": "markdown",
      "source": [
        "# **Filto 2 - Tipo de habitación = Hotel room**"
      ],
      "metadata": {
        "id": "c0NKLifchcJz"
      }
    },
    {
      "cell_type": "code",
      "source": [
        "filtro2_mex = mex.loc[mex['room_type'] == \"Hotel room\"]\n",
        "filtro2_mex"
      ],
      "metadata": {
        "colab": {
          "base_uri": "https://localhost:8080/",
          "height": 1000
        },
        "id": "NT9nmW-f_VL4",
        "outputId": "e3e1a4b9-2f85-48cb-b9e0-cf44cdcbda32"
      },
      "execution_count": null,
      "outputs": [
        {
          "output_type": "execute_result",
          "data": {
            "text/plain": [
              "               id                            listing_url         scrape_id  \\\n",
              "14         737328    https://www.airbnb.com/rooms/737328          2.02E+13   \n",
              "53         865012    https://www.airbnb.com/rooms/865012          2.02E+13   \n",
              "55         868843    https://www.airbnb.com/rooms/868843          2.02E+13   \n",
              "62         869063    https://www.airbnb.com/rooms/869063          2.02E+13   \n",
              "66         281134    https://www.airbnb.com/rooms/281134          2.02E+13   \n",
              "...           ...                                    ...               ...   \n",
              "9496   43205383.0  https://www.airbnb.com/rooms/43205383  20200000000000.0   \n",
              "9538   43247503.0  https://www.airbnb.com/rooms/43247503  20200000000000.0   \n",
              "9540   43247525.0  https://www.airbnb.com/rooms/43247525  20200000000000.0   \n",
              "9545   43247567.0  https://www.airbnb.com/rooms/43247567  20200000000000.0   \n",
              "11363  47845863.0  https://www.airbnb.com/rooms/47845863  20200000000000.0   \n",
              "\n",
              "      last_scraped           source  \\\n",
              "14        29/03/23      city scrape   \n",
              "53        29/03/23      city scrape   \n",
              "55        30/03/23      city scrape   \n",
              "62        30/03/23      city scrape   \n",
              "66        30/03/23      city scrape   \n",
              "...            ...              ...   \n",
              "9496      30/03/23      city scrape   \n",
              "9538      30/03/23      city scrape   \n",
              "9540      30/03/23  previous scrape   \n",
              "9545      30/03/23      city scrape   \n",
              "11363     30/03/23      city scrape   \n",
              "\n",
              "                                                    name  \\\n",
              "14                     Business Suite BEIGE near Reforma   \n",
              "53                   Business Suite RED near Reforma Av.   \n",
              "55                    Business Suite PURPLE near Reforma   \n",
              "62                     Business Suite BLACK near Reforma   \n",
              "66                    COOL PENT HOUSE APARTMENT @CONDESA   \n",
              "...                                                  ...   \n",
              "9496                            Emporio Ciudad de México   \n",
              "9538                                  FlowSuites Polanco   \n",
              "9540   Krystal Grand Suites Insurgentes Ciudad De México   \n",
              "9545                                           CHAYA B&B   \n",
              "11363          10 camas chicas terr · Cama en Dormitorio   \n",
              "\n",
              "                                             description  \\\n",
              "14     <b>The space</b><br />On your business or leis...   \n",
              "53     <b>The space</b><br />Beautiful business suite...   \n",
              "55     <b>The space</b><br />Beautiful business suite...   \n",
              "62     Beautiful business suite facing our indoor pat...   \n",
              "66     Amazing Pent House apartment in the heart fo C...   \n",
              "...                                                  ...   \n",
              "9496                                                  --   \n",
              "9538                                                  --   \n",
              "9540                                                  --   \n",
              "9545                                                  --   \n",
              "11363  <b>The space</b><br />Un hostal que cuenta con...   \n",
              "\n",
              "                                             picture_url    host_id  \\\n",
              "14     https://a0.muscache.com/pictures/10105792/ffaf...    3850198   \n",
              "53     https://a0.muscache.com/pictures/12416374/df57...    3850198   \n",
              "55     https://a0.muscache.com/pictures/12479457/a401...    3850198   \n",
              "62     https://a0.muscache.com/pictures/12482950/80ec...    3850198   \n",
              "66     https://a0.muscache.com/pictures/5754595/e5ec9...     196253   \n",
              "...                                                  ...        ...   \n",
              "9496   https://a0.muscache.com/pictures/6c22e4d1-2294...  336118145   \n",
              "9538   https://a0.muscache.com/pictures/3a86f189-ea18...  318447028   \n",
              "9540   https://a0.muscache.com/pictures/97db0266-3607...  318980910   \n",
              "9545   https://a0.muscache.com/pictures/20760914-ba9e...  319050749   \n",
              "11363  https://a0.muscache.com/pictures/a64a6138-bcd3...  244321663   \n",
              "\n",
              "                                          host_url  ...  \\\n",
              "14       https://www.airbnb.com/users/show/3850198  ...   \n",
              "53       https://www.airbnb.com/users/show/3850198  ...   \n",
              "55       https://www.airbnb.com/users/show/3850198  ...   \n",
              "62       https://www.airbnb.com/users/show/3850198  ...   \n",
              "66        https://www.airbnb.com/users/show/196253  ...   \n",
              "...                                            ...  ...   \n",
              "9496   https://www.airbnb.com/users/show/336118145  ...   \n",
              "9538   https://www.airbnb.com/users/show/318447028  ...   \n",
              "9540   https://www.airbnb.com/users/show/318980910  ...   \n",
              "9545   https://www.airbnb.com/users/show/319050749  ...   \n",
              "11363  https://www.airbnb.com/users/show/244321663  ...   \n",
              "\n",
              "      review_scores_communication review_scores_location review_scores_value  \\\n",
              "14                            5.0                   4.83                4.78   \n",
              "53                            5.0                   4.97                4.97   \n",
              "55                            5.0                   5.00                4.90   \n",
              "62                            5.0                   4.95                4.95   \n",
              "66                            5.0                   5.00                4.86   \n",
              "...                           ...                    ...                 ...   \n",
              "9496                          5.0                   5.00                5.00   \n",
              "9538                          0.0                   0.00                0.00   \n",
              "9540                          0.0                   0.00                0.00   \n",
              "9545                          0.0                   0.00                0.00   \n",
              "11363                         0.0                   0.00                0.00   \n",
              "\n",
              "      calculated_host_listings_count  \\\n",
              "14                              11.0   \n",
              "53                              11.0   \n",
              "55                              11.0   \n",
              "62                              11.0   \n",
              "66                              12.0   \n",
              "...                              ...   \n",
              "9496                             2.0   \n",
              "9538                             1.0   \n",
              "9540                             1.0   \n",
              "9545                             1.0   \n",
              "11363                           21.0   \n",
              "\n",
              "      calculated_host_listings_count_entire_homes  \\\n",
              "14                                            7.0   \n",
              "53                                            7.0   \n",
              "55                                            7.0   \n",
              "62                                            7.0   \n",
              "66                                            3.0   \n",
              "...                                           ...   \n",
              "9496                                          0.0   \n",
              "9538                                          0.0   \n",
              "9540                                          0.0   \n",
              "9545                                          0.0   \n",
              "11363                                         4.0   \n",
              "\n",
              "      calculated_host_listings_count_private_rooms  \\\n",
              "14                                             0.0   \n",
              "53                                             0.0   \n",
              "55                                             0.0   \n",
              "62                                             0.0   \n",
              "66                                             2.0   \n",
              "...                                            ...   \n",
              "9496                                           1.0   \n",
              "9538                                           0.0   \n",
              "9540                                           0.0   \n",
              "9545                                           0.0   \n",
              "11363                                          2.0   \n",
              "\n",
              "      calculated_host_listings_count_shared_rooms reviews_per_month  \\\n",
              "14                                            0.0              0.18   \n",
              "53                                            0.0              0.25   \n",
              "55                                            0.0              0.46   \n",
              "62                                            0.0              0.25   \n",
              "66                                            0.0              0.07   \n",
              "...                                           ...               ...   \n",
              "9496                                          0.0              0.12   \n",
              "9538                                          0.0              0.00   \n",
              "9540                                          0.0              0.00   \n",
              "9545                                          0.0              0.00   \n",
              "11363                                         4.0              0.00   \n",
              "\n",
              "                                   neiborhood_overview.1 host_response_rate  \n",
              "14                                                    --                0.9  \n",
              "53                                                    --                0.9  \n",
              "55                                                    --                0.9  \n",
              "62     We are located in the most developed area of M...                0.9  \n",
              "66                                                    --                1.0  \n",
              "...                                                  ...                ...  \n",
              "9496                                                  --                1.0  \n",
              "9538                                                  --                1.0  \n",
              "9540                                                  --                0.0  \n",
              "9545                                                  --                0.0  \n",
              "11363                                                 --                1.0  \n",
              "\n",
              "[127 rows x 78 columns]"
            ],
            "text/html": [
              "\n",
              "  <div id=\"df-9eae6784-9a40-488e-b64d-63d9b104971f\">\n",
              "    <div class=\"colab-df-container\">\n",
              "      <div>\n",
              "<style scoped>\n",
              "    .dataframe tbody tr th:only-of-type {\n",
              "        vertical-align: middle;\n",
              "    }\n",
              "\n",
              "    .dataframe tbody tr th {\n",
              "        vertical-align: top;\n",
              "    }\n",
              "\n",
              "    .dataframe thead th {\n",
              "        text-align: right;\n",
              "    }\n",
              "</style>\n",
              "<table border=\"1\" class=\"dataframe\">\n",
              "  <thead>\n",
              "    <tr style=\"text-align: right;\">\n",
              "      <th></th>\n",
              "      <th>id</th>\n",
              "      <th>listing_url</th>\n",
              "      <th>scrape_id</th>\n",
              "      <th>last_scraped</th>\n",
              "      <th>source</th>\n",
              "      <th>name</th>\n",
              "      <th>description</th>\n",
              "      <th>picture_url</th>\n",
              "      <th>host_id</th>\n",
              "      <th>host_url</th>\n",
              "      <th>...</th>\n",
              "      <th>review_scores_communication</th>\n",
              "      <th>review_scores_location</th>\n",
              "      <th>review_scores_value</th>\n",
              "      <th>calculated_host_listings_count</th>\n",
              "      <th>calculated_host_listings_count_entire_homes</th>\n",
              "      <th>calculated_host_listings_count_private_rooms</th>\n",
              "      <th>calculated_host_listings_count_shared_rooms</th>\n",
              "      <th>reviews_per_month</th>\n",
              "      <th>neiborhood_overview.1</th>\n",
              "      <th>host_response_rate</th>\n",
              "    </tr>\n",
              "  </thead>\n",
              "  <tbody>\n",
              "    <tr>\n",
              "      <th>14</th>\n",
              "      <td>737328</td>\n",
              "      <td>https://www.airbnb.com/rooms/737328</td>\n",
              "      <td>2.02E+13</td>\n",
              "      <td>29/03/23</td>\n",
              "      <td>city scrape</td>\n",
              "      <td>Business Suite BEIGE near Reforma</td>\n",
              "      <td>&lt;b&gt;The space&lt;/b&gt;&lt;br /&gt;On your business or leis...</td>\n",
              "      <td>https://a0.muscache.com/pictures/10105792/ffaf...</td>\n",
              "      <td>3850198</td>\n",
              "      <td>https://www.airbnb.com/users/show/3850198</td>\n",
              "      <td>...</td>\n",
              "      <td>5.0</td>\n",
              "      <td>4.83</td>\n",
              "      <td>4.78</td>\n",
              "      <td>11.0</td>\n",
              "      <td>7.0</td>\n",
              "      <td>0.0</td>\n",
              "      <td>0.0</td>\n",
              "      <td>0.18</td>\n",
              "      <td>--</td>\n",
              "      <td>0.9</td>\n",
              "    </tr>\n",
              "    <tr>\n",
              "      <th>53</th>\n",
              "      <td>865012</td>\n",
              "      <td>https://www.airbnb.com/rooms/865012</td>\n",
              "      <td>2.02E+13</td>\n",
              "      <td>29/03/23</td>\n",
              "      <td>city scrape</td>\n",
              "      <td>Business Suite RED near Reforma Av.</td>\n",
              "      <td>&lt;b&gt;The space&lt;/b&gt;&lt;br /&gt;Beautiful business suite...</td>\n",
              "      <td>https://a0.muscache.com/pictures/12416374/df57...</td>\n",
              "      <td>3850198</td>\n",
              "      <td>https://www.airbnb.com/users/show/3850198</td>\n",
              "      <td>...</td>\n",
              "      <td>5.0</td>\n",
              "      <td>4.97</td>\n",
              "      <td>4.97</td>\n",
              "      <td>11.0</td>\n",
              "      <td>7.0</td>\n",
              "      <td>0.0</td>\n",
              "      <td>0.0</td>\n",
              "      <td>0.25</td>\n",
              "      <td>--</td>\n",
              "      <td>0.9</td>\n",
              "    </tr>\n",
              "    <tr>\n",
              "      <th>55</th>\n",
              "      <td>868843</td>\n",
              "      <td>https://www.airbnb.com/rooms/868843</td>\n",
              "      <td>2.02E+13</td>\n",
              "      <td>30/03/23</td>\n",
              "      <td>city scrape</td>\n",
              "      <td>Business Suite PURPLE near Reforma</td>\n",
              "      <td>&lt;b&gt;The space&lt;/b&gt;&lt;br /&gt;Beautiful business suite...</td>\n",
              "      <td>https://a0.muscache.com/pictures/12479457/a401...</td>\n",
              "      <td>3850198</td>\n",
              "      <td>https://www.airbnb.com/users/show/3850198</td>\n",
              "      <td>...</td>\n",
              "      <td>5.0</td>\n",
              "      <td>5.00</td>\n",
              "      <td>4.90</td>\n",
              "      <td>11.0</td>\n",
              "      <td>7.0</td>\n",
              "      <td>0.0</td>\n",
              "      <td>0.0</td>\n",
              "      <td>0.46</td>\n",
              "      <td>--</td>\n",
              "      <td>0.9</td>\n",
              "    </tr>\n",
              "    <tr>\n",
              "      <th>62</th>\n",
              "      <td>869063</td>\n",
              "      <td>https://www.airbnb.com/rooms/869063</td>\n",
              "      <td>2.02E+13</td>\n",
              "      <td>30/03/23</td>\n",
              "      <td>city scrape</td>\n",
              "      <td>Business Suite BLACK near Reforma</td>\n",
              "      <td>Beautiful business suite facing our indoor pat...</td>\n",
              "      <td>https://a0.muscache.com/pictures/12482950/80ec...</td>\n",
              "      <td>3850198</td>\n",
              "      <td>https://www.airbnb.com/users/show/3850198</td>\n",
              "      <td>...</td>\n",
              "      <td>5.0</td>\n",
              "      <td>4.95</td>\n",
              "      <td>4.95</td>\n",
              "      <td>11.0</td>\n",
              "      <td>7.0</td>\n",
              "      <td>0.0</td>\n",
              "      <td>0.0</td>\n",
              "      <td>0.25</td>\n",
              "      <td>We are located in the most developed area of M...</td>\n",
              "      <td>0.9</td>\n",
              "    </tr>\n",
              "    <tr>\n",
              "      <th>66</th>\n",
              "      <td>281134</td>\n",
              "      <td>https://www.airbnb.com/rooms/281134</td>\n",
              "      <td>2.02E+13</td>\n",
              "      <td>30/03/23</td>\n",
              "      <td>city scrape</td>\n",
              "      <td>COOL PENT HOUSE APARTMENT @CONDESA</td>\n",
              "      <td>Amazing Pent House apartment in the heart fo C...</td>\n",
              "      <td>https://a0.muscache.com/pictures/5754595/e5ec9...</td>\n",
              "      <td>196253</td>\n",
              "      <td>https://www.airbnb.com/users/show/196253</td>\n",
              "      <td>...</td>\n",
              "      <td>5.0</td>\n",
              "      <td>5.00</td>\n",
              "      <td>4.86</td>\n",
              "      <td>12.0</td>\n",
              "      <td>3.0</td>\n",
              "      <td>2.0</td>\n",
              "      <td>0.0</td>\n",
              "      <td>0.07</td>\n",
              "      <td>--</td>\n",
              "      <td>1.0</td>\n",
              "    </tr>\n",
              "    <tr>\n",
              "      <th>...</th>\n",
              "      <td>...</td>\n",
              "      <td>...</td>\n",
              "      <td>...</td>\n",
              "      <td>...</td>\n",
              "      <td>...</td>\n",
              "      <td>...</td>\n",
              "      <td>...</td>\n",
              "      <td>...</td>\n",
              "      <td>...</td>\n",
              "      <td>...</td>\n",
              "      <td>...</td>\n",
              "      <td>...</td>\n",
              "      <td>...</td>\n",
              "      <td>...</td>\n",
              "      <td>...</td>\n",
              "      <td>...</td>\n",
              "      <td>...</td>\n",
              "      <td>...</td>\n",
              "      <td>...</td>\n",
              "      <td>...</td>\n",
              "      <td>...</td>\n",
              "    </tr>\n",
              "    <tr>\n",
              "      <th>9496</th>\n",
              "      <td>43205383.0</td>\n",
              "      <td>https://www.airbnb.com/rooms/43205383</td>\n",
              "      <td>20200000000000.0</td>\n",
              "      <td>30/03/23</td>\n",
              "      <td>city scrape</td>\n",
              "      <td>Emporio Ciudad de México</td>\n",
              "      <td>--</td>\n",
              "      <td>https://a0.muscache.com/pictures/6c22e4d1-2294...</td>\n",
              "      <td>336118145</td>\n",
              "      <td>https://www.airbnb.com/users/show/336118145</td>\n",
              "      <td>...</td>\n",
              "      <td>5.0</td>\n",
              "      <td>5.00</td>\n",
              "      <td>5.00</td>\n",
              "      <td>2.0</td>\n",
              "      <td>0.0</td>\n",
              "      <td>1.0</td>\n",
              "      <td>0.0</td>\n",
              "      <td>0.12</td>\n",
              "      <td>--</td>\n",
              "      <td>1.0</td>\n",
              "    </tr>\n",
              "    <tr>\n",
              "      <th>9538</th>\n",
              "      <td>43247503.0</td>\n",
              "      <td>https://www.airbnb.com/rooms/43247503</td>\n",
              "      <td>20200000000000.0</td>\n",
              "      <td>30/03/23</td>\n",
              "      <td>city scrape</td>\n",
              "      <td>FlowSuites Polanco</td>\n",
              "      <td>--</td>\n",
              "      <td>https://a0.muscache.com/pictures/3a86f189-ea18...</td>\n",
              "      <td>318447028</td>\n",
              "      <td>https://www.airbnb.com/users/show/318447028</td>\n",
              "      <td>...</td>\n",
              "      <td>0.0</td>\n",
              "      <td>0.00</td>\n",
              "      <td>0.00</td>\n",
              "      <td>1.0</td>\n",
              "      <td>0.0</td>\n",
              "      <td>0.0</td>\n",
              "      <td>0.0</td>\n",
              "      <td>0.00</td>\n",
              "      <td>--</td>\n",
              "      <td>1.0</td>\n",
              "    </tr>\n",
              "    <tr>\n",
              "      <th>9540</th>\n",
              "      <td>43247525.0</td>\n",
              "      <td>https://www.airbnb.com/rooms/43247525</td>\n",
              "      <td>20200000000000.0</td>\n",
              "      <td>30/03/23</td>\n",
              "      <td>previous scrape</td>\n",
              "      <td>Krystal Grand Suites Insurgentes Ciudad De México</td>\n",
              "      <td>--</td>\n",
              "      <td>https://a0.muscache.com/pictures/97db0266-3607...</td>\n",
              "      <td>318980910</td>\n",
              "      <td>https://www.airbnb.com/users/show/318980910</td>\n",
              "      <td>...</td>\n",
              "      <td>0.0</td>\n",
              "      <td>0.00</td>\n",
              "      <td>0.00</td>\n",
              "      <td>1.0</td>\n",
              "      <td>0.0</td>\n",
              "      <td>0.0</td>\n",
              "      <td>0.0</td>\n",
              "      <td>0.00</td>\n",
              "      <td>--</td>\n",
              "      <td>0.0</td>\n",
              "    </tr>\n",
              "    <tr>\n",
              "      <th>9545</th>\n",
              "      <td>43247567.0</td>\n",
              "      <td>https://www.airbnb.com/rooms/43247567</td>\n",
              "      <td>20200000000000.0</td>\n",
              "      <td>30/03/23</td>\n",
              "      <td>city scrape</td>\n",
              "      <td>CHAYA B&amp;B</td>\n",
              "      <td>--</td>\n",
              "      <td>https://a0.muscache.com/pictures/20760914-ba9e...</td>\n",
              "      <td>319050749</td>\n",
              "      <td>https://www.airbnb.com/users/show/319050749</td>\n",
              "      <td>...</td>\n",
              "      <td>0.0</td>\n",
              "      <td>0.00</td>\n",
              "      <td>0.00</td>\n",
              "      <td>1.0</td>\n",
              "      <td>0.0</td>\n",
              "      <td>0.0</td>\n",
              "      <td>0.0</td>\n",
              "      <td>0.00</td>\n",
              "      <td>--</td>\n",
              "      <td>0.0</td>\n",
              "    </tr>\n",
              "    <tr>\n",
              "      <th>11363</th>\n",
              "      <td>47845863.0</td>\n",
              "      <td>https://www.airbnb.com/rooms/47845863</td>\n",
              "      <td>20200000000000.0</td>\n",
              "      <td>30/03/23</td>\n",
              "      <td>city scrape</td>\n",
              "      <td>10 camas chicas terr · Cama en Dormitorio</td>\n",
              "      <td>&lt;b&gt;The space&lt;/b&gt;&lt;br /&gt;Un hostal que cuenta con...</td>\n",
              "      <td>https://a0.muscache.com/pictures/a64a6138-bcd3...</td>\n",
              "      <td>244321663</td>\n",
              "      <td>https://www.airbnb.com/users/show/244321663</td>\n",
              "      <td>...</td>\n",
              "      <td>0.0</td>\n",
              "      <td>0.00</td>\n",
              "      <td>0.00</td>\n",
              "      <td>21.0</td>\n",
              "      <td>4.0</td>\n",
              "      <td>2.0</td>\n",
              "      <td>4.0</td>\n",
              "      <td>0.00</td>\n",
              "      <td>--</td>\n",
              "      <td>1.0</td>\n",
              "    </tr>\n",
              "  </tbody>\n",
              "</table>\n",
              "<p>127 rows × 78 columns</p>\n",
              "</div>\n",
              "      <button class=\"colab-df-convert\" onclick=\"convertToInteractive('df-9eae6784-9a40-488e-b64d-63d9b104971f')\"\n",
              "              title=\"Convert this dataframe to an interactive table.\"\n",
              "              style=\"display:none;\">\n",
              "        \n",
              "  <svg xmlns=\"http://www.w3.org/2000/svg\" height=\"24px\"viewBox=\"0 0 24 24\"\n",
              "       width=\"24px\">\n",
              "    <path d=\"M0 0h24v24H0V0z\" fill=\"none\"/>\n",
              "    <path d=\"M18.56 5.44l.94 2.06.94-2.06 2.06-.94-2.06-.94-.94-2.06-.94 2.06-2.06.94zm-11 1L8.5 8.5l.94-2.06 2.06-.94-2.06-.94L8.5 2.5l-.94 2.06-2.06.94zm10 10l.94 2.06.94-2.06 2.06-.94-2.06-.94-.94-2.06-.94 2.06-2.06.94z\"/><path d=\"M17.41 7.96l-1.37-1.37c-.4-.4-.92-.59-1.43-.59-.52 0-1.04.2-1.43.59L10.3 9.45l-7.72 7.72c-.78.78-.78 2.05 0 2.83L4 21.41c.39.39.9.59 1.41.59.51 0 1.02-.2 1.41-.59l7.78-7.78 2.81-2.81c.8-.78.8-2.07 0-2.86zM5.41 20L4 18.59l7.72-7.72 1.47 1.35L5.41 20z\"/>\n",
              "  </svg>\n",
              "      </button>\n",
              "      \n",
              "  <style>\n",
              "    .colab-df-container {\n",
              "      display:flex;\n",
              "      flex-wrap:wrap;\n",
              "      gap: 12px;\n",
              "    }\n",
              "\n",
              "    .colab-df-convert {\n",
              "      background-color: #E8F0FE;\n",
              "      border: none;\n",
              "      border-radius: 50%;\n",
              "      cursor: pointer;\n",
              "      display: none;\n",
              "      fill: #1967D2;\n",
              "      height: 32px;\n",
              "      padding: 0 0 0 0;\n",
              "      width: 32px;\n",
              "    }\n",
              "\n",
              "    .colab-df-convert:hover {\n",
              "      background-color: #E2EBFA;\n",
              "      box-shadow: 0px 1px 2px rgba(60, 64, 67, 0.3), 0px 1px 3px 1px rgba(60, 64, 67, 0.15);\n",
              "      fill: #174EA6;\n",
              "    }\n",
              "\n",
              "    [theme=dark] .colab-df-convert {\n",
              "      background-color: #3B4455;\n",
              "      fill: #D2E3FC;\n",
              "    }\n",
              "\n",
              "    [theme=dark] .colab-df-convert:hover {\n",
              "      background-color: #434B5C;\n",
              "      box-shadow: 0px 1px 3px 1px rgba(0, 0, 0, 0.15);\n",
              "      filter: drop-shadow(0px 1px 2px rgba(0, 0, 0, 0.3));\n",
              "      fill: #FFFFFF;\n",
              "    }\n",
              "  </style>\n",
              "\n",
              "      <script>\n",
              "        const buttonEl =\n",
              "          document.querySelector('#df-9eae6784-9a40-488e-b64d-63d9b104971f button.colab-df-convert');\n",
              "        buttonEl.style.display =\n",
              "          google.colab.kernel.accessAllowed ? 'block' : 'none';\n",
              "\n",
              "        async function convertToInteractive(key) {\n",
              "          const element = document.querySelector('#df-9eae6784-9a40-488e-b64d-63d9b104971f');\n",
              "          const dataTable =\n",
              "            await google.colab.kernel.invokeFunction('convertToInteractive',\n",
              "                                                     [key], {});\n",
              "          if (!dataTable) return;\n",
              "\n",
              "          const docLinkHtml = 'Like what you see? Visit the ' +\n",
              "            '<a target=\"_blank\" href=https://colab.research.google.com/notebooks/data_table.ipynb>data table notebook</a>'\n",
              "            + ' to learn more about interactive tables.';\n",
              "          element.innerHTML = '';\n",
              "          dataTable['output_type'] = 'display_data';\n",
              "          await google.colab.output.renderOutput(dataTable, element);\n",
              "          const docLink = document.createElement('div');\n",
              "          docLink.innerHTML = docLinkHtml;\n",
              "          element.appendChild(docLink);\n",
              "        }\n",
              "      </script>\n",
              "    </div>\n",
              "  </div>\n",
              "  "
            ]
          },
          "metadata": {},
          "execution_count": 343
        }
      ]
    },
    {
      "cell_type": "markdown",
      "source": [
        "## X = host_response_rate\n",
        "## y= host_acceptance_rate"
      ],
      "metadata": {
        "id": "sHubi0Bw_6ig"
      }
    },
    {
      "cell_type": "code",
      "source": [
        "#Imprimimos el scatter plot entre la variable dependiente e independiente \n",
        "#para observar el comportamiento en su dispersión \n",
        "from turtle import color\n",
        "\n",
        "\n",
        "sns.scatterplot(x='host_response_rate', y='host_acceptance_rate', color=\"blue\", data=filtro2_mex)"
      ],
      "metadata": {
        "colab": {
          "base_uri": "https://localhost:8080/",
          "height": 468
        },
        "id": "fW09CMi9_ejX",
        "outputId": "910ef933-101d-49d9-9743-06127d01afef"
      },
      "execution_count": null,
      "outputs": [
        {
          "output_type": "execute_result",
          "data": {
            "text/plain": [
              "<Axes: xlabel='host_response_rate', ylabel='host_acceptance_rate'>"
            ]
          },
          "metadata": {},
          "execution_count": 344
        },
        {
          "output_type": "display_data",
          "data": {
            "text/plain": [
              "<Figure size 640x480 with 1 Axes>"
            ],
            "image/png": "[encoded data removed]"
          },
          "metadata": {}
        }
      ]
    },
    {
      "cell_type": "code",
      "source": [
        "#Declaramos las variables dependientes e independientes para la regresión lineal\n",
        "Vars_Indepa= filtro2_mex[['host_response_rate']]\n",
        "Var_Depa= filtro2_mex['host_acceptance_rate']"
      ],
      "metadata": {
        "id": "VgDuPDD7AT9H"
      },
      "execution_count": null,
      "outputs": []
    },
    {
      "cell_type": "code",
      "source": [
        "#Se define model como la función de regresión lineal\n",
        "from sklearn.linear_model import LinearRegression\n",
        "modela= LinearRegression()"
      ],
      "metadata": {
        "id": "xXIEsprkAd_m"
      },
      "execution_count": null,
      "outputs": []
    },
    {
      "cell_type": "code",
      "source": [
        "#Verificamos la función relacionada al modelo\n",
        "type(modela)"
      ],
      "metadata": {
        "colab": {
          "base_uri": "https://localhost:8080/"
        },
        "id": "yiJtsYzNAkJ0",
        "outputId": "9760e25e-b3f4-44af-a57d-e9b01e9cac00"
      },
      "execution_count": null,
      "outputs": [
        {
          "output_type": "execute_result",
          "data": {
            "text/plain": [
              "sklearn.linear_model._base.LinearRegression"
            ]
          },
          "metadata": {},
          "execution_count": 347
        }
      ]
    },
    {
      "cell_type": "code",
      "source": [
        "#Ajustamos el modelo con las variables antes declaradas\n",
        "modela.fit(X=Vars_Indepa, y=Var_Depa)"
      ],
      "metadata": {
        "colab": {
          "base_uri": "https://localhost:8080/",
          "height": 75
        },
        "id": "8_GlnIMxAoDj",
        "outputId": "a6559fdd-e9db-4bee-82df-6647f22e095b"
      },
      "execution_count": null,
      "outputs": [
        {
          "output_type": "execute_result",
          "data": {
            "text/plain": [
              "LinearRegression()"
            ],
            "text/html": [
              "<style>#sk-container-id-40 {color: black;background-color: white;}#sk-container-id-40 pre{padding: 0;}#sk-container-id-40 div.sk-toggleable {background-color: white;}#sk-container-id-40 label.sk-toggleable__label {cursor: pointer;display: block;width: 100%;margin-bottom: 0;padding: 0.3em;box-sizing: border-box;text-align: center;}#sk-container-id-40 label.sk-toggleable__label-arrow:before {content: \"▸\";float: left;margin-right: 0.25em;color: #696969;}#sk-container-id-40 label.sk-toggleable__label-arrow:hover:before {color: black;}#sk-container-id-40 div.sk-estimator:hover label.sk-toggleable__label-arrow:before {color: black;}#sk-container-id-40 div.sk-toggleable__content {max-height: 0;max-width: 0;overflow: hidden;text-align: left;background-color: #f0f8ff;}#sk-container-id-40 div.sk-toggleable__content pre {margin: 0.2em;color: black;border-radius: 0.25em;background-color: #f0f8ff;}#sk-container-id-40 input.sk-toggleable__control:checked~div.sk-toggleable__content {max-height: 200px;max-width: 100%;overflow: auto;}#sk-container-id-40 input.sk-toggleable__control:checked~label.sk-toggleable__label-arrow:before {content: \"▾\";}#sk-container-id-40 div.sk-estimator input.sk-toggleable__control:checked~label.sk-toggleable__label {background-color: #d4ebff;}#sk-container-id-40 div.sk-label input.sk-toggleable__control:checked~label.sk-toggleable__label {background-color: #d4ebff;}#sk-container-id-40 input.sk-hidden--visually {border: 0;clip: rect(1px 1px 1px 1px);clip: rect(1px, 1px, 1px, 1px);height: 1px;margin: -1px;overflow: hidden;padding: 0;position: absolute;width: 1px;}#sk-container-id-40 div.sk-estimator {font-family: monospace;background-color: #f0f8ff;border: 1px dotted black;border-radius: 0.25em;box-sizing: border-box;margin-bottom: 0.5em;}#sk-container-id-40 div.sk-estimator:hover {background-color: #d4ebff;}#sk-container-id-40 div.sk-parallel-item::after {content: \"\";width: 100%;border-bottom: 1px solid gray;flex-grow: 1;}#sk-container-id-40 div.sk-label:hover label.sk-toggleable__label {background-color: #d4ebff;}#sk-container-id-40 div.sk-serial::before {content: \"\";position: absolute;border-left: 1px solid gray;box-sizing: border-box;top: 0;bottom: 0;left: 50%;z-index: 0;}#sk-container-id-40 div.sk-serial {display: flex;flex-direction: column;align-items: center;background-color: white;padding-right: 0.2em;padding-left: 0.2em;position: relative;}#sk-container-id-40 div.sk-item {position: relative;z-index: 1;}#sk-container-id-40 div.sk-parallel {display: flex;align-items: stretch;justify-content: center;background-color: white;position: relative;}#sk-container-id-40 div.sk-item::before, #sk-container-id-40 div.sk-parallel-item::before {content: \"\";position: absolute;border-left: 1px solid gray;box-sizing: border-box;top: 0;bottom: 0;left: 50%;z-index: -1;}#sk-container-id-40 div.sk-parallel-item {display: flex;flex-direction: column;z-index: 1;position: relative;background-color: white;}#sk-container-id-40 div.sk-parallel-item:first-child::after {align-self: flex-end;width: 50%;}#sk-container-id-40 div.sk-parallel-item:last-child::after {align-self: flex-start;width: 50%;}#sk-container-id-40 div.sk-parallel-item:only-child::after {width: 0;}#sk-container-id-40 div.sk-dashed-wrapped {border: 1px dashed gray;margin: 0 0.4em 0.5em 0.4em;box-sizing: border-box;padding-bottom: 0.4em;background-color: white;}#sk-container-id-40 div.sk-label label {font-family: monospace;font-weight: bold;display: inline-block;line-height: 1.2em;}#sk-container-id-40 div.sk-label-container {text-align: center;}#sk-container-id-40 div.sk-container {/* jupyter's `normalize.less` sets `[hidden] { display: none; }` but bootstrap.min.css set `[hidden] { display: none !important; }` so we also need the `!important` here to be able to override the default hidden behavior on the sphinx rendered scikit-learn.org. See: https://github.com/scikit-learn/scikit-learn/issues/21755 */display: inline-block !important;position: relative;}#sk-container-id-40 div.sk-text-repr-fallback {display: none;}</style><div id=\"sk-container-id-40\" class=\"sk-top-container\"><div class=\"sk-text-repr-fallback\"><pre>LinearRegression()</pre><b>In a Jupyter environment, please rerun this cell to show the HTML representation or trust the notebook. <br />On GitHub, the HTML representation is unable to render, please try loading this page with nbviewer.org.</b></div><div class=\"sk-container\" hidden><div class=\"sk-item\"><div class=\"sk-estimator sk-toggleable\"><input class=\"sk-toggleable__control sk-hidden--visually\" id=\"sk-estimator-id-40\" type=\"checkbox\" checked><label for=\"sk-estimator-id-40\" class=\"sk-toggleable__label sk-toggleable__label-arrow\">LinearRegression</label><div class=\"sk-toggleable__content\"><pre>LinearRegression()</pre></div></div></div></div></div>"
            ]
          },
          "metadata": {},
          "execution_count": 348
        }
      ]
    },
    {
      "cell_type": "code",
      "source": [
        "#Verificamos los coeficientes obtenidos para el modelo ajustado\n",
        "modela.__dict__"
      ],
      "metadata": {
        "colab": {
          "base_uri": "https://localhost:8080/"
        },
        "id": "Opr5EldxAu2s",
        "outputId": "1624b4fa-4fcf-49a9-f940-02496d322394"
      },
      "execution_count": null,
      "outputs": [
        {
          "output_type": "execute_result",
          "data": {
            "text/plain": [
              "{'fit_intercept': True,\n",
              " 'copy_X': True,\n",
              " 'n_jobs': None,\n",
              " 'positive': False,\n",
              " 'feature_names_in_': array(['host_response_rate'], dtype=object),\n",
              " 'n_features_in_': 1,\n",
              " 'coef_': array([0.59254031]),\n",
              " 'rank_': 1,\n",
              " 'singular_': array([2.43933223]),\n",
              " 'intercept_': 0.3207896535817305}"
            ]
          },
          "metadata": {},
          "execution_count": 349
        }
      ]
    },
    {
      "cell_type": "markdown",
      "source": [
        "Modelo matemático: y= 0.59254031x + 0.3207896535817305"
      ],
      "metadata": {
        "id": "dSbzmTbUA584"
      }
    },
    {
      "cell_type": "code",
      "source": [
        "#Corroboramos cual es el coeficiente de Determinación de nuestro modelo\n",
        "coef_Detera=modela.score(X=Vars_Indepa, y=Var_Depa)\n",
        "coef_Detera"
      ],
      "metadata": {
        "colab": {
          "base_uri": "https://localhost:8080/"
        },
        "id": "_FoN_ApLA_xQ",
        "outputId": "15993060-1940-4b54-b3f7-a1017370c11a"
      },
      "execution_count": null,
      "outputs": [
        {
          "output_type": "execute_result",
          "data": {
            "text/plain": [
              "0.2764803721758494"
            ]
          },
          "metadata": {},
          "execution_count": 350
        }
      ]
    },
    {
      "cell_type": "code",
      "source": [
        "#Corroboramos cual es el coeficiente de Correlación de nuestro modelo\n",
        "coef_Correla=np.sqrt(coef_Detera)\n",
        "coef_Correla"
      ],
      "metadata": {
        "colab": {
          "base_uri": "https://localhost:8080/"
        },
        "id": "44kW-HYABF3V",
        "outputId": "f7f8e669-e38b-434b-a26e-5804f57e1584"
      },
      "execution_count": null,
      "outputs": [
        {
          "output_type": "execute_result",
          "data": {
            "text/plain": [
              "0.5258140091095419"
            ]
          },
          "metadata": {},
          "execution_count": 351
        }
      ]
    },
    {
      "cell_type": "markdown",
      "source": [
        "## X = price\n",
        "## y= host_acceptance_rate"
      ],
      "metadata": {
        "id": "jk_fKXQOBS1D"
      }
    },
    {
      "cell_type": "code",
      "source": [
        "#Imprimimos el scatter plot entre la variable dependiente e independiente \n",
        "#para observar el comportamiento en su dispersión \n",
        "from turtle import color\n",
        "\n",
        "\n",
        "sns.scatterplot(x='price', y='host_acceptance_rate', color=\"blue\", data=filtro2_mex)"
      ],
      "metadata": {
        "colab": {
          "base_uri": "https://localhost:8080/",
          "height": 467
        },
        "id": "iZHd0979BZ-F",
        "outputId": "7781a4b5-1ed7-4450-d5f1-17c353f6ff7f"
      },
      "execution_count": null,
      "outputs": [
        {
          "output_type": "execute_result",
          "data": {
            "text/plain": [
              "<Axes: xlabel='price', ylabel='host_acceptance_rate'>"
            ]
          },
          "metadata": {},
          "execution_count": 352
        },
        {
          "output_type": "display_data",
          "data": {
            "text/plain": [
              "<Figure size 640x480 with 1 Axes>"
            ],
            "image/png": "[encoded data removed]"
          },
          "metadata": {}
        }
      ]
    },
    {
      "cell_type": "code",
      "source": [
        "#Declaramos las variables dependientes e independientes para la regresión lineal\n",
        "Vars_Indepb= filtro2_mex[['price']]\n",
        "Var_Depb= filtro2_mex['host_acceptance_rate']"
      ],
      "metadata": {
        "id": "vk1-b4KWBi9X"
      },
      "execution_count": null,
      "outputs": []
    },
    {
      "cell_type": "code",
      "source": [
        "#Se define model como la función de regresión lineal\n",
        "from sklearn.linear_model import LinearRegression\n",
        "modelb= LinearRegression()"
      ],
      "metadata": {
        "id": "hcg6J9mqBqJA"
      },
      "execution_count": null,
      "outputs": []
    },
    {
      "cell_type": "code",
      "source": [
        "#Verificamos la función relacionada al modelo\n",
        "type(modelb)"
      ],
      "metadata": {
        "colab": {
          "base_uri": "https://localhost:8080/"
        },
        "id": "ZyxB56dvCqxn",
        "outputId": "a27c3d55-6cc0-45d1-925c-cf6c08d40a2f"
      },
      "execution_count": null,
      "outputs": [
        {
          "output_type": "execute_result",
          "data": {
            "text/plain": [
              "sklearn.linear_model._base.LinearRegression"
            ]
          },
          "metadata": {},
          "execution_count": 355
        }
      ]
    },
    {
      "cell_type": "code",
      "source": [
        "#Ajustamos el modelo con las variables antes declaradas\n",
        "modelb.fit(X=Vars_Indepb, y=Var_Depb)"
      ],
      "metadata": {
        "colab": {
          "base_uri": "https://localhost:8080/",
          "height": 75
        },
        "id": "2tq_bYG-Cmm6",
        "outputId": "90920b40-b064-413e-87ec-d6b4a5ebb290"
      },
      "execution_count": null,
      "outputs": [
        {
          "output_type": "execute_result",
          "data": {
            "text/plain": [
              "LinearRegression()"
            ],
            "text/html": [
              "<style>#sk-container-id-41 {color: black;background-color: white;}#sk-container-id-41 pre{padding: 0;}#sk-container-id-41 div.sk-toggleable {background-color: white;}#sk-container-id-41 label.sk-toggleable__label {cursor: pointer;display: block;width: 100%;margin-bottom: 0;padding: 0.3em;box-sizing: border-box;text-align: center;}#sk-container-id-41 label.sk-toggleable__label-arrow:before {content: \"▸\";float: left;margin-right: 0.25em;color: #696969;}#sk-container-id-41 label.sk-toggleable__label-arrow:hover:before {color: black;}#sk-container-id-41 div.sk-estimator:hover label.sk-toggleable__label-arrow:before {color: black;}#sk-container-id-41 div.sk-toggleable__content {max-height: 0;max-width: 0;overflow: hidden;text-align: left;background-color: #f0f8ff;}#sk-container-id-41 div.sk-toggleable__content pre {margin: 0.2em;color: black;border-radius: 0.25em;background-color: #f0f8ff;}#sk-container-id-41 input.sk-toggleable__control:checked~div.sk-toggleable__content {max-height: 200px;max-width: 100%;overflow: auto;}#sk-container-id-41 input.sk-toggleable__control:checked~label.sk-toggleable__label-arrow:before {content: \"▾\";}#sk-container-id-41 div.sk-estimator input.sk-toggleable__control:checked~label.sk-toggleable__label {background-color: #d4ebff;}#sk-container-id-41 div.sk-label input.sk-toggleable__control:checked~label.sk-toggleable__label {background-color: #d4ebff;}#sk-container-id-41 input.sk-hidden--visually {border: 0;clip: rect(1px 1px 1px 1px);clip: rect(1px, 1px, 1px, 1px);height: 1px;margin: -1px;overflow: hidden;padding: 0;position: absolute;width: 1px;}#sk-container-id-41 div.sk-estimator {font-family: monospace;background-color: #f0f8ff;border: 1px dotted black;border-radius: 0.25em;box-sizing: border-box;margin-bottom: 0.5em;}#sk-container-id-41 div.sk-estimator:hover {background-color: #d4ebff;}#sk-container-id-41 div.sk-parallel-item::after {content: \"\";width: 100%;border-bottom: 1px solid gray;flex-grow: 1;}#sk-container-id-41 div.sk-label:hover label.sk-toggleable__label {background-color: #d4ebff;}#sk-container-id-41 div.sk-serial::before {content: \"\";position: absolute;border-left: 1px solid gray;box-sizing: border-box;top: 0;bottom: 0;left: 50%;z-index: 0;}#sk-container-id-41 div.sk-serial {display: flex;flex-direction: column;align-items: center;background-color: white;padding-right: 0.2em;padding-left: 0.2em;position: relative;}#sk-container-id-41 div.sk-item {position: relative;z-index: 1;}#sk-container-id-41 div.sk-parallel {display: flex;align-items: stretch;justify-content: center;background-color: white;position: relative;}#sk-container-id-41 div.sk-item::before, #sk-container-id-41 div.sk-parallel-item::before {content: \"\";position: absolute;border-left: 1px solid gray;box-sizing: border-box;top: 0;bottom: 0;left: 50%;z-index: -1;}#sk-container-id-41 div.sk-parallel-item {display: flex;flex-direction: column;z-index: 1;position: relative;background-color: white;}#sk-container-id-41 div.sk-parallel-item:first-child::after {align-self: flex-end;width: 50%;}#sk-container-id-41 div.sk-parallel-item:last-child::after {align-self: flex-start;width: 50%;}#sk-container-id-41 div.sk-parallel-item:only-child::after {width: 0;}#sk-container-id-41 div.sk-dashed-wrapped {border: 1px dashed gray;margin: 0 0.4em 0.5em 0.4em;box-sizing: border-box;padding-bottom: 0.4em;background-color: white;}#sk-container-id-41 div.sk-label label {font-family: monospace;font-weight: bold;display: inline-block;line-height: 1.2em;}#sk-container-id-41 div.sk-label-container {text-align: center;}#sk-container-id-41 div.sk-container {/* jupyter's `normalize.less` sets `[hidden] { display: none; }` but bootstrap.min.css set `[hidden] { display: none !important; }` so we also need the `!important` here to be able to override the default hidden behavior on the sphinx rendered scikit-learn.org. See: https://github.com/scikit-learn/scikit-learn/issues/21755 */display: inline-block !important;position: relative;}#sk-container-id-41 div.sk-text-repr-fallback {display: none;}</style><div id=\"sk-container-id-41\" class=\"sk-top-container\"><div class=\"sk-text-repr-fallback\"><pre>LinearRegression()</pre><b>In a Jupyter environment, please rerun this cell to show the HTML representation or trust the notebook. <br />On GitHub, the HTML representation is unable to render, please try loading this page with nbviewer.org.</b></div><div class=\"sk-container\" hidden><div class=\"sk-item\"><div class=\"sk-estimator sk-toggleable\"><input class=\"sk-toggleable__control sk-hidden--visually\" id=\"sk-estimator-id-41\" type=\"checkbox\" checked><label for=\"sk-estimator-id-41\" class=\"sk-toggleable__label sk-toggleable__label-arrow\">LinearRegression</label><div class=\"sk-toggleable__content\"><pre>LinearRegression()</pre></div></div></div></div></div>"
            ]
          },
          "metadata": {},
          "execution_count": 356
        }
      ]
    },
    {
      "cell_type": "code",
      "source": [
        "#Verificamos los coeficientes obtenidos para el modelo ajustado\n",
        "modelb.__dict__"
      ],
      "metadata": {
        "colab": {
          "base_uri": "https://localhost:8080/"
        },
        "id": "bLfItfNvCxP8",
        "outputId": "a07b96ef-e875-4c01-b267-fb6a58a02fc6"
      },
      "execution_count": null,
      "outputs": [
        {
          "output_type": "execute_result",
          "data": {
            "text/plain": [
              "{'fit_intercept': True,\n",
              " 'copy_X': True,\n",
              " 'n_jobs': None,\n",
              " 'positive': False,\n",
              " 'feature_names_in_': array(['price'], dtype=object),\n",
              " 'n_features_in_': 1,\n",
              " 'coef_': array([-1.47290562e-05]),\n",
              " 'rank_': 1,\n",
              " 'singular_': array([65531.08068275]),\n",
              " 'intercept_': 0.9112905846283037}"
            ]
          },
          "metadata": {},
          "execution_count": 357
        }
      ]
    },
    {
      "cell_type": "markdown",
      "source": [
        "Modelo matemático: y= -1.47290562e-05x + 0.9112905846283037"
      ],
      "metadata": {
        "id": "vd2kaeHAC63i"
      }
    },
    {
      "cell_type": "code",
      "source": [
        "#Corroboramos cual es el coeficiente de Determinación de nuestro modelo\n",
        "coef_Deterb=modelb.score(X=Vars_Indepb, y=Var_Depb)\n",
        "coef_Deterb"
      ],
      "metadata": {
        "colab": {
          "base_uri": "https://localhost:8080/"
        },
        "id": "RRrog0fBDDXS",
        "outputId": "5a2d356b-4955-4894-9c77-081a4c3525c6"
      },
      "execution_count": null,
      "outputs": [
        {
          "output_type": "execute_result",
          "data": {
            "text/plain": [
              "0.12329092094701422"
            ]
          },
          "metadata": {},
          "execution_count": 358
        }
      ]
    },
    {
      "cell_type": "code",
      "source": [
        "#Corroboramos cual es el coeficiente de Correlación de nuestro modelo\n",
        "coef_Correlb=np.sqrt(coef_Deterb)\n",
        "coef_Correlb"
      ],
      "metadata": {
        "colab": {
          "base_uri": "https://localhost:8080/"
        },
        "id": "gUZVraR0DLsH",
        "outputId": "31a6f7d6-a683-4528-9a8e-575954bf37b3"
      },
      "execution_count": null,
      "outputs": [
        {
          "output_type": "execute_result",
          "data": {
            "text/plain": [
              "0.351128069152858"
            ]
          },
          "metadata": {},
          "execution_count": 359
        }
      ]
    },
    {
      "cell_type": "markdown",
      "source": [
        "## X = number_of_reviews\n",
        "## y= host_acceptance_rate"
      ],
      "metadata": {
        "id": "VvlUjPyuDZDm"
      }
    },
    {
      "cell_type": "code",
      "source": [
        "#Imprimimos el scatter plot entre la variable dependiente e independiente \n",
        "#para observar el comportamiento en su dispersión \n",
        "from turtle import color\n",
        "\n",
        "\n",
        "sns.scatterplot(x='number_of_reviews', y='host_acceptance_rate', color=\"blue\", data=filtro2_mex)"
      ],
      "metadata": {
        "colab": {
          "base_uri": "https://localhost:8080/",
          "height": 468
        },
        "id": "zv6kMSGYDe75",
        "outputId": "de1d6687-d142-4752-d74a-ad52d2d3c4e8"
      },
      "execution_count": null,
      "outputs": [
        {
          "output_type": "execute_result",
          "data": {
            "text/plain": [
              "<Axes: xlabel='number_of_reviews', ylabel='host_acceptance_rate'>"
            ]
          },
          "metadata": {},
          "execution_count": 360
        },
        {
          "output_type": "display_data",
          "data": {
            "text/plain": [
              "<Figure size 640x480 with 1 Axes>"
            ],
            "image/png": "[encoded data removed]"
          },
          "metadata": {}
        }
      ]
    },
    {
      "cell_type": "code",
      "source": [
        "#Declaramos las variables dependientes e independientes para la regresión lineal\n",
        "Vars_Indepc= filtro2_mex[['number_of_reviews']]\n",
        "Var_Depc= filtro2_mex['host_acceptance_rate']"
      ],
      "metadata": {
        "id": "bq6OMy8fE0At"
      },
      "execution_count": null,
      "outputs": []
    },
    {
      "cell_type": "code",
      "source": [
        "#Se define model como la función de regresión lineal\n",
        "from sklearn.linear_model import LinearRegression\n",
        "modelc= LinearRegression()"
      ],
      "metadata": {
        "id": "nunzDJjuE-fx"
      },
      "execution_count": null,
      "outputs": []
    },
    {
      "cell_type": "code",
      "source": [
        "#Verificamos la función relacionada al modelo\n",
        "type(modelc)"
      ],
      "metadata": {
        "colab": {
          "base_uri": "https://localhost:8080/"
        },
        "id": "jwyVUfQWFDLS",
        "outputId": "eaee3fb7-4f1b-4137-8c57-f986b1bdbf9b"
      },
      "execution_count": null,
      "outputs": [
        {
          "output_type": "execute_result",
          "data": {
            "text/plain": [
              "sklearn.linear_model._base.LinearRegression"
            ]
          },
          "metadata": {},
          "execution_count": 363
        }
      ]
    },
    {
      "cell_type": "code",
      "source": [
        "#Ajustamos el modelo con las variables antes declaradas\n",
        "modelc.fit(X=Vars_Indepc, y=Var_Depc)"
      ],
      "metadata": {
        "colab": {
          "base_uri": "https://localhost:8080/",
          "height": 75
        },
        "id": "Q5z_fPBbFy11",
        "outputId": "33e885c9-5fa7-4cda-f000-6ae5ca076dea"
      },
      "execution_count": null,
      "outputs": [
        {
          "output_type": "execute_result",
          "data": {
            "text/plain": [
              "LinearRegression()"
            ],
            "text/html": [
              "<style>#sk-container-id-42 {color: black;background-color: white;}#sk-container-id-42 pre{padding: 0;}#sk-container-id-42 div.sk-toggleable {background-color: white;}#sk-container-id-42 label.sk-toggleable__label {cursor: pointer;display: block;width: 100%;margin-bottom: 0;padding: 0.3em;box-sizing: border-box;text-align: center;}#sk-container-id-42 label.sk-toggleable__label-arrow:before {content: \"▸\";float: left;margin-right: 0.25em;color: #696969;}#sk-container-id-42 label.sk-toggleable__label-arrow:hover:before {color: black;}#sk-container-id-42 div.sk-estimator:hover label.sk-toggleable__label-arrow:before {color: black;}#sk-container-id-42 div.sk-toggleable__content {max-height: 0;max-width: 0;overflow: hidden;text-align: left;background-color: #f0f8ff;}#sk-container-id-42 div.sk-toggleable__content pre {margin: 0.2em;color: black;border-radius: 0.25em;background-color: #f0f8ff;}#sk-container-id-42 input.sk-toggleable__control:checked~div.sk-toggleable__content {max-height: 200px;max-width: 100%;overflow: auto;}#sk-container-id-42 input.sk-toggleable__control:checked~label.sk-toggleable__label-arrow:before {content: \"▾\";}#sk-container-id-42 div.sk-estimator input.sk-toggleable__control:checked~label.sk-toggleable__label {background-color: #d4ebff;}#sk-container-id-42 div.sk-label input.sk-toggleable__control:checked~label.sk-toggleable__label {background-color: #d4ebff;}#sk-container-id-42 input.sk-hidden--visually {border: 0;clip: rect(1px 1px 1px 1px);clip: rect(1px, 1px, 1px, 1px);height: 1px;margin: -1px;overflow: hidden;padding: 0;position: absolute;width: 1px;}#sk-container-id-42 div.sk-estimator {font-family: monospace;background-color: #f0f8ff;border: 1px dotted black;border-radius: 0.25em;box-sizing: border-box;margin-bottom: 0.5em;}#sk-container-id-42 div.sk-estimator:hover {background-color: #d4ebff;}#sk-container-id-42 div.sk-parallel-item::after {content: \"\";width: 100%;border-bottom: 1px solid gray;flex-grow: 1;}#sk-container-id-42 div.sk-label:hover label.sk-toggleable__label {background-color: #d4ebff;}#sk-container-id-42 div.sk-serial::before {content: \"\";position: absolute;border-left: 1px solid gray;box-sizing: border-box;top: 0;bottom: 0;left: 50%;z-index: 0;}#sk-container-id-42 div.sk-serial {display: flex;flex-direction: column;align-items: center;background-color: white;padding-right: 0.2em;padding-left: 0.2em;position: relative;}#sk-container-id-42 div.sk-item {position: relative;z-index: 1;}#sk-container-id-42 div.sk-parallel {display: flex;align-items: stretch;justify-content: center;background-color: white;position: relative;}#sk-container-id-42 div.sk-item::before, #sk-container-id-42 div.sk-parallel-item::before {content: \"\";position: absolute;border-left: 1px solid gray;box-sizing: border-box;top: 0;bottom: 0;left: 50%;z-index: -1;}#sk-container-id-42 div.sk-parallel-item {display: flex;flex-direction: column;z-index: 1;position: relative;background-color: white;}#sk-container-id-42 div.sk-parallel-item:first-child::after {align-self: flex-end;width: 50%;}#sk-container-id-42 div.sk-parallel-item:last-child::after {align-self: flex-start;width: 50%;}#sk-container-id-42 div.sk-parallel-item:only-child::after {width: 0;}#sk-container-id-42 div.sk-dashed-wrapped {border: 1px dashed gray;margin: 0 0.4em 0.5em 0.4em;box-sizing: border-box;padding-bottom: 0.4em;background-color: white;}#sk-container-id-42 div.sk-label label {font-family: monospace;font-weight: bold;display: inline-block;line-height: 1.2em;}#sk-container-id-42 div.sk-label-container {text-align: center;}#sk-container-id-42 div.sk-container {/* jupyter's `normalize.less` sets `[hidden] { display: none; }` but bootstrap.min.css set `[hidden] { display: none !important; }` so we also need the `!important` here to be able to override the default hidden behavior on the sphinx rendered scikit-learn.org. See: https://github.com/scikit-learn/scikit-learn/issues/21755 */display: inline-block !important;position: relative;}#sk-container-id-42 div.sk-text-repr-fallback {display: none;}</style><div id=\"sk-container-id-42\" class=\"sk-top-container\"><div class=\"sk-text-repr-fallback\"><pre>LinearRegression()</pre><b>In a Jupyter environment, please rerun this cell to show the HTML representation or trust the notebook. <br />On GitHub, the HTML representation is unable to render, please try loading this page with nbviewer.org.</b></div><div class=\"sk-container\" hidden><div class=\"sk-item\"><div class=\"sk-estimator sk-toggleable\"><input class=\"sk-toggleable__control sk-hidden--visually\" id=\"sk-estimator-id-42\" type=\"checkbox\" checked><label for=\"sk-estimator-id-42\" class=\"sk-toggleable__label sk-toggleable__label-arrow\">LinearRegression</label><div class=\"sk-toggleable__content\"><pre>LinearRegression()</pre></div></div></div></div></div>"
            ]
          },
          "metadata": {},
          "execution_count": 364
        }
      ]
    },
    {
      "cell_type": "code",
      "source": [
        "#Verificamos los coeficientes obtenidos para el modelo ajustado\n",
        "modelc.__dict__"
      ],
      "metadata": {
        "colab": {
          "base_uri": "https://localhost:8080/"
        },
        "id": "WAMfzvY-F5xj",
        "outputId": "6285de46-9599-40b1-ae63-2e8396b0cb32"
      },
      "execution_count": null,
      "outputs": [
        {
          "output_type": "execute_result",
          "data": {
            "text/plain": [
              "{'fit_intercept': True,\n",
              " 'copy_X': True,\n",
              " 'n_jobs': None,\n",
              " 'positive': False,\n",
              " 'feature_names_in_': array(['number_of_reviews'], dtype=object),\n",
              " 'n_features_in_': 1,\n",
              " 'coef_': array([0.00132107]),\n",
              " 'rank_': 1,\n",
              " 'singular_': array([447.19940417]),\n",
              " 'intercept_': 0.8466371558698922}"
            ]
          },
          "metadata": {},
          "execution_count": 365
        }
      ]
    },
    {
      "cell_type": "markdown",
      "source": [
        "Modelo matemático: y= 0.00132107x + 0.8466371558698922"
      ],
      "metadata": {
        "id": "Ix3yw2XGF_-f"
      }
    },
    {
      "cell_type": "code",
      "source": [
        "#Corroboramos cual es el coeficiente de Determinación de nuestro modelo\n",
        "coef_Deterc=modelc.score(X=Vars_Indepc, y=Var_Depc)\n",
        "coef_Deterc"
      ],
      "metadata": {
        "colab": {
          "base_uri": "https://localhost:8080/"
        },
        "id": "ujhwqS_7GIOp",
        "outputId": "efb75a2d-ca85-4d95-eaba-97dcc62af2bc"
      },
      "execution_count": null,
      "outputs": [
        {
          "output_type": "execute_result",
          "data": {
            "text/plain": [
              "0.04618901087177962"
            ]
          },
          "metadata": {},
          "execution_count": 366
        }
      ]
    },
    {
      "cell_type": "code",
      "source": [
        "#Corroboramos cual es el coeficiente de Correlación de nuestro modelo\n",
        "coef_Correlc=np.sqrt(coef_Deterc)\n",
        "coef_Correlc"
      ],
      "metadata": {
        "colab": {
          "base_uri": "https://localhost:8080/"
        },
        "id": "w8geTju7GQbK",
        "outputId": "bc0b9877-baad-4a8e-f23c-41e38124a073"
      },
      "execution_count": null,
      "outputs": [
        {
          "output_type": "execute_result",
          "data": {
            "text/plain": [
              "0.2149162880560234"
            ]
          },
          "metadata": {},
          "execution_count": 367
        }
      ]
    },
    {
      "cell_type": "markdown",
      "source": [
        "## X = review_scores_cleanliness\n",
        "\n",
        "## y= review_scores_location"
      ],
      "metadata": {
        "id": "LlhNC2NVGXNS"
      }
    },
    {
      "cell_type": "code",
      "source": [
        "#Imprimimos el scatter plot entre la variable dependiente e independiente\n",
        "#para observar el comportamiento en su dispersión \n",
        "from turtle import color\n",
        "\n",
        "\n",
        "sns.scatterplot(x='review_scores_cleanliness', y='review_scores_location', color=\"blue\", data=filtro2_mex)"
      ],
      "metadata": {
        "colab": {
          "base_uri": "https://localhost:8080/",
          "height": 468
        },
        "id": "DC0lMbekGdcP",
        "outputId": "73bd7f0e-57b9-4a13-fb83-d16726bdad66"
      },
      "execution_count": null,
      "outputs": [
        {
          "output_type": "execute_result",
          "data": {
            "text/plain": [
              "<Axes: xlabel='review_scores_cleanliness', ylabel='review_scores_location'>"
            ]
          },
          "metadata": {},
          "execution_count": 368
        },
        {
          "output_type": "display_data",
          "data": {
            "text/plain": [
              "<Figure size 640x480 with 1 Axes>"
            ],
            "image/png": "[encoded data removed]"
          },
          "metadata": {}
        }
      ]
    },
    {
      "cell_type": "code",
      "source": [
        "#Declaramos las variables dependientes e independientes para la regresión lineal\n",
        "Vars_Indepd= filtro2_mex[['review_scores_cleanliness']]\n",
        "Var_Depd= filtro2_mex['review_scores_location']"
      ],
      "metadata": {
        "id": "TRNaBs4XGjDT"
      },
      "execution_count": null,
      "outputs": []
    },
    {
      "cell_type": "code",
      "source": [
        "#Se define model como la función de regresión lineal\n",
        "from sklearn.linear_model import LinearRegression\n",
        "modeld= LinearRegression()"
      ],
      "metadata": {
        "id": "YWhXJ4WLGn8m"
      },
      "execution_count": null,
      "outputs": []
    },
    {
      "cell_type": "code",
      "source": [
        "#Verificamos la función relacionada al modelo\n",
        "type(modeld)"
      ],
      "metadata": {
        "colab": {
          "base_uri": "https://localhost:8080/"
        },
        "id": "eIYFk5GIGrrb",
        "outputId": "88315d43-d625-4ffc-bc42-9e874b572e64"
      },
      "execution_count": null,
      "outputs": [
        {
          "output_type": "execute_result",
          "data": {
            "text/plain": [
              "sklearn.linear_model._base.LinearRegression"
            ]
          },
          "metadata": {},
          "execution_count": 371
        }
      ]
    },
    {
      "cell_type": "code",
      "source": [
        "#Ajustamos el modelo con las variables antes declaradas\n",
        "modeld.fit(X=Vars_Indepd, y=Var_Depd)"
      ],
      "metadata": {
        "colab": {
          "base_uri": "https://localhost:8080/",
          "height": 75
        },
        "id": "RVN_GuJSGw0k",
        "outputId": "c5cc7630-7c3f-4b9c-ad96-d3e51ff36eea"
      },
      "execution_count": null,
      "outputs": [
        {
          "output_type": "execute_result",
          "data": {
            "text/plain": [
              "LinearRegression()"
            ],
            "text/html": [
              "<style>#sk-container-id-43 {color: black;background-color: white;}#sk-container-id-43 pre{padding: 0;}#sk-container-id-43 div.sk-toggleable {background-color: white;}#sk-container-id-43 label.sk-toggleable__label {cursor: pointer;display: block;width: 100%;margin-bottom: 0;padding: 0.3em;box-sizing: border-box;text-align: center;}#sk-container-id-43 label.sk-toggleable__label-arrow:before {content: \"▸\";float: left;margin-right: 0.25em;color: #696969;}#sk-container-id-43 label.sk-toggleable__label-arrow:hover:before {color: black;}#sk-container-id-43 div.sk-estimator:hover label.sk-toggleable__label-arrow:before {color: black;}#sk-container-id-43 div.sk-toggleable__content {max-height: 0;max-width: 0;overflow: hidden;text-align: left;background-color: #f0f8ff;}#sk-container-id-43 div.sk-toggleable__content pre {margin: 0.2em;color: black;border-radius: 0.25em;background-color: #f0f8ff;}#sk-container-id-43 input.sk-toggleable__control:checked~div.sk-toggleable__content {max-height: 200px;max-width: 100%;overflow: auto;}#sk-container-id-43 input.sk-toggleable__control:checked~label.sk-toggleable__label-arrow:before {content: \"▾\";}#sk-container-id-43 div.sk-estimator input.sk-toggleable__control:checked~label.sk-toggleable__label {background-color: #d4ebff;}#sk-container-id-43 div.sk-label input.sk-toggleable__control:checked~label.sk-toggleable__label {background-color: #d4ebff;}#sk-container-id-43 input.sk-hidden--visually {border: 0;clip: rect(1px 1px 1px 1px);clip: rect(1px, 1px, 1px, 1px);height: 1px;margin: -1px;overflow: hidden;padding: 0;position: absolute;width: 1px;}#sk-container-id-43 div.sk-estimator {font-family: monospace;background-color: #f0f8ff;border: 1px dotted black;border-radius: 0.25em;box-sizing: border-box;margin-bottom: 0.5em;}#sk-container-id-43 div.sk-estimator:hover {background-color: #d4ebff;}#sk-container-id-43 div.sk-parallel-item::after {content: \"\";width: 100%;border-bottom: 1px solid gray;flex-grow: 1;}#sk-container-id-43 div.sk-label:hover label.sk-toggleable__label {background-color: #d4ebff;}#sk-container-id-43 div.sk-serial::before {content: \"\";position: absolute;border-left: 1px solid gray;box-sizing: border-box;top: 0;bottom: 0;left: 50%;z-index: 0;}#sk-container-id-43 div.sk-serial {display: flex;flex-direction: column;align-items: center;background-color: white;padding-right: 0.2em;padding-left: 0.2em;position: relative;}#sk-container-id-43 div.sk-item {position: relative;z-index: 1;}#sk-container-id-43 div.sk-parallel {display: flex;align-items: stretch;justify-content: center;background-color: white;position: relative;}#sk-container-id-43 div.sk-item::before, #sk-container-id-43 div.sk-parallel-item::before {content: \"\";position: absolute;border-left: 1px solid gray;box-sizing: border-box;top: 0;bottom: 0;left: 50%;z-index: -1;}#sk-container-id-43 div.sk-parallel-item {display: flex;flex-direction: column;z-index: 1;position: relative;background-color: white;}#sk-container-id-43 div.sk-parallel-item:first-child::after {align-self: flex-end;width: 50%;}#sk-container-id-43 div.sk-parallel-item:last-child::after {align-self: flex-start;width: 50%;}#sk-container-id-43 div.sk-parallel-item:only-child::after {width: 0;}#sk-container-id-43 div.sk-dashed-wrapped {border: 1px dashed gray;margin: 0 0.4em 0.5em 0.4em;box-sizing: border-box;padding-bottom: 0.4em;background-color: white;}#sk-container-id-43 div.sk-label label {font-family: monospace;font-weight: bold;display: inline-block;line-height: 1.2em;}#sk-container-id-43 div.sk-label-container {text-align: center;}#sk-container-id-43 div.sk-container {/* jupyter's `normalize.less` sets `[hidden] { display: none; }` but bootstrap.min.css set `[hidden] { display: none !important; }` so we also need the `!important` here to be able to override the default hidden behavior on the sphinx rendered scikit-learn.org. See: https://github.com/scikit-learn/scikit-learn/issues/21755 */display: inline-block !important;position: relative;}#sk-container-id-43 div.sk-text-repr-fallback {display: none;}</style><div id=\"sk-container-id-43\" class=\"sk-top-container\"><div class=\"sk-text-repr-fallback\"><pre>LinearRegression()</pre><b>In a Jupyter environment, please rerun this cell to show the HTML representation or trust the notebook. <br />On GitHub, the HTML representation is unable to render, please try loading this page with nbviewer.org.</b></div><div class=\"sk-container\" hidden><div class=\"sk-item\"><div class=\"sk-estimator sk-toggleable\"><input class=\"sk-toggleable__control sk-hidden--visually\" id=\"sk-estimator-id-43\" type=\"checkbox\" checked><label for=\"sk-estimator-id-43\" class=\"sk-toggleable__label sk-toggleable__label-arrow\">LinearRegression</label><div class=\"sk-toggleable__content\"><pre>LinearRegression()</pre></div></div></div></div></div>"
            ]
          },
          "metadata": {},
          "execution_count": 372
        }
      ]
    },
    {
      "cell_type": "code",
      "source": [
        "#Verificamos los coeficientes obtenidos para el modelo ajustado\n",
        "modeld.__dict__"
      ],
      "metadata": {
        "colab": {
          "base_uri": "https://localhost:8080/"
        },
        "id": "MyfYwoGcG2hY",
        "outputId": "340a3f3c-0704-4c54-ea47-766a4b015b0e"
      },
      "execution_count": null,
      "outputs": [
        {
          "output_type": "execute_result",
          "data": {
            "text/plain": [
              "{'fit_intercept': True,\n",
              " 'copy_X': True,\n",
              " 'n_jobs': None,\n",
              " 'positive': False,\n",
              " 'feature_names_in_': array(['review_scores_cleanliness'], dtype=object),\n",
              " 'n_features_in_': 1,\n",
              " 'coef_': array([1.00771463]),\n",
              " 'rank_': 1,\n",
              " 'singular_': array([21.92712853]),\n",
              " 'intercept_': 0.023244773955535702}"
            ]
          },
          "metadata": {},
          "execution_count": 373
        }
      ]
    },
    {
      "cell_type": "markdown",
      "source": [
        "Modelo matemático: y= 1.00771463x + 0.023244773955535702"
      ],
      "metadata": {
        "id": "-TlCd9irG62v"
      }
    },
    {
      "cell_type": "code",
      "source": [
        "#Corroboramos cual es el coeficiente de Determinación de nuestro modelo\n",
        "coef_Deterd=modeld.score(X=Vars_Indepd, y=Var_Depd)\n",
        "coef_Deterd"
      ],
      "metadata": {
        "colab": {
          "base_uri": "https://localhost:8080/"
        },
        "id": "QsdJ3DBHHC2e",
        "outputId": "b829892c-7730-4dec-a170-8176b8fa02f0"
      },
      "execution_count": null,
      "outputs": [
        {
          "output_type": "execute_result",
          "data": {
            "text/plain": [
              "0.9878155685108028"
            ]
          },
          "metadata": {},
          "execution_count": 374
        }
      ]
    },
    {
      "cell_type": "code",
      "source": [
        "#Corroboramos cual es el coeficiente de Correlación de nuestro modelo\n",
        "coef_Correld=np.sqrt(coef_Deterd)\n",
        "coef_Correld"
      ],
      "metadata": {
        "colab": {
          "base_uri": "https://localhost:8080/"
        },
        "id": "xdnKqBEtHJZ8",
        "outputId": "5f74bf22-d450-4fae-8c36-7dbacdfed214"
      },
      "execution_count": null,
      "outputs": [
        {
          "output_type": "execute_result",
          "data": {
            "text/plain": [
              "0.9938891127841187"
            ]
          },
          "metadata": {},
          "execution_count": 375
        }
      ]
    },
    {
      "cell_type": "markdown",
      "source": [
        "## X = number_of_reviews\n",
        "\n",
        "## y= availability_365"
      ],
      "metadata": {
        "id": "PfzjY4X8HO6i"
      }
    },
    {
      "cell_type": "code",
      "source": [
        "#Imprimimos el scatter plot entre la variable dependiente e independiente\n",
        "#para observar el comportamiento en su dispersión \n",
        "from turtle import color\n",
        "\n",
        "\n",
        "sns.scatterplot(x='number_of_reviews', y='availability_365', color=\"blue\", data=filtro2_mex)"
      ],
      "metadata": {
        "colab": {
          "base_uri": "https://localhost:8080/",
          "height": 468
        },
        "id": "75ERgcq0HUr3",
        "outputId": "def079d7-ae5f-44a3-bfdf-b429aae7890d"
      },
      "execution_count": null,
      "outputs": [
        {
          "output_type": "execute_result",
          "data": {
            "text/plain": [
              "<Axes: xlabel='number_of_reviews', ylabel='availability_365'>"
            ]
          },
          "metadata": {},
          "execution_count": 376
        },
        {
          "output_type": "display_data",
          "data": {
            "text/plain": [
              "<Figure size 640x480 with 1 Axes>"
            ],
            "image/png": "[encoded data removed]"
          },
          "metadata": {}
        }
      ]
    },
    {
      "cell_type": "code",
      "source": [
        "#Declaramos las variables dependientes e independientes para la regresión lineal\n",
        "Vars_Indepe= filtro2_mex[['number_of_reviews']]\n",
        "Var_Depe= filtro2_mex['availability_365']"
      ],
      "metadata": {
        "id": "80TZo8FAHZuy"
      },
      "execution_count": null,
      "outputs": []
    },
    {
      "cell_type": "code",
      "source": [
        "#Se define model como la función de regresión lineal\n",
        "from sklearn.linear_model import LinearRegression\n",
        "modele= LinearRegression()"
      ],
      "metadata": {
        "id": "UZnLeFRiHgYk"
      },
      "execution_count": null,
      "outputs": []
    },
    {
      "cell_type": "code",
      "source": [
        "#Verificamos la función relacionada al modelo\n",
        "type(modele)"
      ],
      "metadata": {
        "colab": {
          "base_uri": "https://localhost:8080/"
        },
        "id": "7LtW73AOHl-W",
        "outputId": "5290b8f8-6db6-4b44-92e1-224a3e5abb77"
      },
      "execution_count": null,
      "outputs": [
        {
          "output_type": "execute_result",
          "data": {
            "text/plain": [
              "sklearn.linear_model._base.LinearRegression"
            ]
          },
          "metadata": {},
          "execution_count": 379
        }
      ]
    },
    {
      "cell_type": "code",
      "source": [
        "#Ajustamos el modelo con las variables antes declaradas\n",
        "modele.fit(X=Vars_Indepe, y=Var_Depe)"
      ],
      "metadata": {
        "colab": {
          "base_uri": "https://localhost:8080/",
          "height": 75
        },
        "id": "-TPdz21JHq2F",
        "outputId": "415e184c-5fb2-47a1-c44e-cdb8052f0ef5"
      },
      "execution_count": null,
      "outputs": [
        {
          "output_type": "execute_result",
          "data": {
            "text/plain": [
              "LinearRegression()"
            ],
            "text/html": [
              "<style>#sk-container-id-44 {color: black;background-color: white;}#sk-container-id-44 pre{padding: 0;}#sk-container-id-44 div.sk-toggleable {background-color: white;}#sk-container-id-44 label.sk-toggleable__label {cursor: pointer;display: block;width: 100%;margin-bottom: 0;padding: 0.3em;box-sizing: border-box;text-align: center;}#sk-container-id-44 label.sk-toggleable__label-arrow:before {content: \"▸\";float: left;margin-right: 0.25em;color: #696969;}#sk-container-id-44 label.sk-toggleable__label-arrow:hover:before {color: black;}#sk-container-id-44 div.sk-estimator:hover label.sk-toggleable__label-arrow:before {color: black;}#sk-container-id-44 div.sk-toggleable__content {max-height: 0;max-width: 0;overflow: hidden;text-align: left;background-color: #f0f8ff;}#sk-container-id-44 div.sk-toggleable__content pre {margin: 0.2em;color: black;border-radius: 0.25em;background-color: #f0f8ff;}#sk-container-id-44 input.sk-toggleable__control:checked~div.sk-toggleable__content {max-height: 200px;max-width: 100%;overflow: auto;}#sk-container-id-44 input.sk-toggleable__control:checked~label.sk-toggleable__label-arrow:before {content: \"▾\";}#sk-container-id-44 div.sk-estimator input.sk-toggleable__control:checked~label.sk-toggleable__label {background-color: #d4ebff;}#sk-container-id-44 div.sk-label input.sk-toggleable__control:checked~label.sk-toggleable__label {background-color: #d4ebff;}#sk-container-id-44 input.sk-hidden--visually {border: 0;clip: rect(1px 1px 1px 1px);clip: rect(1px, 1px, 1px, 1px);height: 1px;margin: -1px;overflow: hidden;padding: 0;position: absolute;width: 1px;}#sk-container-id-44 div.sk-estimator {font-family: monospace;background-color: #f0f8ff;border: 1px dotted black;border-radius: 0.25em;box-sizing: border-box;margin-bottom: 0.5em;}#sk-container-id-44 div.sk-estimator:hover {background-color: #d4ebff;}#sk-container-id-44 div.sk-parallel-item::after {content: \"\";width: 100%;border-bottom: 1px solid gray;flex-grow: 1;}#sk-container-id-44 div.sk-label:hover label.sk-toggleable__label {background-color: #d4ebff;}#sk-container-id-44 div.sk-serial::before {content: \"\";position: absolute;border-left: 1px solid gray;box-sizing: border-box;top: 0;bottom: 0;left: 50%;z-index: 0;}#sk-container-id-44 div.sk-serial {display: flex;flex-direction: column;align-items: center;background-color: white;padding-right: 0.2em;padding-left: 0.2em;position: relative;}#sk-container-id-44 div.sk-item {position: relative;z-index: 1;}#sk-container-id-44 div.sk-parallel {display: flex;align-items: stretch;justify-content: center;background-color: white;position: relative;}#sk-container-id-44 div.sk-item::before, #sk-container-id-44 div.sk-parallel-item::before {content: \"\";position: absolute;border-left: 1px solid gray;box-sizing: border-box;top: 0;bottom: 0;left: 50%;z-index: -1;}#sk-container-id-44 div.sk-parallel-item {display: flex;flex-direction: column;z-index: 1;position: relative;background-color: white;}#sk-container-id-44 div.sk-parallel-item:first-child::after {align-self: flex-end;width: 50%;}#sk-container-id-44 div.sk-parallel-item:last-child::after {align-self: flex-start;width: 50%;}#sk-container-id-44 div.sk-parallel-item:only-child::after {width: 0;}#sk-container-id-44 div.sk-dashed-wrapped {border: 1px dashed gray;margin: 0 0.4em 0.5em 0.4em;box-sizing: border-box;padding-bottom: 0.4em;background-color: white;}#sk-container-id-44 div.sk-label label {font-family: monospace;font-weight: bold;display: inline-block;line-height: 1.2em;}#sk-container-id-44 div.sk-label-container {text-align: center;}#sk-container-id-44 div.sk-container {/* jupyter's `normalize.less` sets `[hidden] { display: none; }` but bootstrap.min.css set `[hidden] { display: none !important; }` so we also need the `!important` here to be able to override the default hidden behavior on the sphinx rendered scikit-learn.org. See: https://github.com/scikit-learn/scikit-learn/issues/21755 */display: inline-block !important;position: relative;}#sk-container-id-44 div.sk-text-repr-fallback {display: none;}</style><div id=\"sk-container-id-44\" class=\"sk-top-container\"><div class=\"sk-text-repr-fallback\"><pre>LinearRegression()</pre><b>In a Jupyter environment, please rerun this cell to show the HTML representation or trust the notebook. <br />On GitHub, the HTML representation is unable to render, please try loading this page with nbviewer.org.</b></div><div class=\"sk-container\" hidden><div class=\"sk-item\"><div class=\"sk-estimator sk-toggleable\"><input class=\"sk-toggleable__control sk-hidden--visually\" id=\"sk-estimator-id-44\" type=\"checkbox\" checked><label for=\"sk-estimator-id-44\" class=\"sk-toggleable__label sk-toggleable__label-arrow\">LinearRegression</label><div class=\"sk-toggleable__content\"><pre>LinearRegression()</pre></div></div></div></div></div>"
            ]
          },
          "metadata": {},
          "execution_count": 380
        }
      ]
    },
    {
      "cell_type": "code",
      "source": [
        "#Verificamos los coeficientes obtenidos para el modelo ajustado\n",
        "modele.__dict__"
      ],
      "metadata": {
        "colab": {
          "base_uri": "https://localhost:8080/"
        },
        "id": "kVoP_UvnHw61",
        "outputId": "46d78839-e637-4ec1-8475-33c2926cca6b"
      },
      "execution_count": null,
      "outputs": [
        {
          "output_type": "execute_result",
          "data": {
            "text/plain": [
              "{'fit_intercept': True,\n",
              " 'copy_X': True,\n",
              " 'n_jobs': None,\n",
              " 'positive': False,\n",
              " 'feature_names_in_': array(['number_of_reviews'], dtype=object),\n",
              " 'n_features_in_': 1,\n",
              " 'coef_': array([-0.35915992]),\n",
              " 'rank_': 1,\n",
              " 'singular_': array([447.19940417]),\n",
              " 'intercept_': 254.19984142300686}"
            ]
          },
          "metadata": {},
          "execution_count": 381
        }
      ]
    },
    {
      "cell_type": "markdown",
      "source": [
        "Modelo matemático: y= -0.359159929x + 254.19984142300686"
      ],
      "metadata": {
        "id": "7TfJY1hrH18O"
      }
    },
    {
      "cell_type": "code",
      "source": [
        "#Corroboramos cual es el coeficiente de Determinación de nuestro modelo\n",
        "coef_Detere=modele.score(X=Vars_Indepe, y=Var_Depe)\n",
        "coef_Detere"
      ],
      "metadata": {
        "colab": {
          "base_uri": "https://localhost:8080/"
        },
        "id": "2QauelBQH-2y",
        "outputId": "9f8c7eef-ffa3-4444-ad55-d8241f1ceaf8"
      },
      "execution_count": null,
      "outputs": [
        {
          "output_type": "execute_result",
          "data": {
            "text/plain": [
              "0.014844412000572182"
            ]
          },
          "metadata": {},
          "execution_count": 382
        }
      ]
    },
    {
      "cell_type": "code",
      "source": [
        "#Corroboramos cual es el coeficiente de Correlación de nuestro modelo\n",
        "coef_Correle=np.sqrt(coef_Detere)\n",
        "coef_Correle"
      ],
      "metadata": {
        "colab": {
          "base_uri": "https://localhost:8080/"
        },
        "id": "dr69GJXoIINO",
        "outputId": "05c93555-3344-4809-aaf1-fe17c4fa002c"
      },
      "execution_count": null,
      "outputs": [
        {
          "output_type": "execute_result",
          "data": {
            "text/plain": [
              "0.12183764607284639"
            ]
          },
          "metadata": {},
          "execution_count": 383
        }
      ]
    },
    {
      "cell_type": "markdown",
      "source": [
        "## X = review_scores_communication\n",
        "## y= reviews_per_month"
      ],
      "metadata": {
        "id": "hsXicsJWIVk7"
      }
    },
    {
      "cell_type": "code",
      "source": [
        "#Imprimimos el scatter plot entre la variable dependiente e independiente \n",
        "#para observar el comportamiento en su dispersión \n",
        "from turtle import color\n",
        "\n",
        "\n",
        "sns.scatterplot(x='review_scores_communication', y='reviews_per_month', color=\"blue\", data=filtro2_mex)"
      ],
      "metadata": {
        "colab": {
          "base_uri": "https://localhost:8080/",
          "height": 468
        },
        "id": "lIsxyhwVIdLS",
        "outputId": "12f3c003-9e01-49c0-ce31-b29321b895c4"
      },
      "execution_count": null,
      "outputs": [
        {
          "output_type": "execute_result",
          "data": {
            "text/plain": [
              "<Axes: xlabel='review_scores_communication', ylabel='reviews_per_month'>"
            ]
          },
          "metadata": {},
          "execution_count": 384
        },
        {
          "output_type": "display_data",
          "data": {
            "text/plain": [
              "<Figure size 640x480 with 1 Axes>"
            ],
            "image/png": "[encoded data removed]"
          },
          "metadata": {}
        }
      ]
    },
    {
      "cell_type": "code",
      "source": [
        "#Declaramos las variables dependientes e independientes para la regresión lineal\n",
        "Vars_Indepf= filtro2_mex[['reviews_per_month']]\n",
        "Var_Depf= filtro2_mex['review_scores_communication']"
      ],
      "metadata": {
        "id": "fNOsCtBgIjAi"
      },
      "execution_count": null,
      "outputs": []
    },
    {
      "cell_type": "code",
      "source": [
        "#Se define model como la función de regresión lineal\n",
        "from sklearn.linear_model import LinearRegression\n",
        "modelf= LinearRegression()"
      ],
      "metadata": {
        "id": "xv0QGSTGItHq"
      },
      "execution_count": null,
      "outputs": []
    },
    {
      "cell_type": "code",
      "source": [
        "#Verificamos la función relacionada al modelo\n",
        "type(modelf)"
      ],
      "metadata": {
        "colab": {
          "base_uri": "https://localhost:8080/"
        },
        "id": "YfJ0T25JIxMF",
        "outputId": "6f1fe67e-27f3-42a8-f978-86794dcd05c7"
      },
      "execution_count": null,
      "outputs": [
        {
          "output_type": "execute_result",
          "data": {
            "text/plain": [
              "sklearn.linear_model._base.LinearRegression"
            ]
          },
          "metadata": {},
          "execution_count": 387
        }
      ]
    },
    {
      "cell_type": "code",
      "source": [
        "#Ajustamos el modelo con las variables antes declaradas\n",
        "modelf.fit(X=Vars_Indepf, y=Var_Depf)"
      ],
      "metadata": {
        "colab": {
          "base_uri": "https://localhost:8080/",
          "height": 75
        },
        "id": "l-tDSLofI1A4",
        "outputId": "4cea17ac-a4cb-4182-9feb-fd7b584e6454"
      },
      "execution_count": null,
      "outputs": [
        {
          "output_type": "execute_result",
          "data": {
            "text/plain": [
              "LinearRegression()"
            ],
            "text/html": [
              "<style>#sk-container-id-45 {color: black;background-color: white;}#sk-container-id-45 pre{padding: 0;}#sk-container-id-45 div.sk-toggleable {background-color: white;}#sk-container-id-45 label.sk-toggleable__label {cursor: pointer;display: block;width: 100%;margin-bottom: 0;padding: 0.3em;box-sizing: border-box;text-align: center;}#sk-container-id-45 label.sk-toggleable__label-arrow:before {content: \"▸\";float: left;margin-right: 0.25em;color: #696969;}#sk-container-id-45 label.sk-toggleable__label-arrow:hover:before {color: black;}#sk-container-id-45 div.sk-estimator:hover label.sk-toggleable__label-arrow:before {color: black;}#sk-container-id-45 div.sk-toggleable__content {max-height: 0;max-width: 0;overflow: hidden;text-align: left;background-color: #f0f8ff;}#sk-container-id-45 div.sk-toggleable__content pre {margin: 0.2em;color: black;border-radius: 0.25em;background-color: #f0f8ff;}#sk-container-id-45 input.sk-toggleable__control:checked~div.sk-toggleable__content {max-height: 200px;max-width: 100%;overflow: auto;}#sk-container-id-45 input.sk-toggleable__control:checked~label.sk-toggleable__label-arrow:before {content: \"▾\";}#sk-container-id-45 div.sk-estimator input.sk-toggleable__control:checked~label.sk-toggleable__label {background-color: #d4ebff;}#sk-container-id-45 div.sk-label input.sk-toggleable__control:checked~label.sk-toggleable__label {background-color: #d4ebff;}#sk-container-id-45 input.sk-hidden--visually {border: 0;clip: rect(1px 1px 1px 1px);clip: rect(1px, 1px, 1px, 1px);height: 1px;margin: -1px;overflow: hidden;padding: 0;position: absolute;width: 1px;}#sk-container-id-45 div.sk-estimator {font-family: monospace;background-color: #f0f8ff;border: 1px dotted black;border-radius: 0.25em;box-sizing: border-box;margin-bottom: 0.5em;}#sk-container-id-45 div.sk-estimator:hover {background-color: #d4ebff;}#sk-container-id-45 div.sk-parallel-item::after {content: \"\";width: 100%;border-bottom: 1px solid gray;flex-grow: 1;}#sk-container-id-45 div.sk-label:hover label.sk-toggleable__label {background-color: #d4ebff;}#sk-container-id-45 div.sk-serial::before {content: \"\";position: absolute;border-left: 1px solid gray;box-sizing: border-box;top: 0;bottom: 0;left: 50%;z-index: 0;}#sk-container-id-45 div.sk-serial {display: flex;flex-direction: column;align-items: center;background-color: white;padding-right: 0.2em;padding-left: 0.2em;position: relative;}#sk-container-id-45 div.sk-item {position: relative;z-index: 1;}#sk-container-id-45 div.sk-parallel {display: flex;align-items: stretch;justify-content: center;background-color: white;position: relative;}#sk-container-id-45 div.sk-item::before, #sk-container-id-45 div.sk-parallel-item::before {content: \"\";position: absolute;border-left: 1px solid gray;box-sizing: border-box;top: 0;bottom: 0;left: 50%;z-index: -1;}#sk-container-id-45 div.sk-parallel-item {display: flex;flex-direction: column;z-index: 1;position: relative;background-color: white;}#sk-container-id-45 div.sk-parallel-item:first-child::after {align-self: flex-end;width: 50%;}#sk-container-id-45 div.sk-parallel-item:last-child::after {align-self: flex-start;width: 50%;}#sk-container-id-45 div.sk-parallel-item:only-child::after {width: 0;}#sk-container-id-45 div.sk-dashed-wrapped {border: 1px dashed gray;margin: 0 0.4em 0.5em 0.4em;box-sizing: border-box;padding-bottom: 0.4em;background-color: white;}#sk-container-id-45 div.sk-label label {font-family: monospace;font-weight: bold;display: inline-block;line-height: 1.2em;}#sk-container-id-45 div.sk-label-container {text-align: center;}#sk-container-id-45 div.sk-container {/* jupyter's `normalize.less` sets `[hidden] { display: none; }` but bootstrap.min.css set `[hidden] { display: none !important; }` so we also need the `!important` here to be able to override the default hidden behavior on the sphinx rendered scikit-learn.org. See: https://github.com/scikit-learn/scikit-learn/issues/21755 */display: inline-block !important;position: relative;}#sk-container-id-45 div.sk-text-repr-fallback {display: none;}</style><div id=\"sk-container-id-45\" class=\"sk-top-container\"><div class=\"sk-text-repr-fallback\"><pre>LinearRegression()</pre><b>In a Jupyter environment, please rerun this cell to show the HTML representation or trust the notebook. <br />On GitHub, the HTML representation is unable to render, please try loading this page with nbviewer.org.</b></div><div class=\"sk-container\" hidden><div class=\"sk-item\"><div class=\"sk-estimator sk-toggleable\"><input class=\"sk-toggleable__control sk-hidden--visually\" id=\"sk-estimator-id-45\" type=\"checkbox\" checked><label for=\"sk-estimator-id-45\" class=\"sk-toggleable__label sk-toggleable__label-arrow\">LinearRegression</label><div class=\"sk-toggleable__content\"><pre>LinearRegression()</pre></div></div></div></div></div>"
            ]
          },
          "metadata": {},
          "execution_count": 388
        }
      ]
    },
    {
      "cell_type": "code",
      "source": [
        "#Verificamos los coeficientes obtenidos para el modelo ajustado\n",
        "modelf.__dict__"
      ],
      "metadata": {
        "colab": {
          "base_uri": "https://localhost:8080/"
        },
        "id": "iqlX9jU-I6GW",
        "outputId": "76bbc8ab-3c30-4fcb-e0de-dfa3b92453e5"
      },
      "execution_count": null,
      "outputs": [
        {
          "output_type": "execute_result",
          "data": {
            "text/plain": [
              "{'fit_intercept': True,\n",
              " 'copy_X': True,\n",
              " 'n_jobs': None,\n",
              " 'positive': False,\n",
              " 'feature_names_in_': array(['reviews_per_month'], dtype=object),\n",
              " 'n_features_in_': 1,\n",
              " 'coef_': array([0.80481694]),\n",
              " 'rank_': 1,\n",
              " 'singular_': array([8.22352703]),\n",
              " 'intercept_': 3.4286557326005256}"
            ]
          },
          "metadata": {},
          "execution_count": 389
        }
      ]
    },
    {
      "cell_type": "markdown",
      "source": [
        "Modelo matemático: y= 0.80481694x + 3.4286557326005256"
      ],
      "metadata": {
        "id": "VL36I6CXJBZD"
      }
    },
    {
      "cell_type": "code",
      "source": [
        "#Corroboramos cual es el coeficiente de Determinación de nuestro modelo\n",
        "coef_Deterf=modelf.score(X=Vars_Indepf, y=Var_Depf)\n",
        "coef_Deterf"
      ],
      "metadata": {
        "colab": {
          "base_uri": "https://localhost:8080/"
        },
        "id": "X1Eyfx3jJMY1",
        "outputId": "53106cbd-476b-41a6-9f3c-e18881589c0d"
      },
      "execution_count": null,
      "outputs": [
        {
          "output_type": "execute_result",
          "data": {
            "text/plain": [
              "0.08953282465491774"
            ]
          },
          "metadata": {},
          "execution_count": 390
        }
      ]
    },
    {
      "cell_type": "code",
      "source": [
        "#Corroboramos cual es el coeficiente de Correlación de nuestro modelo\n",
        "coef_Correlf=np.sqrt(coef_Deterf)\n",
        "coef_Correlf"
      ],
      "metadata": {
        "colab": {
          "base_uri": "https://localhost:8080/"
        },
        "id": "TINxBg6XJX5Y",
        "outputId": "8e38d983-9671-40fd-8832-671cbc9643e3"
      },
      "execution_count": null,
      "outputs": [
        {
          "output_type": "execute_result",
          "data": {
            "text/plain": [
              "0.29922036136419217"
            ]
          },
          "metadata": {},
          "execution_count": 391
        }
      ]
    }
  ]
}